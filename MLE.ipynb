{
 "cells": [
  {
   "cell_type": "code",
   "execution_count": 1,
   "metadata": {},
   "outputs": [],
   "source": [
    "import numpy as np\n",
    "import pandas as pd\n",
    "import matplotlib.pyplot as plt\n",
    "\n",
    "from scipy.misc import derivative\n",
    "from scipy.optimize import brent, fsolve, fminbound\n",
    "from scipy.special import ndtr\n",
    "from scipy.stats import norm\n",
    "\n",
    "from sympy import diff, symbols, exp, log, lambdify\n",
    "from sympy.solvers import solve"
   ]
  },
  {
   "cell_type": "markdown",
   "metadata": {},
   "source": [
    "# Example 1: Random samples from a normal distribution"
   ]
  },
  {
   "cell_type": "markdown",
   "metadata": {},
   "source": [
    "**pdf**: $\\large \\displaystyle f(x) = \\frac{1}{\\sqrt{2\\pi \\sigma^2}} e^{-\\frac{(x-\\mu)^2}{2\\sigma^2}}$\n",
    "\n",
    "**log likelihood function**: $\\displaystyle \\large \\mathcal{L}(\\mu,\\sigma|\\mathbf{x}) = \\sum_{i=1}^{n} \\log(f(x_i|\\mu, \\sigma))$ where $\\mathbf{x} = (x_1, x_2, \\dots, x_n)$"
   ]
  },
  {
   "cell_type": "code",
   "execution_count": 2,
   "metadata": {},
   "outputs": [],
   "source": [
    "def normpdf_mean(mu, sig, sample):\n",
    "    return norm.pdf(sample, mu, sig)\n",
    "\n",
    "def normpdf_std(sig, mu, sample):\n",
    "    return norm.pdf(sample, mu, sig)"
   ]
  },
  {
   "cell_type": "code",
   "execution_count": 3,
   "metadata": {},
   "outputs": [],
   "source": [
    "rng = np.random.default_rng(0)\n",
    "normals = rng.normal(size=100000)"
   ]
  },
  {
   "cell_type": "code",
   "execution_count": 4,
   "metadata": {},
   "outputs": [],
   "source": [
    "def llf(x0, f, samples, *args):\n",
    "    result = np.log(f(x0, *args, samples)).sum()\n",
    "    return result\n",
    "\n",
    "def llf_neg(x0, f, samples, *args):\n",
    "    return -llf(x0, f, samples, *args)"
   ]
  },
  {
   "cell_type": "code",
   "execution_count": 22,
   "metadata": {},
   "outputs": [],
   "source": [
    "xx = np.linspace(-3,3,10000)\n",
    "yy = np.array([llf(i, normpdf_mean, normals, 1.) for i in xx] )"
   ]
  },
  {
   "cell_type": "code",
   "execution_count": 49,
   "metadata": {},
   "outputs": [],
   "source": [
    "xx = np.linspace(5e-1,3,10000)\n",
    "yy = np.array([llf(i, normpdf_std, normals, normals.mean()) for i in xx] )"
   ]
  },
  {
   "cell_type": "code",
   "execution_count": 5,
   "metadata": {},
   "outputs": [
    {
     "name": "stdout",
     "output_type": "stream",
     "text": [
      "mle for mean: -0.0009082625895204994\n"
     ]
    }
   ],
   "source": [
    "print('mle for mean:', brent(llf_neg, args = (normpdf_mean, normals, normals.std()), brack=(-1.,.0,1.)))"
   ]
  },
  {
   "cell_type": "code",
   "execution_count": 6,
   "metadata": {},
   "outputs": [
    {
     "name": "stdout",
     "output_type": "stream",
     "text": [
      "mle for std: 1.0001285193693108\n"
     ]
    }
   ],
   "source": [
    "print('mle for std:', brent(llf_neg, args = (normpdf_std, normals, normals.mean()), brack=(.5,1.,2.)))"
   ]
  },
  {
   "cell_type": "code",
   "execution_count": 7,
   "metadata": {},
   "outputs": [],
   "source": [
    "xx = np.linspace(5e-1,3,10000)\n",
    "yy = np.array([llf(i, normpdf_std, normals, normals.mean()) for i in xx] )"
   ]
  },
  {
   "cell_type": "code",
   "execution_count": 11,
   "metadata": {},
   "outputs": [],
   "source": [
    "xx_m = np.linspace(-1.5,1.5,10000)\n",
    "yy_m = np.array([llf(i, normpdf_mean, normals, normals.std()) for i in xx_m] )"
   ]
  },
  {
   "cell_type": "code",
   "execution_count": 16,
   "metadata": {},
   "outputs": [
    {
     "data": {
      "image/png": "[encoded data removed]",
      "text/plain": [
       "<Figure size 576x432 with 1 Axes>"
      ]
     },
     "metadata": {
      "needs_background": "light"
     },
     "output_type": "display_data"
    }
   ],
   "source": [
    "plt.figure(figsize=(8,6))\n",
    "plt.plot(xx, yy, label = 'std')\n",
    "plt.plot(xx_m, yy_m, label = 'mean')\n",
    "plt.ylim(bottom=-2.2e+5)\n",
    "#plt.scatter()\n",
    "plt.title('llf for std', fontsize=24)\n",
    "plt.legend(fontsize=16)\n",
    "plt.show()"
   ]
  },
  {
   "cell_type": "code",
   "execution_count": 10,
   "metadata": {},
   "outputs": [
    {
     "data": {
      "text/plain": [
       "(-0.0009082625895204994, 141906.70290018787, 36, 40)"
      ]
     },
     "execution_count": 10,
     "metadata": {},
     "output_type": "execute_result"
    }
   ],
   "source": [
    "brent(llf_neg, args = (normpdf_mean, normals, normals.std()), brack=(-1.,.0,1.), full_output=True)"
   ]
  },
  {
   "cell_type": "code",
   "execution_count": 9,
   "metadata": {},
   "outputs": [
    {
     "data": {
      "text/plain": [
       "(1.0001285193693108, 141906.7029001879, 12, 16)"
      ]
     },
     "execution_count": 9,
     "metadata": {},
     "output_type": "execute_result"
    }
   ],
   "source": [
    "brent(llf_neg, args = (normpdf_std, normals, normals.mean()), brack=(.5,1.,2.), full_output=True)"
   ]
  },
  {
   "cell_type": "markdown",
   "metadata": {},
   "source": [
    "# Example 2"
   ]
  },
  {
   "cell_type": "markdown",
   "metadata": {},
   "source": [
    "**pdf**: $\\large f(x) = \\theta e^{-\\theta x}$\n",
    "\n",
    "**log likelihood function**: $\\displaystyle \\large \\sum_{i=1}^{n} \\log(f(x_i|\\theta))$ where $\\mathbf{x} = (x_1, x_2, \\dots, x_n)$"
   ]
  },
  {
   "cell_type": "markdown",
   "metadata": {},
   "source": [
    "## by sympy"
   ]
  },
  {
   "cell_type": "code",
   "execution_count": 2,
   "metadata": {},
   "outputs": [],
   "source": [
    "def pdf(theta, x):\n",
    "    return theta * exp(-theta*x)"
   ]
  },
  {
   "cell_type": "code",
   "execution_count": 4,
   "metadata": {},
   "outputs": [],
   "source": [
    "def llf(x0, f, samples):\n",
    "    result = 0\n",
    "    for s in samples:\n",
    "        result += log(f(x0, s))\n",
    "    return result"
   ]
  },
  {
   "cell_type": "code",
   "execution_count": 5,
   "metadata": {},
   "outputs": [],
   "source": [
    "x = symbols('x')"
   ]
  },
  {
   "cell_type": "code",
   "execution_count": 6,
   "metadata": {},
   "outputs": [],
   "source": [
    "y = llf(x, pdf, [3,3,3,1,2])"
   ]
  },
  {
   "cell_type": "markdown",
   "metadata": {},
   "source": [
    "* Find $\\theta$ s.t. $\\large \\displaystyle \\frac{\\partial \\mathcal{L}(\\theta|\\mathbf{x})}{\\partial \\theta}=0$"
   ]
  },
  {
   "cell_type": "code",
   "execution_count": 34,
   "metadata": {},
   "outputs": [
    {
     "name": "stdout",
     "output_type": "stream",
     "text": [
      "[5/12]\n"
     ]
    }
   ],
   "source": [
    "print(solve(y.diff(x, 1), x))"
   ]
  },
  {
   "cell_type": "code",
   "execution_count": 33,
   "metadata": {},
   "outputs": [
    {
     "data": {
      "image/png": "[encoded data removed]",
      "text/plain": [
       "<Figure size 576x432 with 1 Axes>"
      ]
     },
     "metadata": {
      "needs_background": "light"
     },
     "output_type": "display_data"
    }
   ],
   "source": [
    "ff  = lambdify(x, y, 'numpy')\n",
    "xx = np.linspace(0.1, 2, 10000)\n",
    "yy = ff(xx)\n",
    "mle = np.array(solve(y.diff(x, 1), x), dtype = np.float64)\n",
    "\n",
    "fig, ax = plt.subplots(1,1,figsize=(8,6))\n",
    "ax.vlines(mle, yy.min(), yy.max(), linestyle=':', linewidth=1.5, color='k')\n",
    "ax.hlines(ff(mle), .0, mle, linestyle=':', linewidth=1.5, color='k')\n",
    "ax.plot(xx, yy)\n",
    "ax.scatter(mle, ff(mle), color='r', label = r'$\\hat\\theta=\\frac{{{}}}{{{}}}$'.format( *str(solve(y.diff(x, 1), x)[0]).split('/') ) )\n",
    "plt.title(r'$\\mathcal{L}( \\theta | \\mathbf{x})$', fontsize=24)\n",
    "plt.xlabel(r'$\\theta$', fontsize=16)\n",
    "plt.legend(fontsize=16)\n",
    "ax.set_xlim(left=0)\n",
    "ax.set_ylim(bottom=-20)\n",
    "plt.show()"
   ]
  },
  {
   "cell_type": "markdown",
   "metadata": {},
   "source": [
    "## by scipy"
   ]
  },
  {
   "cell_type": "code",
   "execution_count": 9,
   "metadata": {},
   "outputs": [],
   "source": [
    "def pdf_(theta, x):\n",
    "    return theta * np.exp(-theta*x)"
   ]
  },
  {
   "cell_type": "code",
   "execution_count": 10,
   "metadata": {},
   "outputs": [],
   "source": [
    "def llf_(x0, f, samples):\n",
    "    result = 0\n",
    "    for s in samples:\n",
    "        result += np.log(f(x0, s))\n",
    "    return result"
   ]
  },
  {
   "cell_type": "code",
   "execution_count": 11,
   "metadata": {},
   "outputs": [],
   "source": [
    "xx_ = np.linspace(.1, 2, 1000)\n",
    "yy_ = np.array([llf(i, pdf_, [3,3,3,1,2]) for i in xx_])"
   ]
  },
  {
   "cell_type": "code",
   "execution_count": 12,
   "metadata": {},
   "outputs": [
    {
     "data": {
      "image/png": "[encoded data removed]",
      "text/plain": [
       "<Figure size 432x288 with 1 Axes>"
      ]
     },
     "metadata": {
      "needs_background": "light"
     },
     "output_type": "display_data"
    }
   ],
   "source": [
    "plt.plot(xx_, -yy_)\n",
    "plt.title(r'$-\\mathcal{L}( \\theta | \\mathbf{x})$', fontsize=24)\n",
    "plt.show()"
   ]
  },
  {
   "cell_type": "markdown",
   "metadata": {},
   "source": [
    "* Find $\\theta$ s.t.  $\\large \\underset{\\theta}{\\mathrm{arg min}}\\, -\\mathcal{L}(\\theta|\\mathbf{x})$"
   ]
  },
  {
   "cell_type": "code",
   "execution_count": 15,
   "metadata": {},
   "outputs": [],
   "source": [
    "def llf_neg_(x0, f, samples):\n",
    "    return -llf_(x0, f, samples)"
   ]
  },
  {
   "cell_type": "code",
   "execution_count": 35,
   "metadata": {},
   "outputs": [
    {
     "name": "stdout",
     "output_type": "stream",
     "text": [
      "mle by brent method: 0.41666666687827514\n"
     ]
    }
   ],
   "source": [
    "print('mle by brent method:',brent(llf_neg_, args=(pdf_, [3,3,3,1,2]), brack=(.1, .4,  2.)) )"
   ]
  },
  {
   "cell_type": "code",
   "execution_count": 36,
   "metadata": {},
   "outputs": [
    {
     "name": "stdout",
     "output_type": "stream",
     "text": [
      "mle by bounded minimization: 0.4166652644065801\n"
     ]
    }
   ],
   "source": [
    "print('mle by bounded minimization:',fminbound(llf_neg_, .0, 2., args=(pdf_, [3,3,3,1,2])))"
   ]
  },
  {
   "cell_type": "code",
   "execution_count": null,
   "metadata": {},
   "outputs": [],
   "source": []
  }
 ],
 "metadata": {
  "kernelspec": {
   "display_name": "Python 3",
   "language": "python",
   "name": "python3"
  },
  "language_info": {
   "codemirror_mode": {
    "name": "ipython",
    "version": 3
   },
   "file_extension": ".py",
   "mimetype": "text/x-python",
   "name": "python",
   "nbconvert_exporter": "python",
   "pygments_lexer": "ipython3",
   "version": "3.8.5"
  },
  "widgets": {
   "application/vnd.jupyter.widget-state+json": {
    "state": {},
    "version_major": 2,
    "version_minor": 0
   }
  }
 },
 "nbformat": 4,
 "nbformat_minor": 4
}
