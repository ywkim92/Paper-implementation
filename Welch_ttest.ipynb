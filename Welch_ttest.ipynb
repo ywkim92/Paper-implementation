{
 "cells": [
  {
   "cell_type": "code",
   "execution_count": 1,
   "metadata": {},
   "outputs": [],
   "source": [
    "import numpy as np\n",
    "import pandas as pd\n",
    "from scipy.stats import ttest_ind, t"
   ]
  },
  {
   "cell_type": "code",
   "execution_count": 40,
   "metadata": {},
   "outputs": [],
   "source": [
    "def welch(a1, a2):\n",
    "    m1 = a1.mean()\n",
    "    m2 = a2.mean()\n",
    "    s1 = a1.std(ddof=1)\n",
    "    s2 = a2.std(ddof=1)\n",
    "    n1 = a1.size\n",
    "    n2 = a2.size\n",
    "    detail = (m1,m2,s1,s2,n1,n2)\n",
    "    \n",
    "    var_ = (s1**2 /n1) + (s2**2 /n2)\n",
    "    std_ = np.sqrt(var_)\n",
    "    \n",
    "    t_value = (m1-m2)/std_\n",
    "    adof = var_**2 / (((s1**2/n1)**2)/(n1-1) + ((s2**2/n2)**2)/(n2-1))\n",
    "    p_value = 2*(1-t.cdf(abs(t_value), adof))\n",
    "    \n",
    "    return np.array([t_value, p_value])"
   ]
  },
  {
   "cell_type": "code",
   "execution_count": 45,
   "metadata": {},
   "outputs": [],
   "source": [
    "rng = np.random.default_rng(1)\n",
    "a = rng.normal(0, 1., size=2000)\n",
    "b = rng.normal(0, 1.6, size=3432)"
   ]
  },
  {
   "cell_type": "code",
   "execution_count": 46,
   "metadata": {},
   "outputs": [
    {
     "data": {
      "text/plain": [
       "True"
      ]
     },
     "execution_count": 46,
     "metadata": {},
     "output_type": "execute_result"
    }
   ],
   "source": [
    "np.isclose(ttest_ind(a, b, equal_var=False)[1], welch(a, b)[1])"
   ]
  },
  {
   "cell_type": "code",
   "execution_count": null,
   "metadata": {},
   "outputs": [],
   "source": []
  }
 ],
 "metadata": {
  "kernelspec": {
   "display_name": "Python 3",
   "language": "python",
   "name": "python3"
  },
  "language_info": {
   "codemirror_mode": {
    "name": "ipython",
    "version": 3
   },
   "file_extension": ".py",
   "mimetype": "text/x-python",
   "name": "python",
   "nbconvert_exporter": "python",
   "pygments_lexer": "ipython3",
   "version": "3.8.5"
  },
  "widgets": {
   "application/vnd.jupyter.widget-state+json": {
    "state": {},
    "version_major": 2,
    "version_minor": 0
   }
  }
 },
 "nbformat": 4,
 "nbformat_minor": 4
}
