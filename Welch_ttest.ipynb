{
 "cells": [
  {
   "cell_type": "code",
   "execution_count": 1,
   "metadata": {},
   "outputs": [],
   "source": [
    "import numpy as np\n",
    "import pandas as pd\n",
    "from scipy.stats import ttest_ind, t"
   ]
  },
  {
   "cell_type": "code",
   "execution_count": 15,
   "metadata": {},
   "outputs": [],
   "source": [
    "def welch(a1, a2):\n",
    "    m1 = a1.mean()\n",
    "    m2 = a2.mean()\n",
    "    s1 = a1.std(ddof=1)\n",
    "    s2 = a2.std(ddof=1)\n",
    "    n1 = a1.size\n",
    "    n2 = a2.size\n",
    "    \n",
    "    var_ = (s1**2 /n1) + (s2**2 /n2)\n",
    "    std_ = np.sqrt(var_)\n",
    "    \n",
    "    t_value = (m1-m2)/std_\n",
    "    adof = var_**2 / ((s1/n1)**2/(n1-1) + (s2/n2)**2/(n2-1))\n",
    "    p_value = 2*(1-t.cdf(abs(t_value), adof))\n",
    "    \n",
    "    return np.array([t_value, p_value])"
   ]
  },
  {
   "cell_type": "code",
   "execution_count": 18,
   "metadata": {},
   "outputs": [],
   "source": [
    "rng = np.random.default_rng(1)\n",
    "a = rng.normal(0, 1., size=1000)\n",
    "b = rng.normal(0, 1.6, size=2000)"
   ]
  },
  {
   "cell_type": "code",
   "execution_count": 19,
   "metadata": {},
   "outputs": [
    {
     "data": {
      "text/plain": [
       "Ttest_indResult(statistic=-1.6673187460737262, pvalue=0.09555548516035431)"
      ]
     },
     "execution_count": 19,
     "metadata": {},
     "output_type": "execute_result"
    }
   ],
   "source": [
    "ttest_ind(a, b)"
   ]
  },
  {
   "cell_type": "code",
   "execution_count": 20,
   "metadata": {},
   "outputs": [
    {
     "data": {
      "text/plain": [
       "array([-1.93847404,  0.05263713])"
      ]
     },
     "execution_count": 20,
     "metadata": {},
     "output_type": "execute_result"
    }
   ],
   "source": [
    "welch(a, b)"
   ]
  },
  {
   "cell_type": "code",
   "execution_count": null,
   "metadata": {},
   "outputs": [],
   "source": []
  }
 ],
 "metadata": {
  "kernelspec": {
   "display_name": "Python 3",
   "language": "python",
   "name": "python3"
  },
  "language_info": {
   "codemirror_mode": {
    "name": "ipython",
    "version": 3
   },
   "file_extension": ".py",
   "mimetype": "text/x-python",
   "name": "python",
   "nbconvert_exporter": "python",
   "pygments_lexer": "ipython3",
   "version": "3.8.5"
  },
  "widgets": {
   "application/vnd.jupyter.widget-state+json": {
    "state": {},
    "version_major": 2,
    "version_minor": 0
   }
  }
 },
 "nbformat": 4,
 "nbformat_minor": 4
}
