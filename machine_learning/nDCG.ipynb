{
 "cells": [
  {
   "cell_type": "markdown",
   "metadata": {},
   "source": [
    "[sklearn API: dcg](https://scikit-learn.org/stable/modules/generated/sklearn.metrics.dcg_score.html#sklearn.metrics.dcg_score)  \n",
    "[dcg](https://github.com/scikit-learn/scikit-learn/blob/0d378913be6d7e485b792ea36e9268be31ed52d0/sklearn/metrics/_ranking.py#L1362)  \n",
    "[_tie_averaged_dcg](https://github.com/scikit-learn/scikit-learn/blob/0d378913be6d7e485b792ea36e9268be31ed52d0/sklearn/metrics/_ranking.py#L1299)"
   ]
  },
  {
   "cell_type": "code",
   "execution_count": null,
   "metadata": {},
   "outputs": [],
   "source": [
    "import numpy as np\n",
    "import pandas as pd\n",
    "\n",
    "from sklearn.metrics import ndcg_score, dcg_score"
   ]
  },
  {
   "cell_type": "code",
   "execution_count": 6,
   "metadata": {},
   "outputs": [],
   "source": [
    "num_samples = 5\n",
    "num_items = 7\n",
    "\n",
    "rng = np.random.default_rng(42)\n",
    "y_true = rng.integers(1,5, (num_samples, num_items))\n",
    "\n",
    "rng = np.random.default_rng(44)\n",
    "y_score = rng.integers(1,5, (num_samples, num_items))"
   ]
  },
  {
   "cell_type": "markdown",
   "metadata": {},
   "source": [
    "$ \\large \\mathrm{DCG_{p}} = \\sum_{i=1}^{p} \\frac{rel_{i}}{\\log_{2}{(i+1)}}$\n",
    "\n",
    "$ \\large \\mathrm{nDCG_{p}} = \\frac{\\mathrm{DCG_{p}}}{\\mathrm{IDCG_{p}}}$, where $\\mathrm{IDCG_{p}} = \\sum_{i=1}^{|REL_{p}|} \\frac{rel_{i}}{\\log_{2}{(i+1)}}$"
   ]
  },
  {
   "cell_type": "code",
   "execution_count": 7,
   "metadata": {},
   "outputs": [],
   "source": [
    "def dcg_array_ignore_ties(y_true, y_score, k=None, log_base=2):\n",
    "    discount = 1 / (np.log(np.arange(y_true.shape[1]) + 2) / np.log(log_base))\n",
    "    if k is not None:\n",
    "        discount[k:] = 0\n",
    "        \n",
    "    ranking = np.argsort(y_score)[:, ::-1]\n",
    "    ranked = y_true[np.arange(ranking.shape[0])[:, np.newaxis], ranking]\n",
    "    return discount.dot(ranked.T)"
   ]
  },
  {
   "cell_type": "markdown",
   "metadata": {},
   "source": [
    "validation for dcg score (ignoring ties)"
   ]
  },
  {
   "cell_type": "code",
   "execution_count": 9,
   "metadata": {},
   "outputs": [
    {
     "data": {
      "text/plain": [
       "array([ 8.94781187, 10.77283194,  9.90113586, 10.92878593,  8.45482712])"
      ]
     },
     "execution_count": 9,
     "metadata": {},
     "output_type": "execute_result"
    }
   ],
   "source": [
    "dcg_array_ignore_ties(y_true, y_score)"
   ]
  },
  {
   "cell_type": "code",
   "execution_count": 8,
   "metadata": {},
   "outputs": [
    {
     "data": {
      "text/plain": [
       "True"
      ]
     },
     "execution_count": 8,
     "metadata": {},
     "output_type": "execute_result"
    }
   ],
   "source": [
    "dcg_array_ignore_ties(y_true, y_score).mean() == dcg_score(y_true, y_score, ignore_ties=True)"
   ]
  },
  {
   "cell_type": "markdown",
   "metadata": {},
   "source": [
    "validation for ndcg score (ignoring ties)"
   ]
  },
  {
   "cell_type": "code",
   "execution_count": 10,
   "metadata": {},
   "outputs": [
    {
     "data": {
      "text/plain": [
       "True"
      ]
     },
     "execution_count": 10,
     "metadata": {},
     "output_type": "execute_result"
    }
   ],
   "source": [
    "ncdg_array = dcg_array_ignore_ties(y_true, y_score) / dcg_array_ignore_ties(y_true, y_true)\n",
    "ncdg_array.mean() == ndcg_score(y_true, y_score, ignore_ties=True)"
   ]
  },
  {
   "cell_type": "code",
   "execution_count": null,
   "metadata": {},
   "outputs": [],
   "source": [
    "discount_cumsum = np.cumsum(discount)\n",
    "\n",
    "_, inv, counts = np.unique(-y_score[0], return_inverse=True, return_counts=True)\n",
    "ranked = np.zeros(len(counts))\n",
    "np.add.at(ranked, inv, y_true[0])\n",
    "ranked /= counts\n",
    "groups = np.cumsum(counts) - 1\n",
    "discount_sums = np.empty(len(counts))\n",
    "discount_sums[0] = discount_cumsum[groups[0]]\n",
    "discount_sums[1:] = np.diff(discount_cumsum[groups])\n",
    "\n",
    "(ranked * discount_sums).sum()"
   ]
  },
  {
   "cell_type": "code",
   "execution_count": null,
   "metadata": {},
   "outputs": [],
   "source": []
  }
 ],
 "metadata": {
  "kernelspec": {
   "display_name": "Python 3.8.5 ('base')",
   "language": "python",
   "name": "python3"
  },
  "language_info": {
   "codemirror_mode": {
    "name": "ipython",
    "version": 3
   },
   "file_extension": ".py",
   "mimetype": "text/x-python",
   "name": "python",
   "nbconvert_exporter": "python",
   "pygments_lexer": "ipython3",
   "version": "3.8.5"
  },
  "vscode": {
   "interpreter": {
    "hash": "11bf42a7d35dccb5062257f624789fbcfd98edcd66dea97425a1020d5290a8bb"
   }
  },
  "widgets": {
   "application/vnd.jupyter.widget-state+json": {
    "state": {},
    "version_major": 2,
    "version_minor": 0
   }
  }
 },
 "nbformat": 4,
 "nbformat_minor": 4
}
