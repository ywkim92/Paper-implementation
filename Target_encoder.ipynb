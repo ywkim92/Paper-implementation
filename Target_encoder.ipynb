{
 "cells": [
  {
   "cell_type": "code",
   "execution_count": 1,
   "metadata": {},
   "outputs": [],
   "source": [
    "import numpy as np\n",
    "import pandas as pd\n",
    "import seaborn as sns\n",
    "import matplotlib.pyplot as plt"
   ]
  },
  {
   "cell_type": "code",
   "execution_count": 184,
   "metadata": {},
   "outputs": [],
   "source": [
    "from sklearn.model_selection import train_test_split\n",
    "from sklearn.datasets import load_breast_cancer, load_diabetes, fetch_california_housing, load_boston"
   ]
  },
  {
   "cell_type": "code",
   "execution_count": 3,
   "metadata": {},
   "outputs": [],
   "source": [
    "from category_encoders import TargetEncoder"
   ]
  },
  {
   "cell_type": "code",
   "execution_count": 179,
   "metadata": {},
   "outputs": [],
   "source": [
    "class targetencoder:\n",
    "    def __init__(self, handle_missing='values', handle_unknown='values'):\n",
    "        self.handle_missing = handle_missing\n",
    "        self.handle_unknown = handle_unknown\n",
    "        \n",
    "    def fit_transform(self, X, y):\n",
    "        self.mapping = dict()\n",
    "        if type(X) == np.ndarray:\n",
    "            if len(X.shape)<2:\n",
    "                X = X.reshape(-1, 1)\n",
    "            for col in range(X.shape[1]):\n",
    "                dic = dict()\n",
    "                uniq, counts = np.unique(X[:, col], return_counts=True)\n",
    "                for u in uniq:\n",
    "                    array = X[:, col].flatten()\n",
    "                    idx = np.where(array==u)[0]\n",
    "                    #print(uniq,idx)\n",
    "                    dic[u] = (y[idx]).mean()\n",
    "                #values, counts = np.unique(array)\n",
    "                values_num = np.array([dic[i] for i in uniq])\n",
    "                imputer = (values_num * counts).sum()/counts.sum()\n",
    "                dic['missing'] = imputer\n",
    "                dic['unknown'] = imputer\n",
    "                self.mapping[col] = dic\n",
    "        \n",
    "            X1 = X.copy()\n",
    "            #print(X1[:3,:])\n",
    "            for col in range(X1.shape[1]):\n",
    "                X1[:,col:col+1] = np.vectorize(lambda x: self.mapping[col][x])(X1[:,col:col+1])\n",
    "               \n",
    "            return X1\n",
    "        \n",
    "        else:\n",
    "            if len(X.shape)<2:\n",
    "                X = pd.DataFrame(X)\n",
    "            for col in X.columns:\n",
    "                dic = dict()\n",
    "                uniq, counts = np.unique(X[col], return_counts=True)\n",
    "                for u in uniq:\n",
    "                    array = X[col].values\n",
    "                    idx = np.where(array==u)[0]\n",
    "                    dic[u] = (y.values[idx]).mean()\n",
    "                    \n",
    "                #values, counts = np.unique(array, return_counts=True)\n",
    "                values_num = np.array([dic[i] for i in uniq])\n",
    "                imputer = (values_num * counts).sum()/counts.sum()\n",
    "                dic['missing'] = imputer\n",
    "                dic['unknown'] = imputer\n",
    "                self.mapping[col] = dic\n",
    "            \n",
    "            X1 = X.copy()\n",
    "            for col in X1.columns:\n",
    "                X1[col] = X1[col].apply(lambda x: self.mapping[col][x])\n",
    "            \n",
    "            return X1\n",
    "    \n",
    "    def _apply(self, col, x):\n",
    "        if x in self.mapping[col]:\n",
    "            return self.mapping[col][x]\n",
    "        elif x!=x:\n",
    "            if self.handle_missing == 'values':\n",
    "                return self.mapping[col]['missing']\n",
    "            else:\n",
    "                return x\n",
    "        else:\n",
    "            if self.handle_unknown == 'values':\n",
    "                return self.mapping[col]['unknown']\n",
    "            else:\n",
    "                return np.nan\n",
    "        \n",
    "    def transform(self, X,):\n",
    "        if type(X) == np.ndarray:\n",
    "            if len(X.shape)<2:\n",
    "                X = X.reshape(-1, 1)\n",
    "            X1 = X.copy()\n",
    "            \n",
    "            for col in range(X1.shape[1]):\n",
    "                X1[:,col:col+1] = np.vectorize(lambda x: self._apply(col, x) )(X1[:,col:col+1])\n",
    "               \n",
    "            return X1\n",
    "        else:\n",
    "            if len(X.shape)<2:\n",
    "                X = pd.DataFrame(X)\n",
    "            X1 = X.copy()\n",
    "            for col in X1.columns:\n",
    "                X1[col] = X1[col].apply(lambda x: self._apply(col, x))\n",
    "            \n",
    "            return X1"
   ]
  },
  {
   "cell_type": "code",
   "execution_count": 180,
   "metadata": {},
   "outputs": [],
   "source": [
    "loading =  load_boston()\n",
    "feat_names = loading.feature_names"
   ]
  },
  {
   "cell_type": "code",
   "execution_count": 181,
   "metadata": {},
   "outputs": [],
   "source": [
    "X, y = pd.DataFrame(loading['data'], columns = feat_names), pd.Series(loading['target'], name='label')"
   ]
  },
  {
   "cell_type": "code",
   "execution_count": 117,
   "metadata": {},
   "outputs": [],
   "source": [
    "# for col in X.columns:\n",
    "#     print(col, len(pd.unique(X[col])))"
   ]
  },
  {
   "cell_type": "code",
   "execution_count": 182,
   "metadata": {},
   "outputs": [],
   "source": [
    "X.insert(X.columns.tolist().index('CHAS')+1,'CHAS_cat', X['CHAS'].apply(lambda x: 'No' if x==.0 else 'Yes') )"
   ]
  },
  {
   "cell_type": "code",
   "execution_count": 202,
   "metadata": {},
   "outputs": [],
   "source": [
    "X_train, X_test, y_train, y_test = train_test_split(X, y, test_size = .2, random_state =42)"
   ]
  },
  {
   "cell_type": "code",
   "execution_count": 203,
   "metadata": {},
   "outputs": [
    {
     "name": "stderr",
     "output_type": "stream",
     "text": [
      "C:\\Users\\ywkim\\Anaconda3\\lib\\site-packages\\pandas\\core\\indexing.py:1765: SettingWithCopyWarning: \n",
      "A value is trying to be set on a copy of a slice from a DataFrame.\n",
      "Try using .loc[row_indexer,col_indexer] = value instead\n",
      "\n",
      "See the caveats in the documentation: https://pandas.pydata.org/pandas-docs/stable/user_guide/indexing.html#returning-a-view-versus-a-copy\n",
      "  isetter(loc, value)\n"
     ]
    }
   ],
   "source": [
    "X_test.loc[173, ['CHAS_cat']] = np.nan\n",
    "X_test.loc[491, ['CHAS_cat']] = 'pending'"
   ]
  },
  {
   "cell_type": "code",
   "execution_count": 204,
   "metadata": {},
   "outputs": [
    {
     "name": "stderr",
     "output_type": "stream",
     "text": [
      "C:\\Users\\ywkim\\Anaconda3\\lib\\site-packages\\pandas\\core\\indexing.py:1717: SettingWithCopyWarning: \n",
      "A value is trying to be set on a copy of a slice from a DataFrame.\n",
      "Try using .loc[row_indexer,col_indexer] = value instead\n",
      "\n",
      "See the caveats in the documentation: https://pandas.pydata.org/pandas-docs/stable/user_guide/indexing.html#returning-a-view-versus-a-copy\n",
      "  isetter(loc, v)\n"
     ]
    }
   ],
   "source": [
    "en = targetencoder()\n",
    "X_train.loc[:,['CHAS_cat']] = en.fit_transform(X_train['CHAS_cat'], y_train)\n",
    "X_test.loc[:,['CHAS_cat']] = en.transform(X_test['CHAS_cat'], )"
   ]
  },
  {
   "cell_type": "code",
   "execution_count": 205,
   "metadata": {},
   "outputs": [
    {
     "data": {
      "text/html": [
       "<div>\n",
       "<style scoped>\n",
       "    .dataframe tbody tr th:only-of-type {\n",
       "        vertical-align: middle;\n",
       "    }\n",
       "\n",
       "    .dataframe tbody tr th {\n",
       "        vertical-align: top;\n",
       "    }\n",
       "\n",
       "    .dataframe thead th {\n",
       "        text-align: right;\n",
       "    }\n",
       "</style>\n",
       "<table border=\"1\" class=\"dataframe\">\n",
       "  <thead>\n",
       "    <tr style=\"text-align: right;\">\n",
       "      <th></th>\n",
       "      <th>CRIM</th>\n",
       "      <th>ZN</th>\n",
       "      <th>INDUS</th>\n",
       "      <th>CHAS</th>\n",
       "      <th>CHAS_cat</th>\n",
       "      <th>NOX</th>\n",
       "      <th>RM</th>\n",
       "      <th>AGE</th>\n",
       "      <th>DIS</th>\n",
       "      <th>RAD</th>\n",
       "      <th>TAX</th>\n",
       "      <th>PTRATIO</th>\n",
       "      <th>B</th>\n",
       "      <th>LSTAT</th>\n",
       "    </tr>\n",
       "  </thead>\n",
       "  <tbody>\n",
       "    <tr>\n",
       "      <th>173</th>\n",
       "      <td>0.09178</td>\n",
       "      <td>0.0</td>\n",
       "      <td>4.05</td>\n",
       "      <td>0.0</td>\n",
       "      <td>22.796535</td>\n",
       "      <td>0.510</td>\n",
       "      <td>6.416</td>\n",
       "      <td>84.1</td>\n",
       "      <td>2.6463</td>\n",
       "      <td>5.0</td>\n",
       "      <td>296.0</td>\n",
       "      <td>16.6</td>\n",
       "      <td>395.50</td>\n",
       "      <td>9.04</td>\n",
       "    </tr>\n",
       "    <tr>\n",
       "      <th>274</th>\n",
       "      <td>0.05644</td>\n",
       "      <td>40.0</td>\n",
       "      <td>6.41</td>\n",
       "      <td>1.0</td>\n",
       "      <td>29.186207</td>\n",
       "      <td>0.447</td>\n",
       "      <td>6.758</td>\n",
       "      <td>32.9</td>\n",
       "      <td>4.0776</td>\n",
       "      <td>4.0</td>\n",
       "      <td>254.0</td>\n",
       "      <td>17.6</td>\n",
       "      <td>396.90</td>\n",
       "      <td>3.53</td>\n",
       "    </tr>\n",
       "    <tr>\n",
       "      <th>491</th>\n",
       "      <td>0.10574</td>\n",
       "      <td>0.0</td>\n",
       "      <td>27.74</td>\n",
       "      <td>0.0</td>\n",
       "      <td>22.796535</td>\n",
       "      <td>0.609</td>\n",
       "      <td>5.983</td>\n",
       "      <td>98.8</td>\n",
       "      <td>1.8681</td>\n",
       "      <td>4.0</td>\n",
       "      <td>711.0</td>\n",
       "      <td>20.1</td>\n",
       "      <td>390.11</td>\n",
       "      <td>18.07</td>\n",
       "    </tr>\n",
       "    <tr>\n",
       "      <th>72</th>\n",
       "      <td>0.09164</td>\n",
       "      <td>0.0</td>\n",
       "      <td>10.81</td>\n",
       "      <td>0.0</td>\n",
       "      <td>22.302400</td>\n",
       "      <td>0.413</td>\n",
       "      <td>6.065</td>\n",
       "      <td>7.8</td>\n",
       "      <td>5.2873</td>\n",
       "      <td>4.0</td>\n",
       "      <td>305.0</td>\n",
       "      <td>19.2</td>\n",
       "      <td>390.91</td>\n",
       "      <td>5.52</td>\n",
       "    </tr>\n",
       "    <tr>\n",
       "      <th>452</th>\n",
       "      <td>5.09017</td>\n",
       "      <td>0.0</td>\n",
       "      <td>18.10</td>\n",
       "      <td>0.0</td>\n",
       "      <td>22.302400</td>\n",
       "      <td>0.713</td>\n",
       "      <td>6.297</td>\n",
       "      <td>91.8</td>\n",
       "      <td>2.3682</td>\n",
       "      <td>24.0</td>\n",
       "      <td>666.0</td>\n",
       "      <td>20.2</td>\n",
       "      <td>385.09</td>\n",
       "      <td>17.27</td>\n",
       "    </tr>\n",
       "    <tr>\n",
       "      <th>...</th>\n",
       "      <td>...</td>\n",
       "      <td>...</td>\n",
       "      <td>...</td>\n",
       "      <td>...</td>\n",
       "      <td>...</td>\n",
       "      <td>...</td>\n",
       "      <td>...</td>\n",
       "      <td>...</td>\n",
       "      <td>...</td>\n",
       "      <td>...</td>\n",
       "      <td>...</td>\n",
       "      <td>...</td>\n",
       "      <td>...</td>\n",
       "      <td>...</td>\n",
       "    </tr>\n",
       "    <tr>\n",
       "      <th>412</th>\n",
       "      <td>18.81100</td>\n",
       "      <td>0.0</td>\n",
       "      <td>18.10</td>\n",
       "      <td>0.0</td>\n",
       "      <td>22.302400</td>\n",
       "      <td>0.597</td>\n",
       "      <td>4.628</td>\n",
       "      <td>100.0</td>\n",
       "      <td>1.5539</td>\n",
       "      <td>24.0</td>\n",
       "      <td>666.0</td>\n",
       "      <td>20.2</td>\n",
       "      <td>28.79</td>\n",
       "      <td>34.37</td>\n",
       "    </tr>\n",
       "    <tr>\n",
       "      <th>436</th>\n",
       "      <td>14.42080</td>\n",
       "      <td>0.0</td>\n",
       "      <td>18.10</td>\n",
       "      <td>0.0</td>\n",
       "      <td>22.302400</td>\n",
       "      <td>0.740</td>\n",
       "      <td>6.461</td>\n",
       "      <td>93.3</td>\n",
       "      <td>2.0026</td>\n",
       "      <td>24.0</td>\n",
       "      <td>666.0</td>\n",
       "      <td>20.2</td>\n",
       "      <td>27.49</td>\n",
       "      <td>18.05</td>\n",
       "    </tr>\n",
       "    <tr>\n",
       "      <th>411</th>\n",
       "      <td>14.05070</td>\n",
       "      <td>0.0</td>\n",
       "      <td>18.10</td>\n",
       "      <td>0.0</td>\n",
       "      <td>22.302400</td>\n",
       "      <td>0.597</td>\n",
       "      <td>6.657</td>\n",
       "      <td>100.0</td>\n",
       "      <td>1.5275</td>\n",
       "      <td>24.0</td>\n",
       "      <td>666.0</td>\n",
       "      <td>20.2</td>\n",
       "      <td>35.05</td>\n",
       "      <td>21.22</td>\n",
       "    </tr>\n",
       "    <tr>\n",
       "      <th>86</th>\n",
       "      <td>0.05188</td>\n",
       "      <td>0.0</td>\n",
       "      <td>4.49</td>\n",
       "      <td>0.0</td>\n",
       "      <td>22.302400</td>\n",
       "      <td>0.449</td>\n",
       "      <td>6.015</td>\n",
       "      <td>45.1</td>\n",
       "      <td>4.4272</td>\n",
       "      <td>3.0</td>\n",
       "      <td>247.0</td>\n",
       "      <td>18.5</td>\n",
       "      <td>395.99</td>\n",
       "      <td>12.86</td>\n",
       "    </tr>\n",
       "    <tr>\n",
       "      <th>75</th>\n",
       "      <td>0.09512</td>\n",
       "      <td>0.0</td>\n",
       "      <td>12.83</td>\n",
       "      <td>0.0</td>\n",
       "      <td>22.302400</td>\n",
       "      <td>0.437</td>\n",
       "      <td>6.286</td>\n",
       "      <td>45.0</td>\n",
       "      <td>4.5026</td>\n",
       "      <td>5.0</td>\n",
       "      <td>398.0</td>\n",
       "      <td>18.7</td>\n",
       "      <td>383.23</td>\n",
       "      <td>8.94</td>\n",
       "    </tr>\n",
       "  </tbody>\n",
       "</table>\n",
       "<p>102 rows × 14 columns</p>\n",
       "</div>"
      ],
      "text/plain": [
       "         CRIM    ZN  INDUS  CHAS   CHAS_cat    NOX     RM    AGE     DIS  \\\n",
       "173   0.09178   0.0   4.05   0.0  22.796535  0.510  6.416   84.1  2.6463   \n",
       "274   0.05644  40.0   6.41   1.0  29.186207  0.447  6.758   32.9  4.0776   \n",
       "491   0.10574   0.0  27.74   0.0  22.796535  0.609  5.983   98.8  1.8681   \n",
       "72    0.09164   0.0  10.81   0.0  22.302400  0.413  6.065    7.8  5.2873   \n",
       "452   5.09017   0.0  18.10   0.0  22.302400  0.713  6.297   91.8  2.3682   \n",
       "..        ...   ...    ...   ...        ...    ...    ...    ...     ...   \n",
       "412  18.81100   0.0  18.10   0.0  22.302400  0.597  4.628  100.0  1.5539   \n",
       "436  14.42080   0.0  18.10   0.0  22.302400  0.740  6.461   93.3  2.0026   \n",
       "411  14.05070   0.0  18.10   0.0  22.302400  0.597  6.657  100.0  1.5275   \n",
       "86    0.05188   0.0   4.49   0.0  22.302400  0.449  6.015   45.1  4.4272   \n",
       "75    0.09512   0.0  12.83   0.0  22.302400  0.437  6.286   45.0  4.5026   \n",
       "\n",
       "      RAD    TAX  PTRATIO       B  LSTAT  \n",
       "173   5.0  296.0     16.6  395.50   9.04  \n",
       "274   4.0  254.0     17.6  396.90   3.53  \n",
       "491   4.0  711.0     20.1  390.11  18.07  \n",
       "72    4.0  305.0     19.2  390.91   5.52  \n",
       "452  24.0  666.0     20.2  385.09  17.27  \n",
       "..    ...    ...      ...     ...    ...  \n",
       "412  24.0  666.0     20.2   28.79  34.37  \n",
       "436  24.0  666.0     20.2   27.49  18.05  \n",
       "411  24.0  666.0     20.2   35.05  21.22  \n",
       "86    3.0  247.0     18.5  395.99  12.86  \n",
       "75    5.0  398.0     18.7  383.23   8.94  \n",
       "\n",
       "[102 rows x 14 columns]"
      ]
     },
     "execution_count": 205,
     "metadata": {},
     "output_type": "execute_result"
    }
   ],
   "source": [
    "X_test"
   ]
  },
  {
   "cell_type": "code",
   "execution_count": 173,
   "metadata": {},
   "outputs": [],
   "source": [
    "en = targetencoder()\n",
    "Xn[:,4:5] = en.fit_transform(Xn[:,4], y.values)"
   ]
  },
  {
   "cell_type": "code",
   "execution_count": 176,
   "metadata": {},
   "outputs": [
    {
     "data": {
      "text/plain": [
       "{0: {'No': 22.093842887473464,\n",
       "  'Yes': 28.439999999999998,\n",
       "  'missing': 22.532806324110673,\n",
       "  'unknown': 22.532806324110673}}"
      ]
     },
     "execution_count": 176,
     "metadata": {},
     "output_type": "execute_result"
    }
   ],
   "source": [
    "en.mapping"
   ]
  },
  {
   "cell_type": "code",
   "execution_count": 64,
   "metadata": {},
   "outputs": [
    {
     "name": "stderr",
     "output_type": "stream",
     "text": [
      "C:\\Users\\ywkim\\Anaconda3\\lib\\site-packages\\category_encoders\\utils.py:21: FutureWarning: is_categorical is deprecated and will be removed in a future version.  Use is_categorical_dtype instead\n",
      "  elif pd.api.types.is_categorical(cols):\n"
     ]
    }
   ],
   "source": [
    "en = TargetEncoder()\n",
    "X['CHAS_cat'] = en.fit_transform(X['CHAS_cat'], y)"
   ]
  },
  {
   "cell_type": "code",
   "execution_count": 68,
   "metadata": {},
   "outputs": [
    {
     "data": {
      "text/plain": [
       "OrdinalEncoder(cols=['CHAS_cat'],\n",
       "               mapping=[{'col': 'CHAS_cat', 'data_type': dtype('O'),\n",
       "                         'mapping': No     1\n",
       "Yes    2\n",
       "NaN   -2\n",
       "dtype: int64}])"
      ]
     },
     "execution_count": 68,
     "metadata": {},
     "output_type": "execute_result"
    }
   ],
   "source": [
    "en.ordinal_encoder"
   ]
  },
  {
   "cell_type": "code",
   "execution_count": 54,
   "metadata": {},
   "outputs": [],
   "source": [
    "values, counts = np.unique(X['CHAS_cat'], return_counts=True)"
   ]
  },
  {
   "cell_type": "code",
   "execution_count": 57,
   "metadata": {},
   "outputs": [
    {
     "data": {
      "text/plain": [
       "22.53280632411069"
      ]
     },
     "execution_count": 57,
     "metadata": {},
     "output_type": "execute_result"
    }
   ],
   "source": [
    "(values * counts).sum()/counts.sum()"
   ]
  },
  {
   "cell_type": "code",
   "execution_count": 51,
   "metadata": {},
   "outputs": [
    {
     "data": {
      "text/plain": [
       "{'CHAS_cat': CHAS_cat\n",
       "  1    22.093843\n",
       "  2    28.440000\n",
       " -1    22.532806\n",
       " -2    22.532806\n",
       " dtype: float64}"
      ]
     },
     "execution_count": 51,
     "metadata": {},
     "output_type": "execute_result"
    }
   ],
   "source": [
    "en.mapping"
   ]
  },
  {
   "cell_type": "code",
   "execution_count": null,
   "metadata": {},
   "outputs": [],
   "source": []
  }
 ],
 "metadata": {
  "kernelspec": {
   "display_name": "Python 3",
   "language": "python",
   "name": "python3"
  },
  "language_info": {
   "codemirror_mode": {
    "name": "ipython",
    "version": 3
   },
   "file_extension": ".py",
   "mimetype": "text/x-python",
   "name": "python",
   "nbconvert_exporter": "python",
   "pygments_lexer": "ipython3",
   "version": "3.8.5"
  },
  "widgets": {
   "application/vnd.jupyter.widget-state+json": {
    "state": {},
    "version_major": 2,
    "version_minor": 0
   }
  }
 },
 "nbformat": 4,
 "nbformat_minor": 4
}
