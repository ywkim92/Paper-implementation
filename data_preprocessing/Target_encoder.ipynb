{
 "cells": [
  {
   "cell_type": "code",
   "execution_count": 1,
   "metadata": {},
   "outputs": [],
   "source": [
    "import numpy as np\n",
    "import pandas as pd\n",
    "import seaborn as sns\n",
    "import matplotlib.pyplot as plt"
   ]
  },
  {
   "cell_type": "code",
   "execution_count": 2,
   "metadata": {},
   "outputs": [],
   "source": [
    "from sklearn.model_selection import train_test_split\n",
    "from sklearn.datasets import load_breast_cancer, load_diabetes, fetch_california_housing, load_boston"
   ]
  },
  {
   "cell_type": "code",
   "execution_count": 3,
   "metadata": {},
   "outputs": [],
   "source": [
    "from category_encoders import TargetEncoder"
   ]
  },
  {
   "cell_type": "code",
   "execution_count": 4,
   "metadata": {},
   "outputs": [],
   "source": [
    "class targetencoder:\n",
    "    def __init__(self, handle_missing='values', handle_unknown='values'):\n",
    "        self.handle_missing = handle_missing\n",
    "        self.handle_unknown = handle_unknown\n",
    "        \n",
    "    def fit_transform(self, X, y):\n",
    "        self.mapping = dict()\n",
    "        if type(X) == np.ndarray:\n",
    "            if len(X.shape)<2:\n",
    "                X = X.reshape(-1, 1)\n",
    "            for col in range(X.shape[1]):\n",
    "                dic = dict()\n",
    "                uniq, counts = np.unique(X[:, col], return_counts=True)\n",
    "                for u in uniq:\n",
    "                    array = X[:, col].flatten()\n",
    "                    idx = np.where(array==u)[0]\n",
    "                    dic[u] = (y[idx]).mean()\n",
    "                #values, counts = np.unique(array)\n",
    "                values_num = np.array([dic[i] for i in uniq])\n",
    "                imputer = (values_num * counts).sum()/counts.sum()\n",
    "                dic['missing'] = imputer\n",
    "                dic['unknown'] = imputer\n",
    "                self.mapping[col] = dic\n",
    "        \n",
    "            X1 = X.copy()\n",
    "            for col in range(X1.shape[1]):\n",
    "                X1[:,col:col+1] = np.vectorize(lambda x: self.mapping[col][x])(X1[:,col:col+1])\n",
    "               \n",
    "            return X1\n",
    "        \n",
    "        else:\n",
    "            if len(X.shape)<2:\n",
    "                X = pd.DataFrame(X)\n",
    "            for col in X.columns:\n",
    "                dic = dict()\n",
    "                uniq, counts = np.unique(X[col], return_counts=True)\n",
    "                for u in uniq:\n",
    "                    array = X[col].values\n",
    "                    idx = np.where(array==u)[0]\n",
    "                    dic[u] = (y.values[idx]).mean()\n",
    "                    \n",
    "                #values, counts = np.unique(array, return_counts=True)\n",
    "                values_num = np.array([dic[i] for i in uniq])\n",
    "                imputer = (values_num * counts).sum()/counts.sum()\n",
    "                dic['missing'] = imputer\n",
    "                dic['unknown'] = imputer\n",
    "                self.mapping[col] = dic\n",
    "            \n",
    "            X1 = X.copy()\n",
    "            for col in X1.columns:\n",
    "                X1[col] = X1[col].apply(lambda x: self.mapping[col][x])\n",
    "            \n",
    "            return X1\n",
    "    \n",
    "    def _apply(self, col, x):\n",
    "        if x in self.mapping[col]:\n",
    "            return self.mapping[col][x]\n",
    "        elif x!=x:\n",
    "            if self.handle_missing == 'values':\n",
    "                return self.mapping[col]['missing']\n",
    "            else:\n",
    "                return x\n",
    "        else:\n",
    "            if self.handle_unknown == 'values':\n",
    "                return self.mapping[col]['unknown']\n",
    "            else:\n",
    "                return np.nan\n",
    "        \n",
    "    def transform(self, X,):\n",
    "        if type(X) == np.ndarray:\n",
    "            if len(X.shape)<2:\n",
    "                X = X.reshape(-1, 1)\n",
    "            X1 = X.copy()\n",
    "            \n",
    "            for col in range(X1.shape[1]):\n",
    "                X1[:,col:col+1] = np.vectorize(lambda x: self._apply(col, x) )(X1[:,col:col+1])\n",
    "               \n",
    "            return X1\n",
    "        else:\n",
    "            if len(X.shape)<2:\n",
    "                X = pd.DataFrame(X)\n",
    "            X1 = X.copy()\n",
    "            for col in X1.columns:\n",
    "                X1[col] = X1[col].apply(lambda x: self._apply(col, x))\n",
    "            \n",
    "            return X1"
   ]
  },
  {
   "cell_type": "code",
   "execution_count": 5,
   "metadata": {},
   "outputs": [],
   "source": [
    "loading =  load_boston()\n",
    "feat_names = loading.feature_names"
   ]
  },
  {
   "cell_type": "code",
   "execution_count": 6,
   "metadata": {},
   "outputs": [],
   "source": [
    "X, y = pd.DataFrame(loading['data'], columns = feat_names), pd.Series(loading['target'], name='label')"
   ]
  },
  {
   "cell_type": "code",
   "execution_count": 7,
   "metadata": {},
   "outputs": [
    {
     "name": "stdout",
     "output_type": "stream",
     "text": [
      "CRIM 504\n",
      "ZN 26\n",
      "INDUS 76\n",
      "CHAS 2\n",
      "NOX 81\n",
      "RM 446\n",
      "AGE 356\n",
      "DIS 412\n",
      "RAD 9\n",
      "TAX 66\n",
      "PTRATIO 46\n",
      "B 357\n",
      "LSTAT 455\n"
     ]
    }
   ],
   "source": [
    "for col in X.columns:\n",
    "    print(col, len(pd.unique(X[col])))"
   ]
  },
  {
   "cell_type": "code",
   "execution_count": 8,
   "metadata": {},
   "outputs": [],
   "source": [
    "X.insert(X.columns.tolist().index('CHAS')+1, 'CHAS_cat', X['CHAS'].apply(lambda x: 'No' if x==.0 else 'Yes') )\n",
    "# X.insert(X.columns.tolist().index('RAD')+1, 'RAD_cat', X['RAD'].apply(lambda x: 'idx'+ str(x)) )"
   ]
  },
  {
   "cell_type": "code",
   "execution_count": 9,
   "metadata": {},
   "outputs": [],
   "source": [
    "X_train, X_test, y_train, y_test = train_test_split(X.copy(), y.copy(), test_size = .2, random_state =42)\n",
    "\n",
    "X_test.loc[173, ['CHAS_cat']] = np.nan\n",
    "X_test.loc[491, ['CHAS_cat']] = 'pending'"
   ]
  },
  {
   "cell_type": "code",
   "execution_count": 10,
   "metadata": {},
   "outputs": [
    {
     "name": "stderr",
     "output_type": "stream",
     "text": [
      "C:\\Users\\ywkim\\Anaconda3\\lib\\site-packages\\category_encoders\\utils.py:21: FutureWarning: is_categorical is deprecated and will be removed in a future version.  Use is_categorical_dtype instead\n",
      "  elif pd.api.types.is_categorical(cols):\n"
     ]
    }
   ],
   "source": [
    "en = TargetEncoder()\n",
    "X_train.loc[:,['CHAS_cat']] = en.fit_transform(X_train['CHAS_cat'], y_train)\n",
    "X_test.loc[:,['CHAS_cat']] = en.transform(X_test['CHAS_cat'], )"
   ]
  },
  {
   "cell_type": "code",
   "execution_count": 18,
   "metadata": {},
   "outputs": [
    {
     "data": {
      "text/plain": [
       "{'CHAS_cat': CHAS_cat\n",
       "  1    22.302400\n",
       "  2    29.186207\n",
       " -1    22.796535\n",
       " -2    22.796535\n",
       " dtype: float64}"
      ]
     },
     "execution_count": 18,
     "metadata": {},
     "output_type": "execute_result"
    }
   ],
   "source": [
    "en.mapping"
   ]
  },
  {
   "cell_type": "code",
   "execution_count": 23,
   "metadata": {},
   "outputs": [
    {
     "data": {
      "text/plain": [
       "[{'col': 'CHAS_cat',\n",
       "  'mapping': No     1\n",
       "  Yes    2\n",
       "  NaN   -2\n",
       "  dtype: int64,\n",
       "  'data_type': dtype('O')}]"
      ]
     },
     "execution_count": 23,
     "metadata": {},
     "output_type": "execute_result"
    }
   ],
   "source": [
    "en.ordinal_encoder.mapping"
   ]
  },
  {
   "cell_type": "code",
   "execution_count": 11,
   "metadata": {},
   "outputs": [],
   "source": [
    "t = X_test.loc[:,['CHAS_cat']].values"
   ]
  },
  {
   "cell_type": "code",
   "execution_count": 12,
   "metadata": {},
   "outputs": [],
   "source": [
    "X_train, X_test, y_train, y_test = train_test_split(X.copy(), y.copy(), test_size = .2, random_state =42)\n",
    "\n",
    "X_test.loc[173, ['CHAS_cat']] = np.nan\n",
    "X_test.loc[491, ['CHAS_cat']] = 'pending'"
   ]
  },
  {
   "cell_type": "code",
   "execution_count": 13,
   "metadata": {},
   "outputs": [],
   "source": [
    "en0 = targetencoder()\n",
    "X_train.loc[:,['CHAS_cat']] = en0.fit_transform(X_train['CHAS_cat'], y_train)\n",
    "X_test.loc[:,['CHAS_cat']] = en0.transform(X_test['CHAS_cat'], )"
   ]
  },
  {
   "cell_type": "code",
   "execution_count": 17,
   "metadata": {},
   "outputs": [
    {
     "data": {
      "text/plain": [
       "{'CHAS_cat': {'No': 22.302400000000002,\n",
       "  'Yes': 29.186206896551727,\n",
       "  'missing': 22.79653465346535,\n",
       "  'unknown': 22.79653465346535}}"
      ]
     },
     "execution_count": 17,
     "metadata": {},
     "output_type": "execute_result"
    }
   ],
   "source": [
    "en0.mapping"
   ]
  },
  {
   "cell_type": "code",
   "execution_count": 14,
   "metadata": {},
   "outputs": [],
   "source": [
    "t0 = X_test.loc[:,['CHAS_cat']].values"
   ]
  },
  {
   "cell_type": "markdown",
   "metadata": {},
   "source": [
    "* The result of my target encoder is the same with the result of python library function"
   ]
  },
  {
   "cell_type": "code",
   "execution_count": 24,
   "metadata": {},
   "outputs": [
    {
     "data": {
      "text/plain": [
       "True"
      ]
     },
     "execution_count": 24,
     "metadata": {},
     "output_type": "execute_result"
    }
   ],
   "source": [
    "np.allclose(t, t0)"
   ]
  },
  {
   "cell_type": "code",
   "execution_count": null,
   "metadata": {},
   "outputs": [],
   "source": []
  }
 ],
 "metadata": {
  "kernelspec": {
   "display_name": "Python 3",
   "language": "python",
   "name": "python3"
  },
  "language_info": {
   "codemirror_mode": {
    "name": "ipython",
    "version": 3
   },
   "file_extension": ".py",
   "mimetype": "text/x-python",
   "name": "python",
   "nbconvert_exporter": "python",
   "pygments_lexer": "ipython3",
   "version": "3.8.5"
  },
  "widgets": {
   "application/vnd.jupyter.widget-state+json": {
    "state": {},
    "version_major": 2,
    "version_minor": 0
   }
  }
 },
 "nbformat": 4,
 "nbformat_minor": 4
}
