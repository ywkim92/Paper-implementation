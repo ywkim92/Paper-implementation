{
 "cells": [
  {
   "cell_type": "code",
   "execution_count": 1,
   "metadata": {},
   "outputs": [],
   "source": [
    "from sklearn.datasets import load_breast_cancer\n",
    "from sklearn.discriminant_analysis import LinearDiscriminantAnalysis\n",
    "import numpy as np\n",
    "import pandas as pd\n",
    "\n",
    "from sklearn.preprocessing import StandardScaler\n",
    "from sklearn.model_selection import train_test_split\n",
    "\n",
    "from scipy.special import expit, softmax"
   ]
  },
  {
   "cell_type": "code",
   "execution_count": 45,
   "metadata": {},
   "outputs": [
    {
     "name": "stderr",
     "output_type": "stream",
     "text": [
      "<ipython-input-45-6bcdcb4ecde2>:6: RuntimeWarning: covariance is not positive-semidefinite.\n",
      "  X = rng.multivariate_normal(mean=[0, 0],\n"
     ]
    },
    {
     "data": {
      "text/plain": [
       "array([0.13073138, 0.05029545])"
      ]
     },
     "execution_count": 45,
     "metadata": {},
     "output_type": "execute_result"
    }
   ],
   "source": [
    "from sklearn.covariance import EmpiricalCovariance\n",
    "from sklearn.datasets import make_gaussian_quantiles\n",
    "real_cov = np.array([[0., 4.],\n",
    "                     [4., 0.]])\n",
    "rng = np.random.RandomState(0)\n",
    "X = rng.multivariate_normal(mean=[0, 0],\n",
    "                            cov=real_cov,\n",
    "                            size=500)\n",
    "cov = EmpiricalCovariance(assume_centered=False).fit(X)\n",
    "cov.covariance_\n",
    "\n",
    "\n",
    "cov.location_"
   ]
  },
  {
   "cell_type": "code",
   "execution_count": 21,
   "metadata": {},
   "outputs": [
    {
     "data": {
      "text/plain": [
       "ShapiroResult(statistic=0.9974537491798401, pvalue=0.6451470255851746)"
      ]
     },
     "execution_count": 21,
     "metadata": {},
     "output_type": "execute_result"
    }
   ],
   "source": [
    "from scipy.stats import shapiro\n",
    "shapiro(X[:,1])"
   ]
  },
  {
   "cell_type": "code",
   "execution_count": 11,
   "metadata": {},
   "outputs": [
    {
     "data": {
      "text/plain": [
       "array([[ 1.89558425, -0.01443971],\n",
       "       [-0.01443971,  0.99986805]])"
      ]
     },
     "execution_count": 11,
     "metadata": {},
     "output_type": "execute_result"
    }
   ],
   "source": [
    "cov.covariance_"
   ]
  },
  {
   "cell_type": "code",
   "execution_count": 12,
   "metadata": {},
   "outputs": [
    {
     "data": {
      "text/plain": [
       "array([[ 1.89558425, -0.01443971],\n",
       "       [-0.01443971,  0.99986805]])"
      ]
     },
     "execution_count": 12,
     "metadata": {},
     "output_type": "execute_result"
    }
   ],
   "source": [
    "np.cov(X, rowvar=False, ddof=0)"
   ]
  },
  {
   "cell_type": "code",
   "execution_count": 46,
   "metadata": {},
   "outputs": [
    {
     "data": {
      "text/plain": [
       "<matplotlib.collections.PathCollection at 0x1eb48edae50>"
      ]
     },
     "execution_count": 46,
     "metadata": {},
     "output_type": "execute_result"
    },
    {
     "data": {
      "image/png": "[encoded data removed]",
      "text/plain": [
       "<Figure size 432x288 with 1 Axes>"
      ]
     },
     "metadata": {
      "needs_background": "light"
     },
     "output_type": "display_data"
    }
   ],
   "source": [
    "import matplotlib.pyplot as plt\n",
    "plt.scatter(X[:,0], X[:, 1], s=10)"
   ]
  },
  {
   "cell_type": "markdown",
   "metadata": {},
   "source": [
    "$\\large \\log P(y=k|x) = \\omega_{k}^{t} x + \\omega_{k_{0}} + constant$  \n",
    "where $\\omega_{k} = \\Sigma^{-1} \\mu_{k}$, $\\omega_{k_{0}} = -\\frac{1}{2} \\mu_{k}^t \\Sigma^{-1} \\mu_{k} + \\log{P(y=k)}$"
   ]
  },
  {
   "cell_type": "code",
   "execution_count": 2,
   "metadata": {},
   "outputs": [],
   "source": [
    "data = load_breast_cancer()\n",
    "X = data['data']\n",
    "y = data['target']"
   ]
  },
  {
   "cell_type": "code",
   "execution_count": 3,
   "metadata": {},
   "outputs": [],
   "source": [
    "X_train, X_test, y_train, y_test = train_test_split(X, y, test_size=.2, random_state=42)"
   ]
  },
  {
   "cell_type": "code",
   "execution_count": 27,
   "metadata": {},
   "outputs": [],
   "source": [
    "lda = LinearDiscriminantAnalysis(solver='lsqr', store_covariance=True)\n",
    "lda.fit(X_train, y_train)\n",
    "\n",
    "pred = lda.predict(X_test)\n",
    "pred_proba = lda.predict_proba(X_test)"
   ]
  },
  {
   "cell_type": "markdown",
   "metadata": {},
   "source": [
    "`priors_`"
   ]
  },
  {
   "cell_type": "code",
   "execution_count": 22,
   "metadata": {},
   "outputs": [
    {
     "data": {
      "text/plain": [
       "True"
      ]
     },
     "execution_count": 22,
     "metadata": {},
     "output_type": "execute_result"
    }
   ],
   "source": [
    "y_train_counts = np.unique(y_train, return_counts=True)[1]\n",
    "np.alltrue(lda.priors_ == y_train_counts/y_train_counts.sum())"
   ]
  },
  {
   "cell_type": "markdown",
   "metadata": {},
   "source": [
    "`covariance_`"
   ]
  },
  {
   "cell_type": "code",
   "execution_count": 23,
   "metadata": {},
   "outputs": [
    {
     "data": {
      "text/plain": [
       "True"
      ]
     },
     "execution_count": 23,
     "metadata": {},
     "output_type": "execute_result"
    }
   ],
   "source": [
    "# by numpy cov\n",
    "covariance = (lda.priors_[0]*np.cov(X_train[y_train==0], rowvar=False, ddof=0) + lda.priors_[1]*np.cov(X_train[y_train==1], rowvar=False, ddof=0))\n",
    "np.alltrue(lda.covariance_==covariance)"
   ]
  },
  {
   "cell_type": "code",
   "execution_count": 61,
   "metadata": {},
   "outputs": [
    {
     "data": {
      "text/plain": [
       "True"
      ]
     },
     "execution_count": 61,
     "metadata": {},
     "output_type": "execute_result"
    }
   ],
   "source": [
    "# by sklearn empirical_covariance\n",
    "covariance = (lda.priors_[0]*empirical_covariance(X_train[y_train==0]) + lda.priors_[1]*empirical_covariance(X_train[y_train==1], ))\n",
    "np.alltrue(lda.covariance_==covariance)"
   ]
  },
  {
   "cell_type": "code",
   "execution_count": 36,
   "metadata": {},
   "outputs": [],
   "source": [
    "c = np.linalg.lstsq(lda.covariance_, lda.means_.T, rcond=None)[0].T"
   ]
  },
  {
   "cell_type": "code",
   "execution_count": 40,
   "metadata": {},
   "outputs": [
    {
     "data": {
      "text/plain": [
       "array([[ True,  True,  True,  True,  True,  True,  True,  True,  True,\n",
       "         True,  True,  True,  True,  True,  True,  True,  True,  True,\n",
       "         True,  True,  True,  True,  True,  True,  True,  True,  True,\n",
       "         True,  True,  True]])"
      ]
     },
     "execution_count": 40,
     "metadata": {},
     "output_type": "execute_result"
    }
   ],
   "source": [
    "np.isclose(np.array( c[1, :] - c[0, :], ndmin=2, dtype=X_train.dtype), lda.coef_)"
   ]
  },
  {
   "cell_type": "markdown",
   "metadata": {},
   "source": [
    "`means_`"
   ]
  },
  {
   "cell_type": "code",
   "execution_count": 24,
   "metadata": {},
   "outputs": [
    {
     "name": "stdout",
     "output_type": "stream",
     "text": [
      "shape of means_: (2, 30)\n"
     ]
    },
    {
     "data": {
      "text/plain": [
       "True"
      ]
     },
     "execution_count": 24,
     "metadata": {},
     "output_type": "execute_result"
    }
   ],
   "source": [
    "print('shape of means_:', lda.means_.shape)\n",
    "means = np.array([X_train[y_train==0].mean(axis=0), X_train[y_train==1].mean(axis=0)])\n",
    "np.alltrue(lda.means_== means)"
   ]
  },
  {
   "cell_type": "markdown",
   "metadata": {},
   "source": [
    "`xbar_` only in svd solver"
   ]
  },
  {
   "cell_type": "code",
   "execution_count": null,
   "metadata": {},
   "outputs": [],
   "source": [
    "print('shape of xbar_:', lda.xbar_.shape)\n",
    "print(np.allclose(lda.xbar_, X_train.mean(axis=0)))\n",
    "print(np.alltrue(lda.xbar_ == np.dot(lda.priors_, lda.means_)))"
   ]
  },
  {
   "cell_type": "markdown",
   "metadata": {},
   "source": [
    "`predict_proba`"
   ]
  },
  {
   "cell_type": "code",
   "execution_count": 28,
   "metadata": {},
   "outputs": [
    {
     "data": {
      "text/plain": [
       "True"
      ]
     },
     "execution_count": 28,
     "metadata": {},
     "output_type": "execute_result"
    }
   ],
   "source": [
    "np.alltrue(pred_proba[:, 1] == expit(lda.decision_function(X_test)) )"
   ]
  },
  {
   "cell_type": "markdown",
   "metadata": {},
   "source": [
    "`decision_function`"
   ]
  },
  {
   "cell_type": "code",
   "execution_count": 29,
   "metadata": {},
   "outputs": [
    {
     "data": {
      "text/plain": [
       "True"
      ]
     },
     "execution_count": 29,
     "metadata": {},
     "output_type": "execute_result"
    }
   ],
   "source": [
    "np.alltrue(lda.decision_function(X_test) == ((X_test).dot(lda.coef_.T) + lda.intercept_).flatten())"
   ]
  },
  {
   "cell_type": "markdown",
   "metadata": {},
   "source": [
    "# Solver"
   ]
  },
  {
   "cell_type": "markdown",
   "metadata": {},
   "source": [
    "## svd"
   ]
  },
  {
   "cell_type": "markdown",
   "metadata": {},
   "source": [
    "`coef_`"
   ]
  },
  {
   "cell_type": "markdown",
   "metadata": {},
   "source": [
    "[reference for implementing svd solver](https://github.com/scikit-learn/scikit-learn/blob/0d378913be6d7e485b792ea36e9268be31ed52d0/sklearn/discriminant_analysis.py#L470)"
   ]
  },
  {
   "cell_type": "code",
   "execution_count": 53,
   "metadata": {},
   "outputs": [],
   "source": [
    "Xc = []\n",
    "for idx, group in enumerate(lda.classes_):\n",
    "    Xg = X_train[y_train == group, :]\n",
    "    Xc.append(Xg - lda.means_[idx])\n",
    "    \n",
    "Xc = np.concatenate(Xc, axis=0)\n",
    "\n",
    "\n",
    "n_samples, n_features = X_train.shape\n",
    "n_classes = len(lda.classes_)\n",
    "\n",
    "std = Xc.std(axis=0)\n",
    "std[std == 0] = 1.0\n",
    "fac = 1.0 / (n_samples - n_classes)\n",
    "\n",
    "# 1. SVD of centered input matrix X(X_train)\n",
    "X_train_ = np.sqrt(fac) * (Xc / std)\n",
    "U, S, Vt = np.linalg.svd(X_train_, full_matrices=False)\n",
    "\n",
    "rank = np.sum(S > lda.tol)\n",
    "scalings = (Vt[:rank] / std).T / S[:rank]\n",
    "\n",
    "\n",
    "# 2. SVD of the class-wise mean vectors\n",
    "X_train_0 = np.dot(\n",
    "    (\n",
    "        (np.sqrt((n_samples * lda.priors_) * fac))\n",
    "        * (lda.means_ - lda.xbar_).T\n",
    "    ).T,\n",
    "    scalings,\n",
    ")\n",
    "\n",
    "_, S, Vt = np.linalg.svd(X_train_0, full_matrices=0)\n",
    "\n",
    "\n",
    "rank = np.sum(S > lda.tol * S[0])\n",
    "scalings_ = np.dot(scalings, Vt.T[:, :rank])\n",
    "coef = np.dot(lda.means_ - lda.xbar_, scalings_)\n",
    "intercept_ = -0.5 * np.sum(coef ** 2, axis=1) + np.log(lda.priors_)\n",
    "coef_ = np.dot(coef, scalings_.T)\n",
    "intercept_ -= np.dot(lda.xbar_, coef_.T)\n",
    "\n",
    "if n_classes==2:\n",
    "    coef_ = np.array( coef_[1, :] - coef_[0, :], ndmin=2, dtype=X_train.dtype)"
   ]
  },
  {
   "cell_type": "code",
   "execution_count": 54,
   "metadata": {},
   "outputs": [
    {
     "data": {
      "text/plain": [
       "True"
      ]
     },
     "execution_count": 54,
     "metadata": {},
     "output_type": "execute_result"
    }
   ],
   "source": [
    "np.allclose(lda.coef_ , coef_)"
   ]
  },
  {
   "cell_type": "markdown",
   "metadata": {},
   "source": [
    "`intercept_`"
   ]
  },
  {
   "cell_type": "code",
   "execution_count": 55,
   "metadata": {},
   "outputs": [],
   "source": [
    "if n_classes==2:\n",
    "    intercept_ =  np.array(  intercept_[1] - intercept_[0], ndmin=1, dtype=X_train.dtype )"
   ]
  },
  {
   "cell_type": "code",
   "execution_count": 56,
   "metadata": {},
   "outputs": [
    {
     "data": {
      "text/plain": [
       "True"
      ]
     },
     "execution_count": 56,
     "metadata": {},
     "output_type": "execute_result"
    }
   ],
   "source": [
    "np.allclose(lda.intercept_ , intercept_)"
   ]
  },
  {
   "cell_type": "markdown",
   "metadata": {},
   "source": [
    "## 'lsqr'"
   ]
  },
  {
   "cell_type": "markdown",
   "metadata": {},
   "source": [
    "`coef_`"
   ]
  },
  {
   "cell_type": "code",
   "execution_count": 62,
   "metadata": {},
   "outputs": [
    {
     "data": {
      "text/plain": [
       "StandardScaler()"
      ]
     },
     "execution_count": 62,
     "metadata": {},
     "output_type": "execute_result"
    }
   ],
   "source": [
    "sc = StandardScaler()\n",
    "sc.fit(X_train)"
   ]
  },
  {
   "cell_type": "code",
   "execution_count": 100,
   "metadata": {},
   "outputs": [],
   "source": [
    "coef_ = np.linalg.lstsq(lda.covariance_, lda.means_.T, rcond=None)[0].T\n",
    "intercept_ = -0.5 * np.diag(np.dot(lda.means_, coef_.T)) + np.log(\n",
    "            lda.priors_\n",
    "        )\n",
    "\n",
    "if n_classes==2:\n",
    "    coef_ = np.array( coef_[1, :] - coef_[0, :], ndmin=2, dtype=X_train.dtype)"
   ]
  },
  {
   "cell_type": "code",
   "execution_count": 101,
   "metadata": {},
   "outputs": [
    {
     "data": {
      "text/plain": [
       "True"
      ]
     },
     "execution_count": 101,
     "metadata": {},
     "output_type": "execute_result"
    }
   ],
   "source": [
    "np.allclose(lda.coef_ , coef_)"
   ]
  },
  {
   "cell_type": "code",
   "execution_count": 102,
   "metadata": {},
   "outputs": [],
   "source": [
    "if n_classes==2:\n",
    "    intercept_ =  np.array(  intercept_[1] - intercept_[0], ndmin=1, dtype=X_train.dtype )"
   ]
  },
  {
   "cell_type": "code",
   "execution_count": 103,
   "metadata": {},
   "outputs": [
    {
     "data": {
      "text/plain": [
       "True"
      ]
     },
     "execution_count": 103,
     "metadata": {},
     "output_type": "execute_result"
    }
   ],
   "source": [
    "np.allclose(lda.intercept_ , intercept_)"
   ]
  },
  {
   "cell_type": "code",
   "execution_count": null,
   "metadata": {},
   "outputs": [],
   "source": []
  }
 ],
 "metadata": {
  "kernelspec": {
   "display_name": "Python 3",
   "language": "python",
   "name": "python3"
  },
  "language_info": {
   "codemirror_mode": {
    "name": "ipython",
    "version": 3
   },
   "file_extension": ".py",
   "mimetype": "text/x-python",
   "name": "python",
   "nbconvert_exporter": "python",
   "pygments_lexer": "ipython3",
   "version": "3.8.5"
  },
  "widgets": {
   "application/vnd.jupyter.widget-state+json": {
    "state": {},
    "version_major": 2,
    "version_minor": 0
   }
  }
 },
 "nbformat": 4,
 "nbformat_minor": 4
}
