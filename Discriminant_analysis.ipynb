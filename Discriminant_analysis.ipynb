{
 "cells": [
  {
   "cell_type": "code",
   "execution_count": 6,
   "metadata": {},
   "outputs": [],
   "source": [
    "from sklearn.datasets import load_breast_cancer\n",
    "from sklearn.discriminant_analysis import LinearDiscriminantAnalysis\n",
    "import numpy as np\n",
    "import pandas as pd\n",
    "\n",
    "from sklearn.preprocessing import StandardScaler\n",
    "from sklearn.model_selection import train_test_split\n",
    "\n",
    "from scipy.special import expit, softmax"
   ]
  },
  {
   "cell_type": "code",
   "execution_count": 7,
   "metadata": {},
   "outputs": [],
   "source": [
    "data = load_breast_cancer()\n",
    "X = data['data']\n",
    "y = data['target']"
   ]
  },
  {
   "cell_type": "code",
   "execution_count": 8,
   "metadata": {},
   "outputs": [],
   "source": [
    "X_train, X_test, y_train, y_test = train_test_split(X, y, test_size=.2, random_state=42)"
   ]
  },
  {
   "cell_type": "code",
   "execution_count": 9,
   "metadata": {},
   "outputs": [
    {
     "data": {
      "text/plain": [
       "LinearDiscriminantAnalysis(store_covariance=True)"
      ]
     },
     "execution_count": 9,
     "metadata": {},
     "output_type": "execute_result"
    }
   ],
   "source": [
    "lda = LinearDiscriminantAnalysis(store_covariance=True)\n",
    "lda.fit(X_train, y_train)"
   ]
  },
  {
   "cell_type": "code",
   "execution_count": 12,
   "metadata": {},
   "outputs": [],
   "source": [
    "pred = lda.predict(X_test)\n",
    "pred_proba = lda.predict_proba(X_test)"
   ]
  },
  {
   "cell_type": "markdown",
   "metadata": {},
   "source": [
    "`priors_`"
   ]
  },
  {
   "cell_type": "code",
   "execution_count": 25,
   "metadata": {},
   "outputs": [
    {
     "data": {
      "text/plain": [
       "True"
      ]
     },
     "execution_count": 25,
     "metadata": {},
     "output_type": "execute_result"
    }
   ],
   "source": [
    "y_train_counts = np.unique(y_train, return_counts=True)[1]\n",
    "np.alltrue(lda.priors_ == y_train_counts/y_train_counts.sum())"
   ]
  },
  {
   "cell_type": "markdown",
   "metadata": {},
   "source": [
    "`covariance_`"
   ]
  },
  {
   "cell_type": "code",
   "execution_count": 124,
   "metadata": {},
   "outputs": [
    {
     "data": {
      "text/plain": [
       "True"
      ]
     },
     "execution_count": 124,
     "metadata": {},
     "output_type": "execute_result"
    }
   ],
   "source": [
    "covariance = (lda.priors_[0]*np.cov(X_train[y_train==0], rowvar=False, ddof=0) + lda.priors_[1]*np.cov(X_train[y_train==1], rowvar=False, ddof=0))\n",
    "np.alltrue(lda.covariance_==covariance)"
   ]
  },
  {
   "cell_type": "markdown",
   "metadata": {},
   "source": [
    "`means_`"
   ]
  },
  {
   "cell_type": "code",
   "execution_count": 131,
   "metadata": {},
   "outputs": [
    {
     "data": {
      "text/plain": [
       "True"
      ]
     },
     "execution_count": 131,
     "metadata": {},
     "output_type": "execute_result"
    }
   ],
   "source": [
    "means = np.array([X_train[y_train==0].mean(axis=0),X_train[y_train==1].mean(axis=0)])\n",
    "np.alltrue(lda.means_== means)"
   ]
  },
  {
   "cell_type": "markdown",
   "metadata": {},
   "source": [
    "`xbar_`"
   ]
  },
  {
   "cell_type": "code",
   "execution_count": 140,
   "metadata": {},
   "outputs": [
    {
     "name": "stdout",
     "output_type": "stream",
     "text": [
      "True\n",
      "True\n"
     ]
    }
   ],
   "source": [
    "print(np.allclose(lda.xbar_, X_train.mean(axis=0)))\n",
    "print(np.alltrue(lda.xbar_ == np.dot(lda.priors_, lda.means_)))"
   ]
  },
  {
   "cell_type": "markdown",
   "metadata": {},
   "source": [
    "`predict_proba`"
   ]
  },
  {
   "cell_type": "code",
   "execution_count": 13,
   "metadata": {},
   "outputs": [
    {
     "data": {
      "text/plain": [
       "True"
      ]
     },
     "execution_count": 13,
     "metadata": {},
     "output_type": "execute_result"
    }
   ],
   "source": [
    "np.alltrue(pred_proba[:, 1] == expit(lda.decision_function(X_test)) )"
   ]
  },
  {
   "cell_type": "markdown",
   "metadata": {},
   "source": [
    "`decision_function`"
   ]
  },
  {
   "cell_type": "code",
   "execution_count": 22,
   "metadata": {},
   "outputs": [
    {
     "data": {
      "text/plain": [
       "True"
      ]
     },
     "execution_count": 22,
     "metadata": {},
     "output_type": "execute_result"
    }
   ],
   "source": [
    "np.alltrue(lda.decision_function(X_test) == ((X_test).dot(lda.coef_.T) + lda.intercept_).flatten())"
   ]
  },
  {
   "cell_type": "markdown",
   "metadata": {},
   "source": [
    "`coef_`\n",
    "1. when `solver='svd'`"
   ]
  },
  {
   "cell_type": "code",
   "execution_count": 53,
   "metadata": {},
   "outputs": [],
   "source": [
    "Xc = []\n",
    "for idx, group in enumerate(lda.classes_):\n",
    "    Xg = X_train[y_train == group, :]\n",
    "    Xc.append(Xg - lda.means_[idx])\n",
    "    \n",
    "Xc = np.concatenate(Xc, axis=0)\n",
    "\n",
    "\n",
    "n_samples, n_features = X_train.shape\n",
    "n_classes = len(lda.classes_)\n",
    "\n",
    "std = Xc.std(axis=0)\n",
    "std[std == 0] = 1.0\n",
    "fac = 1.0 / (n_samples - n_classes)\n",
    "\n",
    "X_train_ = np.sqrt(fac) * (Xc / std)\n",
    "U, S, Vt = np.linalg.svd(X_train_, full_matrices=False)\n",
    "\n",
    "rank = np.sum(S > lda.tol)\n",
    "scalings = (Vt[:rank] / std).T / S[:rank]\n",
    "\n",
    "\n",
    "X_train_0 = np.dot(\n",
    "    (\n",
    "        (np.sqrt((n_samples * lda.priors_) * fac))\n",
    "        * (lda.means_ - lda.xbar_).T\n",
    "    ).T,\n",
    "    scalings,\n",
    ")\n",
    "\n",
    "_, S, Vt = np.linalg.svd(X_train_0, full_matrices=0)\n",
    "\n",
    "\n",
    "rank = np.sum(S > lda.tol * S[0])\n",
    "scalings_ = np.dot(scalings, Vt.T[:, :rank])\n",
    "coef = np.dot(lda.means_ - lda.xbar_, scalings_)\n",
    "intercept_ = -0.5 * np.sum(coef ** 2, axis=1) + np.log(lda.priors_)\n",
    "coef_ = np.dot(coef, scalings_.T)\n",
    "intercept_ -= np.dot(lda.xbar_, coef_.T)\n",
    "\n",
    "if n_classes==2:\n",
    "    coef_ = np.array( coef_[1, :] - coef_[0, :], ndmin=2, dtype=X_train.dtype)"
   ]
  },
  {
   "cell_type": "code",
   "execution_count": 54,
   "metadata": {},
   "outputs": [
    {
     "data": {
      "text/plain": [
       "True"
      ]
     },
     "execution_count": 54,
     "metadata": {},
     "output_type": "execute_result"
    }
   ],
   "source": [
    "np.allclose(lda.coef_ , coef_)"
   ]
  },
  {
   "cell_type": "markdown",
   "metadata": {},
   "source": [
    "`intercept_`\n",
    "1. when `solver = 'svd'`"
   ]
  },
  {
   "cell_type": "code",
   "execution_count": 55,
   "metadata": {},
   "outputs": [],
   "source": [
    "if n_classes==2:\n",
    "    intercept_ =  np.array(  intercept_[1] - intercept_[0], ndmin=1, dtype=X_train.dtype )"
   ]
  },
  {
   "cell_type": "code",
   "execution_count": 56,
   "metadata": {},
   "outputs": [
    {
     "data": {
      "text/plain": [
       "True"
      ]
     },
     "execution_count": 56,
     "metadata": {},
     "output_type": "execute_result"
    }
   ],
   "source": [
    "np.allclose(lda.intercept_ , intercept_)"
   ]
  },
  {
   "cell_type": "code",
   "execution_count": null,
   "metadata": {},
   "outputs": [],
   "source": []
  }
 ],
 "metadata": {
  "kernelspec": {
   "display_name": "Python 3",
   "language": "python",
   "name": "python3"
  },
  "language_info": {
   "codemirror_mode": {
    "name": "ipython",
    "version": 3
   },
   "file_extension": ".py",
   "mimetype": "text/x-python",
   "name": "python",
   "nbconvert_exporter": "python",
   "pygments_lexer": "ipython3",
   "version": "3.8.5"
  },
  "widgets": {
   "application/vnd.jupyter.widget-state+json": {
    "state": {},
    "version_major": 2,
    "version_minor": 0
   }
  }
 },
 "nbformat": 4,
 "nbformat_minor": 4
}
