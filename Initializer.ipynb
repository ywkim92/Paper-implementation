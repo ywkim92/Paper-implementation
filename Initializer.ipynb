{
 "cells": [
  {
   "cell_type": "code",
   "execution_count": 13,
   "metadata": {},
   "outputs": [],
   "source": [
    "import tensorflow as tf\n",
    "import numpy as np\n",
    "import matplotlib.pyplot as plt\n",
    "import copy\n",
    "\n",
    "from scipy.stats import truncnorm, norm, levene, ttest_ind\n",
    "\n",
    "from sklearn.metrics import *\n",
    "from sklearn.model_selection import train_test_split\n",
    "\n",
    "from tensorflow.keras.models import Sequential\n",
    "from tensorflow.keras.layers import Conv1D, GlobalMaxPooling1D, Dense\n",
    "from tensorflow.keras.utils import to_categorical\n",
    "from tensorflow.keras.losses import BinaryCrossentropy\n",
    "from tensorflow.keras.initializers import GlorotNormal, GlorotUniform, Zeros\n",
    "from tensorflow.keras import backend as K"
   ]
  },
  {
   "cell_type": "code",
   "execution_count": 2,
   "metadata": {},
   "outputs": [],
   "source": [
    "# reference\n",
    "# https://github.com/keras-team/keras/blob/d8fcb9d4d4dad45080ecfdd575483653028f8eda/keras/initializers/initializers_v2.py#L973-L1007\n",
    "\n",
    "def compute_fans(shape):\n",
    "    receptive_field_size = np.product(shape[:-2])\n",
    "    fan_in = shape[-2]*receptive_field_size\n",
    "    fan_out = shape[-1]*receptive_field_size\n",
    "    return int(fan_in), int(fan_out)"
   ]
  },
  {
   "cell_type": "code",
   "execution_count": 3,
   "metadata": {},
   "outputs": [],
   "source": [
    "# https://github.com/tensorflow/tensorflow/blob/3f878cff5b698b82eea85db2b60d65a2e320850e/tensorflow/python/ops/random_ops.py#L156-L205\n",
    "\n",
    "# from tensorflow.python.ops import gen_random_ops\n",
    "# from tensorflow.python.framework import ops, tensor_util, random_seed\n",
    "\n",
    "# shape = (50,128)\n",
    "# mean = 0\n",
    "# stddev = 1033\n",
    "# dtype = np.float32\n",
    "# seed = 42\n",
    "\n",
    "# shape_tensor = tensor_util.shape_tensor(shape)\n",
    "# mean_tensor = ops.convert_to_tensor(mean, dtype=dtype, name=\"mean\")\n",
    "# stddev_tensor = ops.convert_to_tensor(stddev, dtype=dtype, name=\"stddev\")\n",
    "# seed1, seed2 = random_seed.get_seed(seed)\n",
    "# rnd = gen_random_ops.truncated_normal(\n",
    "#     shape_tensor, dtype, seed=seed1, seed2=seed2)\n",
    "# mul = rnd * stddev_tensor"
   ]
  },
  {
   "cell_type": "markdown",
   "metadata": {},
   "source": [
    "# Initializers"
   ]
  },
  {
   "cell_type": "markdown",
   "metadata": {},
   "source": [
    "## Glorot(Xavier) Normal"
   ]
  },
  {
   "cell_type": "markdown",
   "metadata": {},
   "source": [
    "* **NOTE**: Use **truncated** normal distribution"
   ]
  },
  {
   "cell_type": "code",
   "execution_count": 4,
   "metadata": {},
   "outputs": [],
   "source": [
    "model = Sequential()\n",
    "model.add(Dense(128, activation='relu', input_shape=(50,), kernel_initializer=GlorotNormal(seed=32)))\n",
    "model.add(Dense(2, activation='sigmoid'))"
   ]
  },
  {
   "cell_type": "code",
   "execution_count": 5,
   "metadata": {},
   "outputs": [
    {
     "name": "stdout",
     "output_type": "stream",
     "text": [
      "Model: \"sequential\"\n",
      "_________________________________________________________________\n",
      "Layer (type)                 Output Shape              Param #   \n",
      "=================================================================\n",
      "dense (Dense)                (None, 128)               6528      \n",
      "_________________________________________________________________\n",
      "dense_1 (Dense)              (None, 2)                 258       \n",
      "=================================================================\n",
      "Total params: 6,786\n",
      "Trainable params: 6,786\n",
      "Non-trainable params: 0\n",
      "_________________________________________________________________\n"
     ]
    }
   ],
   "source": [
    "model.summary()"
   ]
  },
  {
   "cell_type": "code",
   "execution_count": 6,
   "metadata": {},
   "outputs": [],
   "source": [
    "def tnorm_var(a,b,sig, mu=0):\n",
    "    alpha = (a-mu)/sig\n",
    "    beta = (b-mu)/sig\n",
    "    z = norm.cdf(beta, mu, sig) - norm.cdf(alpha, mu, sig)\n",
    "    pdf_a = norm.pdf(alpha, mu, sig)\n",
    "    pdf_b = norm.pdf(beta, mu, sig)\n",
    "    var = np.square(sig)*(1+(alpha*pdf_a - beta*pdf_b)/z - np.square((pdf_a - pdf_b)/z))\n",
    "    return var"
   ]
  },
  {
   "cell_type": "markdown",
   "metadata": {},
   "source": [
    "* Glorot Normal ~ truncated normal distribution\n",
    "\n",
    "$\\displaystyle \\Huge X \\sim \\psi(-l,l,0,\\sigma) \\ \\ \\normalsize \\text{where} \\ l=\\frac{2\\sigma}{\\sigma_{1}}, \\ \\sigma=\\sqrt{\\frac{2}{fan_{in}+fan_{out}}}, \\ \\sigma_{1} = \\sqrt{\\mathrm{Var(X_1)}}, X_1 \\sim  \\psi(-2,2,\\mu=0,\\sigma=1)$"
   ]
  },
  {
   "cell_type": "code",
   "execution_count": 7,
   "metadata": {},
   "outputs": [
    {
     "name": "stdout",
     "output_type": "stream",
     "text": [
      "std: 0.105999788000636\n"
     ]
    }
   ],
   "source": [
    "fan_in, fan_out = compute_fans(model.layers[0].kernel.shape)\n",
    "\n",
    "std = np.sqrt(2/(fan_in + fan_out))\n",
    "print('std:', std)"
   ]
  },
  {
   "cell_type": "code",
   "execution_count": 8,
   "metadata": {},
   "outputs": [
    {
     "name": "stdout",
     "output_type": "stream",
     "text": [
      "* Kernel of dense layer\n",
      "shape: (50, 128)\n",
      "mean: -0.0024922527\n",
      "std: 0.10565267\n",
      "min: -0.24037555\n",
      "max: 0.24049269\n"
     ]
    }
   ],
   "source": [
    "print('* Kernel of dense layer')\n",
    "print('shape:', model.layers[0].kernel.shape)\n",
    "print('mean:', model.layers[0].kernel.numpy().mean())\n",
    "print('std:', model.layers[0].kernel.numpy().std())\n",
    "print('min:', model.layers[0].kernel.numpy().min())\n",
    "print('max:', model.layers[0].kernel.numpy().max())"
   ]
  },
  {
   "cell_type": "code",
   "execution_count": 9,
   "metadata": {},
   "outputs": [],
   "source": [
    "kernel_scipy = truncnorm.rvs(-2,2,0,1, size = model.layers[0].kernel.shape)*(std/truncnorm.std(-2,2,0,1))\n",
    "\n",
    "kernel_keras_backend = K.truncated_normal(model.layers[0].kernel.shape, 0, std/truncnorm.std(-2,2,0,1)).numpy()"
   ]
  },
  {
   "cell_type": "code",
   "execution_count": 10,
   "metadata": {},
   "outputs": [
    {
     "name": "stdout",
     "output_type": "stream",
     "text": [
      "* calculated by scipy library\n",
      "shape: (50, 128)\n",
      "mean: 0.001001029051936007\n",
      "std: 0.10626120796316196\n",
      "min: -0.24061649287298736\n",
      "max: 0.24066782632015507\n"
     ]
    }
   ],
   "source": [
    "print('* calculated by scipy library')\n",
    "print('shape:', kernel_scipy.shape)\n",
    "print('mean:', kernel_scipy.mean())\n",
    "print('std:', kernel_scipy.std())\n",
    "print('min:', kernel_scipy.min())\n",
    "print('max:', kernel_scipy.max())"
   ]
  },
  {
   "cell_type": "code",
   "execution_count": 11,
   "metadata": {},
   "outputs": [
    {
     "name": "stdout",
     "output_type": "stream",
     "text": [
      "* calculated by keras backend\n",
      "shape: (50, 128)\n",
      "mean: -0.0029025741\n",
      "std: 0.10517134\n",
      "min: -0.24041878\n",
      "max: 0.24067865\n"
     ]
    }
   ],
   "source": [
    "print('* calculated by keras backend')\n",
    "print('shape:', kernel_keras_backend.shape)\n",
    "print('mean:', kernel_keras_backend.mean())\n",
    "print('std:', kernel_keras_backend.std())\n",
    "print('min:', kernel_keras_backend.min())\n",
    "print('max:', kernel_keras_backend.max())"
   ]
  },
  {
   "cell_type": "markdown",
   "metadata": {},
   "source": [
    "<br>\n",
    "\n",
    "`kernel_scipy` vs. `kernel_keras_backend`"
   ]
  },
  {
   "cell_type": "code",
   "execution_count": 14,
   "metadata": {},
   "outputs": [
    {
     "name": "stdout",
     "output_type": "stream",
     "text": [
      "two input samples are from populations with equal variances: True\n",
      "two input samples have identical average values: False\n"
     ]
    }
   ],
   "source": [
    "print('two input samples are from populations with equal variances:', levene(kernel_scipy.flatten(), kernel_keras_backend.flatten())[1] > .05 )\n",
    "print('two input samples have identical average values:', ttest_ind(kernel_scipy.flatten(), kernel_keras_backend.flatten())[1] > .05 )"
   ]
  },
  {
   "cell_type": "markdown",
   "metadata": {},
   "source": [
    "`kernel_keras_backend` vs. `model.layers[0].kernel`(w/ `GlorotNormal`)"
   ]
  },
  {
   "cell_type": "code",
   "execution_count": 15,
   "metadata": {},
   "outputs": [
    {
     "name": "stdout",
     "output_type": "stream",
     "text": [
      "two input samples are from populations with equal variances: True\n",
      "two input samples have identical average values: True\n"
     ]
    }
   ],
   "source": [
    "print('two input samples are from populations with equal variances:', levene(kernel_keras_backend.flatten(), model.layers[0].kernel.numpy().flatten())[1] > .05 )\n",
    "print('two input samples have identical average values:', ttest_ind(kernel_keras_backend.flatten(), model.layers[0].kernel.numpy().flatten())[1] > .05 )"
   ]
  },
  {
   "cell_type": "code",
   "execution_count": 16,
   "metadata": {},
   "outputs": [
    {
     "data": {
      "image/png": "[encoded data removed]",
      "text/plain": [
       "<Figure size 576x432 with 1 Axes>"
      ]
     },
     "metadata": {
      "needs_background": "light"
     },
     "output_type": "display_data"
    }
   ],
   "source": [
    "plt.figure(figsize=(8,6))\n",
    "_, bins, _ = plt.hist(model.layers[0].kernel.numpy().flatten(), density=True, bins=50, label = 'kernel of dense layer')\n",
    "plt.hist(kernel_keras_backend.flatten(), density=True, bins=bins, alpha=.4, label = r'$\\psi$ by keras backend', color='r')\n",
    "\n",
    "norm_x = np.linspace(bins[0], bins[-1], 1000)\n",
    "norm_y = norm.pdf(norm_x, loc=0, scale = std)\n",
    "plt.plot(norm_x, norm_y, label = r'$X\\sim N(0,\\sigma^2)$')\n",
    "\n",
    "plt.legend(fontsize=12, labelcolor='linecolor')\n",
    "plt.show()"
   ]
  },
  {
   "cell_type": "code",
   "execution_count": 20,
   "metadata": {},
   "outputs": [
    {
     "data": {
      "image/png": "[encoded data removed]",
      "text/plain": [
       "<Figure size 432x288 with 1 Axes>"
      ]
     },
     "metadata": {
      "needs_background": "light"
     },
     "output_type": "display_data"
    }
   ],
   "source": [
    "from sklearn.neighbors import KernelDensity\n",
    "\n",
    "counts, bins, _ = plt.hist(kernel_keras_backend.flatten(), density=True, bins=50, alpha=.4, label = r'$\\psi$ by keras backend', color='r')\n",
    "# plt.scatter(bins[1:], counts,  s=3)\n",
    "\n",
    "kde = KernelDensity(kernel='gaussian', bandwidth=.05).fit(kernel_keras_backend.flatten().reshape(-1,1))\n",
    "# plt.plot(np.linspace(-.3,.3,1000).reshape(-1,1), np.exp(kde.score_samples(np.linspace(-.3,.3,1000).reshape(-1,1))) )\n",
    "plt.plot(np.linspace(-.6,.6,1000), np.exp(kde.score_samples(np.linspace(-.6,.6,1000).reshape(-1,1))), label='gaussian kernel' )\n",
    "\n",
    "norm_std = 0.10446543\n",
    "plt.plot(np.linspace(-.6,.6,1000), norm.pdf(np.linspace(-.6,.6,1000), 0, norm_std), label = r'$X\\sim N(0,\\sigma^2)$')\n",
    "\n",
    "plt.legend(fontsize=11, labelcolor='linecolor')\n",
    "plt.show()"
   ]
  },
  {
   "cell_type": "markdown",
   "metadata": {},
   "source": [
    "## Glorot(Xavier) Uniform"
   ]
  },
  {
   "cell_type": "markdown",
   "metadata": {},
   "source": [
    "* Glorot Normal ~ Uniform distribution\n",
    "\n",
    "$\\displaystyle \\Huge X \\sim U(-l, l) \\ \\ \\normalsize \\text{where} \\ l=\\sqrt{\\frac{6}{fan_{in}+fan_{out}}}$"
   ]
  },
  {
   "cell_type": "code",
   "execution_count": 503,
   "metadata": {},
   "outputs": [],
   "source": [
    "model = Sequential()\n",
    "model.add(Dense(128, activation='relu', input_shape=(50,), kernel_initializer=GlorotUniform(seed=32)))\n",
    "model.add(Dense(2, activation='sigmoid'))"
   ]
  },
  {
   "cell_type": "code",
   "execution_count": 504,
   "metadata": {},
   "outputs": [
    {
     "name": "stdout",
     "output_type": "stream",
     "text": [
      "limit: 0.18359701840863138\n"
     ]
    }
   ],
   "source": [
    "fan_in, fan_out = compute_fans(model.layers[0].kernel.shape)\n",
    "\n",
    "limit = np.sqrt(6/(fan_in + fan_out))\n",
    "print('limit:', limit)"
   ]
  },
  {
   "cell_type": "code",
   "execution_count": 505,
   "metadata": {},
   "outputs": [
    {
     "name": "stdout",
     "output_type": "stream",
     "text": [
      "* Kernel of dense layer\n",
      "shape: (50, 128)\n",
      "mean: 0.00025605928\n",
      "std: 0.10581555\n",
      "min: -0.18358538\n",
      "max: 0.18355618\n"
     ]
    }
   ],
   "source": [
    "print('* Kernel of dense layer')\n",
    "print('shape:', model.layers[0].kernel.shape)\n",
    "print('mean:', model.layers[0].kernel.numpy().mean())\n",
    "print('std:', model.layers[0].kernel.numpy().std())\n",
    "print('min:', model.layers[0].kernel.numpy().min())\n",
    "print('max:', model.layers[0].kernel.numpy().max())"
   ]
  },
  {
   "cell_type": "code",
   "execution_count": 506,
   "metadata": {},
   "outputs": [
    {
     "name": "stdout",
     "output_type": "stream",
     "text": [
      "Uniform distribution on [-limit, limit]\n",
      "mean: 0.0\n",
      "std: 0.105999788000636\n",
      "min: -0.18354511330146997\n",
      "max: 0.18334843212296828\n"
     ]
    }
   ],
   "source": [
    "print('Uniform distribution on [-limit, limit]')\n",
    "print('mean:', uniform.mean(-limit, 2*limit))\n",
    "print('std:', uniform.std(-limit, 2*limit))\n",
    "uniform_scipy = uniform.rvs(-limit, 2*limit, size = model.layers[0].kernel.shape)\n",
    "print('min:',uniform_scipy.min())\n",
    "print('max:', uniform_scipy.max())"
   ]
  },
  {
   "cell_type": "markdown",
   "metadata": {},
   "source": [
    "<br>\n",
    "\n",
    "`kernel_scipy` vs. `model.layers[0].kernel`(w/ `GlorotUniform`)"
   ]
  },
  {
   "cell_type": "code",
   "execution_count": 517,
   "metadata": {},
   "outputs": [
    {
     "name": "stdout",
     "output_type": "stream",
     "text": [
      "two input samples are from populations with equal variances: True\n",
      "two input samples have identical average values: True\n"
     ]
    }
   ],
   "source": [
    "print('two input samples are from populations with equal variances:', levene(uniform_scipy.flatten(), model.layers[0].kernel.numpy().flatten())[1] > .05 )\n",
    "print('two input samples have identical average values:', ttest_ind(uniform_scipy.flatten(), model.layers[0].kernel.numpy().flatten())[1] > .05 )"
   ]
  },
  {
   "cell_type": "code",
   "execution_count": 516,
   "metadata": {},
   "outputs": [
    {
     "data": {
      "image/png": "[encoded data removed]",
      "text/plain": [
       "<Figure size 576x432 with 1 Axes>"
      ]
     },
     "metadata": {
      "needs_background": "light"
     },
     "output_type": "display_data"
    }
   ],
   "source": [
    "plt.figure(figsize=(8,6))\n",
    "plt.ylim(0,900)\n",
    "_, bins, _ = plt.hist(model.layers[0].kernel.numpy().flatten(), bins=10, label = 'kernel of dense layer')\n",
    "plt.hist(uniform_scipy.flatten(), bins=bins, alpha=.4, label = r'$U(-l,l)$ by scipy', color='g')\n",
    "plt.legend(fontsize=12, labelcolor='linecolor')\n",
    "plt.show()"
   ]
  },
  {
   "cell_type": "code",
   "execution_count": null,
   "metadata": {},
   "outputs": [],
   "source": []
  }
 ],
 "metadata": {
  "kernelspec": {
   "display_name": "Python 3",
   "language": "python",
   "name": "python3"
  },
  "language_info": {
   "codemirror_mode": {
    "name": "ipython",
    "version": 3
   },
   "file_extension": ".py",
   "mimetype": "text/x-python",
   "name": "python",
   "nbconvert_exporter": "python",
   "pygments_lexer": "ipython3",
   "version": "3.8.5"
  },
  "widgets": {
   "application/vnd.jupyter.widget-state+json": {
    "state": {},
    "version_major": 2,
    "version_minor": 0
   }
  }
 },
 "nbformat": 4,
 "nbformat_minor": 4
}
