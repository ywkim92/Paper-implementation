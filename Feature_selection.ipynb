{
 "cells": [
  {
   "cell_type": "markdown",
   "metadata": {},
   "source": [
    "# Load libraries"
   ]
  },
  {
   "cell_type": "code",
   "execution_count": 1,
   "metadata": {},
   "outputs": [],
   "source": [
    "import numpy as np\n",
    "import pandas as pd\n",
    "import matplotlib.pyplot as plt\n",
    "import seaborn as sns"
   ]
  },
  {
   "cell_type": "code",
   "execution_count": 2,
   "metadata": {},
   "outputs": [],
   "source": [
    "from sklearn.base import clone\n",
    "from sklearn.datasets import load_boston\n",
    "from sklearn.ensemble import RandomForestRegressor, GradientBoostingRegressor\n",
    "from sklearn.feature_selection import RFE, RFECV, SelectFromModel, SequentialFeatureSelector\n",
    "from sklearn.linear_model import LinearRegression\n",
    "from sklearn.model_selection import train_test_split, cross_val_score, KFold\n",
    "from sklearn.metrics import mean_absolute_error, mean_absolute_percentage_error\n",
    "from sklearn.preprocessing import StandardScaler, MinMaxScaler, RobustScaler, PolynomialFeatures"
   ]
  },
  {
   "cell_type": "markdown",
   "metadata": {},
   "source": [
    "# Load data"
   ]
  },
  {
   "cell_type": "code",
   "execution_count": 3,
   "metadata": {},
   "outputs": [],
   "source": [
    "X, y, feature_names, _, _ = load_boston().values()"
   ]
  },
  {
   "cell_type": "code",
   "execution_count": 4,
   "metadata": {},
   "outputs": [],
   "source": [
    "X_train, X_test, y_train, y_test = train_test_split(pd.DataFrame(X, columns = feature_names), pd.Series(y, name='label'), test_size = .2, random_state=42)"
   ]
  },
  {
   "cell_type": "code",
   "execution_count": 5,
   "metadata": {},
   "outputs": [],
   "source": [
    "scaler = StandardScaler()\n",
    "\n",
    "X_train = scaler.fit_transform(X_train)\n",
    "X_test = scaler.transform(X_test)"
   ]
  },
  {
   "cell_type": "markdown",
   "metadata": {},
   "source": [
    "# Train: Linear Regression"
   ]
  },
  {
   "cell_type": "code",
   "execution_count": 6,
   "metadata": {},
   "outputs": [
    {
     "name": "stdout",
     "output_type": "stream",
     "text": [
      "0.668759493535632\n",
      "3.1890919658878483\n",
      "0.16866394539378712\n"
     ]
    }
   ],
   "source": [
    "model_lr = LinearRegression()\n",
    "model_lr.fit(X_train, y_train)\n",
    "\n",
    "pred_lr = model_lr.predict(X_test)\n",
    "\n",
    "print(model_lr.score(X_test, y_test))\n",
    "print(mean_absolute_error(y_test, pred_lr))\n",
    "print(mean_absolute_percentage_error(y_test, pred_lr))"
   ]
  },
  {
   "cell_type": "code",
   "execution_count": 24,
   "metadata": {},
   "outputs": [],
   "source": [
    "pf = PolynomialFeatures(interaction_only=True, include_bias=False, degree=2)\n",
    "\n",
    "X_train = pf.fit_transform(X_train)\n",
    "X_test = pf.transform(X_test)"
   ]
  },
  {
   "cell_type": "code",
   "execution_count": 99,
   "metadata": {},
   "outputs": [],
   "source": [
    "rfe = RFECV(estimator=model_lr, cv=5, scoring='r2')\n",
    "\n",
    "X_train = rfe.fit_transform(X_train, y_train)\n",
    "X_test = rfe.transform(X_test)"
   ]
  },
  {
   "cell_type": "code",
   "execution_count": 100,
   "metadata": {},
   "outputs": [
    {
     "name": "stdout",
     "output_type": "stream",
     "text": [
      "0.7635982049770087\n",
      "3.7379107553033477\n",
      "0.18737837457744916\n"
     ]
    }
   ],
   "source": [
    "model_lr.fit(X_train, y_train)\n",
    "\n",
    "pred_lr = model_lr.predict(X_test)\n",
    "\n",
    "print(model_lr.score(X_test, y_test))\n",
    "print(mean_absolute_error(y_test, pred_lr))\n",
    "print(mean_absolute_percentage_error(y_test, pred_lr))"
   ]
  },
  {
   "cell_type": "markdown",
   "metadata": {},
   "source": [
    "# Train: Random Forest"
   ]
  },
  {
   "cell_type": "code",
   "execution_count": 7,
   "metadata": {},
   "outputs": [],
   "source": [
    "X_train, X_test, y_train, y_test = train_test_split(pd.DataFrame(X, columns = feature_names), pd.Series(y, name='label'), test_size = .2, random_state=42)"
   ]
  },
  {
   "cell_type": "code",
   "execution_count": 8,
   "metadata": {},
   "outputs": [],
   "source": [
    "scaler = StandardScaler()\n",
    "\n",
    "X_train = scaler.fit_transform(X_train)\n",
    "X_test = scaler.transform(X_test)"
   ]
  },
  {
   "cell_type": "code",
   "execution_count": 6,
   "metadata": {},
   "outputs": [
    {
     "data": {
      "text/plain": [
       "0.8920995891343227"
      ]
     },
     "execution_count": 6,
     "metadata": {},
     "output_type": "execute_result"
    }
   ],
   "source": [
    "model = RandomForestRegressor(random_state=42)\n",
    "model.fit(X_train, y_train)\n",
    "\n",
    "model.score(X_test, y_test, )"
   ]
  },
  {
   "cell_type": "code",
   "execution_count": 38,
   "metadata": {},
   "outputs": [],
   "source": [
    "pf = PolynomialFeatures(interaction_only=True, include_bias=False, degree=2)\n",
    "\n",
    "X_train = pf.fit_transform(X_train)\n",
    "X_test = pf.transform(X_test)"
   ]
  },
  {
   "cell_type": "code",
   "execution_count": 39,
   "metadata": {},
   "outputs": [],
   "source": [
    "rfe = RFECV(estimator=model, cv=5, scoring='r2')\n",
    "\n",
    "X_train = rfe.fit_transform(X_train, y_train)\n",
    "X_test = rfe.transform(X_test)"
   ]
  },
  {
   "cell_type": "code",
   "execution_count": 40,
   "metadata": {},
   "outputs": [
    {
     "data": {
      "text/plain": [
       "0.8556048645974019"
      ]
     },
     "execution_count": 40,
     "metadata": {},
     "output_type": "execute_result"
    }
   ],
   "source": [
    "model = RandomForestRegressor(random_state=42)\n",
    "model.fit(X_train, y_train)\n",
    "\n",
    "model.score(X_test, y_test, )"
   ]
  },
  {
   "cell_type": "markdown",
   "metadata": {},
   "source": [
    "## Recursive Feature Elimination"
   ]
  },
  {
   "cell_type": "markdown",
   "metadata": {},
   "source": [
    "### by sklearn"
   ]
  },
  {
   "cell_type": "code",
   "execution_count": 145,
   "metadata": {},
   "outputs": [],
   "source": [
    "rfe_ = RFE(estimator=model, n_features_to_select=5)"
   ]
  },
  {
   "cell_type": "code",
   "execution_count": 146,
   "metadata": {},
   "outputs": [
    {
     "data": {
      "text/plain": [
       "array([1, 8, 6, 9, 3, 1, 4, 1, 7, 2, 1, 5, 1])"
      ]
     },
     "execution_count": 146,
     "metadata": {},
     "output_type": "execute_result"
    }
   ],
   "source": [
    "rfe_.fit(X_train, y_train)\n",
    "\n",
    "rfe_.ranking_"
   ]
  },
  {
   "cell_type": "markdown",
   "metadata": {},
   "source": [
    "### implementation"
   ]
  },
  {
   "cell_type": "code",
   "execution_count": 140,
   "metadata": {},
   "outputs": [],
   "source": [
    "class rfe:\n",
    "    def __init__(self, estimator, n_select = None):\n",
    "        self.estimator  = clone(estimator)\n",
    "        self.n_select = n_select\n",
    "        \n",
    "    def fit(self, X, y):\n",
    "        self.n_features_ori = X.shape[1]\n",
    "        result = np.ones(self.n_features_ori, dtype=int)\n",
    "        \n",
    "        if self.n_select is None:\n",
    "            self.n_features = self.n_features_ori//2\n",
    "        else:\n",
    "            self.n_features = self.n_select\n",
    "        \n",
    "        n = 0\n",
    "        while n < self.n_features_ori - self.n_features:\n",
    "            self.estimator.fit(X * np.array(result==1, dtype = int), y)\n",
    "            try:\n",
    "                rk = np.argsort(self.estimator.feature_importances_)\n",
    "            except:\n",
    "                rk = np.argsort(np.square(self.estimator.coef_.flatten()))\n",
    "            \n",
    "            min_idx = rk[:n+1]\n",
    "            result[min_idx] += 1 \n",
    "            n += 1\n",
    "       \n",
    "        self.ranking = result\n",
    "        self.support = result == 1\n",
    "        \n",
    "        return None\n",
    "    \n",
    "    def transform(self, X):\n",
    "        return X[:, self.support]\n",
    "        \n",
    "    def fit_transform(self, X, y):\n",
    "        if y is None:\n",
    "            return self.fit(X).transform(X)\n",
    "        else:\n",
    "            return self.fit(X, y).transform(X)"
   ]
  },
  {
   "cell_type": "code",
   "execution_count": 147,
   "metadata": {},
   "outputs": [],
   "source": [
    "rfe0 = rfe(model, n_select=5)\n",
    "rfe0.fit(X_train, y_train)"
   ]
  },
  {
   "cell_type": "code",
   "execution_count": 148,
   "metadata": {},
   "outputs": [
    {
     "data": {
      "text/plain": [
       "array([1, 8, 6, 9, 3, 1, 4, 1, 7, 2, 1, 5, 1])"
      ]
     },
     "execution_count": 148,
     "metadata": {},
     "output_type": "execute_result"
    }
   ],
   "source": [
    "rfe0.ranking"
   ]
  },
  {
   "cell_type": "markdown",
   "metadata": {},
   "source": [
    "### comparison"
   ]
  },
  {
   "cell_type": "code",
   "execution_count": 149,
   "metadata": {},
   "outputs": [
    {
     "data": {
      "text/plain": [
       "True"
      ]
     },
     "execution_count": 149,
     "metadata": {},
     "output_type": "execute_result"
    }
   ],
   "source": [
    "np.alltrue(rfe0.ranking == rfe_.ranking_)"
   ]
  },
  {
   "cell_type": "code",
   "execution_count": 150,
   "metadata": {},
   "outputs": [
    {
     "data": {
      "text/plain": [
       "True"
      ]
     },
     "execution_count": 150,
     "metadata": {},
     "output_type": "execute_result"
    }
   ],
   "source": [
    "np.alltrue(rfe0.transform(X_train)==rfe_.transform(X_train))"
   ]
  },
  {
   "cell_type": "markdown",
   "metadata": {},
   "source": [
    "## Sequencial Feature Selection: forward and backward"
   ]
  },
  {
   "cell_type": "markdown",
   "metadata": {},
   "source": [
    "### by sklearn"
   ]
  },
  {
   "cell_type": "code",
   "execution_count": 15,
   "metadata": {},
   "outputs": [],
   "source": [
    "sfs_ = SequentialFeatureSelector(estimator=model_lr, direction='backward', )"
   ]
  },
  {
   "cell_type": "code",
   "execution_count": 16,
   "metadata": {},
   "outputs": [
    {
     "data": {
      "text/plain": [
       "array([False, False, False, False,  True,  True, False,  True, False,\n",
       "       False,  True,  True,  True])"
      ]
     },
     "execution_count": 16,
     "metadata": {},
     "output_type": "execute_result"
    }
   ],
   "source": [
    "sfs_.fit(X_train, y_train)\n",
    "\n",
    "sfs_.support_"
   ]
  },
  {
   "cell_type": "markdown",
   "metadata": {},
   "source": [
    "### implementation"
   ]
  },
  {
   "cell_type": "code",
   "execution_count": 9,
   "metadata": {},
   "outputs": [],
   "source": [
    "class sfs:\n",
    "    def __init__(self, estimator, n_select = None, stop_when_best = False,cv = 5, direction = 'forward'):\n",
    "        self.estimator = clone(estimator)\n",
    "        self.n_select = n_select\n",
    "        self.cv = cv\n",
    "        self.direction = direction\n",
    "        self.stop_when_best = stop_when_best\n",
    "    \n",
    "    def fit(self, X, y):\n",
    "        self.n_features_ori = X.shape[1]\n",
    "        if self.n_select is None:\n",
    "            self.n_features = self.n_features_ori//2\n",
    "        else:\n",
    "            self.n_features = self.n_select\n",
    "        if self.direction == 'backward':\n",
    "            self.n_features = self.n_features_ori - self.n_features\n",
    "        \n",
    "        self.support = np.zeros(self.n_features_ori, dtype = bool)\n",
    "        \n",
    "        self.scores = np.array([])\n",
    "        \n",
    "        for _ in range(self.n_features):\n",
    "            non_selected = np.flatnonzero(~self.support)\n",
    "            dict_score = dict()\n",
    "            for f in non_selected:\n",
    "                candidates = self.support.copy()\n",
    "                candidates[f] = True\n",
    "                if self.direction == 'backward':\n",
    "                    candidates = ~candidates\n",
    "                cvs = cross_val_score(estimator=self.estimator, X = X[:, candidates], y= y, cv=self.cv).mean()\n",
    "                dict_score[f] = cvs\n",
    "            selected = max(dict_score, key=lambda x: dict_score[x])\n",
    "            \n",
    "            self.scores = np.append(self.scores, dict_score[selected])\n",
    "            \n",
    "            if self.stop_when_best:\n",
    "                if self.scores.size<2:\n",
    "                    self.support[selected] = True\n",
    "                else:\n",
    "                    if self.scores[-1] > self.scores[-2]:\n",
    "                        self.support[selected] = True\n",
    "                    else:\n",
    "                        break\n",
    "            else:\n",
    "                self.support[selected] = True\n",
    "            \n",
    "        self.best_n_select = np.argmax(self.scores) + 1\n",
    "        if self.direction == 'backward':\n",
    "            self.support = ~self.support\n",
    "            \n",
    "        return None\n",
    "    \n",
    "    def transform(self, X):\n",
    "        return X[:, self.support]\n",
    "    \n",
    "    def fit_transform(self, X, y):\n",
    "        if y is None:\n",
    "            return self.fit(X).transform(X)\n",
    "        else:\n",
    "            return self.fit(X, y).transform(X)"
   ]
  },
  {
   "cell_type": "code",
   "execution_count": 12,
   "metadata": {},
   "outputs": [
    {
     "data": {
      "text/plain": [
       "array([False, False, False, False,  True,  True, False,  True, False,\n",
       "       False,  True,  True,  True])"
      ]
     },
     "execution_count": 12,
     "metadata": {},
     "output_type": "execute_result"
    }
   ],
   "source": [
    "sfs0 = sfs(estimator=model_lr, direction='backward', )\n",
    "sfs0.fit(X_train, y_train)\n",
    "\n",
    "sfs0.support"
   ]
  },
  {
   "cell_type": "markdown",
   "metadata": {},
   "source": [
    "### comparison: backward"
   ]
  },
  {
   "cell_type": "code",
   "execution_count": 17,
   "metadata": {},
   "outputs": [
    {
     "data": {
      "text/plain": [
       "True"
      ]
     },
     "execution_count": 17,
     "metadata": {},
     "output_type": "execute_result"
    }
   ],
   "source": [
    "np.alltrue(sfs_.support_ == sfs0.support)"
   ]
  },
  {
   "cell_type": "code",
   "execution_count": 18,
   "metadata": {},
   "outputs": [
    {
     "data": {
      "text/plain": [
       "True"
      ]
     },
     "execution_count": 18,
     "metadata": {},
     "output_type": "execute_result"
    }
   ],
   "source": [
    "np.alltrue(sfs_.transform(X_train)==sfs0.transform(X_train))"
   ]
  },
  {
   "cell_type": "code",
   "execution_count": 19,
   "metadata": {},
   "outputs": [
    {
     "data": {
      "text/plain": [
       "array([0.7256365 , 0.72601528, 0.72612216, 0.72353299, 0.71988332,\n",
       "       0.71780413, 0.71291874])"
      ]
     },
     "execution_count": 19,
     "metadata": {},
     "output_type": "execute_result"
    }
   ],
   "source": [
    "sfs0.scores"
   ]
  },
  {
   "cell_type": "code",
   "execution_count": 37,
   "metadata": {},
   "outputs": [
    {
     "data": {
      "text/plain": [
       "3"
      ]
     },
     "execution_count": 37,
     "metadata": {},
     "output_type": "execute_result"
    }
   ],
   "source": [
    "sfs0.best_n_select"
   ]
  },
  {
   "cell_type": "code",
   "execution_count": 11,
   "metadata": {},
   "outputs": [
    {
     "data": {
      "text/plain": [
       "array([ True, False, False,  True,  True,  True, False,  True,  True,\n",
       "        True,  True,  True,  True])"
      ]
     },
     "execution_count": 11,
     "metadata": {},
     "output_type": "execute_result"
    }
   ],
   "source": [
    "sfs1 = sfs(estimator=model_lr, direction='backward', stop_when_best= True)\n",
    "sfs1.fit(X_train, y_train)\n",
    "\n",
    "sfs1.support"
   ]
  },
  {
   "cell_type": "code",
   "execution_count": 20,
   "metadata": {},
   "outputs": [
    {
     "data": {
      "text/plain": [
       "array([0.7256365 , 0.72601528, 0.72612216, 0.72353299])"
      ]
     },
     "execution_count": 20,
     "metadata": {},
     "output_type": "execute_result"
    }
   ],
   "source": [
    "sfs1.scores"
   ]
  },
  {
   "cell_type": "markdown",
   "metadata": {},
   "source": [
    "### comparison: forward"
   ]
  },
  {
   "cell_type": "code",
   "execution_count": 16,
   "metadata": {},
   "outputs": [
    {
     "data": {
      "text/plain": [
       "True"
      ]
     },
     "execution_count": 16,
     "metadata": {},
     "output_type": "execute_result"
    }
   ],
   "source": [
    "sfs_ = SequentialFeatureSelector(estimator=model_lr, direction='forward', )\n",
    "sfs_.fit(X_train, y_train)\n",
    "\n",
    "sfs0 = sfs(estimator=model_lr, direction='forward', )\n",
    "sfs0.fit(X_train, y_train)\n",
    "\n",
    "np.alltrue(sfs_.support_ == sfs0.support)"
   ]
  },
  {
   "cell_type": "markdown",
   "metadata": {},
   "source": [
    "## Select from model"
   ]
  },
  {
   "cell_type": "markdown",
   "metadata": {},
   "source": [
    "### by sklearn"
   ]
  },
  {
   "cell_type": "code",
   "execution_count": 174,
   "metadata": {},
   "outputs": [],
   "source": [
    "sfm = SelectFromModel(estimator=model, threshold='mean')"
   ]
  },
  {
   "cell_type": "code",
   "execution_count": 175,
   "metadata": {},
   "outputs": [
    {
     "data": {
      "text/plain": [
       "array([False, False, False, False, False,  True, False, False, False,\n",
       "       False, False, False,  True])"
      ]
     },
     "execution_count": 175,
     "metadata": {},
     "output_type": "execute_result"
    }
   ],
   "source": [
    "sfm.fit(X_train, y_train)\n",
    "\n",
    "sfm.get_support()"
   ]
  },
  {
   "cell_type": "code",
   "execution_count": 176,
   "metadata": {},
   "outputs": [
    {
     "data": {
      "text/plain": [
       "0.07692307692307693"
      ]
     },
     "execution_count": 176,
     "metadata": {},
     "output_type": "execute_result"
    }
   ],
   "source": [
    "sfm.threshold_"
   ]
  },
  {
   "cell_type": "markdown",
   "metadata": {},
   "source": [
    "### implementation"
   ]
  },
  {
   "cell_type": "code",
   "execution_count": 183,
   "metadata": {},
   "outputs": [],
   "source": [
    "class SFM:\n",
    "    def __init__(self, estimator, strategy='mean'):\n",
    "        self.estimator = clone(estimator)\n",
    "        self.strategy = strategy\n",
    "    \n",
    "    def fit(self, X, y):\n",
    "        self.estimator.fit(X, y)\n",
    "        \n",
    "        try:\n",
    "            self.importance = self.estimator.feature_importances_\n",
    "        except:\n",
    "            self.importance = np.abs(self.estimator.coef_.flatten())\n",
    "            \n",
    "        if self.strategy == 'mean':\n",
    "            self.threshold = self.importance.mean()\n",
    "        elif self.strategy == 'median':\n",
    "            self.threshold = np.median(self.importance)\n",
    "        else:\n",
    "            self.threshold = self.strategy.copy()\n",
    "            \n",
    "        self.support = self.importance >= self.threshold\n",
    "        return None\n",
    "    \n",
    "    def transform(self, X):\n",
    "        return X[:, self.support]\n",
    "    \n",
    "    def fit_transform(self, X, y):\n",
    "        return self.fit(X, y).transform(X)"
   ]
  },
  {
   "cell_type": "code",
   "execution_count": 184,
   "metadata": {},
   "outputs": [],
   "source": [
    "sfm0 = SFM(estimator=model, strategy='mean')"
   ]
  },
  {
   "cell_type": "code",
   "execution_count": 187,
   "metadata": {},
   "outputs": [
    {
     "data": {
      "text/plain": [
       "array([False, False, False, False, False,  True, False, False, False,\n",
       "       False, False, False,  True])"
      ]
     },
     "execution_count": 187,
     "metadata": {},
     "output_type": "execute_result"
    }
   ],
   "source": [
    "sfm0.fit(X_train, y_train)\n",
    "\n",
    "sfm0.support"
   ]
  },
  {
   "cell_type": "markdown",
   "metadata": {},
   "source": [
    "### comparison"
   ]
  },
  {
   "cell_type": "code",
   "execution_count": 189,
   "metadata": {},
   "outputs": [
    {
     "data": {
      "text/plain": [
       "True"
      ]
     },
     "execution_count": 189,
     "metadata": {},
     "output_type": "execute_result"
    }
   ],
   "source": [
    "np.alltrue(sfm.get_support() == sfm0.support)"
   ]
  },
  {
   "cell_type": "code",
   "execution_count": 190,
   "metadata": {},
   "outputs": [
    {
     "data": {
      "text/plain": [
       "True"
      ]
     },
     "execution_count": 190,
     "metadata": {},
     "output_type": "execute_result"
    }
   ],
   "source": [
    "np.alltrue(sfm.transform(X_train) == sfm0.transform(X_train))"
   ]
  },
  {
   "cell_type": "code",
   "execution_count": null,
   "metadata": {},
   "outputs": [],
   "source": []
  }
 ],
 "metadata": {
  "kernelspec": {
   "display_name": "Python 3",
   "language": "python",
   "name": "python3"
  },
  "language_info": {
   "codemirror_mode": {
    "name": "ipython",
    "version": 3
   },
   "file_extension": ".py",
   "mimetype": "text/x-python",
   "name": "python",
   "nbconvert_exporter": "python",
   "pygments_lexer": "ipython3",
   "version": "3.8.5"
  },
  "widgets": {
   "application/vnd.jupyter.widget-state+json": {
    "state": {},
    "version_major": 2,
    "version_minor": 0
   }
  }
 },
 "nbformat": 4,
 "nbformat_minor": 4
}
