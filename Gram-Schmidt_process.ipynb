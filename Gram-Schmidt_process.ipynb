{
 "cells": [
  {
   "cell_type": "markdown",
   "metadata": {},
   "source": [
    "# Implementation"
   ]
  },
  {
   "cell_type": "code",
   "execution_count": 1,
   "metadata": {},
   "outputs": [],
   "source": [
    "import numpy as np\n",
    "import pandas as pd\n",
    "import matplotlib.pyplot as plt\n",
    "import seaborn as sns\n",
    "import scipy"
   ]
  },
  {
   "cell_type": "code",
   "execution_count": 2,
   "metadata": {},
   "outputs": [],
   "source": [
    "from sklearn.decomposition import PCA\n",
    "from sklearn.model_selection import train_test_split\n",
    "from sklearn.datasets import make_classification\n",
    "from sklearn.preprocessing import StandardScaler, MinMaxScaler, RobustScaler\n",
    "from sklearn.metrics.pairwise import cosine_similarity"
   ]
  },
  {
   "cell_type": "markdown",
   "metadata": {},
   "source": [
    "## Gram_schmidt process\n",
    "\n",
    "$\\large \\displaystyle \\mathrm{V} = \\begin{pmatrix} \\mathbf{v}_1 &\\mathbf{v}_2 & \\cdots & \\mathbf{v}_p \\end{pmatrix}$\n",
    ", where  $\\mathbf{v}_i$ for $i \\in \\{1,2,\\dots,p\\}$ are column vectors.\n",
    "\n",
    "$\\large \\begin{align}  \\mathbf{u}_1 &= \\mathbf{v}_1 \\\\ \\mathbf{u}_2 &= \\mathbf{v}_2 - \\frac{\\left\\langle \\mathbf{u}_1, \\mathbf{v}_2 \\right\\rangle}{\\left\\langle \\mathbf{u}_1, \\mathbf{u}_1 \\right\\rangle} \\mathbf{u}_1\\\\ \\mathbf{u}_3 &= \\mathbf{v}_3- \\frac{\\left\\langle \\mathbf{u}_2, \\mathbf{v}_3 \\right\\rangle}{\\left\\langle \\mathbf{u}_2, \\mathbf{u}_2\\right\\rangle} \\mathbf{u}_2 - \\frac{\\left\\langle \\mathbf{u}_1, \\mathbf{v}_3 \\right\\rangle}{\\left\\langle \\mathbf{u}_1, \\mathbf{u}_1\\right\\rangle} \\mathbf{u}_1\\\\ &\\ \\vdots \\nonumber \\\\\\mathbf{u}_p &= \\mathbf{v}_p - \\sum^{p-1}_{i=1} \\frac{\\langle \\mathbf{u}_i, \\mathbf{v}_p \\rangle}{\\left\\langle \\mathbf{u}_i, \\mathbf{u}_i\\right\\rangle} \\mathbf{u}_i\\\\\n",
    "\\end{align} $\n",
    "\n",
    "The orthogonal column vectors matrix is\n",
    "\n",
    "$\\large \\therefore \\mathrm{U} = \\begin{pmatrix} \\mathbf{u}_1 & \\mathbf{u}_2 &\\cdots & \\mathbf{u}_p \\end{pmatrix}$"
   ]
  },
  {
   "cell_type": "code",
   "execution_count": 3,
   "metadata": {},
   "outputs": [],
   "source": [
    "class gram_schmidt:\n",
    "    '''def __init__(self, X):\n",
    "        self.X = X.astype(float)'''\n",
    "        \n",
    "    def _proj(self, u, v):\n",
    "        return (np.vdot(v, u) / np.vdot(u,u))*u\n",
    "    \n",
    "    def fit_transform(self, X, col_vec = True, normal = True):\n",
    "        X = X.astype(float)\n",
    "        if col_vec:\n",
    "            mat = X.copy()\n",
    "        else:\n",
    "            mat = (X.T).copy()\n",
    "        \n",
    "        N = mat.shape[1]\n",
    "        mat_orth = np.array([]).reshape(mat.shape[0], -1)\n",
    "        for n in range(N):\n",
    "            u = mat[:, n:n+1].copy()\n",
    "            if n ==0:\n",
    "                mat_orth = np.hstack((mat_orth,u))\n",
    "            else:\n",
    "                for i in range(n):\n",
    "                    u -= self._proj(mat_orth[:, i:i+1], mat[:, n:n+1])\n",
    "                mat_orth = np.hstack((mat_orth,u))\n",
    "        \n",
    "        if normal:\n",
    "            result = mat_orth / np.linalg.norm(mat_orth, axis=0)\n",
    "            if col_vec:\n",
    "                return result\n",
    "            else:\n",
    "                return result.T\n",
    "        else:\n",
    "            if col_vec:\n",
    "                return mat_orth\n",
    "            else:\n",
    "                return mat_orth.T"
   ]
  },
  {
   "cell_type": "markdown",
   "metadata": {},
   "source": [
    "# Example"
   ]
  },
  {
   "cell_type": "code",
   "execution_count": 4,
   "metadata": {},
   "outputs": [],
   "source": [
    "col_vecs = np.array([[2,1], [1,2]])"
   ]
  },
  {
   "cell_type": "code",
   "execution_count": 5,
   "metadata": {},
   "outputs": [],
   "source": [
    "gs= gram_schmidt()\n",
    "col_vecs_orthonorm = gs.fit_transform(col_vecs)"
   ]
  },
  {
   "cell_type": "code",
   "execution_count": 28,
   "metadata": {},
   "outputs": [],
   "source": [
    "x = np.arange(-1,1,.00001)"
   ]
  },
  {
   "cell_type": "code",
   "execution_count": 32,
   "metadata": {},
   "outputs": [
    {
     "data": {
      "image/png": "[encoded data removed]",
      "text/plain": [
       "<Figure size 720x720 with 1 Axes>"
      ]
     },
     "metadata": {
      "needs_background": "light"
     },
     "output_type": "display_data"
    }
   ],
   "source": [
    "fig, ax = plt.subplots(1,1, figsize=(10,10))\n",
    "ax.set_aspect(1)\n",
    "ax.plot(np.vstack(([0,0], col_vecs[:,0]))[:,0], np.vstack(([0,0], col_vecs[:,0]))[:,1],  label='v1')\n",
    "ax.plot(np.vstack(([0,0], col_vecs[:,1]))[:,0], np.vstack(([0,0], col_vecs[:,1]))[:,1], label='v2')\n",
    "ax.scatter(x, np.sqrt(1-x**2), s=.1, color='k', label='half unit circle')\n",
    "\n",
    "ax.plot(np.vstack(([0,0], col_vecs_orthonorm[:,0]))[:,0], np.vstack(([0,0], col_vecs_orthonorm[:,0]))[:,1], label='v1_orthonorm', linewidth = 4)\n",
    "ax.plot(np.vstack(([0,0], col_vecs_orthonorm[:,1]))[:,0], np.vstack(([0,0], col_vecs_orthonorm[:,1]))[:,1], label='v2_orthonorm', linewidth = 4)\n",
    "plt.legend(fontsize=12)\n",
    "plt.show()"
   ]
  },
  {
   "cell_type": "code",
   "execution_count": null,
   "metadata": {},
   "outputs": [],
   "source": []
  }
 ],
 "metadata": {
  "kernelspec": {
   "display_name": "Python 3",
   "language": "python",
   "name": "python3"
  },
  "language_info": {
   "codemirror_mode": {
    "name": "ipython",
    "version": 3
   },
   "file_extension": ".py",
   "mimetype": "text/x-python",
   "name": "python",
   "nbconvert_exporter": "python",
   "pygments_lexer": "ipython3",
   "version": "3.8.5"
  },
  "widgets": {
   "application/vnd.jupyter.widget-state+json": {
    "state": {},
    "version_major": 2,
    "version_minor": 0
   }
  }
 },
 "nbformat": 4,
 "nbformat_minor": 4
}
