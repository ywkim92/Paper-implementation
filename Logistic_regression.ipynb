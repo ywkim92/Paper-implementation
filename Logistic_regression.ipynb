{
 "cells": [
  {
   "cell_type": "code",
   "execution_count": 1,
   "metadata": {},
   "outputs": [],
   "source": [
    "import numpy as np\n",
    "import pandas as pd\n",
    "import matplotlib.pyplot as plt\n",
    "import seaborn as sns\n",
    "\n",
    "from scipy.stats import t, f, norm"
   ]
  },
  {
   "cell_type": "code",
   "execution_count": 132,
   "metadata": {},
   "outputs": [],
   "source": [
    "from sklearn.datasets import load_breast_cancer\n",
    "from sklearn.linear_model import LogisticRegression\n",
    "from sklearn.feature_selection import RFE, RFECV, SelectFromModel, SequentialFeatureSelector\n",
    "from sklearn.model_selection import train_test_split, KFold\n",
    "from sklearn.metrics import f1_score, precision_score, recall_score, roc_curve, roc_auc_score\n",
    "from sklearn.preprocessing import StandardScaler, MinMaxScaler, RobustScaler, PolynomialFeatures"
   ]
  },
  {
   "cell_type": "code",
   "execution_count": 3,
   "metadata": {},
   "outputs": [],
   "source": [
    "from scipy.optimize import brent, fsolve, fminbound"
   ]
  },
  {
   "cell_type": "code",
   "execution_count": 4,
   "metadata": {},
   "outputs": [],
   "source": [
    "def prob(beta, data, intercept_included=False):\n",
    "    if intercept_included==False:\n",
    "        data = np.append(1, data)\n",
    "    return 1/(1+np.exp(-(beta*data).sum()))"
   ]
  },
  {
   "cell_type": "code",
   "execution_count": 5,
   "metadata": {},
   "outputs": [],
   "source": [
    "def llf(beta, data, label, intercept_included=False):\n",
    "    value = 0\n",
    "    for i in range(label.size):\n",
    "        pi = prob(beta, data[i], intercept_included=intercept_included)\n",
    "        value += label[i]*np.log(pi) + (1 - label[i])*np.log(1-pi)\n",
    "    return -value"
   ]
  },
  {
   "cell_type": "code",
   "execution_count": 45,
   "metadata": {},
   "outputs": [],
   "source": [
    "def llf(beta, data, label, intercept_included=False):\n",
    "    target = np.array([-1 if i ==0 else 1 for i in label.values])\n",
    "    value =sum( np.log(1/(1+np.exp(-(target*(data.dot(beta)))))) )\n",
    "    return -value"
   ]
  },
  {
   "cell_type": "markdown",
   "metadata": {},
   "source": [
    "# Load data"
   ]
  },
  {
   "cell_type": "code",
   "execution_count": 4,
   "metadata": {},
   "outputs": [],
   "source": [
    "data = load_breast_cancer()\n",
    "X, y, feature_names,  = data['data'], 1 - data['target'], data['feature_names']\n"
   ]
  },
  {
   "cell_type": "code",
   "execution_count": 189,
   "metadata": {},
   "outputs": [],
   "source": [
    "X_train, X_test, y_train, y_test = train_test_split(pd.DataFrame(X, columns = feature_names), pd.Series(y, name='label'), test_size = .2, random_state=42)"
   ]
  },
  {
   "cell_type": "code",
   "execution_count": 249,
   "metadata": {},
   "outputs": [],
   "source": [
    "scaler = StandardScaler()\n",
    "\n",
    "X_train = scaler.fit_transform(X_train)\n",
    "X_test = scaler.transform(X_test)"
   ]
  },
  {
   "cell_type": "markdown",
   "metadata": {},
   "source": [
    "# Train: Logistic Regression"
   ]
  },
  {
   "cell_type": "code",
   "execution_count": 165,
   "metadata": {},
   "outputs": [],
   "source": [
    "def irls(data, label, cost_cutoff, C=1.,max_iter = 100):\n",
    "    b0_init = np.log(label.values.mean()/(1- label.values.mean()))\n",
    "    w = np.array([b0_init]+[.0]*(data.shape[1]))\n",
    "    x = np.hstack((np.ones((data.shape[0], 1)), data))\n",
    "    mu = 1/(1+np.exp(-x.dot(w)))\n",
    "    \n",
    "    s = np.zeros((data.shape[0], data.shape[0]))\n",
    "    np.fill_diagonal(s, [i*(1-i) for i in mu])\n",
    "    cost = 0\n",
    "    n_i = 0\n",
    "    \n",
    "    for n_iter in range(max_iter):\n",
    "        w_0 = w\n",
    "        w = np.linalg.inv( (x.T).dot(s.dot(x)) ).dot(x.T).dot( s.dot(x.dot(w)) + label.values - mu )\n",
    "        c = C*llf(w, x, label) + w.dot(w)/2\n",
    "        \n",
    "        if n_iter==0:\n",
    "            cost = c\n",
    "            print(cost)\n",
    "            n_i +=1\n",
    "            mu = 1/(1+np.exp(-x.dot(w)))\n",
    "            np.fill_diagonal(s, [i*(1-i) for i in mu])\n",
    "        else:\n",
    "            if (c>cost)|(c!=c)|(c<cost_cutoff):\n",
    "                w = w_0\n",
    "                print(cost, c)\n",
    "                break\n",
    "            else:\n",
    "                cost = c\n",
    "                n_i +=1\n",
    "                print(cost)\n",
    "                mu =1/(1+np.exp(-x.dot(w)))\n",
    "                np.fill_diagonal(s, [i*(1-i) for i in mu])\n",
    "    print(n_i)\n",
    "    return w"
   ]
  },
  {
   "cell_type": "code",
   "execution_count": 191,
   "metadata": {},
   "outputs": [
    {
     "name": "stdout",
     "output_type": "stream",
     "text": [
      "122.80797888601299\n",
      "101.63656819086447\n",
      "101.63656819086447 129.37129054490492\n",
      "2\n"
     ]
    }
   ],
   "source": [
    "beta0 = irls(X_train, y_train, cost_cutoff=.1,C=1.)"
   ]
  },
  {
   "cell_type": "code",
   "execution_count": 192,
   "metadata": {},
   "outputs": [],
   "source": [
    "n_samp = 22"
   ]
  },
  {
   "cell_type": "code",
   "execution_count": 193,
   "metadata": {},
   "outputs": [
    {
     "name": "stdout",
     "output_type": "stream",
     "text": [
      "0.9736842105263158\n"
     ]
    }
   ],
   "source": [
    "model = LogisticRegression()\n",
    "model.fit(X_train, y_train)\n",
    "\n",
    "pred = model.predict(X_test)\n",
    "pred_proba = model.predict_proba(X_test)\n",
    "\n",
    "print(model.score(X_test, y_test))"
   ]
  },
  {
   "cell_type": "code",
   "execution_count": 194,
   "metadata": {},
   "outputs": [
    {
     "data": {
      "text/plain": [
       "(0.9644632047191988, 1.4172010046049443e-66)"
      ]
     },
     "execution_count": 194,
     "metadata": {},
     "output_type": "execute_result"
    }
   ],
   "source": [
    "from scipy.stats import pearsonr\n",
    "n_feat = X_train.shape[1]\n",
    "ll = [np.exp((beta0[1:]*X_test[n_samp, :n_feat]).sum()  + beta0[0]) / (1+np.exp((beta0[1:]*X_test[n_samp, :n_feat]).sum()  + beta0[0])) for n_samp in range(X_test.shape[0])]\n",
    "pearsonr(ll, pred_proba[:,1])"
   ]
  },
  {
   "cell_type": "code",
   "execution_count": 195,
   "metadata": {},
   "outputs": [],
   "source": [
    "threshold = .5\n",
    "ll1 = [1 if i >=threshold else 0 for i in ll]"
   ]
  },
  {
   "cell_type": "code",
   "execution_count": 196,
   "metadata": {},
   "outputs": [
    {
     "data": {
      "text/plain": [
       "0.9473684210526315"
      ]
     },
     "execution_count": 196,
     "metadata": {},
     "output_type": "execute_result"
    }
   ],
   "source": [
    "sum(1 for i in np.array(ll1)==y_test.values if i==True)/y_test.size"
   ]
  },
  {
   "cell_type": "code",
   "execution_count": 197,
   "metadata": {},
   "outputs": [
    {
     "data": {
      "image/png": "[encoded data removed]",
      "text/plain": [
       "<Figure size 720x720 with 1 Axes>"
      ]
     },
     "metadata": {
      "needs_background": "light"
     },
     "output_type": "display_data"
    }
   ],
   "source": [
    "\n",
    "fig, ax = plt.subplots(figsize=(10,10))\n",
    "ax.set_aspect(1)\n",
    "ax.axline((.5,0), (.5,1), color='k', linewidth=1)\n",
    "ax.axline((.0,.5), (.5,.5), color='k', linewidth=1)\n",
    "ax.axline((0,0), (1,1))\n",
    "ax.scatter(pred_proba[:,1], ll, s=5, marker = 'o')\n",
    "ax.scatter(pred_proba[:,1], y_test.values, s=1, marker = 'v', color='r')\n",
    "plt.show()"
   ]
  },
  {
   "cell_type": "code",
   "execution_count": 198,
   "metadata": {},
   "outputs": [
    {
     "data": {
      "image/png": "[encoded data removed]",
      "text/plain": [
       "<Figure size 432x288 with 1 Axes>"
      ]
     },
     "metadata": {
      "needs_background": "light"
     },
     "output_type": "display_data"
    }
   ],
   "source": [
    "plt.hist(pred_proba[:,1] - ll, bins=50)\n",
    "plt.show()"
   ]
  },
  {
   "cell_type": "code",
   "execution_count": 482,
   "metadata": {},
   "outputs": [
    {
     "name": "stdout",
     "output_type": "stream",
     "text": [
      "0.9736842105263158\n"
     ]
    }
   ],
   "source": [
    "model = LogisticRegression(solver='lbfgs', )\n",
    "n_feat = X_train.shape[1]\n",
    "model.fit(X_train[:,0:n_feat], y_train)\n",
    "\n",
    "pred = model.predict(X_test[:,0:n_feat])\n",
    "pred_proba = model.predict_proba(X_test[:,0:n_feat])\n",
    "\n",
    "print(model.score(X_test[:,0:n_feat], y_test))"
   ]
  },
  {
   "cell_type": "code",
   "execution_count": 286,
   "metadata": {},
   "outputs": [
    {
     "data": {
      "text/plain": [
       "array([-0.83038453,  1.13449565,  1.33196438,  1.70486497,  1.39460431,\n",
       "        1.62601918])"
      ]
     },
     "execution_count": 286,
     "metadata": {},
     "output_type": "execute_result"
    }
   ],
   "source": [
    "np.append(model.intercept_, model.coef_.flatten())"
   ]
  },
  {
   "cell_type": "code",
   "execution_count": 342,
   "metadata": {},
   "outputs": [
    {
     "data": {
      "text/plain": [
       "array([0.89918048, 0.10081952])"
      ]
     },
     "execution_count": 342,
     "metadata": {},
     "output_type": "execute_result"
    }
   ],
   "source": [
    "pred_proba[3]"
   ]
  },
  {
   "cell_type": "code",
   "execution_count": 272,
   "metadata": {},
   "outputs": [],
   "source": [
    "def llf_neg(b_p, b_idx, data, label):\n",
    "    beta = np.append(model.intercept_, model.coef_.flatten()[:1])\n",
    "    beta[b_idx] = b_p\n",
    "    return -llf(beta, data, label)"
   ]
  },
  {
   "cell_type": "code",
   "execution_count": 274,
   "metadata": {},
   "outputs": [
    {
     "data": {
      "text/plain": [
       "-0.6437241565018229"
      ]
     },
     "execution_count": 274,
     "metadata": {},
     "output_type": "execute_result"
    }
   ],
   "source": [
    "brent(llf_neg, args=(0, X_train[:, :1], y_train.values), brack=(-2,2))"
   ]
  },
  {
   "cell_type": "code",
   "execution_count": 32,
   "metadata": {},
   "outputs": [],
   "source": [
    "lis = list(llf([1, i], X_train[:,0:1], y_train.values) for i in np.linspace(-7,7,  100))"
   ]
  },
  {
   "cell_type": "code",
   "execution_count": 34,
   "metadata": {},
   "outputs": [
    {
     "data": {
      "text/plain": [
       "[<matplotlib.lines.Line2D at 0x2744e0892b0>]"
      ]
     },
     "execution_count": 34,
     "metadata": {},
     "output_type": "execute_result"
    },
    {
     "data": {
      "image/png": "[encoded data removed]",
      "text/plain": [
       "<Figure size 432x288 with 1 Axes>"
      ]
     },
     "metadata": {
      "needs_background": "light"
     },
     "output_type": "display_data"
    }
   ],
   "source": [
    "plt.plot(np.linspace(-7,7,  100), lis)"
   ]
  },
  {
   "cell_type": "code",
   "execution_count": 20,
   "metadata": {},
   "outputs": [],
   "source": [
    "logit = (model.coef_[0]*X_train[0, 0:1]).sum() + model.intercept_[0]\n"
   ]
  },
  {
   "cell_type": "code",
   "execution_count": 24,
   "metadata": {},
   "outputs": [
    {
     "data": {
      "text/plain": [
       "0.9518945843809761"
      ]
     },
     "execution_count": 24,
     "metadata": {},
     "output_type": "execute_result"
    }
   ],
   "source": [
    "1/(1+np.exp(-logit))"
   ]
  },
  {
   "cell_type": "code",
   "execution_count": 27,
   "metadata": {},
   "outputs": [
    {
     "data": {
      "text/plain": [
       "array([1.0449852])"
      ]
     },
     "execution_count": 27,
     "metadata": {},
     "output_type": "execute_result"
    }
   ],
   "source": [
    "X_train[0, 0:1]\n"
   ]
  },
  {
   "cell_type": "code",
   "execution_count": 26,
   "metadata": {},
   "outputs": [
    {
     "data": {
      "text/plain": [
       "<matplotlib.collections.PathCollection at 0x1a7eeec2670>"
      ]
     },
     "execution_count": 26,
     "metadata": {},
     "output_type": "execute_result"
    },
    {
     "data": {
      "image/png": "[encoded data removed]",
      "text/plain": [
       "<Figure size 432x288 with 1 Axes>"
      ]
     },
     "metadata": {
      "needs_background": "light"
     },
     "output_type": "display_data"
    }
   ],
   "source": [
    "plt.scatter(X_train[:,:1], y_train, s=5)"
   ]
  },
  {
   "cell_type": "code",
   "execution_count": 34,
   "metadata": {},
   "outputs": [
    {
     "name": "stdout",
     "output_type": "stream",
     "text": [
      "0.9736842105263158\n"
     ]
    }
   ],
   "source": [
    "model = LogisticRegression()\n",
    "model.fit(X_train, y_train)\n",
    "\n",
    "pred = model.predict(X_test)\n",
    "pred_proba = model.predict_proba(X_test)\n",
    "\n",
    "print(model.score(X_test, y_test))"
   ]
  },
  {
   "cell_type": "code",
   "execution_count": 40,
   "metadata": {},
   "outputs": [
    {
     "data": {
      "text/plain": [
       "0.13757253297880911"
      ]
     },
     "execution_count": 40,
     "metadata": {},
     "output_type": "execute_result"
    }
   ],
   "source": [
    "logit = (model.coef_[0]*X_test[0]).sum() + model.intercept_[0]\n",
    "np.e**(logit) / (1+np.e**(logit))"
   ]
  },
  {
   "cell_type": "code",
   "execution_count": 41,
   "metadata": {},
   "outputs": [
    {
     "data": {
      "text/plain": [
       "0.13757253297880903"
      ]
     },
     "execution_count": 41,
     "metadata": {},
     "output_type": "execute_result"
    }
   ],
   "source": [
    "pred_proba[0,1]"
   ]
  },
  {
   "cell_type": "code",
   "execution_count": null,
   "metadata": {},
   "outputs": [],
   "source": []
  }
 ],
 "metadata": {
  "kernelspec": {
   "display_name": "Python 3",
   "language": "python",
   "name": "python3"
  },
  "language_info": {
   "codemirror_mode": {
    "name": "ipython",
    "version": 3
   },
   "file_extension": ".py",
   "mimetype": "text/x-python",
   "name": "python",
   "nbconvert_exporter": "python",
   "pygments_lexer": "ipython3",
   "version": "3.8.5"
  },
  "widgets": {
   "application/vnd.jupyter.widget-state+json": {
    "state": {
     "003945bd12314c45981d069f8599d4a0": {
      "model_module": "@jupyter-widgets/controls",
      "model_module_version": "1.5.0",
      "model_name": "SelectMultipleModel",
      "state": {
       "_options_labels": [
        "남",
        "여"
       ],
       "description": "성별",
       "index": [
        0
       ],
       "layout": "IPY_MODEL_ef1df37c321a4b918756dd26e1349621",
       "rows": 2,
       "style": "IPY_MODEL_01b1f815fb624e87b1ea73b29264e70b"
      }
     },
     "009ad959e4d949fbbc1ce4f82214b7d2": {
      "model_module": "@jupyter-widgets/base",
      "model_module_version": "1.2.0",
      "model_name": "LayoutModel",
      "state": {}
     },
     "01b1f815fb624e87b1ea73b29264e70b": {
      "model_module": "@jupyter-widgets/controls",
      "model_module_version": "1.5.0",
      "model_name": "DescriptionStyleModel",
      "state": {
       "description_width": ""
      }
     },
     "04c3df8be36e467386a38167f8c06029": {
      "model_module": "@jupyter-widgets/controls",
      "model_module_version": "1.5.0",
      "model_name": "DescriptionStyleModel",
      "state": {
       "description_width": ""
      }
     },
     "058a4c3736d74762a6215ca8f749f536": {
      "model_module": "@jupyter-widgets/base",
      "model_module_version": "1.2.0",
      "model_name": "LayoutModel",
      "state": {}
     },
     "06013a9662874bf891fe22a949af959f": {
      "model_module": "@jupyter-widgets/base",
      "model_module_version": "1.2.0",
      "model_name": "LayoutModel",
      "state": {
       "width": "150px"
      }
     },
     "062fb7f61af04366a852b4de101d0439": {
      "model_module": "@jupyter-widgets/controls",
      "model_module_version": "1.5.0",
      "model_name": "SelectMultipleModel",
      "state": {
       "_options_labels": [
        "Apples",
        "Oranges",
        "Pears"
       ],
       "description": "약국명",
       "index": [
        1
       ],
       "layout": "IPY_MODEL_3de7acb4395a43968d9315c330fc24b5",
       "rows": 10,
       "style": "IPY_MODEL_692aa5697a1b4d2b84dd534d2bcbeee7"
      }
     },
     "067f78952db346909508bb1004c667e4": {
      "model_module": "@jupyter-widgets/controls",
      "model_module_version": "1.5.0",
      "model_name": "SelectMultipleModel",
      "state": {
       "_options_labels": [
        "남",
        "여"
       ],
       "description": "성별",
       "index": [
        0
       ],
       "layout": "IPY_MODEL_cf7c8dc075844ee2a034f2585881f96a",
       "rows": 2,
       "style": "IPY_MODEL_6da261a09ccb4221ba259f92e272314b"
      }
     },
     "06f75d0f65ae4420a1ac0e29b8908000": {
      "model_module": "@jupyter-widgets/base",
      "model_module_version": "1.2.0",
      "model_name": "LayoutModel",
      "state": {}
     },
     "0744ece4a2d1440abb308006c77300cb": {
      "model_module": "@jupyter-widgets/controls",
      "model_module_version": "1.5.0",
      "model_name": "SelectMultipleModel",
      "state": {
       "_options_labels": [
        "Apples",
        "Oranges",
        "Pears"
       ],
       "description": "약국명",
       "index": [
        1
       ],
       "layout": "IPY_MODEL_5fcd834db8514df0aa09445954bbfcbb",
       "rows": 10,
       "style": "IPY_MODEL_6bd36f3548654581816a826d82f73b6c"
      }
     },
     "0765784c29f341f19e7967051afb7d9d": {
      "model_module": "@jupyter-widgets/controls",
      "model_module_version": "1.5.0",
      "model_name": "DescriptionStyleModel",
      "state": {
       "description_width": ""
      }
     },
     "077bfdff8ad943aaa2a25f001b89d6ac": {
      "model_module": "@jupyter-widgets/controls",
      "model_module_version": "1.5.0",
      "model_name": "DescriptionStyleModel",
      "state": {
       "description_width": ""
      }
     },
     "09f9c437a6ea432ab77d2a5cccd94efe": {
      "model_module": "@jupyter-widgets/controls",
      "model_module_version": "1.5.0",
      "model_name": "SelectMultipleModel",
      "state": {
       "_options_labels": [
        "Apples",
        "Oranges",
        "Pears"
       ],
       "description": "Fruits",
       "index": [
        1
       ],
       "layout": "IPY_MODEL_0c1e0ba198a8458b95328dc5a2316cf8",
       "rows": 5,
       "style": "IPY_MODEL_1f2f4d7e1833469ab781b758f3724ffc"
      }
     },
     "09fb6718b3d24b0cbe8aaf0497202541": {
      "model_module": "@jupyter-widgets/controls",
      "model_module_version": "1.5.0",
      "model_name": "SelectMultipleModel",
      "state": {
       "_options_labels": [
        "남",
        "여"
       ],
       "description": "성별",
       "index": [
        0
       ],
       "layout": "IPY_MODEL_739841f16ac64afc9657aff3d30f9bd1",
       "rows": 2,
       "style": "IPY_MODEL_ae4491cc7e2148ebbfbaf8f8a90ac108"
      }
     },
     "0b789a582e5247a3b850585d29678bb2": {
      "model_module": "@jupyter-widgets/controls",
      "model_module_version": "1.5.0",
      "model_name": "SelectMultipleModel",
      "state": {
       "_options_labels": [
        "마름",
        "보통",
        "통통",
        "뚱뚱"
       ],
       "description": "고객체형",
       "index": [
        1
       ],
       "layout": "IPY_MODEL_5ad0a4924cee47d3bb087136ccbae08d",
       "rows": 4,
       "style": "IPY_MODEL_340a291d38b5458eb23e64e6e5b4be2d"
      }
     },
     "0c1e0ba198a8458b95328dc5a2316cf8": {
      "model_module": "@jupyter-widgets/base",
      "model_module_version": "1.2.0",
      "model_name": "LayoutModel",
      "state": {}
     },
     "0c5854273ea64be79c05cccd5a8ac2c7": {
      "model_module": "@jupyter-widgets/base",
      "model_module_version": "1.2.0",
      "model_name": "LayoutModel",
      "state": {}
     },
     "0d5ef4e03d104f94bd271ba4bbe84dae": {
      "model_module": "@jupyter-widgets/controls",
      "model_module_version": "1.5.0",
      "model_name": "ButtonStyleModel",
      "state": {}
     },
     "0d88b3961d3542ab9b6e73f130d52dbe": {
      "model_module": "@jupyter-widgets/base",
      "model_module_version": "1.2.0",
      "model_name": "LayoutModel",
      "state": {}
     },
     "0e4451bdabf8444fb7b28ebe84e4239c": {
      "model_module": "@jupyter-widgets/controls",
      "model_module_version": "1.5.0",
      "model_name": "HBoxModel",
      "state": {
       "children": [
        "IPY_MODEL_2d2e82045e184daaa0b65789d2378845",
        "IPY_MODEL_003945bd12314c45981d069f8599d4a0"
       ],
       "layout": "IPY_MODEL_8820978edb8a4ca8bb0550a8fd122218"
      }
     },
     "0ff81bef135140a5932ad948257be774": {
      "model_module": "@jupyter-widgets/controls",
      "model_module_version": "1.5.0",
      "model_name": "DescriptionStyleModel",
      "state": {
       "description_width": ""
      }
     },
     "1134cb311ffb4955a44fe7f407bd92a0": {
      "model_module": "@jupyter-widgets/controls",
      "model_module_version": "1.5.0",
      "model_name": "SelectMultipleModel",
      "state": {
       "_options_labels": [
        "마름",
        "보통",
        "통통",
        "뚱뚱"
       ],
       "description": "고객체형",
       "index": [
        1
       ],
       "layout": "IPY_MODEL_acbb7c8ab0c849bdb6471a0161f5903c",
       "rows": 4,
       "style": "IPY_MODEL_a082d7bc1415451e9676a779d8858d0b"
      }
     },
     "1135812258324df1a65dcab4af5cf52c": {
      "model_module": "@jupyter-widgets/controls",
      "model_module_version": "1.5.0",
      "model_name": "SelectMultipleModel",
      "state": {
       "_options_labels": [
        "Carrots",
        "Potatoes",
        "Tomatoes",
        "Carrots",
        "Potatoes",
        "Tomatoes",
        "Carrots",
        "Potatoes",
        "Tomatoes",
        "Carrots",
        "Potatoes",
        "Tomatoes",
        "Carrots",
        "Potatoes",
        "Tomatoes",
        "Carrots",
        "Potatoes",
        "Tomatoes",
        "Carrots",
        "Potatoes",
        "Tomatoes",
        "Carrots",
        "Potatoes",
        "Tomatoes",
        "Carrots",
        "Potatoes",
        "Tomatoes",
        "Carrots",
        "Potatoes",
        "Tomatoes"
       ],
       "description": "Veg",
       "index": [
        0
       ],
       "layout": "IPY_MODEL_bf6f910c14834ee6b7e7a7d61eb1380d",
       "rows": 5,
       "style": "IPY_MODEL_7211997d83e74d199df702cab94bf664"
      }
     },
     "11ea00d29a414cebb660a70428abd56f": {
      "model_module": "@jupyter-widgets/controls",
      "model_module_version": "1.5.0",
      "model_name": "DescriptionStyleModel",
      "state": {
       "description_width": ""
      }
     },
     "11f110e3ff904269b8e5472664facb6f": {
      "model_module": "@jupyter-widgets/base",
      "model_module_version": "1.2.0",
      "model_name": "LayoutModel",
      "state": {
       "width": "150px"
      }
     },
     "14324b34db0a4c64b2fb894d72a9da31": {
      "model_module": "@jupyter-widgets/controls",
      "model_module_version": "1.5.0",
      "model_name": "DescriptionStyleModel",
      "state": {
       "description_width": ""
      }
     },
     "14fba60e411640beb08dcd72eb071c74": {
      "model_module": "@jupyter-widgets/controls",
      "model_module_version": "1.5.0",
      "model_name": "SelectMultipleModel",
      "state": {
       "_options_labels": [
        "남",
        "여"
       ],
       "description": "성별",
       "index": [
        0
       ],
       "layout": "IPY_MODEL_bb1fdca0ad8047e6a1dc7c4526e3f949",
       "rows": 2,
       "style": "IPY_MODEL_970967eb7eba4229b1ac4cdd46562907"
      }
     },
     "184e970bc6c448e18be64dbd37ecd490": {
      "model_module": "@jupyter-widgets/controls",
      "model_module_version": "1.5.0",
      "model_name": "DescriptionStyleModel",
      "state": {
       "description_width": ""
      }
     },
     "1a964721888a4837a8b84d5bf40f1297": {
      "model_module": "@jupyter-widgets/base",
      "model_module_version": "1.2.0",
      "model_name": "LayoutModel",
      "state": {
       "width": "150px"
      }
     },
     "1b1ad018eb894469b19a28a0362a67b6": {
      "model_module": "@jupyter-widgets/controls",
      "model_module_version": "1.5.0",
      "model_name": "SelectMultipleModel",
      "state": {
       "_options_labels": [
        "Apples",
        "Oranges",
        "Pears"
       ],
       "description": "Fruits",
       "index": [
        1
       ],
       "layout": "IPY_MODEL_8ffb7b048acd421ab2985d3c3a54155c",
       "rows": 5,
       "style": "IPY_MODEL_de4b061dd46a4181b5eb68e25dfbc68d"
      }
     },
     "1b4e9e955ec841f88722b87f14082cb2": {
      "model_module": "@jupyter-widgets/base",
      "model_module_version": "1.2.0",
      "model_name": "LayoutModel",
      "state": {
       "width": "100px"
      }
     },
     "1d864f118c41474abf94032e2c8c9854": {
      "model_module": "@jupyter-widgets/controls",
      "model_module_version": "1.5.0",
      "model_name": "DescriptionStyleModel",
      "state": {
       "description_width": ""
      }
     },
     "1e7f01d29239404f8d4fb4557ef9da61": {
      "model_module": "@jupyter-widgets/base",
      "model_module_version": "1.2.0",
      "model_name": "LayoutModel",
      "state": {
       "width": "200px"
      }
     },
     "1f2f4d7e1833469ab781b758f3724ffc": {
      "model_module": "@jupyter-widgets/controls",
      "model_module_version": "1.5.0",
      "model_name": "DescriptionStyleModel",
      "state": {
       "description_width": ""
      }
     },
     "22f78607c1d04b41848711b8ad7bca5c": {
      "model_module": "@jupyter-widgets/base",
      "model_module_version": "1.2.0",
      "model_name": "LayoutModel",
      "state": {
       "width": "500px"
      }
     },
     "23b2843dba0743a4b9d6c49c23dfaa68": {
      "model_module": "@jupyter-widgets/controls",
      "model_module_version": "1.5.0",
      "model_name": "DescriptionStyleModel",
      "state": {
       "description_width": ""
      }
     },
     "246a98296e874dc0a905d7b5cad08da2": {
      "model_module": "@jupyter-widgets/controls",
      "model_module_version": "1.5.0",
      "model_name": "DescriptionStyleModel",
      "state": {
       "description_width": ""
      }
     },
     "24a46ea82c8a4034a842e3afddaaa353": {
      "model_module": "@jupyter-widgets/base",
      "model_module_version": "1.2.0",
      "model_name": "LayoutModel",
      "state": {}
     },
     "2577cb4fbd774827b96de9f194efd2cf": {
      "model_module": "@jupyter-widgets/controls",
      "model_module_version": "1.5.0",
      "model_name": "DescriptionStyleModel",
      "state": {
       "description_width": ""
      }
     },
     "26ce08fc5a1e4c08b1b09fe8aaecbc37": {
      "model_module": "@jupyter-widgets/controls",
      "model_module_version": "1.5.0",
      "model_name": "DescriptionStyleModel",
      "state": {
       "description_width": ""
      }
     },
     "29192ed7517f418f85518b0f3dae83b5": {
      "model_module": "@jupyter-widgets/controls",
      "model_module_version": "1.5.0",
      "model_name": "DescriptionStyleModel",
      "state": {
       "description_width": ""
      }
     },
     "2a2f7438ee1b4c71928956fdce205e2b": {
      "model_module": "@jupyter-widgets/controls",
      "model_module_version": "1.5.0",
      "model_name": "SelectMultipleModel",
      "state": {
       "_options_labels": [
        "Apples",
        "Oranges",
        "Pears"
       ],
       "description": "Fruits",
       "index": [
        1
       ],
       "layout": "IPY_MODEL_7cd064a65a7e4fe799d1d8096e195856",
       "rows": 5,
       "style": "IPY_MODEL_26ce08fc5a1e4c08b1b09fe8aaecbc37"
      }
     },
     "2d2e82045e184daaa0b65789d2378845": {
      "model_module": "@jupyter-widgets/controls",
      "model_module_version": "1.5.0",
      "model_name": "SelectMultipleModel",
      "state": {
       "_options_labels": [
        "Apples",
        "Oranges",
        "Pears"
       ],
       "description": "약국명",
       "index": [
        1
       ],
       "layout": "IPY_MODEL_22f78607c1d04b41848711b8ad7bca5c",
       "rows": 10,
       "style": "IPY_MODEL_d1c17583c8784df48bf6cc49567bf5de"
      }
     },
     "2ff8e32c76a744d2bb96728cb6f9dc47": {
      "model_module": "@jupyter-widgets/controls",
      "model_module_version": "1.5.0",
      "model_name": "DescriptionStyleModel",
      "state": {
       "description_width": ""
      }
     },
     "32df40cea74e4a1581b4427a1e81d3e9": {
      "model_module": "@jupyter-widgets/controls",
      "model_module_version": "1.5.0",
      "model_name": "DescriptionStyleModel",
      "state": {
       "description_width": ""
      }
     },
     "339ec139dde14463bd39525548e9a997": {
      "model_module": "@jupyter-widgets/controls",
      "model_module_version": "1.5.0",
      "model_name": "DescriptionStyleModel",
      "state": {
       "description_width": ""
      }
     },
     "340a291d38b5458eb23e64e6e5b4be2d": {
      "model_module": "@jupyter-widgets/controls",
      "model_module_version": "1.5.0",
      "model_name": "DescriptionStyleModel",
      "state": {
       "description_width": ""
      }
     },
     "347f4840d91944e7a97b944395e6fe72": {
      "model_module": "@jupyter-widgets/controls",
      "model_module_version": "1.5.0",
      "model_name": "SelectMultipleModel",
      "state": {
       "_options_labels": [
        "Afghanistan",
        "Aland Islands",
        "Albania",
        "Algeria"
       ],
       "description": "Countries",
       "index": [
        0,
        1,
        2,
        3
       ],
       "layout": "IPY_MODEL_8856490a9ddb42b0b359c90c8feacae4",
       "rows": 5,
       "style": "IPY_MODEL_993f33e3f9074a5e8842bf3667a23515"
      }
     },
     "3530b5ec8c5445f1a84d9f5b26fa2bb2": {
      "model_module": "@jupyter-widgets/base",
      "model_module_version": "1.2.0",
      "model_name": "LayoutModel",
      "state": {
       "width": "500px"
      }
     },
     "35c32c0f586b4c20bd448d363489daca": {
      "model_module": "@jupyter-widgets/base",
      "model_module_version": "1.2.0",
      "model_name": "LayoutModel",
      "state": {}
     },
     "363154ee90504231b0a79e13aab0d710": {
      "model_module": "@jupyter-widgets/controls",
      "model_module_version": "1.5.0",
      "model_name": "SelectMultipleModel",
      "state": {
       "_options_labels": [
        "유아",
        "10대",
        "20대",
        "30대",
        "40대",
        "50대",
        "60대",
        "70대",
        "80대",
        "90대"
       ],
       "description": "연령대",
       "index": [
        0
       ],
       "layout": "IPY_MODEL_4887daf406ac406789a2f62dde899435",
       "rows": 10,
       "style": "IPY_MODEL_c1ad54e53ffd45a6bb83efd9f6ac843f"
      }
     },
     "38222741de2341afbefb67ca845d5e98": {
      "model_module": "@jupyter-widgets/controls",
      "model_module_version": "1.5.0",
      "model_name": "DescriptionStyleModel",
      "state": {
       "description_width": ""
      }
     },
     "38620194a19548ee8bfc89cbeedb0ea1": {
      "model_module": "@jupyter-widgets/controls",
      "model_module_version": "1.5.0",
      "model_name": "ButtonModel",
      "state": {
       "description": "Select all",
       "layout": "IPY_MODEL_47866b520a134416a90229c663feb725",
       "style": "IPY_MODEL_0d5ef4e03d104f94bd271ba4bbe84dae"
      }
     },
     "3885ae428c6644bda6d497c1b6ed4320": {
      "model_module": "@jupyter-widgets/base",
      "model_module_version": "1.2.0",
      "model_name": "LayoutModel",
      "state": {}
     },
     "38d663e3c9c34b319af1d949b41d4325": {
      "model_module": "@jupyter-widgets/controls",
      "model_module_version": "1.5.0",
      "model_name": "SelectMultipleModel",
      "state": {
       "_options_labels": [
        "마름",
        "보통",
        "통통",
        "뚱뚱"
       ],
       "description": "고객체형",
       "index": [
        1
       ],
       "layout": "IPY_MODEL_6eab8d407cb74f1ca70b6d1947b94c65",
       "rows": 4,
       "style": "IPY_MODEL_23b2843dba0743a4b9d6c49c23dfaa68"
      }
     },
     "3c36320e4abf4f67bb4c548ff694f830": {
      "model_module": "@jupyter-widgets/base",
      "model_module_version": "1.2.0",
      "model_name": "LayoutModel",
      "state": {}
     },
     "3de7acb4395a43968d9315c330fc24b5": {
      "model_module": "@jupyter-widgets/base",
      "model_module_version": "1.2.0",
      "model_name": "LayoutModel",
      "state": {
       "width": "50px"
      }
     },
     "3eca9e4564e648b297250e06330e5ae7": {
      "model_module": "@jupyter-widgets/controls",
      "model_module_version": "1.5.0",
      "model_name": "DescriptionStyleModel",
      "state": {
       "description_width": ""
      }
     },
     "40fbb2d89bd741b1bbae85e1e4294be8": {
      "model_module": "@jupyter-widgets/controls",
      "model_module_version": "1.5.0",
      "model_name": "HBoxModel",
      "state": {
       "children": [
        "IPY_MODEL_68e79608c0534d6fb74715c4fc069aca",
        "IPY_MODEL_779514b8149745868303680828400b71",
        "IPY_MODEL_7a45c412954b407288d799f3c934c258",
        "IPY_MODEL_d1dfc2e8fded43d69cae145d6621b75e"
       ],
       "layout": "IPY_MODEL_cb0ddbe26ab44d4d82086344987fc85a"
      }
     },
     "4251445b588245c7934208b86ef244f8": {
      "model_module": "@jupyter-widgets/controls",
      "model_module_version": "1.5.0",
      "model_name": "SelectMultipleModel",
      "state": {
       "_options_labels": [
        "남",
        "여"
       ],
       "description": "성별",
       "index": [
        0
       ],
       "layout": "IPY_MODEL_e67bde1dee7649bfa44d518960fab6a5",
       "rows": 2,
       "style": "IPY_MODEL_479ab41b0e4847b7ae7838d207b873be"
      }
     },
     "46945bef65fd495d971a029fd1664a45": {
      "model_module": "@jupyter-widgets/controls",
      "model_module_version": "1.5.0",
      "model_name": "SelectMultipleModel",
      "state": {
       "_options_labels": [
        "Apples",
        "Oranges",
        "Pears"
       ],
       "description": "Fruits",
       "index": [
        0
       ],
       "layout": "IPY_MODEL_4ba90544b88242658dafd254c9bae927",
       "rows": 5,
       "style": "IPY_MODEL_dd03f700b3bc4dc6bb3ab3e8104d9166"
      }
     },
     "47866b520a134416a90229c663feb725": {
      "model_module": "@jupyter-widgets/base",
      "model_module_version": "1.2.0",
      "model_name": "LayoutModel",
      "state": {}
     },
     "479ab41b0e4847b7ae7838d207b873be": {
      "model_module": "@jupyter-widgets/controls",
      "model_module_version": "1.5.0",
      "model_name": "DescriptionStyleModel",
      "state": {
       "description_width": ""
      }
     },
     "481645c7ac324d84a6cd35a5d727e5af": {
      "model_module": "@jupyter-widgets/base",
      "model_module_version": "1.2.0",
      "model_name": "LayoutModel",
      "state": {}
     },
     "4887daf406ac406789a2f62dde899435": {
      "model_module": "@jupyter-widgets/base",
      "model_module_version": "1.2.0",
      "model_name": "LayoutModel",
      "state": {}
     },
     "49a61c15f1a747ada4aaacb2b8e6150c": {
      "model_module": "@jupyter-widgets/controls",
      "model_module_version": "1.5.0",
      "model_name": "SelectMultipleModel",
      "state": {
       "_options_labels": [
        "남",
        "여"
       ],
       "description": "성별",
       "index": [
        0
       ],
       "layout": "IPY_MODEL_1b4e9e955ec841f88722b87f14082cb2",
       "rows": 2,
       "style": "IPY_MODEL_7f40c2dd12ba4c438c52351b4e04f0ab"
      }
     },
     "4a46ac147cba4e40be53ffddc87373c6": {
      "model_module": "@jupyter-widgets/controls",
      "model_module_version": "1.5.0",
      "model_name": "HBoxModel",
      "state": {
       "children": [
        "IPY_MODEL_062fb7f61af04366a852b4de101d0439",
        "IPY_MODEL_4251445b588245c7934208b86ef244f8",
        "IPY_MODEL_803b38d241ef4eafa5229f67e06daabe",
        "IPY_MODEL_e218d6814cb3441ba78d5106185b6c2e"
       ],
       "layout": "IPY_MODEL_6b9fd89c474946bf8755368b30a6d6da"
      }
     },
     "4ba90544b88242658dafd254c9bae927": {
      "model_module": "@jupyter-widgets/base",
      "model_module_version": "1.2.0",
      "model_name": "LayoutModel",
      "state": {}
     },
     "4c96ce720d28428ab28bb66602190ee5": {
      "model_module": "@jupyter-widgets/controls",
      "model_module_version": "1.5.0",
      "model_name": "SelectMultipleModel",
      "state": {
       "_options_labels": [
        "유아",
        "10대",
        "20대",
        "30대",
        "40대",
        "50대",
        "60대",
        "70대",
        "80대",
        "90대"
       ],
       "description": "연령대",
       "index": [
        0
       ],
       "layout": "IPY_MODEL_06013a9662874bf891fe22a949af959f",
       "rows": 10,
       "style": "IPY_MODEL_b5b4d0e2b660424ba6370ddea742f2a7"
      }
     },
     "4e4a92b7759945798b9d3fee30f18e37": {
      "model_module": "@jupyter-widgets/controls",
      "model_module_version": "1.5.0",
      "model_name": "SelectMultipleModel",
      "state": {
       "_options_labels": [
        "남",
        "여"
       ],
       "description": "성별",
       "index": [
        1
       ],
       "layout": "IPY_MODEL_774bcae0683543fd82676b504f45d5c6",
       "rows": 2,
       "style": "IPY_MODEL_6155ffe0f7684b1fb4579eb5944b2428"
      }
     },
     "5365ff79a68a420e9b8be2d567ec1f5d": {
      "model_module": "@jupyter-widgets/controls",
      "model_module_version": "1.5.0",
      "model_name": "SelectMultipleModel",
      "state": {
       "_options_labels": [
        "유아",
        "10대",
        "20대",
        "30대",
        "40대",
        "50대",
        "60대",
        "70대",
        "80대",
        "90대"
       ],
       "description": "연령대",
       "index": [
        0
       ],
       "layout": "IPY_MODEL_f00351a267834bf8b354b53708f17991",
       "rows": 10,
       "style": "IPY_MODEL_b0ad77a4dc1b4e6ba09b7b38400a0f96"
      }
     },
     "5806204791ec4e528e0f3a1ca4c2fc0d": {
      "model_module": "@jupyter-widgets/controls",
      "model_module_version": "1.5.0",
      "model_name": "SelectMultipleModel",
      "state": {
       "_options_labels": [
        "남",
        "여"
       ],
       "description": "성별",
       "index": [
        0
       ],
       "layout": "IPY_MODEL_638ff883c4e540a18da67bb1f798103a",
       "rows": 2,
       "style": "IPY_MODEL_077bfdff8ad943aaa2a25f001b89d6ac"
      }
     },
     "5ad0a4924cee47d3bb087136ccbae08d": {
      "model_module": "@jupyter-widgets/base",
      "model_module_version": "1.2.0",
      "model_name": "LayoutModel",
      "state": {}
     },
     "5ae5938793124d3ba902f663eea2a082": {
      "model_module": "@jupyter-widgets/controls",
      "model_module_version": "1.5.0",
      "model_name": "DescriptionStyleModel",
      "state": {
       "description_width": ""
      }
     },
     "5c8585251bee4cad8c4261e36279f761": {
      "model_module": "@jupyter-widgets/controls",
      "model_module_version": "1.5.0",
      "model_name": "DescriptionStyleModel",
      "state": {
       "description_width": ""
      }
     },
     "5fc7a3a3087f4529a2d82459e5fcfe8d": {
      "model_module": "@jupyter-widgets/controls",
      "model_module_version": "1.5.0",
      "model_name": "HBoxModel",
      "state": {
       "children": [
        "IPY_MODEL_a67d5cc3d1b94879899094fb0ac5198e",
        "IPY_MODEL_5806204791ec4e528e0f3a1ca4c2fc0d",
        "IPY_MODEL_a47730e179d347bcaa8343ee0db0ff4a",
        "IPY_MODEL_cb2ab01dc36d4e6b874084e84bb4d99c",
        "IPY_MODEL_f8938f5010a347cf9f5aa2966925dbd8"
       ],
       "layout": "IPY_MODEL_3885ae428c6644bda6d497c1b6ed4320"
      }
     },
     "5fcd834db8514df0aa09445954bbfcbb": {
      "model_module": "@jupyter-widgets/base",
      "model_module_version": "1.2.0",
      "model_name": "LayoutModel",
      "state": {
       "width": "200px"
      }
     },
     "6155ffe0f7684b1fb4579eb5944b2428": {
      "model_module": "@jupyter-widgets/controls",
      "model_module_version": "1.5.0",
      "model_name": "DescriptionStyleModel",
      "state": {
       "description_width": ""
      }
     },
     "6317ac69330c495c8107695ae1e64378": {
      "model_module": "@jupyter-widgets/controls",
      "model_module_version": "1.5.0",
      "model_name": "DescriptionStyleModel",
      "state": {
       "description_width": ""
      }
     },
     "638ff883c4e540a18da67bb1f798103a": {
      "model_module": "@jupyter-widgets/base",
      "model_module_version": "1.2.0",
      "model_name": "LayoutModel",
      "state": {
       "width": "150px"
      }
     },
     "66ac3c3625af423ba2a70ebca58a89fd": {
      "model_module": "@jupyter-widgets/base",
      "model_module_version": "1.2.0",
      "model_name": "LayoutModel",
      "state": {}
     },
     "68c4eb15184541e180f9b56e38e25503": {
      "model_module": "@jupyter-widgets/controls",
      "model_module_version": "1.5.0",
      "model_name": "SelectMultipleModel",
      "state": {
       "_options_labels": [
        "마름",
        "보통",
        "통통",
        "뚱뚱"
       ],
       "description": "고객체형",
       "index": [
        1
       ],
       "layout": "IPY_MODEL_76cd795eed674b389e26550a50490c94",
       "rows": 4,
       "style": "IPY_MODEL_8c1c8a17a8e741fe81bf49105721469e"
      }
     },
     "68e79608c0534d6fb74715c4fc069aca": {
      "model_module": "@jupyter-widgets/controls",
      "model_module_version": "1.5.0",
      "model_name": "SelectMultipleModel",
      "state": {
       "_options_labels": [
        "Apples",
        "Oranges",
        "Pears"
       ],
       "description": "약국명",
       "index": [
        1
       ],
       "layout": "IPY_MODEL_d592c02648374700ac374289454b8673",
       "rows": 10,
       "style": "IPY_MODEL_0ff81bef135140a5932ad948257be774"
      }
     },
     "692aa5697a1b4d2b84dd534d2bcbeee7": {
      "model_module": "@jupyter-widgets/controls",
      "model_module_version": "1.5.0",
      "model_name": "DescriptionStyleModel",
      "state": {
       "description_width": ""
      }
     },
     "6a3cb43ef69a45bc9f6241938d61f58f": {
      "model_module": "@jupyter-widgets/controls",
      "model_module_version": "1.5.0",
      "model_name": "HBoxModel",
      "state": {
       "children": [
        "IPY_MODEL_1b1ad018eb894469b19a28a0362a67b6",
        "IPY_MODEL_b656fdb88ffb4d1c8ab30e7aed99fec6"
       ],
       "layout": "IPY_MODEL_3c36320e4abf4f67bb4c548ff694f830"
      }
     },
     "6b9fd89c474946bf8755368b30a6d6da": {
      "model_module": "@jupyter-widgets/base",
      "model_module_version": "1.2.0",
      "model_name": "LayoutModel",
      "state": {}
     },
     "6bd36f3548654581816a826d82f73b6c": {
      "model_module": "@jupyter-widgets/controls",
      "model_module_version": "1.5.0",
      "model_name": "DescriptionStyleModel",
      "state": {
       "description_width": ""
      }
     },
     "6c2034621fd445d7ba53c47ee5066e0f": {
      "model_module": "@jupyter-widgets/controls",
      "model_module_version": "1.5.0",
      "model_name": "HBoxModel",
      "state": {
       "children": [
        "IPY_MODEL_e9cfd412e40541ee8a0342c0752e23b3",
        "IPY_MODEL_49a61c15f1a747ada4aaacb2b8e6150c",
        "IPY_MODEL_f6803a7557de4e518f35d04425c6671f",
        "IPY_MODEL_38d663e3c9c34b319af1d949b41d4325"
       ],
       "layout": "IPY_MODEL_7932bdddf8d94be1af3c15c2dbf587e2"
      }
     },
     "6c3a825de5514ae08e4478f08fd52791": {
      "model_module": "@jupyter-widgets/base",
      "model_module_version": "1.2.0",
      "model_name": "LayoutModel",
      "state": {
       "width": "150px"
      }
     },
     "6c7dd42da7dd410f8d88c8e755d5d4ac": {
      "model_module": "@jupyter-widgets/base",
      "model_module_version": "1.2.0",
      "model_name": "LayoutModel",
      "state": {}
     },
     "6cda4ca01c1e48749689dc4ce5e02766": {
      "model_module": "@jupyter-widgets/controls",
      "model_module_version": "1.5.0",
      "model_name": "SelectMultipleModel",
      "state": {
       "_options_labels": [
        "남",
        "여"
       ],
       "description": "성별",
       "index": [
        0
       ],
       "layout": "IPY_MODEL_6c3a825de5514ae08e4478f08fd52791",
       "rows": 2,
       "style": "IPY_MODEL_3eca9e4564e648b297250e06330e5ae7"
      }
     },
     "6d8792e4ab14482185c7036c0a045e75": {
      "model_module": "@jupyter-widgets/controls",
      "model_module_version": "1.5.0",
      "model_name": "SelectMultipleModel",
      "state": {
       "_options_labels": [
        "마름",
        "보통",
        "통통",
        "뚱뚱"
       ],
       "description": "고객체형",
       "index": [
        1
       ],
       "layout": "IPY_MODEL_f39fd28373b041b19a90aed4a7478def",
       "rows": 4,
       "style": "IPY_MODEL_97878fbda1bb4b4590f04e4468576d98"
      }
     },
     "6da261a09ccb4221ba259f92e272314b": {
      "model_module": "@jupyter-widgets/controls",
      "model_module_version": "1.5.0",
      "model_name": "DescriptionStyleModel",
      "state": {
       "description_width": ""
      }
     },
     "6e21c14a73fc4f0a9218d900ff596f51": {
      "model_module": "@jupyter-widgets/controls",
      "model_module_version": "1.5.0",
      "model_name": "DescriptionStyleModel",
      "state": {
       "description_width": ""
      }
     },
     "6eab8d407cb74f1ca70b6d1947b94c65": {
      "model_module": "@jupyter-widgets/base",
      "model_module_version": "1.2.0",
      "model_name": "LayoutModel",
      "state": {}
     },
     "700bf46942b1479f8ad60da46fa58e96": {
      "model_module": "@jupyter-widgets/controls",
      "model_module_version": "1.5.0",
      "model_name": "HBoxModel",
      "state": {
       "children": [
        "IPY_MODEL_0744ece4a2d1440abb308006c77300cb",
        "IPY_MODEL_4e4a92b7759945798b9d3fee30f18e37",
        "IPY_MODEL_c2718343944349bb9fa22102377860ae",
        "IPY_MODEL_8cc0940c80a548c4b6b5895218efd5d0"
       ],
       "layout": "IPY_MODEL_b95cdc51c83c4674a0f15e2c5264e396"
      }
     },
     "71a2d5afe0044de6b498b6f531dd1e20": {
      "model_module": "@jupyter-widgets/base",
      "model_module_version": "1.2.0",
      "model_name": "LayoutModel",
      "state": {}
     },
     "7211997d83e74d199df702cab94bf664": {
      "model_module": "@jupyter-widgets/controls",
      "model_module_version": "1.5.0",
      "model_name": "DescriptionStyleModel",
      "state": {
       "description_width": ""
      }
     },
     "72308f389b2d424ca002b35cf77a8b21": {
      "model_module": "@jupyter-widgets/base",
      "model_module_version": "1.2.0",
      "model_name": "LayoutModel",
      "state": {
       "width": "150px"
      }
     },
     "72e5692eed6645519af3f9b9587d97ca": {
      "model_module": "@jupyter-widgets/controls",
      "model_module_version": "1.5.0",
      "model_name": "HBoxModel",
      "state": {
       "children": [
        "IPY_MODEL_c75b52519bef4fec92292cd7de284dd8",
        "IPY_MODEL_a47c4e433b7f4138a8855938b1c885d2",
        "IPY_MODEL_4c96ce720d28428ab28bb66602190ee5",
        "IPY_MODEL_6d8792e4ab14482185c7036c0a045e75"
       ],
       "layout": "IPY_MODEL_771e8f27cd024b2798e92d6c67ecbba0"
      }
     },
     "739841f16ac64afc9657aff3d30f9bd1": {
      "model_module": "@jupyter-widgets/base",
      "model_module_version": "1.2.0",
      "model_name": "LayoutModel",
      "state": {}
     },
     "74805d2ddb40486bb65a15ff96ac95a6": {
      "model_module": "@jupyter-widgets/controls",
      "model_module_version": "1.5.0",
      "model_name": "SelectMultipleModel",
      "state": {
       "_options_labels": [
        "유아",
        "10대",
        "20대",
        "30대",
        "40대",
        "50대",
        "60대",
        "70대",
        "80대",
        "90대"
       ],
       "description": "연령대",
       "index": [
        0
       ],
       "layout": "IPY_MODEL_a9c435c6a3b047bbae00514f1878c3d5",
       "rows": 10,
       "style": "IPY_MODEL_e12e024d9fc14ccfb60a01db4ebd5ad8"
      }
     },
     "76cd795eed674b389e26550a50490c94": {
      "model_module": "@jupyter-widgets/base",
      "model_module_version": "1.2.0",
      "model_name": "LayoutModel",
      "state": {}
     },
     "771e8f27cd024b2798e92d6c67ecbba0": {
      "model_module": "@jupyter-widgets/base",
      "model_module_version": "1.2.0",
      "model_name": "LayoutModel",
      "state": {}
     },
     "774bcae0683543fd82676b504f45d5c6": {
      "model_module": "@jupyter-widgets/base",
      "model_module_version": "1.2.0",
      "model_name": "LayoutModel",
      "state": {
       "width": "150px"
      }
     },
     "779514b8149745868303680828400b71": {
      "model_module": "@jupyter-widgets/controls",
      "model_module_version": "1.5.0",
      "model_name": "SelectMultipleModel",
      "state": {
       "_options_labels": [
        "남",
        "여"
       ],
       "description": "성별",
       "index": [
        0
       ],
       "layout": "IPY_MODEL_b07a6a01db8d49d985e537654adbd3c6",
       "rows": 2,
       "style": "IPY_MODEL_ba7ae5278e1f4ec4934d9d2d21987b0b"
      }
     },
     "7932bdddf8d94be1af3c15c2dbf587e2": {
      "model_module": "@jupyter-widgets/base",
      "model_module_version": "1.2.0",
      "model_name": "LayoutModel",
      "state": {}
     },
     "7a45c412954b407288d799f3c934c258": {
      "model_module": "@jupyter-widgets/controls",
      "model_module_version": "1.5.0",
      "model_name": "SelectMultipleModel",
      "state": {
       "_options_labels": [
        "유아",
        "10대",
        "20대",
        "30대",
        "40대",
        "50대",
        "60대",
        "70대",
        "80대",
        "90대"
       ],
       "description": "연령대",
       "index": [
        0
       ],
       "layout": "IPY_MODEL_35c32c0f586b4c20bd448d363489daca",
       "rows": 10,
       "style": "IPY_MODEL_9e06e39fcc89423a818eabb6d87c1cdf"
      }
     },
     "7cd064a65a7e4fe799d1d8096e195856": {
      "model_module": "@jupyter-widgets/base",
      "model_module_version": "1.2.0",
      "model_name": "LayoutModel",
      "state": {}
     },
     "7d5355674b05456e940cb056e0d2a558": {
      "model_module": "@jupyter-widgets/controls",
      "model_module_version": "1.5.0",
      "model_name": "SelectMultipleModel",
      "state": {
       "_options_labels": [
        "Apples",
        "Oranges",
        "Pears"
       ],
       "description": "약국명",
       "index": [
        1
       ],
       "layout": "IPY_MODEL_8f29599cc81a4be280758cd8a08b0e3b",
       "rows": 10,
       "style": "IPY_MODEL_11ea00d29a414cebb660a70428abd56f"
      }
     },
     "7df5099c10fa4bce9c891ad65d6213d2": {
      "model_module": "@jupyter-widgets/controls",
      "model_module_version": "1.5.0",
      "model_name": "DescriptionStyleModel",
      "state": {
       "description_width": ""
      }
     },
     "7eec97b492f34e0fa89b0263a737ab60": {
      "model_module": "@jupyter-widgets/controls",
      "model_module_version": "1.5.0",
      "model_name": "SelectMultipleModel",
      "state": {
       "_options_labels": [
        "Apples",
        "Oranges",
        "Pears"
       ],
       "description": "약국명",
       "index": [
        1
       ],
       "layout": "IPY_MODEL_a5359cc72cec4be8ab68344c25b1e4d3",
       "rows": 10,
       "style": "IPY_MODEL_29192ed7517f418f85518b0f3dae83b5"
      }
     },
     "7f40c2dd12ba4c438c52351b4e04f0ab": {
      "model_module": "@jupyter-widgets/controls",
      "model_module_version": "1.5.0",
      "model_name": "DescriptionStyleModel",
      "state": {
       "description_width": ""
      }
     },
     "7fa069dfac3749efa9dec754a37aa5f6": {
      "model_module": "@jupyter-widgets/controls",
      "model_module_version": "1.5.0",
      "model_name": "SelectMultipleModel",
      "state": {
       "_options_labels": [
        "마름",
        "보통",
        "통통",
        "뚱뚱"
       ],
       "description": "고객체형",
       "index": [
        1
       ],
       "layout": "IPY_MODEL_b3dfce4e02344d66b1db437f051ebebd",
       "rows": 4,
       "style": "IPY_MODEL_5ae5938793124d3ba902f663eea2a082"
      }
     },
     "803b38d241ef4eafa5229f67e06daabe": {
      "model_module": "@jupyter-widgets/controls",
      "model_module_version": "1.5.0",
      "model_name": "SelectMultipleModel",
      "state": {
       "_options_labels": [
        "유아",
        "10대",
        "20대",
        "30대",
        "40대",
        "50대",
        "60대",
        "70대",
        "80대",
        "90대"
       ],
       "description": "연령대",
       "index": [
        0
       ],
       "layout": "IPY_MODEL_c9c1e5d507374b0d9f81a798c33a4f82",
       "rows": 10,
       "style": "IPY_MODEL_2ff8e32c76a744d2bb96728cb6f9dc47"
      }
     },
     "807b3b4c8e1541cda009c9df375dfb12": {
      "model_module": "@jupyter-widgets/controls",
      "model_module_version": "1.5.0",
      "model_name": "DescriptionStyleModel",
      "state": {
       "description_width": ""
      }
     },
     "8382549922eb475595ff9edeb3bac931": {
      "model_module": "@jupyter-widgets/base",
      "model_module_version": "1.2.0",
      "model_name": "LayoutModel",
      "state": {
       "width": "200px"
      }
     },
     "84c4c99b1e0b40bc8028ad3d752ce4ff": {
      "model_module": "@jupyter-widgets/controls",
      "model_module_version": "1.5.0",
      "model_name": "SelectMultipleModel",
      "state": {
       "_options_labels": [
        "유아",
        "10대",
        "20대",
        "30대",
        "40대",
        "50대",
        "60대",
        "70대",
        "80대",
        "90대"
       ],
       "description": "연령대",
       "index": [
        0
       ],
       "layout": "IPY_MODEL_481645c7ac324d84a6cd35a5d727e5af",
       "rows": 10,
       "style": "IPY_MODEL_339ec139dde14463bd39525548e9a997"
      }
     },
     "851faa82b9cc4432ac8db3d4cff3434e": {
      "model_module": "@jupyter-widgets/controls",
      "model_module_version": "1.5.0",
      "model_name": "DescriptionStyleModel",
      "state": {
       "description_width": ""
      }
     },
     "855bb3fcad694fd496cdc4cd8e7cbf23": {
      "model_module": "@jupyter-widgets/controls",
      "model_module_version": "1.5.0",
      "model_name": "SelectMultipleModel",
      "state": {
       "_options_labels": [
        "Apples",
        "Oranges",
        "Pears"
       ],
       "description": "약국명",
       "index": [
        1
       ],
       "layout": "IPY_MODEL_3530b5ec8c5445f1a84d9f5b26fa2bb2",
       "rows": 10,
       "style": "IPY_MODEL_14324b34db0a4c64b2fb894d72a9da31"
      }
     },
     "859f90fe7a254ffe999219cb8b758f19": {
      "model_module": "@jupyter-widgets/controls",
      "model_module_version": "1.5.0",
      "model_name": "DescriptionStyleModel",
      "state": {
       "description_width": ""
      }
     },
     "86e5f1143e304bcfb1a524e27ccd202c": {
      "model_module": "@jupyter-widgets/base",
      "model_module_version": "1.2.0",
      "model_name": "LayoutModel",
      "state": {}
     },
     "8820978edb8a4ca8bb0550a8fd122218": {
      "model_module": "@jupyter-widgets/base",
      "model_module_version": "1.2.0",
      "model_name": "LayoutModel",
      "state": {}
     },
     "88521cacfa4945fdbdc8d9849d93c22a": {
      "model_module": "@jupyter-widgets/base",
      "model_module_version": "1.2.0",
      "model_name": "LayoutModel",
      "state": {
       "width": "200px"
      }
     },
     "8856490a9ddb42b0b359c90c8feacae4": {
      "model_module": "@jupyter-widgets/base",
      "model_module_version": "1.2.0",
      "model_name": "LayoutModel",
      "state": {}
     },
     "8a5e49aa064e4878914f60019dd05f19": {
      "model_module": "@jupyter-widgets/base",
      "model_module_version": "1.2.0",
      "model_name": "LayoutModel",
      "state": {
       "width": "200px"
      }
     },
     "8c1c8a17a8e741fe81bf49105721469e": {
      "model_module": "@jupyter-widgets/controls",
      "model_module_version": "1.5.0",
      "model_name": "DescriptionStyleModel",
      "state": {
       "description_width": ""
      }
     },
     "8cc0940c80a548c4b6b5895218efd5d0": {
      "model_module": "@jupyter-widgets/controls",
      "model_module_version": "1.5.0",
      "model_name": "SelectMultipleModel",
      "state": {
       "_options_labels": [
        "마름",
        "보통",
        "통통",
        "뚱뚱"
       ],
       "description": "고객체형",
       "index": [
        1
       ],
       "layout": "IPY_MODEL_f73019705ff449ffa8908c8113d8ee19",
       "rows": 4,
       "style": "IPY_MODEL_6e21c14a73fc4f0a9218d900ff596f51"
      }
     },
     "8f29599cc81a4be280758cd8a08b0e3b": {
      "model_module": "@jupyter-widgets/base",
      "model_module_version": "1.2.0",
      "model_name": "LayoutModel",
      "state": {
       "width": "500px"
      }
     },
     "8ffb7b048acd421ab2985d3c3a54155c": {
      "model_module": "@jupyter-widgets/base",
      "model_module_version": "1.2.0",
      "model_name": "LayoutModel",
      "state": {}
     },
     "926fc4a2fbbf405d9e96552002a95939": {
      "model_module": "@jupyter-widgets/controls",
      "model_module_version": "1.5.0",
      "model_name": "SelectMultipleModel",
      "state": {
       "_options_labels": [
        "유아",
        "10대",
        "20대",
        "30대",
        "40대",
        "50대",
        "60대",
        "70대",
        "80대",
        "90대"
       ],
       "description": "연령대",
       "index": [
        0
       ],
       "layout": "IPY_MODEL_a7e881775e644a00a9d49c607b9b3211",
       "rows": 10,
       "style": "IPY_MODEL_184e970bc6c448e18be64dbd37ecd490"
      }
     },
     "933eb5ee26804c65ae1a17885c04495a": {
      "model_module": "@jupyter-widgets/controls",
      "model_module_version": "1.5.0",
      "model_name": "DescriptionStyleModel",
      "state": {
       "description_width": ""
      }
     },
     "970967eb7eba4229b1ac4cdd46562907": {
      "model_module": "@jupyter-widgets/controls",
      "model_module_version": "1.5.0",
      "model_name": "DescriptionStyleModel",
      "state": {
       "description_width": ""
      }
     },
     "97878fbda1bb4b4590f04e4468576d98": {
      "model_module": "@jupyter-widgets/controls",
      "model_module_version": "1.5.0",
      "model_name": "DescriptionStyleModel",
      "state": {
       "description_width": ""
      }
     },
     "984c381df31244d8abb24572a2778ea8": {
      "model_module": "@jupyter-widgets/controls",
      "model_module_version": "1.5.0",
      "model_name": "SelectMultipleModel",
      "state": {
       "_options_labels": [
        "Apples",
        "Oranges",
        "Pears"
       ],
       "description": "약국명",
       "index": [
        1
       ],
       "layout": "IPY_MODEL_8a5e49aa064e4878914f60019dd05f19",
       "rows": 10,
       "style": "IPY_MODEL_7df5099c10fa4bce9c891ad65d6213d2"
      }
     },
     "98f546a3da154be9a7c614c9e07d9e56": {
      "model_module": "@jupyter-widgets/controls",
      "model_module_version": "1.5.0",
      "model_name": "DescriptionStyleModel",
      "state": {
       "description_width": ""
      }
     },
     "993f33e3f9074a5e8842bf3667a23515": {
      "model_module": "@jupyter-widgets/controls",
      "model_module_version": "1.5.0",
      "model_name": "DescriptionStyleModel",
      "state": {
       "description_width": ""
      }
     },
     "9cf42946156747a898c52e5dc4f344b5": {
      "model_module": "@jupyter-widgets/controls",
      "model_module_version": "1.5.0",
      "model_name": "SelectMultipleModel",
      "state": {
       "_options_labels": [
        "option 1",
        "option 2",
        "option 3"
       ],
       "index": [
        0
       ],
       "layout": "IPY_MODEL_0c5854273ea64be79c05cccd5a8ac2c7",
       "rows": 5,
       "style": "IPY_MODEL_d274fb7d2ae14305a5a0ae472a0f4bb6"
      }
     },
     "9e06e39fcc89423a818eabb6d87c1cdf": {
      "model_module": "@jupyter-widgets/controls",
      "model_module_version": "1.5.0",
      "model_name": "DescriptionStyleModel",
      "state": {
       "description_width": ""
      }
     },
     "9e12b65f713e4d6c929577bfc7e9917d": {
      "model_module": "@jupyter-widgets/controls",
      "model_module_version": "1.5.0",
      "model_name": "DescriptionStyleModel",
      "state": {
       "description_width": ""
      }
     },
     "a082d7bc1415451e9676a779d8858d0b": {
      "model_module": "@jupyter-widgets/controls",
      "model_module_version": "1.5.0",
      "model_name": "DescriptionStyleModel",
      "state": {
       "description_width": ""
      }
     },
     "a44ffc20a5074d37bdc7f882e86ac566": {
      "model_module": "@jupyter-widgets/controls",
      "model_module_version": "1.5.0",
      "model_name": "DescriptionStyleModel",
      "state": {
       "description_width": ""
      }
     },
     "a47730e179d347bcaa8343ee0db0ff4a": {
      "model_module": "@jupyter-widgets/controls",
      "model_module_version": "1.5.0",
      "model_name": "SelectMultipleModel",
      "state": {
       "_options_labels": [
        "유아",
        "10대",
        "20대",
        "30대",
        "40대",
        "50대",
        "60대",
        "70대",
        "80대",
        "90대"
       ],
       "description": "연령대",
       "index": [
        0
       ],
       "layout": "IPY_MODEL_b2cd0fe8ad46460f8eeff3b31b9b2902",
       "rows": 10,
       "style": "IPY_MODEL_c0d33fa44a4a46e3a311c959cc8575f6"
      }
     },
     "a47c4e433b7f4138a8855938b1c885d2": {
      "model_module": "@jupyter-widgets/controls",
      "model_module_version": "1.5.0",
      "model_name": "SelectMultipleModel",
      "state": {
       "_options_labels": [
        "남",
        "여"
       ],
       "description": "성별",
       "index": [
        0
       ],
       "layout": "IPY_MODEL_72308f389b2d424ca002b35cf77a8b21",
       "rows": 2,
       "style": "IPY_MODEL_a44ffc20a5074d37bdc7f882e86ac566"
      }
     },
     "a5359cc72cec4be8ab68344c25b1e4d3": {
      "model_module": "@jupyter-widgets/base",
      "model_module_version": "1.2.0",
      "model_name": "LayoutModel",
      "state": {
       "width": "500px"
      }
     },
     "a55fa0f7531e494fa7b95430bd68d038": {
      "model_module": "@jupyter-widgets/controls",
      "model_module_version": "1.5.0",
      "model_name": "HBoxModel",
      "state": {
       "children": [
        "IPY_MODEL_ae2d544b3ff04325a2a6885233d6a2c4",
        "IPY_MODEL_14fba60e411640beb08dcd72eb071c74",
        "IPY_MODEL_363154ee90504231b0a79e13aab0d710",
        "IPY_MODEL_0b789a582e5247a3b850585d29678bb2"
       ],
       "layout": "IPY_MODEL_66ac3c3625af423ba2a70ebca58a89fd"
      }
     },
     "a67d5cc3d1b94879899094fb0ac5198e": {
      "model_module": "@jupyter-widgets/controls",
      "model_module_version": "1.5.0",
      "model_name": "SelectMultipleModel",
      "state": {
       "_options_labels": [
        "Apples",
        "Oranges",
        "Pears"
       ],
       "description": "약국명",
       "index": [
        1
       ],
       "layout": "IPY_MODEL_1e7f01d29239404f8d4fb4557ef9da61",
       "rows": 10,
       "style": "IPY_MODEL_0765784c29f341f19e7967051afb7d9d"
      }
     },
     "a6a72c1d95b44f46ab331fc5a87c25a2": {
      "model_module": "@jupyter-widgets/controls",
      "model_module_version": "1.5.0",
      "model_name": "HBoxModel",
      "state": {
       "children": [
        "IPY_MODEL_d5c41d08bec5475da31a7872481b92b6",
        "IPY_MODEL_c4140df3a2294935b60abddbd781d8f9"
       ],
       "layout": "IPY_MODEL_6c7dd42da7dd410f8d88c8e755d5d4ac"
      }
     },
     "a7e881775e644a00a9d49c607b9b3211": {
      "model_module": "@jupyter-widgets/base",
      "model_module_version": "1.2.0",
      "model_name": "LayoutModel",
      "state": {}
     },
     "a90fef721c274b4a97ee4db95cebcb13": {
      "model_module": "@jupyter-widgets/controls",
      "model_module_version": "1.5.0",
      "model_name": "HBoxModel",
      "state": {
       "children": [
        "IPY_MODEL_2a2f7438ee1b4c71928956fdce205e2b",
        "IPY_MODEL_1135812258324df1a65dcab4af5cf52c"
       ],
       "layout": "IPY_MODEL_009ad959e4d949fbbc1ce4f82214b7d2"
      }
     },
     "a9c435c6a3b047bbae00514f1878c3d5": {
      "model_module": "@jupyter-widgets/base",
      "model_module_version": "1.2.0",
      "model_name": "LayoutModel",
      "state": {}
     },
     "acbb7c8ab0c849bdb6471a0161f5903c": {
      "model_module": "@jupyter-widgets/base",
      "model_module_version": "1.2.0",
      "model_name": "LayoutModel",
      "state": {}
     },
     "ae2d544b3ff04325a2a6885233d6a2c4": {
      "model_module": "@jupyter-widgets/controls",
      "model_module_version": "1.5.0",
      "model_name": "SelectMultipleModel",
      "state": {
       "_options_labels": [
        "Apples",
        "Oranges",
        "Pears"
       ],
       "description": "약국명",
       "index": [
        1
       ],
       "layout": "IPY_MODEL_f3a77507bb6b4d0e95f7a018e83df36f",
       "rows": 10,
       "style": "IPY_MODEL_246a98296e874dc0a905d7b5cad08da2"
      }
     },
     "ae4491cc7e2148ebbfbaf8f8a90ac108": {
      "model_module": "@jupyter-widgets/controls",
      "model_module_version": "1.5.0",
      "model_name": "DescriptionStyleModel",
      "state": {
       "description_width": ""
      }
     },
     "b07a6a01db8d49d985e537654adbd3c6": {
      "model_module": "@jupyter-widgets/base",
      "model_module_version": "1.2.0",
      "model_name": "LayoutModel",
      "state": {}
     },
     "b0ad77a4dc1b4e6ba09b7b38400a0f96": {
      "model_module": "@jupyter-widgets/controls",
      "model_module_version": "1.5.0",
      "model_name": "DescriptionStyleModel",
      "state": {
       "description_width": ""
      }
     },
     "b0d1b9ba417444eca8f2ad29b7a132f0": {
      "model_module": "@jupyter-widgets/base",
      "model_module_version": "1.2.0",
      "model_name": "LayoutModel",
      "state": {
       "width": "150px"
      }
     },
     "b28a41a9b79c4dc88adfb85bb1e079cf": {
      "model_module": "@jupyter-widgets/controls",
      "model_module_version": "1.5.0",
      "model_name": "SelectMultipleModel",
      "state": {
       "_options_labels": [
        "마름",
        "보통",
        "통통",
        "뚱뚱"
       ],
       "description": "고객체형",
       "index": [
        1
       ],
       "layout": "IPY_MODEL_f53fb4bb9e0247ce89ebc9a750c9a688",
       "rows": 4,
       "style": "IPY_MODEL_b718aa605bad4b058901f6060fdd6a53"
      }
     },
     "b2cd0fe8ad46460f8eeff3b31b9b2902": {
      "model_module": "@jupyter-widgets/base",
      "model_module_version": "1.2.0",
      "model_name": "LayoutModel",
      "state": {
       "width": "150px"
      }
     },
     "b3dfce4e02344d66b1db437f051ebebd": {
      "model_module": "@jupyter-widgets/base",
      "model_module_version": "1.2.0",
      "model_name": "LayoutModel",
      "state": {}
     },
     "b5b4d0e2b660424ba6370ddea742f2a7": {
      "model_module": "@jupyter-widgets/controls",
      "model_module_version": "1.5.0",
      "model_name": "DescriptionStyleModel",
      "state": {
       "description_width": ""
      }
     },
     "b656fdb88ffb4d1c8ab30e7aed99fec6": {
      "model_module": "@jupyter-widgets/controls",
      "model_module_version": "1.5.0",
      "model_name": "SelectMultipleModel",
      "state": {
       "_options_labels": [
        "Carrots",
        "Potatoes",
        "Tomatoes",
        "Carrots",
        "Potatoes",
        "Tomatoes",
        "Carrots",
        "Potatoes",
        "Tomatoes",
        "Carrots",
        "Potatoes",
        "Tomatoes",
        "Carrots",
        "Potatoes",
        "Tomatoes",
        "Carrots",
        "Potatoes",
        "Tomatoes",
        "Carrots",
        "Potatoes",
        "Tomatoes",
        "Carrots",
        "Potatoes",
        "Tomatoes",
        "Carrots",
        "Potatoes",
        "Tomatoes",
        "Carrots",
        "Potatoes",
        "Tomatoes"
       ],
       "description": "Veg",
       "index": [
        0
       ],
       "layout": "IPY_MODEL_c228f454410446bc8b678a6b4fb49f3c",
       "rows": 10,
       "style": "IPY_MODEL_6317ac69330c495c8107695ae1e64378"
      }
     },
     "b6918cb65bbe43dda37753f86a26d1df": {
      "model_module": "@jupyter-widgets/base",
      "model_module_version": "1.2.0",
      "model_name": "LayoutModel",
      "state": {}
     },
     "b718aa605bad4b058901f6060fdd6a53": {
      "model_module": "@jupyter-widgets/controls",
      "model_module_version": "1.5.0",
      "model_name": "DescriptionStyleModel",
      "state": {
       "description_width": ""
      }
     },
     "b95cdc51c83c4674a0f15e2c5264e396": {
      "model_module": "@jupyter-widgets/base",
      "model_module_version": "1.2.0",
      "model_name": "LayoutModel",
      "state": {}
     },
     "ba7ae5278e1f4ec4934d9d2d21987b0b": {
      "model_module": "@jupyter-widgets/controls",
      "model_module_version": "1.5.0",
      "model_name": "DescriptionStyleModel",
      "state": {
       "description_width": ""
      }
     },
     "bb1fdca0ad8047e6a1dc7c4526e3f949": {
      "model_module": "@jupyter-widgets/base",
      "model_module_version": "1.2.0",
      "model_name": "LayoutModel",
      "state": {}
     },
     "be897c789a75438f9b1be888e7b6ad4c": {
      "model_module": "@jupyter-widgets/base",
      "model_module_version": "1.2.0",
      "model_name": "LayoutModel",
      "state": {}
     },
     "bf6f910c14834ee6b7e7a7d61eb1380d": {
      "model_module": "@jupyter-widgets/base",
      "model_module_version": "1.2.0",
      "model_name": "LayoutModel",
      "state": {}
     },
     "c0d33fa44a4a46e3a311c959cc8575f6": {
      "model_module": "@jupyter-widgets/controls",
      "model_module_version": "1.5.0",
      "model_name": "DescriptionStyleModel",
      "state": {
       "description_width": ""
      }
     },
     "c1ad54e53ffd45a6bb83efd9f6ac843f": {
      "model_module": "@jupyter-widgets/controls",
      "model_module_version": "1.5.0",
      "model_name": "DescriptionStyleModel",
      "state": {
       "description_width": ""
      }
     },
     "c228f454410446bc8b678a6b4fb49f3c": {
      "model_module": "@jupyter-widgets/base",
      "model_module_version": "1.2.0",
      "model_name": "LayoutModel",
      "state": {}
     },
     "c2718343944349bb9fa22102377860ae": {
      "model_module": "@jupyter-widgets/controls",
      "model_module_version": "1.5.0",
      "model_name": "SelectMultipleModel",
      "state": {
       "_options_labels": [
        "유아",
        "10대",
        "20대",
        "30대",
        "40대",
        "50대",
        "60대",
        "70대",
        "80대",
        "90대"
       ],
       "description": "연령대",
       "index": [
        0
       ],
       "layout": "IPY_MODEL_11f110e3ff904269b8e5472664facb6f",
       "rows": 10,
       "style": "IPY_MODEL_38222741de2341afbefb67ca845d5e98"
      }
     },
     "c3c4579214bc4436a003837f4acb391a": {
      "model_module": "@jupyter-widgets/controls",
      "model_module_version": "1.5.0",
      "model_name": "HBoxModel",
      "state": {
       "children": [
        "IPY_MODEL_7eec97b492f34e0fa89b0263a737ab60",
        "IPY_MODEL_067f78952db346909508bb1004c667e4",
        "IPY_MODEL_926fc4a2fbbf405d9e96552002a95939",
        "IPY_MODEL_1134cb311ffb4955a44fe7f407bd92a0"
       ],
       "layout": "IPY_MODEL_be897c789a75438f9b1be888e7b6ad4c"
      }
     },
     "c4140df3a2294935b60abddbd781d8f9": {
      "model_module": "@jupyter-widgets/controls",
      "model_module_version": "1.5.0",
      "model_name": "SelectMultipleModel",
      "state": {
       "_options_labels": [
        "Carrots",
        "Potatoes",
        "Tomatoes"
       ],
       "description": "Veg",
       "index": [
        1
       ],
       "layout": "IPY_MODEL_b6918cb65bbe43dda37753f86a26d1df",
       "rows": 5,
       "style": "IPY_MODEL_04c3df8be36e467386a38167f8c06029"
      }
     },
     "c75b52519bef4fec92292cd7de284dd8": {
      "model_module": "@jupyter-widgets/controls",
      "model_module_version": "1.5.0",
      "model_name": "SelectMultipleModel",
      "state": {
       "_options_labels": [
        "Apples",
        "Oranges",
        "Pears"
       ],
       "description": "약국명",
       "index": [
        1
       ],
       "layout": "IPY_MODEL_88521cacfa4945fdbdc8d9849d93c22a",
       "rows": 10,
       "style": "IPY_MODEL_98f546a3da154be9a7c614c9e07d9e56"
      }
     },
     "c7e3f5f4a9f64796b23bcd6aaa876330": {
      "model_module": "@jupyter-widgets/base",
      "model_module_version": "1.2.0",
      "model_name": "LayoutModel",
      "state": {}
     },
     "c9c1e5d507374b0d9f81a798c33a4f82": {
      "model_module": "@jupyter-widgets/base",
      "model_module_version": "1.2.0",
      "model_name": "LayoutModel",
      "state": {}
     },
     "cb0ddbe26ab44d4d82086344987fc85a": {
      "model_module": "@jupyter-widgets/base",
      "model_module_version": "1.2.0",
      "model_name": "LayoutModel",
      "state": {}
     },
     "cb2ab01dc36d4e6b874084e84bb4d99c": {
      "model_module": "@jupyter-widgets/controls",
      "model_module_version": "1.5.0",
      "model_name": "SelectMultipleModel",
      "state": {
       "_options_labels": [
        "마름",
        "보통",
        "통통",
        "뚱뚱"
       ],
       "description": "고객체형",
       "index": [
        2
       ],
       "layout": "IPY_MODEL_1a964721888a4837a8b84d5bf40f1297",
       "rows": 4,
       "style": "IPY_MODEL_9e12b65f713e4d6c929577bfc7e9917d"
      }
     },
     "cbf5e3a002e04ee39726d77bd4a5b194": {
      "model_module": "@jupyter-widgets/controls",
      "model_module_version": "1.5.0",
      "model_name": "DescriptionStyleModel",
      "state": {
       "description_width": ""
      }
     },
     "ce6eb3c215804020ba417450a0ce5075": {
      "model_module": "@jupyter-widgets/controls",
      "model_module_version": "1.5.0",
      "model_name": "HBoxModel",
      "state": {
       "children": [
        "IPY_MODEL_7d5355674b05456e940cb056e0d2a558",
        "IPY_MODEL_cf440affc7ff44239a7be1a4a30d268b",
        "IPY_MODEL_5365ff79a68a420e9b8be2d567ec1f5d",
        "IPY_MODEL_68c4eb15184541e180f9b56e38e25503"
       ],
       "layout": "IPY_MODEL_24a46ea82c8a4034a842e3afddaaa353"
      }
     },
     "cf440affc7ff44239a7be1a4a30d268b": {
      "model_module": "@jupyter-widgets/controls",
      "model_module_version": "1.5.0",
      "model_name": "SelectMultipleModel",
      "state": {
       "_options_labels": [
        "남",
        "여"
       ],
       "description": "성별",
       "index": [
        0
       ],
       "layout": "IPY_MODEL_058a4c3736d74762a6215ca8f749f536",
       "rows": 2,
       "style": "IPY_MODEL_933eb5ee26804c65ae1a17885c04495a"
      }
     },
     "cf7c8dc075844ee2a034f2585881f96a": {
      "model_module": "@jupyter-widgets/base",
      "model_module_version": "1.2.0",
      "model_name": "LayoutModel",
      "state": {}
     },
     "d023d610bc1b4c6786d30465a0a271b3": {
      "model_module": "@jupyter-widgets/base",
      "model_module_version": "1.2.0",
      "model_name": "LayoutModel",
      "state": {}
     },
     "d1c17583c8784df48bf6cc49567bf5de": {
      "model_module": "@jupyter-widgets/controls",
      "model_module_version": "1.5.0",
      "model_name": "DescriptionStyleModel",
      "state": {
       "description_width": ""
      }
     },
     "d1dfc2e8fded43d69cae145d6621b75e": {
      "model_module": "@jupyter-widgets/controls",
      "model_module_version": "1.5.0",
      "model_name": "SelectMultipleModel",
      "state": {
       "_options_labels": [
        "마름",
        "보통",
        "통통",
        "뚱뚱"
       ],
       "description": "고객체형",
       "index": [
        1
       ],
       "layout": "IPY_MODEL_0d88b3961d3542ab9b6e73f130d52dbe",
       "rows": 4,
       "style": "IPY_MODEL_1d864f118c41474abf94032e2c8c9854"
      }
     },
     "d274fb7d2ae14305a5a0ae472a0f4bb6": {
      "model_module": "@jupyter-widgets/controls",
      "model_module_version": "1.5.0",
      "model_name": "DescriptionStyleModel",
      "state": {
       "description_width": ""
      }
     },
     "d592c02648374700ac374289454b8673": {
      "model_module": "@jupyter-widgets/base",
      "model_module_version": "1.2.0",
      "model_name": "LayoutModel",
      "state": {
       "width": "200px"
      }
     },
     "d5c41d08bec5475da31a7872481b92b6": {
      "model_module": "@jupyter-widgets/controls",
      "model_module_version": "1.5.0",
      "model_name": "SelectMultipleModel",
      "state": {
       "_options_labels": [
        "Apples",
        "Oranges",
        "Pears"
       ],
       "description": "Fruits",
       "index": [
        0
       ],
       "layout": "IPY_MODEL_71a2d5afe0044de6b498b6f531dd1e20",
       "rows": 5,
       "style": "IPY_MODEL_cbf5e3a002e04ee39726d77bd4a5b194"
      }
     },
     "dd03f700b3bc4dc6bb3ab3e8104d9166": {
      "model_module": "@jupyter-widgets/controls",
      "model_module_version": "1.5.0",
      "model_name": "DescriptionStyleModel",
      "state": {
       "description_width": ""
      }
     },
     "de4b061dd46a4181b5eb68e25dfbc68d": {
      "model_module": "@jupyter-widgets/controls",
      "model_module_version": "1.5.0",
      "model_name": "DescriptionStyleModel",
      "state": {
       "description_width": ""
      }
     },
     "e12e024d9fc14ccfb60a01db4ebd5ad8": {
      "model_module": "@jupyter-widgets/controls",
      "model_module_version": "1.5.0",
      "model_name": "DescriptionStyleModel",
      "state": {
       "description_width": ""
      }
     },
     "e218d6814cb3441ba78d5106185b6c2e": {
      "model_module": "@jupyter-widgets/controls",
      "model_module_version": "1.5.0",
      "model_name": "SelectMultipleModel",
      "state": {
       "_options_labels": [
        "마름",
        "보통",
        "통통",
        "뚱뚱"
       ],
       "description": "고객체형",
       "index": [
        1
       ],
       "layout": "IPY_MODEL_86e5f1143e304bcfb1a524e27ccd202c",
       "rows": 4,
       "style": "IPY_MODEL_859f90fe7a254ffe999219cb8b758f19"
      }
     },
     "e47cee75542a4d6a9780ed4edca2239c": {
      "model_module": "@jupyter-widgets/controls",
      "model_module_version": "1.5.0",
      "model_name": "HBoxModel",
      "state": {
       "children": [
        "IPY_MODEL_46945bef65fd495d971a029fd1664a45",
        "IPY_MODEL_f90b18d5e5674c9a9a3d2753365e6327"
       ],
       "layout": "IPY_MODEL_ee3ce07c78cd40ea99d3d359292d170c"
      }
     },
     "e67bde1dee7649bfa44d518960fab6a5": {
      "model_module": "@jupyter-widgets/base",
      "model_module_version": "1.2.0",
      "model_name": "LayoutModel",
      "state": {}
     },
     "e853d050938f40deb88787a6756f1ba2": {
      "model_module": "@jupyter-widgets/base",
      "model_module_version": "1.2.0",
      "model_name": "LayoutModel",
      "state": {
       "width": "150px"
      }
     },
     "e9cfd412e40541ee8a0342c0752e23b3": {
      "model_module": "@jupyter-widgets/controls",
      "model_module_version": "1.5.0",
      "model_name": "SelectMultipleModel",
      "state": {
       "_options_labels": [
        "Apples",
        "Oranges",
        "Pears"
       ],
       "description": "약국명",
       "index": [
        1
       ],
       "layout": "IPY_MODEL_8382549922eb475595ff9edeb3bac931",
       "rows": 10,
       "style": "IPY_MODEL_5c8585251bee4cad8c4261e36279f761"
      }
     },
     "eade9ada0f2d4234b8573765aebc268e": {
      "model_module": "@jupyter-widgets/controls",
      "model_module_version": "1.5.0",
      "model_name": "SelectMultipleModel",
      "state": {
       "_options_labels": [
        "통통",
        "뚱뚱",
        "마름"
       ],
       "description": "고객체형2",
       "index": [
        2
       ],
       "layout": "IPY_MODEL_e853d050938f40deb88787a6756f1ba2",
       "rows": 4,
       "style": "IPY_MODEL_2577cb4fbd774827b96de9f194efd2cf"
      }
     },
     "ee3ce07c78cd40ea99d3d359292d170c": {
      "model_module": "@jupyter-widgets/base",
      "model_module_version": "1.2.0",
      "model_name": "LayoutModel",
      "state": {}
     },
     "ef1df37c321a4b918756dd26e1349621": {
      "model_module": "@jupyter-widgets/base",
      "model_module_version": "1.2.0",
      "model_name": "LayoutModel",
      "state": {}
     },
     "f00351a267834bf8b354b53708f17991": {
      "model_module": "@jupyter-widgets/base",
      "model_module_version": "1.2.0",
      "model_name": "LayoutModel",
      "state": {}
     },
     "f39fd28373b041b19a90aed4a7478def": {
      "model_module": "@jupyter-widgets/base",
      "model_module_version": "1.2.0",
      "model_name": "LayoutModel",
      "state": {
       "width": "150px"
      }
     },
     "f3a77507bb6b4d0e95f7a018e83df36f": {
      "model_module": "@jupyter-widgets/base",
      "model_module_version": "1.2.0",
      "model_name": "LayoutModel",
      "state": {
       "width": "100px"
      }
     },
     "f53fb4bb9e0247ce89ebc9a750c9a688": {
      "model_module": "@jupyter-widgets/base",
      "model_module_version": "1.2.0",
      "model_name": "LayoutModel",
      "state": {}
     },
     "f6803a7557de4e518f35d04425c6671f": {
      "model_module": "@jupyter-widgets/controls",
      "model_module_version": "1.5.0",
      "model_name": "SelectMultipleModel",
      "state": {
       "_options_labels": [
        "유아",
        "10대",
        "20대",
        "30대",
        "40대",
        "50대",
        "60대",
        "70대",
        "80대",
        "90대"
       ],
       "description": "연령대",
       "index": [
        0
       ],
       "layout": "IPY_MODEL_d023d610bc1b4c6786d30465a0a271b3",
       "rows": 10,
       "style": "IPY_MODEL_851faa82b9cc4432ac8db3d4cff3434e"
      }
     },
     "f73019705ff449ffa8908c8113d8ee19": {
      "model_module": "@jupyter-widgets/base",
      "model_module_version": "1.2.0",
      "model_name": "LayoutModel",
      "state": {
       "width": "150px"
      }
     },
     "f8938f5010a347cf9f5aa2966925dbd8": {
      "model_module": "@jupyter-widgets/controls",
      "model_module_version": "1.5.0",
      "model_name": "SelectMultipleModel",
      "state": {
       "_options_labels": [
        "통통",
        "뚱뚱",
        "마름"
       ],
       "description": "고객체형2",
       "index": [
        2
       ],
       "layout": "IPY_MODEL_b0d1b9ba417444eca8f2ad29b7a132f0",
       "rows": 4,
       "style": "IPY_MODEL_807b3b4c8e1541cda009c9df375dfb12"
      }
     },
     "f90b18d5e5674c9a9a3d2753365e6327": {
      "model_module": "@jupyter-widgets/controls",
      "model_module_version": "1.5.0",
      "model_name": "SelectMultipleModel",
      "state": {
       "_options_labels": [
        "Carrots",
        "Potatoes",
        "Tomatoes"
       ],
       "description": "Veg",
       "index": [
        2
       ],
       "layout": "IPY_MODEL_c7e3f5f4a9f64796b23bcd6aaa876330",
       "rows": 5,
       "style": "IPY_MODEL_32df40cea74e4a1581b4427a1e81d3e9"
      }
     },
     "fbd901d4b47a46238761ac2cb538179b": {
      "model_module": "@jupyter-widgets/controls",
      "model_module_version": "1.5.0",
      "model_name": "HBoxModel",
      "state": {
       "children": [
        "IPY_MODEL_984c381df31244d8abb24572a2778ea8",
        "IPY_MODEL_6cda4ca01c1e48749689dc4ce5e02766",
        "IPY_MODEL_84c4c99b1e0b40bc8028ad3d752ce4ff",
        "IPY_MODEL_b28a41a9b79c4dc88adfb85bb1e079cf"
       ],
       "layout": "IPY_MODEL_06f75d0f65ae4420a1ac0e29b8908000"
      }
     }
    },
    "version_major": 2,
    "version_minor": 0
   }
  }
 },
 "nbformat": 4,
 "nbformat_minor": 4
}
