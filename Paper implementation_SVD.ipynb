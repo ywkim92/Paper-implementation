{
 "cells": [
  {
   "cell_type": "markdown",
   "metadata": {},
   "source": [
    "# SVD"
   ]
  },
  {
   "cell_type": "markdown",
   "metadata": {},
   "source": [
    "[Relationship between PCA and SVD](https://stats.stackexchange.com/a/134283)"
   ]
  },
  {
   "cell_type": "markdown",
   "metadata": {},
   "source": [
    "$\\large \\mathbf{X} = {\\begin{pmatrix} x_{1,1}&\\cdots&x_{1,p} \\\\ \\vdots & \\ddots &\\vdots \\\\ x_{n,1}&\\cdots&x_{n,p} \\end{pmatrix} }_{n\\times p} = {\\begin{pmatrix} X_1 & \\cdots&X_p \\end{pmatrix} }_{n\\times p}$ where $n$ is the number of samples and $p$ is the number of features.\n",
    "<br/><br/>\n",
    "$\\large \\mathrm{Cov}(X) = {\\begin{pmatrix} \\mathrm{cov}[X_1, X_1] & \\cdots & \\mathrm{cov}[X_1, X_p] \\\\ \\vdots & \\ddots &\\vdots \\\\ \\mathrm{cov}[X_p, X_1] & \\cdots & \\mathrm{cov}[X_p, X_p]\\end{pmatrix}}_{p\\times p} = {\\begin{pmatrix} \\mathrm{var}[X_1] & \\cdots & \\mathrm{cov}[X_1, X_p] \\\\ \\vdots & \\ddots &\\vdots \\\\ \\mathrm{cov}[X_p, X_1] & \\cdots & \\mathrm{var}[X_p]\\end{pmatrix}}_{p\\times p}$"
   ]
  },
  {
   "cell_type": "code",
   "execution_count": 218,
   "metadata": {},
   "outputs": [],
   "source": [
    "import numpy as np\n",
    "import pandas as pd\n",
    "import matplotlib.pyplot as plt\n",
    "import seaborn as sns\n",
    "import scipy"
   ]
  },
  {
   "cell_type": "code",
   "execution_count": 2,
   "metadata": {},
   "outputs": [],
   "source": [
    "from sklearn.decomposition import PCA\n",
    "from sklearn.model_selection import train_test_split\n",
    "from sklearn.datasets import make_classification\n",
    "from sklearn.preprocessing import StandardScaler, MinMaxScaler, RobustScaler\n",
    "from sklearn.metrics.pairwise import cosine_similarity\n",
    "from sklearn.metrics.pairwise import cosine_similarity"
   ]
  },
  {
   "cell_type": "markdown",
   "metadata": {},
   "source": [
    "$\\Large \\bullet \\textbf{ Gram-Schmidt process}$\n",
    "\n",
    "$\\large \\displaystyle \\mathrm{V} = \\begin{pmatrix} \\mathbf{v}_1 &\\mathbf{v}_2 & \\cdots & \\mathbf{v}_p \\end{pmatrix}$\n",
    ", where  $\\mathbf{v}_i$ for $i \\in \\{1,2,\\dots,p\\}$ are column vectors.\n",
    "\n",
    "$\\large \\begin{align}  \\mathbf{u}_1 &= \\mathbf{v}_1 \\\\ \\mathbf{u}_2 &= \\mathbf{v}_2 - \\frac{\\left\\langle \\mathbf{u}_1, \\mathbf{v}_2 \\right\\rangle}{\\left\\langle \\mathbf{u}_1, \\mathbf{u}_1 \\right\\rangle} \\mathbf{u}_1\\\\ \\mathbf{u}_3 &= \\mathbf{v}_3- \\frac{\\left\\langle \\mathbf{u}_2, \\mathbf{v}_3 \\right\\rangle}{\\left\\langle \\mathbf{u}_2, \\mathbf{u}_2\\right\\rangle} \\mathbf{u}_2 - \\frac{\\left\\langle \\mathbf{u}_1, \\mathbf{v}_3 \\right\\rangle}{\\left\\langle \\mathbf{u}_1, \\mathbf{u}_1\\right\\rangle} \\mathbf{u}_1\\\\ &\\ \\vdots \\nonumber \\\\\\mathbf{u}_p &= \\mathbf{v}_p - \\sum^{p-1}_{i=1} \\frac{\\langle \\mathbf{u}_i, \\mathbf{v}_p \\rangle}{\\left\\langle \\mathbf{u}_i, \\mathbf{u}_i\\right\\rangle} \\mathbf{u}_i\\\\\n",
    "\\end{align} $\n",
    "\n",
    "The orthogonal column vectors matrix is\n",
    "\n",
    "$\\large \\therefore \\mathrm{U} = \\begin{pmatrix} \\mathbf{u}_1 & \\mathbf{u}_2 &\\cdots & \\mathbf{u}_p \\end{pmatrix}$"
   ]
  },
  {
   "cell_type": "code",
   "execution_count": 162,
   "metadata": {},
   "outputs": [],
   "source": [
    "class gram_schmidt:\n",
    "    '''def __init__(self, X):\n",
    "        self.X = X.astype(float)'''\n",
    "        \n",
    "    def _proj(self, u, v):\n",
    "        return (np.vdot(v, u) / np.vdot(u,u))*u\n",
    "    \n",
    "    def fit_transform(self, X, col_vec = True, normal = True):\n",
    "        #X = X.astype(float)\n",
    "        if col_vec:\n",
    "            mat = X.copy()\n",
    "        else:\n",
    "            mat = (X.T).copy()\n",
    "        \n",
    "        N = mat.shape[1]\n",
    "        mat_orth = np.array([]).reshape(mat.shape[0], -1)\n",
    "        for n in range(N):\n",
    "            u = mat[:, n:n+1].copy()\n",
    "            if n ==0:\n",
    "                mat_orth = np.hstack((mat_orth,u))\n",
    "            else:\n",
    "                for i in range(n):\n",
    "                    u -= self._proj(mat_orth[:, i:i+1], mat[:, n:n+1])\n",
    "                mat_orth = np.hstack((mat_orth,u))\n",
    "        \n",
    "        if normal:\n",
    "            result = mat_orth / np.linalg.norm(mat_orth, axis=0)\n",
    "            if col_vec:\n",
    "                return result\n",
    "            else:\n",
    "                return result.T\n",
    "        else:\n",
    "            if col_vec:\n",
    "                return mat_orth\n",
    "            else:\n",
    "                return mat_orth.T"
   ]
  },
  {
   "cell_type": "code",
   "execution_count": 263,
   "metadata": {},
   "outputs": [],
   "source": [
    "'''def svd(data, reduced='thin'):\n",
    "    dim = data.shape[1]\n",
    "    rank = np.linalg.matrix_rank(data)\n",
    "    relu = np.vectorize(lambda x: np.real(x) if np.real(x)>=0 else .0)\n",
    "    \n",
    "    eval_u, evec_u = np.linalg.eig(data.dot(data.T), )\n",
    "    eval_v, evec_v = np.linalg.eig(data.T.dot(data), )\n",
    "    \n",
    "    gs = gram_schmidt()\n",
    "    evec_u_gs = gs.fit_transform(evec_u)\n",
    "    evec_v_gs = gs.fit_transform(evec_v)\n",
    "    print(np.linalg.det(evec_u))\n",
    "    print(np.linalg.det(evec_u_gs))\n",
    "    \n",
    "    \n",
    "    s = eval_v.copy()\n",
    "    s = np.sqrt(relu(s))\n",
    "    s1 = np.sort(s)[::-1]\n",
    "    if dim > rank:\n",
    "        s1[-(dim-rank):] = 0\n",
    "    \n",
    "    u_idx = np.sqrt(relu(np.real(eval_u))).argsort()[-dim:][::-1]\n",
    "    if reduced=='thin':\n",
    "        u = evec_u_gs[:, u_idx ]\n",
    "        S = np.eye(dim)\n",
    "        S *= s1     \n",
    "    else:        \n",
    "        u = np.hstack((evec_u_gs[:, u_idx ], np.delete(evec_u_gs, u_idx, axis=1)))\n",
    "        S = np.zeros(data.shape)\n",
    "        np.fill_diagonal(S, s1)\n",
    "    \n",
    "    v_idx = np.sqrt(relu(np.real(eval_v))).argsort()[-dim:][::-1]\n",
    "    v = evec_v_gs[:, v_idx ]\n",
    "    \n",
    "    return u, S, s, v'''"
   ]
  },
  {
   "cell_type": "code",
   "execution_count": 283,
   "metadata": {},
   "outputs": [],
   "source": [
    "def svd_thin(data, ):\n",
    "    dim = data.shape[1]\n",
    "    rank = np.linalg.matrix_rank(data)\n",
    "    relu = np.vectorize(lambda x: np.real(x) if np.real(x)>=0 else .0)\n",
    "    \n",
    "    #eval_u, evec_u = np.linalg.eig(data.dot(data.T), )\n",
    "    eval_v, evec_v = np.linalg.eig(data.T.dot(data), )\n",
    "    \n",
    "    gs = gram_schmidt()\n",
    "    #evec_u_gs = gs.fit_transform(evec_u)\n",
    "    evec_v_gs = gs.fit_transform(evec_v)\n",
    "        \n",
    "    s = eval_v.copy()\n",
    "    s = np.sqrt(relu(s))\n",
    "    s1 = np.sort(s)[::-1]\n",
    "    if dim > rank:\n",
    "        s1[-(dim-rank):] = 0\n",
    "    \n",
    "    S = np.eye(dim)*s1\n",
    "    \n",
    "    v_idx = np.sqrt(relu(np.real(eval_v))).argsort()[-dim:][::-1]\n",
    "    v = evec_v_gs[:, v_idx ]\n",
    "    \n",
    "    u = data.dot(v)/s1\n",
    "    \n",
    "    return u, S,  v"
   ]
  },
  {
   "cell_type": "markdown",
   "metadata": {},
   "source": [
    "# Codes"
   ]
  },
  {
   "cell_type": "code",
   "execution_count": 295,
   "metadata": {},
   "outputs": [],
   "source": [
    "data = make_classification(n_features = 6, n_redundant=0,\n",
    "                           n_samples=10**3, weights=[0.9], random_state= 42, )"
   ]
  },
  {
   "cell_type": "code",
   "execution_count": 296,
   "metadata": {},
   "outputs": [],
   "source": [
    "data_x = data[0]\n",
    "data_y = data[1]"
   ]
  },
  {
   "cell_type": "markdown",
   "metadata": {},
   "source": [
    "$\\large \\displaystyle \\mathbf{X}_{\\normalsize standardized} = \\begin{pmatrix} \\frac{X_1 -  \\mu_1}{\\sigma_1} & \\frac{X_2 -  \\mu_2}{\\sigma_2} & \\cdots &\\frac{X_p -  \\mu_p}{\\sigma_p}  \\end{pmatrix} $\n",
    ", where $\\mu_i$ and $\\sigma_i$ are mean and standard deviation of the vector $X_i$ for $i \\in \\{1,2,\\cdots,p\\}$.\n",
    "\n",
    "Therefore, the means of each column of matrix $\\mathbf{X}_{\\normalsize standardized}$ are all 0 and standard deviations are all 1."
   ]
  },
  {
   "cell_type": "code",
   "execution_count": 297,
   "metadata": {},
   "outputs": [],
   "source": [
    "scaler = StandardScaler()\n",
    "data_x_std = scaler.fit_transform(data_x)"
   ]
  },
  {
   "cell_type": "markdown",
   "metadata": {},
   "source": [
    "$\\large X_{n\\times p} = U\\; \\Sigma\\; V $\n",
    "\n",
    "$U_{n\\times n} =$ orthonormal eigenvectors of $XX^* $\n",
    "\n",
    "$\\Sigma_{n\\times p} =$  the square roots of the non-negative eigenvalues of both $X X^*$ and $X^* X $\n",
    "\n",
    "${V^*}_{p\\times p} =$ orthonormal eigenvectors of $X^*X$"
   ]
  },
  {
   "cell_type": "markdown",
   "metadata": {},
   "source": [
    "## numpy"
   ]
  },
  {
   "cell_type": "code",
   "execution_count": 307,
   "metadata": {},
   "outputs": [],
   "source": [
    "u, s, vh = np.linalg.svd(data_x_std, full_matrices=True, )"
   ]
  },
  {
   "cell_type": "markdown",
   "metadata": {},
   "source": [
    "$U$ and $V$ are all unitary matrices,\n",
    "\n",
    "i.e. $U U^* = V V^* = I$"
   ]
  },
  {
   "cell_type": "code",
   "execution_count": 308,
   "metadata": {},
   "outputs": [
    {
     "data": {
      "text/plain": [
       "True"
      ]
     },
     "execution_count": 308,
     "metadata": {},
     "output_type": "execute_result"
    }
   ],
   "source": [
    "np.allclose(u.dot(u.conjugate().T), np.eye(u.shape[0]))"
   ]
  },
  {
   "cell_type": "code",
   "execution_count": 309,
   "metadata": {},
   "outputs": [
    {
     "data": {
      "text/plain": [
       "True"
      ]
     },
     "execution_count": 309,
     "metadata": {},
     "output_type": "execute_result"
    }
   ],
   "source": [
    "np.allclose(vh.dot(vh.conjugate().T), np.eye(vh.shape[0]))"
   ]
  },
  {
   "cell_type": "code",
   "execution_count": 310,
   "metadata": {},
   "outputs": [],
   "source": [
    "S = np.zeros(data_x_std.shape, float)\n",
    "np.fill_diagonal(S, s)"
   ]
  },
  {
   "cell_type": "code",
   "execution_count": 311,
   "metadata": {},
   "outputs": [
    {
     "data": {
      "text/plain": [
       "True"
      ]
     },
     "execution_count": 311,
     "metadata": {},
     "output_type": "execute_result"
    }
   ],
   "source": [
    "np.allclose(np.dot(u, np.dot(S, vh)), data_x_std )"
   ]
  },
  {
   "cell_type": "markdown",
   "metadata": {},
   "source": [
    "$\\large \\therefore X \\simeq U \\Sigma V$"
   ]
  },
  {
   "cell_type": "markdown",
   "metadata": {},
   "source": [
    "## mine: reduced(thin) SVD"
   ]
  },
  {
   "cell_type": "code",
   "execution_count": 312,
   "metadata": {},
   "outputs": [],
   "source": [
    "uu, ss, vv = svd_thin(data_x_std)"
   ]
  },
  {
   "cell_type": "code",
   "execution_count": 313,
   "metadata": {},
   "outputs": [
    {
     "data": {
      "text/plain": [
       "True"
      ]
     },
     "execution_count": 313,
     "metadata": {},
     "output_type": "execute_result"
    }
   ],
   "source": [
    "np.allclose(vh.dot(vh.conjugate().T), np.eye(vh.shape[0]))"
   ]
  },
  {
   "cell_type": "code",
   "execution_count": 316,
   "metadata": {},
   "outputs": [
    {
     "data": {
      "text/plain": [
       "True"
      ]
     },
     "execution_count": 316,
     "metadata": {},
     "output_type": "execute_result"
    }
   ],
   "source": [
    "np.allclose(np.dot(uu, np.dot(ss, vv.T)), data_x_std )"
   ]
  },
  {
   "cell_type": "code",
   "execution_count": null,
   "metadata": {},
   "outputs": [],
   "source": []
  }
 ],
 "metadata": {
  "kernelspec": {
   "display_name": "Python 3",
   "language": "python",
   "name": "python3"
  },
  "language_info": {
   "codemirror_mode": {
    "name": "ipython",
    "version": 3
   },
   "file_extension": ".py",
   "mimetype": "text/x-python",
   "name": "python",
   "nbconvert_exporter": "python",
   "pygments_lexer": "ipython3",
   "version": "3.8.5"
  },
  "widgets": {
   "application/vnd.jupyter.widget-state+json": {
    "state": {},
    "version_major": 2,
    "version_minor": 0
   }
  }
 },
 "nbformat": 4,
 "nbformat_minor": 4
}
