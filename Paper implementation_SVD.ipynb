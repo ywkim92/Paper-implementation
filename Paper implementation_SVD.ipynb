{
 "cells": [
  {
   "cell_type": "markdown",
   "metadata": {},
   "source": [
    "# SVD"
   ]
  },
  {
   "cell_type": "markdown",
   "metadata": {},
   "source": [
    "[Relationship between PCA and SVD](https://stats.stackexchange.com/a/134283)"
   ]
  },
  {
   "cell_type": "markdown",
   "metadata": {},
   "source": [
    "$\\large \\mathbf{X} = {\\begin{pmatrix} x_{1,1}&\\cdots&x_{1,p} \\\\ \\vdots & \\ddots &\\vdots \\\\ x_{n,1}&\\cdots&x_{n,p} \\end{pmatrix} }_{n\\times p} = {\\begin{pmatrix} X_1 & \\cdots&X_p \\end{pmatrix} }_{n\\times p}$ where $n$ is the number of samples and $p$ is the number of features.\n",
    "<br/><br/>\n",
    "$\\large \\mathrm{Cov}(X) = {\\begin{pmatrix} \\mathrm{cov}[X_1, X_1] & \\cdots & \\mathrm{cov}[X_1, X_p] \\\\ \\vdots & \\ddots &\\vdots \\\\ \\mathrm{cov}[X_p, X_1] & \\cdots & \\mathrm{cov}[X_p, X_p]\\end{pmatrix}}_{p\\times p} = {\\begin{pmatrix} \\mathrm{var}[X_1] & \\cdots & \\mathrm{cov}[X_1, X_p] \\\\ \\vdots & \\ddots &\\vdots \\\\ \\mathrm{cov}[X_p, X_1] & \\cdots & \\mathrm{var}[X_p]\\end{pmatrix}}_{p\\times p}$"
   ]
  },
  {
   "cell_type": "code",
   "execution_count": 1,
   "metadata": {},
   "outputs": [],
   "source": [
    "import numpy as np\n",
    "import pandas as pd\n",
    "import matplotlib.pyplot as plt\n",
    "import seaborn as sns"
   ]
  },
  {
   "cell_type": "code",
   "execution_count": 2,
   "metadata": {},
   "outputs": [],
   "source": [
    "from sklearn.decomposition import PCA\n",
    "from sklearn.model_selection import train_test_split\n",
    "from sklearn.datasets import make_classification\n",
    "from sklearn.preprocessing import StandardScaler, MinMaxScaler, RobustScaler\n",
    "from sklearn.metrics.pairwise import cosine_similarity\n",
    "from sklearn.metrics.pairwise import cosine_similarity"
   ]
  },
  {
   "cell_type": "markdown",
   "metadata": {},
   "source": [
    "$\\Large \\bullet \\textbf{ Gram-Schmidt process}\\\\\n",
    "\\large \\displaystyle {\\mathbf{V} = \\begin{pmatrix} \\mathbf{v}_1 &\\mathbf{v}_2 & \\cdots & \\mathbf{v}_p \\end{pmatrix} \\normalsize{\\text{ where  $\\mathbf{v}_i\\ \\text{for}\\ i \\in \\{1,2,\\dots,p\\}$ are column vectors} } \\\\\n",
    "\\begin{align}  \\mathbf{u}_1 &= \\mathbf{v}_1 \\\\ \\mathbf{u}_2 &= \\mathbf{v}_2 - \\frac{\\left\\langle \\mathbf{u}_1, \\mathbf{v}_2 \\right\\rangle}{\\left\\langle \\mathbf{u}_1, \\mathbf{u}_1 \\right\\rangle} \\mathbf{u}_1\\\\ \\mathbf{u}_3 &= \\mathbf{v}_3- \\frac{\\left\\langle \\mathbf{u}_2, \\mathbf{v}_3 \\right\\rangle}{\\left\\langle \\mathbf{u}_2, \\mathbf{u}_2\\right\\rangle} \\mathbf{u}_2 - \\frac{\\left\\langle \\mathbf{u}_1, \\mathbf{v}_3 \\right\\rangle}{\\left\\langle \\mathbf{u}_1, \\mathbf{u}_1\\right\\rangle} \\mathbf{u}_1\\\\ &\\ \\vdots \\\\\\mathbf{u}_p &= \\mathbf{v}_p - \\sum^{p-1}_{i=1} \\frac{\\langle \\mathbf{u}_i, \\mathbf{v}_p \\rangle}{\\left\\langle \\mathbf{u}_i, \\mathbf{u}_i\\right\\rangle} \\mathbf{u}_i\\\\\n",
    "\\end{align} \\\\\n",
    "\\therefore \\mathbf{U} = \\begin{pmatrix} \\mathbf{u}_1 & \\mathbf{u}_2 &\\cdots & \\mathbf{u}_p \\end{pmatrix}}$"
   ]
  },
  {
   "cell_type": "code",
   "execution_count": 81,
   "metadata": {},
   "outputs": [],
   "source": [
    "class gram_schmidt:\n",
    "    '''def __init__(self, X):\n",
    "        self.X = X.astype(float)'''\n",
    "        \n",
    "    def _proj(self, u, v):\n",
    "        return ((u.T).dot(v) / (u.T).dot(u))*u\n",
    "    \n",
    "    def orthonormal(self, X, col_vec = True, normal = True):\n",
    "        #X = X.astype(float)\n",
    "        if col_vec:\n",
    "            mat = X.copy()\n",
    "        else:\n",
    "            mat = (X.T).copy()\n",
    "        \n",
    "        N = mat.shape[1]\n",
    "        mat_orth = np.array([]).reshape(mat.shape[0], -1)\n",
    "        for n in range(N):\n",
    "            u = mat[:, n:n+1].copy()\n",
    "            if n ==0:\n",
    "                mat_orth = np.hstack((mat_orth,u))\n",
    "            else:\n",
    "                for i in range(n):\n",
    "                    u -= self._proj(mat_orth[:, i:i+1], mat[:, n:n+1])\n",
    "                mat_orth = np.hstack((mat_orth,u))\n",
    "        \n",
    "        if normal:\n",
    "            result = mat_orth / np.linalg.norm(mat_orth, axis=0)\n",
    "            if col_vec:\n",
    "                return result\n",
    "            else:\n",
    "                return result.T\n",
    "        else:\n",
    "            if col_vec:\n",
    "                return mat_orth\n",
    "            else:\n",
    "                return mat_orth.T"
   ]
  },
  {
   "cell_type": "markdown",
   "metadata": {},
   "source": [
    "# Codes"
   ]
  },
  {
   "cell_type": "code",
   "execution_count": 3,
   "metadata": {},
   "outputs": [],
   "source": [
    "data = make_classification(#n_features=4, \n",
    "                           n_samples=10**3, weights=[0.9], random_state= 42, )\n",
    "#data = make_classification(n_features=2, n_informative=2,n_redundant=0,n_samples=1000, n_clusters_per_class=2, weights=[0.9], random_state= 42, )"
   ]
  },
  {
   "cell_type": "code",
   "execution_count": 4,
   "metadata": {},
   "outputs": [],
   "source": [
    "X_train, X_test, y_train, y_test = train_test_split(data[0], data[1], test_size = .2, random_state=42,)"
   ]
  },
  {
   "cell_type": "markdown",
   "metadata": {},
   "source": [
    "$\\large \\mathbf{X}_{\\normalsize scaled} = \\begin{pmatrix} \\frac{X_1 -  \\mu_1}{\\sigma_1} & \\frac{X_2 -  \\mu_2}{\\sigma_2} & \\cdots &\\frac{X_p -  \\mu_p}{\\sigma_p}  \\end{pmatrix} \\normalsize \\text{, where $\\mu_i$ and $\\sigma_i$ are means and standard deviations of vector $X_i$ for $i \\in \\{1,2,\\cdots,p\\}$.}\\\\\n",
    "\\text{Therefore, the means of each column of matrix $\\mathbf{X}_{\\normalsize scaled}$ are all 0 and standard deviations are all 1.} $"
   ]
  },
  {
   "cell_type": "code",
   "execution_count": 5,
   "metadata": {},
   "outputs": [],
   "source": [
    "pca = PCA(n_components=2, random_state=42, svd_solver='auto')\n",
    "\n",
    "scaler = StandardScaler()\n",
    "X_train_sc = scaler.fit_transform(X_train)\n",
    "xpca = pca.fit_transform(X_train_sc)"
   ]
  },
  {
   "cell_type": "markdown",
   "metadata": {},
   "source": [
    "$\n",
    "\\large {X = U\\; \\Sigma\\; V \\\\\n",
    "U = \\normalsize{\\text{orthonormal eigenvectors of }} M M^* \\\\\n",
    "S = \\normalsize{\\text{eigenvalues of both of}}  M M^* and M^* M \\\\\n",
    "V^* = \\normalsize{\\text{orthonormal eigenvectors of }} M^* M\n",
    "}$"
   ]
  },
  {
   "cell_type": "code",
   "execution_count": 6,
   "metadata": {},
   "outputs": [],
   "source": [
    "u, s, v = np.linalg.svd(X_train_sc, full_matrices=True, )"
   ]
  },
  {
   "cell_type": "code",
   "execution_count": 14,
   "metadata": {},
   "outputs": [],
   "source": [
    "S = np.zeros(X_train_sc.shape, float)\n",
    "np.fill_diagonal(S, s)"
   ]
  },
  {
   "cell_type": "code",
   "execution_count": 17,
   "metadata": {},
   "outputs": [
    {
     "data": {
      "text/plain": [
       "True"
      ]
     },
     "execution_count": 17,
     "metadata": {},
     "output_type": "execute_result"
    }
   ],
   "source": [
    "np.allclose(np.dot(u, np.dot(S, v)), X_train_sc )"
   ]
  },
  {
   "cell_type": "code",
   "execution_count": 145,
   "metadata": {},
   "outputs": [],
   "source": [
    "eval_u, evec_u = np.linalg.eig(X_train_sc.dot(X_train_sc.T))\n",
    "eval_v, evec_v = np.linalg.eig(X_train_sc.T.dot(X_train_sc))"
   ]
  },
  {
   "cell_type": "code",
   "execution_count": 161,
   "metadata": {},
   "outputs": [
    {
     "data": {
      "text/plain": [
       "array([19, 18,  4,  5,  6,  7,  8, 10, 11, 12, 13, 17, 16, 15, 14,  9,  3,\n",
       "        2,  1,  0], dtype=int64)"
      ]
     },
     "execution_count": 161,
     "metadata": {},
     "output_type": "execute_result"
    }
   ],
   "source": [
    "np.sqrt(abs(np.real(eval_v))).argsort()"
   ]
  },
  {
   "cell_type": "code",
   "execution_count": 170,
   "metadata": {},
   "outputs": [
    {
     "data": {
      "text/plain": [
       "array([-2.29222837e-02,  5.05722912e-01, -6.56554623e-02,  1.11001843e-01,\n",
       "       -2.38002695e-01,  8.32706762e-02,  1.72357613e-01,  8.64398786e-02,\n",
       "       -1.29605480e-02,  4.39800060e-01, -3.06539027e-01,  3.62347473e-02,\n",
       "       -2.50551049e-03, -1.59530740e-02, -2.07104101e-01,  2.14519904e-01,\n",
       "        4.72252971e-01, -1.58942830e-01,  5.97211875e-17, -3.02034327e-17])"
      ]
     },
     "execution_count": 170,
     "metadata": {},
     "output_type": "execute_result"
    }
   ],
   "source": [
    "v.T[0,:]"
   ]
  },
  {
   "cell_type": "code",
   "execution_count": 172,
   "metadata": {},
   "outputs": [
    {
     "data": {
      "text/plain": [
       "array([-2.29222837e-02, -5.05722912e-01,  6.56554623e-02,  1.11001843e-01,\n",
       "       -2.38002695e-01, -8.32706762e-02, -1.72357613e-01, -8.64398786e-02,\n",
       "        1.29605480e-02,  4.39800060e-01,  3.06539027e-01,  3.62347473e-02,\n",
       "       -2.50551049e-03,  1.59530740e-02, -2.07104101e-01,  2.14519904e-01,\n",
       "        4.72252971e-01,  1.58942830e-01, -3.21000690e-17, -3.21000690e-17])"
      ]
     },
     "execution_count": 172,
     "metadata": {},
     "output_type": "execute_result"
    }
   ],
   "source": [
    "np.real(evec_v[:,np.sqrt(abs(np.real(eval_v))).argsort()[::-1]])[0,:]"
   ]
  },
  {
   "cell_type": "code",
   "execution_count": 129,
   "metadata": {},
   "outputs": [],
   "source": [
    "gs = gram_schmidt()\n",
    "ev_orth = np.real(gs.orthonormal(ev, ))"
   ]
  },
  {
   "cell_type": "code",
   "execution_count": 132,
   "metadata": {},
   "outputs": [
    {
     "data": {
      "text/plain": [
       "array([-2.29222837e-02,  5.05722912e-01, -6.56554623e-02,  1.11001843e-01,\n",
       "       -2.38002695e-01,  8.32706762e-02,  1.72357613e-01,  8.64398786e-02,\n",
       "       -1.29605480e-02,  4.39800060e-01, -3.06539027e-01,  3.62347473e-02,\n",
       "       -2.50551049e-03, -1.59530740e-02, -2.07104101e-01,  2.14519904e-01,\n",
       "        4.72252971e-01, -1.58942830e-01,  5.97211875e-17, -3.02034327e-17])"
      ]
     },
     "execution_count": 132,
     "metadata": {},
     "output_type": "execute_result"
    }
   ],
   "source": [
    "v.T[0,:]"
   ]
  },
  {
   "cell_type": "code",
   "execution_count": 133,
   "metadata": {},
   "outputs": [
    {
     "data": {
      "text/plain": [
       "array([-2.29222837e-02, -5.05722912e-01,  6.56554623e-02,  1.11001843e-01,\n",
       "        1.58942830e-01,  4.72252971e-01,  2.14519904e-01, -2.07104101e-01,\n",
       "        1.59530740e-02, -2.38002695e-01, -2.50551049e-03,  3.62347473e-02,\n",
       "        3.06539027e-01,  4.39800060e-01, -8.32706762e-02, -1.72357613e-01,\n",
       "       -8.64398786e-02,  1.29605480e-02,  1.56755213e-17, -8.81978737e-18])"
      ]
     },
     "execution_count": 133,
     "metadata": {},
     "output_type": "execute_result"
    }
   ],
   "source": [
    "ev_orth[0,:]"
   ]
  },
  {
   "cell_type": "code",
   "execution_count": 124,
   "metadata": {},
   "outputs": [
    {
     "data": {
      "text/plain": [
       "1.0000000000000002"
      ]
     },
     "execution_count": 124,
     "metadata": {},
     "output_type": "execute_result"
    }
   ],
   "source": [
    "np.linalg.norm(ev_orth[:,1])"
   ]
  },
  {
   "cell_type": "code",
   "execution_count": 123,
   "metadata": {},
   "outputs": [
    {
     "data": {
      "text/plain": [
       "1.0000000000000002"
      ]
     },
     "execution_count": 123,
     "metadata": {},
     "output_type": "execute_result"
    }
   ],
   "source": [
    "np.linalg.norm(v.T[:,1])"
   ]
  },
  {
   "cell_type": "code",
   "execution_count": 96,
   "metadata": {},
   "outputs": [
    {
     "data": {
      "text/plain": [
       "array([[ True, False, False],\n",
       "       [False, False, False],\n",
       "       [False, False, False],\n",
       "       [False, False, False],\n",
       "       [False, False, False],\n",
       "       [False, False, False],\n",
       "       [False, False, False],\n",
       "       [False, False, False],\n",
       "       [False, False, False],\n",
       "       [False, False, False],\n",
       "       [False, False, False],\n",
       "       [False, False, False],\n",
       "       [False, False, False],\n",
       "       [False, False, False],\n",
       "       [False, False, False],\n",
       "       [False, False, False],\n",
       "       [False, False, False],\n",
       "       [False, False, False],\n",
       "       [False, False, False],\n",
       "       [False, False, False]])"
      ]
     },
     "execution_count": 96,
     "metadata": {},
     "output_type": "execute_result"
    }
   ],
   "source": [
    "np.isclose(v[:,:3],np.real(gs.orthonormal(ev, )[:,:3]))"
   ]
  },
  {
   "cell_type": "code",
   "execution_count": 97,
   "metadata": {},
   "outputs": [
    {
     "data": {
      "text/plain": [
       "array([[-0.02292228,  0.50572291, -0.06565546],\n",
       "       [ 0.55962697,  0.05425466, -0.04748907],\n",
       "       [-0.0203438 , -0.01816242, -0.51729607],\n",
       "       [ 0.00109865, -0.1577597 , -0.07062832],\n",
       "       [-0.04118024, -0.25275819, -0.01802699],\n",
       "       [-0.47676204,  0.15049368, -0.05232398],\n",
       "       [ 0.0125351 ,  0.09318769,  0.45878404],\n",
       "       [ 0.01736969, -0.20223319, -0.02511544],\n",
       "       [ 0.03330077,  0.05702416, -0.17681541],\n",
       "       [-0.00782674, -0.28581579,  0.09669366],\n",
       "       [-0.01586192,  0.22138756, -0.18911348],\n",
       "       [ 0.01047088, -0.24002708, -0.27383818],\n",
       "       [ 0.02324671,  0.06861466, -0.03325629],\n",
       "       [ 0.05600357,  0.1658956 ,  0.48019901],\n",
       "       [-0.37526174, -0.21968459,  0.11830003],\n",
       "       [ 0.00791182, -0.35257137, -0.07828296],\n",
       "       [-0.02624688,  0.30492018,  0.00310865],\n",
       "       [-0.01452093,  0.1160483 , -0.10764729],\n",
       "       [ 0.55590289, -0.05176735,  0.00266235],\n",
       "       [-0.02001138,  0.27290482, -0.30312492]])"
      ]
     },
     "execution_count": 97,
     "metadata": {},
     "output_type": "execute_result"
    }
   ],
   "source": [
    "v.T[:,:3] "
   ]
  },
  {
   "cell_type": "code",
   "execution_count": 100,
   "metadata": {},
   "outputs": [
    {
     "data": {
      "text/plain": [
       "array([[-0.02292228, -0.50572291,  0.06565546],\n",
       "       [ 0.55962697, -0.05425466,  0.04748907],\n",
       "       [-0.0203438 ,  0.01816242,  0.51729607],\n",
       "       [ 0.00109865,  0.1577597 ,  0.07062832],\n",
       "       [-0.04118024,  0.25275819,  0.01802699],\n",
       "       [-0.47676204, -0.15049368,  0.05232398],\n",
       "       [ 0.0125351 , -0.09318769, -0.45878404],\n",
       "       [ 0.01736969,  0.20223319,  0.02511544],\n",
       "       [ 0.03330077, -0.05702416,  0.17681541],\n",
       "       [-0.00782674,  0.28581579, -0.09669366],\n",
       "       [-0.01586192, -0.22138756,  0.18911348],\n",
       "       [ 0.01047088,  0.24002708,  0.27383818],\n",
       "       [ 0.02324671, -0.06861466,  0.03325629],\n",
       "       [ 0.05600357, -0.1658956 , -0.48019901],\n",
       "       [-0.37526174,  0.21968459, -0.11830003],\n",
       "       [ 0.00791182,  0.35257137,  0.07828296],\n",
       "       [-0.02624688, -0.30492018, -0.00310865],\n",
       "       [-0.01452093, -0.1160483 ,  0.10764729],\n",
       "       [ 0.55590289,  0.05176735, -0.00266235],\n",
       "       [-0.02001138, -0.27290482,  0.30312492]])"
      ]
     },
     "execution_count": 100,
     "metadata": {},
     "output_type": "execute_result"
    }
   ],
   "source": [
    "ev_orth"
   ]
  },
  {
   "cell_type": "code",
   "execution_count": 99,
   "metadata": {},
   "outputs": [],
   "source": [
    "gs = gram_schmidt()\n",
    "ev_orth = np.real(gs.orthonormal(ev, )[:,:3])"
   ]
  },
  {
   "cell_type": "code",
   "execution_count": 60,
   "metadata": {},
   "outputs": [
    {
     "data": {
      "text/plain": [
       "array([[-3.58069699e-02,  3.01698041e-02, -3.92649977e-03, ...,\n",
       "         2.50448298e-02, -3.82197662e-02, -3.66543863e-02],\n",
       "       [-5.22878445e-03, -3.06603742e-02,  1.55813512e-02, ...,\n",
       "        -2.54367666e-02, -4.40285614e-02, -1.38019509e-02],\n",
       "       [ 4.67882864e-03, -7.81796912e-02, -1.31807645e-02, ...,\n",
       "        -3.06775784e-02,  3.01705551e-02, -1.05746981e-02],\n",
       "       ...,\n",
       "       [-2.34054071e-02, -6.97085261e-02,  8.71660084e-03, ...,\n",
       "         9.75102822e-01,  7.05642576e-04,  2.80920160e-03],\n",
       "       [-1.42460634e-02, -7.98736725e-03, -2.16604159e-02, ...,\n",
       "         1.85549046e-03,  9.82551168e-01,  6.20014067e-03],\n",
       "       [-1.94011010e-02,  2.70296071e-02,  4.82344894e-03, ...,\n",
       "         6.53096767e-04,  5.39052629e-03,  9.84550389e-01]])"
      ]
     },
     "execution_count": 60,
     "metadata": {},
     "output_type": "execute_result"
    }
   ],
   "source": [
    "u"
   ]
  },
  {
   "cell_type": "code",
   "execution_count": 18,
   "metadata": {},
   "outputs": [],
   "source": [
    "cov= np.cov(X_train_sc - X_train_sc.mean(axis=0), rowvar=False)\n",
    "eigenvalues, eigenvectors = np.linalg.eig(cov)"
   ]
  },
  {
   "cell_type": "code",
   "execution_count": 109,
   "metadata": {},
   "outputs": [
    {
     "data": {
      "text/plain": [
       "(800, 20)"
      ]
     },
     "execution_count": 109,
     "metadata": {},
     "output_type": "execute_result"
    }
   ],
   "source": [
    "u.dot(np.diag(s))"
   ]
  },
  {
   "cell_type": "code",
   "execution_count": 104,
   "metadata": {},
   "outputs": [
    {
     "data": {
      "text/plain": [
       "array([[ 1.77774354, -0.58563607],\n",
       "       [ 0.2612659 ,  0.59186165],\n",
       "       [-0.23103433,  2.09704588],\n",
       "       ...,\n",
       "       [ 1.16470754,  2.06088412],\n",
       "       [ 0.70823629,  0.47223255],\n",
       "       [ 0.96628558, -1.09295898]])"
      ]
     },
     "execution_count": 104,
     "metadata": {},
     "output_type": "execute_result"
    }
   ],
   "source": [
    "xpca"
   ]
  },
  {
   "cell_type": "code",
   "execution_count": 101,
   "metadata": {},
   "outputs": [
    {
     "data": {
      "text/plain": [
       "array([[ 1.78141977, -0.94647922],\n",
       "       [ 0.26013539,  0.96186926],\n",
       "       [-0.23277473,  2.45263287],\n",
       "       ...,\n",
       "       [ 1.16443405,  2.18687769],\n",
       "       [ 0.70875081,  0.2505776 ],\n",
       "       [ 0.96521724, -0.84796578]])"
      ]
     },
     "execution_count": 101,
     "metadata": {},
     "output_type": "execute_result"
    }
   ],
   "source": [
    "(X_train_sc - X_train_sc.mean(axis=0)).dot(pca.components_.T)"
   ]
  },
  {
   "cell_type": "code",
   "execution_count": 79,
   "metadata": {},
   "outputs": [
    {
     "data": {
      "text/plain": [
       "False"
      ]
     },
     "execution_count": 79,
     "metadata": {},
     "output_type": "execute_result"
    }
   ],
   "source": [
    "np.allclose(xpca, X_train_sc.dot(pca.components_.T))"
   ]
  },
  {
   "cell_type": "code",
   "execution_count": 75,
   "metadata": {},
   "outputs": [
    {
     "data": {
      "text/plain": [
       "0.9999999999999993"
      ]
     },
     "execution_count": 75,
     "metadata": {},
     "output_type": "execute_result"
    }
   ],
   "source": [
    "X_train_sc.var()"
   ]
  },
  {
   "cell_type": "code",
   "execution_count": 71,
   "metadata": {},
   "outputs": [
    {
     "data": {
      "text/plain": [
       "array([3.0668676 , 0.93813866])"
      ]
     },
     "execution_count": 71,
     "metadata": {},
     "output_type": "execute_result"
    }
   ],
   "source": [
    "pca.explained_variance_"
   ]
  },
  {
   "cell_type": "code",
   "execution_count": 74,
   "metadata": {},
   "outputs": [
    {
     "data": {
      "text/plain": [
       "array([3.0668676 , 0.93813866])"
      ]
     },
     "execution_count": 74,
     "metadata": {},
     "output_type": "execute_result"
    }
   ],
   "source": [
    "(X_train_sc - X_train_sc.mean(axis=0)).dot(pca.components_.T).var(axis=0, ddof=1)"
   ]
  },
  {
   "cell_type": "code",
   "execution_count": 19,
   "metadata": {},
   "outputs": [
    {
     "data": {
      "text/plain": [
       "False"
      ]
     },
     "execution_count": 19,
     "metadata": {},
     "output_type": "execute_result"
    }
   ],
   "source": [
    "np.allclose(v[0], eigenvectors.T[0])"
   ]
  },
  {
   "cell_type": "code",
   "execution_count": 20,
   "metadata": {},
   "outputs": [
    {
     "data": {
      "text/plain": [
       "-0.5057229118627715"
      ]
     },
     "execution_count": 20,
     "metadata": {},
     "output_type": "execute_result"
    }
   ],
   "source": [
    "eigenvectors[0,1]"
   ]
  },
  {
   "cell_type": "code",
   "execution_count": 21,
   "metadata": {},
   "outputs": [
    {
     "data": {
      "text/plain": [
       "array([[ True,  True,  True,  True],\n",
       "       [ True,  True,  True,  True],\n",
       "       [False, False, False, False],\n",
       "       [False, False, False, False]])"
      ]
     },
     "execution_count": 21,
     "metadata": {},
     "output_type": "execute_result"
    }
   ],
   "source": [
    "np.isclose(abs(v), abs(eigenvectors.T))"
   ]
  },
  {
   "cell_type": "code",
   "execution_count": 20,
   "metadata": {},
   "outputs": [
    {
     "data": {
      "text/plain": [
       "True"
      ]
     },
     "execution_count": 20,
     "metadata": {},
     "output_type": "execute_result"
    }
   ],
   "source": [
    "np.allclose(v.T.dot(v), np.eye(v.shape[0]))"
   ]
  },
  {
   "cell_type": "code",
   "execution_count": 22,
   "metadata": {},
   "outputs": [
    {
     "data": {
      "text/plain": [
       "array([[ True,  True,  True,  True],\n",
       "       [ True,  True,  True,  True],\n",
       "       [ True,  True,  True, False],\n",
       "       [ True,  True, False,  True]])"
      ]
     },
     "execution_count": 22,
     "metadata": {},
     "output_type": "execute_result"
    }
   ],
   "source": [
    "np.isclose(eigenvectors.T.dot(eigenvectors), np.eye(eigenvectors.shape[0]))"
   ]
  },
  {
   "cell_type": "code",
   "execution_count": 26,
   "metadata": {},
   "outputs": [
    {
     "data": {
      "text/plain": [
       "(800, 4)"
      ]
     },
     "execution_count": 26,
     "metadata": {},
     "output_type": "execute_result"
    }
   ],
   "source": [
    "X_train_sc.shape"
   ]
  },
  {
   "cell_type": "code",
   "execution_count": 69,
   "metadata": {},
   "outputs": [
    {
     "data": {
      "text/plain": [
       "array([[-1.]])"
      ]
     },
     "execution_count": 69,
     "metadata": {},
     "output_type": "execute_result"
    }
   ],
   "source": [
    "comp_idx = 0\n",
    "cosine_similarity(v[comp_idx:comp_idx+1,:], eigenvectors[:,comp_idx].reshape(1,-1))"
   ]
  },
  {
   "cell_type": "code",
   "execution_count": 85,
   "metadata": {},
   "outputs": [
    {
     "data": {
      "text/plain": [
       "-1.7763568394002505e-15"
      ]
     },
     "execution_count": 85,
     "metadata": {},
     "output_type": "execute_result"
    }
   ],
   "source": [
    "((u.T).dot(u) - np.eye(800)).min()"
   ]
  },
  {
   "cell_type": "code",
   "execution_count": 27,
   "metadata": {},
   "outputs": [
    {
     "data": {
      "text/plain": [
       "True"
      ]
     },
     "execution_count": 27,
     "metadata": {},
     "output_type": "execute_result"
    }
   ],
   "source": [
    "np.allclose((u.T).dot(u) , np.eye(u.shape[0]))"
   ]
  },
  {
   "cell_type": "code",
   "execution_count": 28,
   "metadata": {},
   "outputs": [
    {
     "data": {
      "text/plain": [
       "True"
      ]
     },
     "execution_count": 28,
     "metadata": {},
     "output_type": "execute_result"
    }
   ],
   "source": [
    "np.allclose((v.T).dot(v) , np.eye(v.shape[0]))"
   ]
  },
  {
   "cell_type": "code",
   "execution_count": 82,
   "metadata": {},
   "outputs": [
    {
     "data": {
      "text/plain": [
       "array([[ 0., -0., -0., ...,  0.,  0.,  0.],\n",
       "       [-0., -0., -0., ...,  0.,  0.,  0.],\n",
       "       [-0., -0., -0., ...,  0.,  0.,  0.],\n",
       "       ...,\n",
       "       [ 0.,  0.,  0., ...,  0., -0.,  0.],\n",
       "       [ 0.,  0.,  0., ..., -0.,  0., -0.],\n",
       "       [ 0.,  0.,  0., ...,  0., -0., -0.]])"
      ]
     },
     "execution_count": 82,
     "metadata": {},
     "output_type": "execute_result"
    }
   ],
   "source": [
    "np.round((u.T).dot(u) - np.eye(800), 2)"
   ]
  },
  {
   "cell_type": "code",
   "execution_count": 77,
   "metadata": {},
   "outputs": [
    {
     "data": {
      "text/plain": [
       "array([[ 1.,  0.,  0.,  0.],\n",
       "       [ 0.,  1.,  0., -0.],\n",
       "       [ 0.,  0.,  1.,  0.],\n",
       "       [ 0., -0.,  0.,  1.]])"
      ]
     },
     "execution_count": 77,
     "metadata": {},
     "output_type": "execute_result"
    }
   ],
   "source": [
    "np.round((v.T).dot(v), 2)"
   ]
  },
  {
   "cell_type": "code",
   "execution_count": 75,
   "metadata": {},
   "outputs": [
    {
     "data": {
      "text/plain": [
       "matrix([[ 1.01230942,  0.06288618, -0.03379583, -0.08403019],\n",
       "        [ 0.06288618,  1.14011871,  0.01014754, -0.09029393],\n",
       "        [-0.03379583,  0.01014754,  0.90831919, -0.11137876],\n",
       "        [-0.08403019, -0.09029393, -0.11137876,  0.93925268]])"
      ]
     },
     "execution_count": 75,
     "metadata": {},
     "output_type": "execute_result"
    }
   ],
   "source": [
    "eigenvectors.dot( np.matrix(eigenvectors).H)"
   ]
  },
  {
   "cell_type": "code",
   "execution_count": 78,
   "metadata": {},
   "outputs": [
    {
     "data": {
      "text/plain": [
       "array([[ 1.  ,  0.  ,  0.  ,  0.  ],\n",
       "       [ 0.  ,  1.  , -0.  , -0.  ],\n",
       "       [ 0.  , -0.  ,  1.  ,  0.22],\n",
       "       [ 0.  , -0.  ,  0.22,  1.  ]])"
      ]
     },
     "execution_count": 78,
     "metadata": {},
     "output_type": "execute_result"
    }
   ],
   "source": [
    "np.round((eigenvectors.T).dot(eigenvectors),2)"
   ]
  },
  {
   "cell_type": "code",
   "execution_count": 36,
   "metadata": {},
   "outputs": [
    {
     "data": {
      "text/plain": [
       "array([3.06686760e+00, 9.38138656e-01, 1.54891299e-31, 4.74019816e-32])"
      ]
     },
     "execution_count": 36,
     "metadata": {},
     "output_type": "execute_result"
    }
   ],
   "source": [
    "np.square(s)/(X_train_sc.shape[0]-1)"
   ]
  },
  {
   "cell_type": "code",
   "execution_count": 34,
   "metadata": {},
   "outputs": [
    {
     "data": {
      "text/plain": [
       "array([3.06686760e+00, 9.38138656e-01, 1.54891299e-31, 4.74019816e-32])"
      ]
     },
     "execution_count": 34,
     "metadata": {},
     "output_type": "execute_result"
    }
   ],
   "source": [
    "np.square(s)/(X_train_sc.shape[0]-1)"
   ]
  },
  {
   "cell_type": "code",
   "execution_count": 173,
   "metadata": {},
   "outputs": [],
   "source": [
    "cov= np.cov(X_train_sc - X_train_sc.mean(axis=0), rowvar=False)\n",
    "eigenvalues, eigenvectors = np.linalg.eig(cov)"
   ]
  },
  {
   "cell_type": "code",
   "execution_count": null,
   "metadata": {},
   "outputs": [],
   "source": []
  },
  {
   "cell_type": "code",
   "execution_count": 183,
   "metadata": {},
   "outputs": [
    {
     "data": {
      "text/plain": [
       "array([[ True,  True,  True,  True,  True,  True,  True,  True,  True,\n",
       "         True,  True,  True,  True,  True,  True,  True,  True,  True,\n",
       "         True,  True],\n",
       "       [ True,  True,  True,  True,  True,  True,  True,  True,  True,\n",
       "         True,  True,  True,  True,  True,  True,  True,  True,  True,\n",
       "         True,  True],\n",
       "       [ True,  True,  True,  True,  True,  True,  True,  True,  True,\n",
       "         True,  True,  True,  True,  True,  True,  True,  True,  True,\n",
       "         True,  True],\n",
       "       [ True,  True,  True,  True,  True,  True,  True,  True,  True,\n",
       "         True,  True,  True,  True,  True,  True,  True,  True,  True,\n",
       "         True,  True],\n",
       "       [ True,  True,  True,  True,  True,  True,  True,  True,  True,\n",
       "         True,  True,  True,  True,  True,  True,  True,  True,  True,\n",
       "         True,  True],\n",
       "       [ True,  True,  True,  True,  True,  True,  True,  True,  True,\n",
       "         True,  True,  True,  True,  True,  True,  True,  True,  True,\n",
       "         True,  True],\n",
       "       [ True,  True,  True,  True,  True,  True,  True,  True,  True,\n",
       "         True,  True,  True,  True,  True,  True,  True,  True,  True,\n",
       "         True,  True],\n",
       "       [ True,  True,  True,  True,  True,  True,  True,  True,  True,\n",
       "         True,  True,  True,  True,  True,  True,  True,  True,  True,\n",
       "         True,  True],\n",
       "       [ True,  True,  True,  True,  True,  True,  True,  True,  True,\n",
       "         True,  True,  True,  True,  True,  True,  True,  True,  True,\n",
       "         True,  True],\n",
       "       [ True,  True,  True,  True,  True,  True,  True,  True,  True,\n",
       "         True,  True,  True,  True,  True,  True,  True,  True,  True,\n",
       "         True,  True],\n",
       "       [ True,  True,  True,  True,  True,  True,  True,  True,  True,\n",
       "         True,  True,  True,  True,  True,  True,  True,  True,  True,\n",
       "         True,  True],\n",
       "       [ True,  True,  True,  True,  True,  True,  True,  True,  True,\n",
       "         True,  True,  True,  True,  True,  True,  True,  True,  True,\n",
       "         True,  True],\n",
       "       [ True,  True,  True,  True,  True,  True,  True,  True,  True,\n",
       "         True,  True,  True,  True,  True,  True,  True,  True,  True,\n",
       "         True,  True],\n",
       "       [ True,  True,  True,  True,  True,  True,  True,  True,  True,\n",
       "         True,  True,  True,  True,  True,  True,  True,  True,  True,\n",
       "         True,  True],\n",
       "       [ True,  True,  True,  True,  True,  True,  True,  True,  True,\n",
       "         True,  True,  True,  True,  True,  True,  True,  True,  True,\n",
       "         True,  True],\n",
       "       [ True,  True,  True,  True,  True,  True,  True,  True,  True,\n",
       "         True,  True,  True,  True,  True,  True,  True,  True,  True,\n",
       "         True,  True],\n",
       "       [ True,  True,  True,  True,  True,  True,  True,  True,  True,\n",
       "         True,  True,  True,  True,  True,  True,  True,  True,  True,\n",
       "         True,  True],\n",
       "       [ True,  True,  True,  True,  True,  True,  True,  True,  True,\n",
       "         True,  True,  True,  True,  True,  True,  True,  True,  True,\n",
       "         True,  True],\n",
       "       [ True,  True,  True,  True,  True,  True,  True,  True,  True,\n",
       "         True,  True,  True,  True,  True,  True,  True,  True,  True,\n",
       "         True, False],\n",
       "       [ True,  True,  True,  True,  True,  True,  True,  True,  True,\n",
       "         True,  True,  True,  True,  True,  True,  True,  True,  True,\n",
       "        False,  True]])"
      ]
     },
     "execution_count": 183,
     "metadata": {},
     "output_type": "execute_result"
    }
   ],
   "source": [
    "np.isclose(np.round(eigenvectors.T.dot(eigenvectors),2),np.eye(20))"
   ]
  },
  {
   "cell_type": "code",
   "execution_count": 178,
   "metadata": {},
   "outputs": [
    {
     "data": {
      "text/plain": [
       "0.9999999999999997"
      ]
     },
     "execution_count": 178,
     "metadata": {},
     "output_type": "execute_result"
    }
   ],
   "source": [
    "np.linalg.norm(pca.components_[1])"
   ]
  },
  {
   "cell_type": "code",
   "execution_count": 8,
   "metadata": {},
   "outputs": [],
   "source": [
    "eigenvalues, eigenvectors = np.linalg.eig(cov)"
   ]
  },
  {
   "cell_type": "code",
   "execution_count": 9,
   "metadata": {},
   "outputs": [
    {
     "data": {
      "text/plain": [
       "array([3.06686760e+00, 9.38138656e-01, 9.63907292e-17, 2.74949812e-16])"
      ]
     },
     "execution_count": 9,
     "metadata": {},
     "output_type": "execute_result"
    }
   ],
   "source": [
    "eigenvalues"
   ]
  },
  {
   "cell_type": "code",
   "execution_count": 65,
   "metadata": {},
   "outputs": [
    {
     "data": {
      "text/plain": [
       "array([3.0668676 , 0.93813866])"
      ]
     },
     "execution_count": 65,
     "metadata": {},
     "output_type": "execute_result"
    }
   ],
   "source": [
    "pca.explained_variance_"
   ]
  },
  {
   "cell_type": "code",
   "execution_count": 68,
   "metadata": {},
   "outputs": [
    {
     "data": {
      "text/plain": [
       "array([0.7657585, 0.2342415])"
      ]
     },
     "execution_count": 68,
     "metadata": {},
     "output_type": "execute_result"
    }
   ],
   "source": [
    "pca.explained_variance_ratio_"
   ]
  },
  {
   "cell_type": "code",
   "execution_count": 11,
   "metadata": {},
   "outputs": [
    {
     "data": {
      "text/plain": [
       "array([[ 0.37537327, -0.56343987,  0.47853489, -0.55913753],\n",
       "       [-0.77887225,  0.17161566,  0.5645045 , -0.21269872]])"
      ]
     },
     "execution_count": 11,
     "metadata": {},
     "output_type": "execute_result"
    }
   ],
   "source": [
    "pca.components_"
   ]
  },
  {
   "cell_type": "code",
   "execution_count": 12,
   "metadata": {},
   "outputs": [
    {
     "data": {
      "text/plain": [
       "array([[ 0.37537327, -0.56343987,  0.47853489, -0.55913753],\n",
       "       [-0.77887225,  0.17161566,  0.5645045 , -0.21269872]])"
      ]
     },
     "execution_count": 12,
     "metadata": {},
     "output_type": "execute_result"
    }
   ],
   "source": [
    "-(eigenvectors[:, :2].T)"
   ]
  },
  {
   "cell_type": "code",
   "execution_count": 13,
   "metadata": {},
   "outputs": [
    {
     "data": {
      "text/plain": [
       "array([[ 0.23675929,  0.79205581],\n",
       "       [ 0.96430644, -1.33873515],\n",
       "       [-2.64001914,  0.06398657],\n",
       "       ...,\n",
       "       [ 1.64837173, -0.88211564],\n",
       "       [-2.08038828,  0.35941666],\n",
       "       [ 0.01904595, -0.24080798]])"
      ]
     },
     "execution_count": 13,
     "metadata": {},
     "output_type": "execute_result"
    }
   ],
   "source": [
    "xpca"
   ]
  },
  {
   "cell_type": "code",
   "execution_count": 14,
   "metadata": {},
   "outputs": [
    {
     "data": {
      "text/plain": [
       "array([[ 0.23675929,  0.79205581],\n",
       "       [ 0.96430644, -1.33873515],\n",
       "       [-2.64001914,  0.06398657],\n",
       "       ...,\n",
       "       [ 1.64837173, -0.88211564],\n",
       "       [-2.08038828,  0.35941666],\n",
       "       [ 0.01904595, -0.24080798]])"
      ]
     },
     "execution_count": 14,
     "metadata": {},
     "output_type": "execute_result"
    }
   ],
   "source": [
    "(X_train_sc - X_train_sc.mean(axis=0)).dot(pca.components_.T)"
   ]
  },
  {
   "cell_type": "markdown",
   "metadata": {},
   "source": [
    "1st and 2nd component vectors are orthonormal"
   ]
  },
  {
   "cell_type": "code",
   "execution_count": 15,
   "metadata": {},
   "outputs": [
    {
     "data": {
      "text/plain": [
       "array([[1., 0.],\n",
       "       [0., 1.]])"
      ]
     },
     "execution_count": 15,
     "metadata": {},
     "output_type": "execute_result"
    }
   ],
   "source": [
    "np.round((eigenvectors[:, :2].T).dot(eigenvectors[:, :2]), 2)"
   ]
  },
  {
   "cell_type": "code",
   "execution_count": null,
   "metadata": {},
   "outputs": [],
   "source": []
  }
 ],
 "metadata": {
  "kernelspec": {
   "display_name": "Python 3",
   "language": "python",
   "name": "python3"
  },
  "language_info": {
   "codemirror_mode": {
    "name": "ipython",
    "version": 3
   },
   "file_extension": ".py",
   "mimetype": "text/x-python",
   "name": "python",
   "nbconvert_exporter": "python",
   "pygments_lexer": "ipython3",
   "version": "3.8.5"
  },
  "widgets": {
   "application/vnd.jupyter.widget-state+json": {
    "state": {},
    "version_major": 2,
    "version_minor": 0
   }
  }
 },
 "nbformat": 4,
 "nbformat_minor": 4
}
