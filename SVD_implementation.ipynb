{
 "cells": [
  {
   "cell_type": "markdown",
   "metadata": {},
   "source": [
    "# Implementation"
   ]
  },
  {
   "cell_type": "code",
   "execution_count": 1,
   "metadata": {},
   "outputs": [],
   "source": [
    "import numpy as np\n",
    "import pandas as pd\n",
    "import matplotlib.pyplot as plt\n",
    "import seaborn as sns\n",
    "import scipy"
   ]
  },
  {
   "cell_type": "code",
   "execution_count": 2,
   "metadata": {},
   "outputs": [],
   "source": [
    "from sklearn.decomposition import PCA\n",
    "from sklearn.model_selection import train_test_split\n",
    "from sklearn.datasets import make_classification\n",
    "from sklearn.preprocessing import StandardScaler, MinMaxScaler, RobustScaler\n",
    "from sklearn.metrics.pairwise import cosine_similarity"
   ]
  },
  {
   "cell_type": "code",
   "execution_count": 3,
   "metadata": {},
   "outputs": [],
   "source": [
    "from packages.GramSchmidt import gram_schmidt"
   ]
  },
  {
   "cell_type": "markdown",
   "metadata": {},
   "source": [
    "* **Full SVD**\n",
    "\n",
    "$\\large X_{n\\times p} = U\\; \\Sigma\\; V^* $\n",
    "\n",
    "$U_{n\\times n} =$ orthonormal eigenvectors of $XX^* $\n",
    "\n",
    "$\\Sigma_{n\\times p} =$ a diagonal matrix whose diagonal entries are the square roots of the non-negative eigenvalues of both $X X^*$ and $X^* X $\n",
    "\n",
    "${V^*}_{p\\times p} =$ orthonormal eigenvectors of $X^*X$"
   ]
  },
  {
   "cell_type": "markdown",
   "metadata": {},
   "source": [
    "* **Reduced(thin) SVD**\n",
    "\n",
    "$\\large X_{n\\times p} = U\\; S \\; V^* \\\\\n",
    "\\large \\displaystyle U_{n\\times p} ={ \\begin{pmatrix} \\frac{X V_1}{s_1} &\\frac{X V_2}{s_2} &\\cdots & \\frac{X V_p}{s_p} \\end{pmatrix} } = X V S^{-1}$\n",
    "\n",
    "$S_{p\\times p} =$ a rectangular diagonal matrix whose diagonal entries are the square roots of the non-negative eigenvalues of $X^* X $\n",
    "\n",
    "${V^*}_{p\\times p} =$ orthonormal eigenvectors of $X^*X$"
   ]
  },
  {
   "cell_type": "markdown",
   "metadata": {},
   "source": [
    "## Thin SVD"
   ]
  },
  {
   "cell_type": "code",
   "execution_count": 4,
   "metadata": {},
   "outputs": [],
   "source": [
    "def svd_thin(data, ):\n",
    "    dim = data.shape[1]\n",
    "    rank = np.linalg.matrix_rank(data)\n",
    "    relu = np.vectorize(lambda x: np.real(x) if np.real(x)>=0 else .0)\n",
    "    \n",
    "    #eval_u, evec_u = np.linalg.eig(data.dot(data.T), )\n",
    "    eval_v, evec_v = np.linalg.eig(data.T.dot(data), )\n",
    "    \n",
    "    gs = gram_schmidt()\n",
    "    #evec_u_gs = gs.fit_transform(evec_u)\n",
    "    evec_v_gs = gs.fit_transform(evec_v)\n",
    "        \n",
    "    s = eval_v.copy()\n",
    "    s = np.sqrt(relu(s))\n",
    "    s1 = np.sort(s)[::-1]\n",
    "    if dim > rank:\n",
    "        s1[-(dim-rank):] = 0\n",
    "    \n",
    "    S = np.eye(dim)*s1\n",
    "    \n",
    "    v_idx = np.sqrt(relu(np.real(eval_v))).argsort()[-dim:][::-1]\n",
    "    v = evec_v_gs[:, v_idx ]\n",
    "    \n",
    "    u = data.dot(v)/s1\n",
    "    \n",
    "    return u, S,  v"
   ]
  },
  {
   "cell_type": "markdown",
   "metadata": {},
   "source": [
    "# Practice"
   ]
  },
  {
   "cell_type": "markdown",
   "metadata": {},
   "source": [
    "* Sample data\n",
    "\n",
    "$\\large \\mathbf{X} = {\\begin{pmatrix} x_{1,1}&\\cdots&x_{1,p} \\\\ \\vdots & \\ddots &\\vdots \\\\ x_{n,1}&\\cdots&x_{n,p} \\end{pmatrix} }_{n\\times p} = {\\begin{pmatrix} X_1 & \\cdots&X_p \\end{pmatrix} }_{n\\times p}$ where $n$ is the number of samples and $p$ is the number of features."
   ]
  },
  {
   "cell_type": "code",
   "execution_count": 5,
   "metadata": {},
   "outputs": [],
   "source": [
    "data = make_classification(n_features = 6, n_redundant=0,\n",
    "                           n_samples=10**3, weights=[0.9], random_state= 42, )"
   ]
  },
  {
   "cell_type": "code",
   "execution_count": 6,
   "metadata": {},
   "outputs": [],
   "source": [
    "data_x = data[0]\n",
    "data_y = data[1]"
   ]
  },
  {
   "cell_type": "markdown",
   "metadata": {},
   "source": [
    "The rank of the sample matrix equals to the number of columns."
   ]
  },
  {
   "cell_type": "code",
   "execution_count": 7,
   "metadata": {},
   "outputs": [
    {
     "data": {
      "text/plain": [
       "True"
      ]
     },
     "execution_count": 7,
     "metadata": {},
     "output_type": "execute_result"
    }
   ],
   "source": [
    "np.linalg.matrix_rank(data_x) == data_x.shape[1]"
   ]
  },
  {
   "cell_type": "markdown",
   "metadata": {},
   "source": [
    "$\\large \\displaystyle \\mathbf{X}_{\\normalsize standardized} = \\begin{pmatrix} \\frac{X_1 -  \\mu_1}{\\sigma_1} & \\frac{X_2 -  \\mu_2}{\\sigma_2} & \\cdots &\\frac{X_p -  \\mu_p}{\\sigma_p}  \\end{pmatrix} $\n",
    ", where $\\mu_i$ and $\\sigma_i$ are mean and standard deviation of the vector $X_i$ for $i \\in \\{1,2,\\cdots,p\\}$.\n",
    "\n",
    "Therefore, the means of each column of matrix $\\mathbf{X}_{\\normalsize standardized}$ are all 0 and standard deviations are all 1."
   ]
  },
  {
   "cell_type": "code",
   "execution_count": 8,
   "metadata": {},
   "outputs": [],
   "source": [
    "scaler = StandardScaler()\n",
    "data_x_std = scaler.fit_transform(data_x)"
   ]
  },
  {
   "cell_type": "markdown",
   "metadata": {},
   "source": [
    "## with numpy"
   ]
  },
  {
   "cell_type": "code",
   "execution_count": 8,
   "metadata": {},
   "outputs": [],
   "source": [
    "u, s, vh = np.linalg.svd(data_x_std, full_matrices=True, )"
   ]
  },
  {
   "cell_type": "markdown",
   "metadata": {},
   "source": [
    "$U$ and $V$ are all unitary matrices,\n",
    "\n",
    "i.e. $U U^* = V V^* = I$"
   ]
  },
  {
   "cell_type": "code",
   "execution_count": 9,
   "metadata": {},
   "outputs": [
    {
     "data": {
      "text/plain": [
       "True"
      ]
     },
     "execution_count": 9,
     "metadata": {},
     "output_type": "execute_result"
    }
   ],
   "source": [
    "np.allclose(u.dot(u.conjugate().T), np.eye(u.shape[0]))"
   ]
  },
  {
   "cell_type": "code",
   "execution_count": 10,
   "metadata": {},
   "outputs": [
    {
     "data": {
      "text/plain": [
       "True"
      ]
     },
     "execution_count": 10,
     "metadata": {},
     "output_type": "execute_result"
    }
   ],
   "source": [
    "np.allclose(vh.dot(vh.conjugate().T), np.eye(vh.shape[0]))"
   ]
  },
  {
   "cell_type": "code",
   "execution_count": 11,
   "metadata": {},
   "outputs": [],
   "source": [
    "S = np.zeros(data_x_std.shape, float)\n",
    "np.fill_diagonal(S, s)"
   ]
  },
  {
   "cell_type": "code",
   "execution_count": 12,
   "metadata": {},
   "outputs": [
    {
     "data": {
      "text/plain": [
       "True"
      ]
     },
     "execution_count": 12,
     "metadata": {},
     "output_type": "execute_result"
    }
   ],
   "source": [
    "np.allclose(np.dot(u, np.dot(S, vh)), data_x_std )"
   ]
  },
  {
   "cell_type": "markdown",
   "metadata": {},
   "source": [
    "$\\large \\therefore X \\simeq U \\Sigma V$"
   ]
  },
  {
   "cell_type": "markdown",
   "metadata": {},
   "source": [
    "## my codes: reduced(thin) SVD"
   ]
  },
  {
   "cell_type": "code",
   "execution_count": 9,
   "metadata": {},
   "outputs": [],
   "source": [
    "uu, ss, vv = svd_thin(data_x_std)"
   ]
  },
  {
   "cell_type": "markdown",
   "metadata": {},
   "source": [
    "The matrix V whose columns consist of the right-singular vectors calculated by my codes is a unitary matrix.\n",
    "\n",
    "i.e. $V V^* = I$"
   ]
  },
  {
   "cell_type": "code",
   "execution_count": 10,
   "metadata": {},
   "outputs": [
    {
     "data": {
      "text/plain": [
       "True"
      ]
     },
     "execution_count": 10,
     "metadata": {},
     "output_type": "execute_result"
    }
   ],
   "source": [
    "np.allclose((vv.conjugate().T).dot(vv), np.eye(vv.shape[0]))"
   ]
  },
  {
   "cell_type": "code",
   "execution_count": 11,
   "metadata": {},
   "outputs": [
    {
     "data": {
      "text/plain": [
       "True"
      ]
     },
     "execution_count": 11,
     "metadata": {},
     "output_type": "execute_result"
    }
   ],
   "source": [
    "np.allclose(np.dot(uu, np.dot(ss, vv.T)), data_x_std )"
   ]
  },
  {
   "cell_type": "markdown",
   "metadata": {},
   "source": [
    "$\\large \\therefore X \\simeq U S V$"
   ]
  },
  {
   "cell_type": "code",
   "execution_count": null,
   "metadata": {},
   "outputs": [],
   "source": []
  }
 ],
 "metadata": {
  "kernelspec": {
   "display_name": "Python 3",
   "language": "python",
   "name": "python3"
  },
  "language_info": {
   "codemirror_mode": {
    "name": "ipython",
    "version": 3
   },
   "file_extension": ".py",
   "mimetype": "text/x-python",
   "name": "python",
   "nbconvert_exporter": "python",
   "pygments_lexer": "ipython3",
   "version": "3.8.5"
  },
  "widgets": {
   "application/vnd.jupyter.widget-state+json": {
    "state": {},
    "version_major": 2,
    "version_minor": 0
   }
  }
 },
 "nbformat": 4,
 "nbformat_minor": 4
}
