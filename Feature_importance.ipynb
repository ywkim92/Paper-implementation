{
 "cells": [
  {
   "cell_type": "code",
   "execution_count": 1,
   "metadata": {},
   "outputs": [],
   "source": [
    "import numpy as np\n",
    "import pandas as pd\n",
    "from matplotlib import pyplot as plt"
   ]
  },
  {
   "cell_type": "code",
   "execution_count": 16,
   "metadata": {},
   "outputs": [],
   "source": [
    "from sklearn.datasets import load_boston\n",
    "\n",
    "from sklearn.tree import plot_tree, DecisionTreeRegressor\n",
    "from sklearn.ensemble import RandomForestRegressor, GradientBoostingRegressor\n",
    "from sklearn.model_selection import train_test_split\n",
    "from sklearn.metrics import mean_absolute_error, r2_score"
   ]
  },
  {
   "cell_type": "markdown",
   "metadata": {},
   "source": [
    "# Load data"
   ]
  },
  {
   "cell_type": "code",
   "execution_count": 7,
   "metadata": {},
   "outputs": [],
   "source": [
    "data = load_boston()"
   ]
  },
  {
   "cell_type": "code",
   "execution_count": 11,
   "metadata": {},
   "outputs": [],
   "source": [
    "X = data['data']\n",
    "y = data['target']"
   ]
  },
  {
   "cell_type": "code",
   "execution_count": 12,
   "metadata": {},
   "outputs": [
    {
     "data": {
      "text/plain": [
       "array(['CRIM', 'ZN', 'INDUS', 'CHAS', 'NOX', 'RM', 'AGE', 'DIS', 'RAD',\n",
       "       'TAX', 'PTRATIO', 'B', 'LSTAT'], dtype='<U7')"
      ]
     },
     "execution_count": 12,
     "metadata": {},
     "output_type": "execute_result"
    }
   ],
   "source": [
    "data['feature_names']"
   ]
  },
  {
   "cell_type": "code",
   "execution_count": 15,
   "metadata": {},
   "outputs": [],
   "source": [
    "X_train, X_test, y_train, y_test = train_test_split(X, y, test_size=.2, random_state=42)"
   ]
  },
  {
   "cell_type": "markdown",
   "metadata": {},
   "source": [
    "# Train: Decision Tree"
   ]
  },
  {
   "cell_type": "code",
   "execution_count": 128,
   "metadata": {},
   "outputs": [
    {
     "name": "stdout",
     "output_type": "stream",
     "text": [
      "2.9295239552232513\n",
      "0.8097063368140078\n"
     ]
    }
   ],
   "source": [
    "model_dt = DecisionTreeRegressor(max_leaf_nodes=7, random_state=42)\n",
    "model_dt.fit(X_train, y_train)\n",
    "\n",
    "pred_dt = model_dt.predict(X_test)\n",
    "print(mean_absolute_error(y_test, pred_dt))\n",
    "print(r2_score(y_test, pred_dt))"
   ]
  },
  {
   "cell_type": "markdown",
   "metadata": {},
   "source": [
    "## feature importance with sklearn instance"
   ]
  },
  {
   "cell_type": "code",
   "execution_count": 86,
   "metadata": {},
   "outputs": [
    {
     "data": {
      "text/plain": [
       "array([5.12956739e-02, 3.35270585e-03, 5.81619171e-03, 2.27940651e-06,\n",
       "       2.71483790e-02, 6.00326256e-01, 1.36170630e-02, 7.06881622e-02,\n",
       "       1.94062297e-03, 1.24638653e-02, 1.10116089e-02, 9.00872742e-03,\n",
       "       1.93328464e-01])"
      ]
     },
     "execution_count": 86,
     "metadata": {},
     "output_type": "execute_result"
    }
   ],
   "source": [
    "model_dt.feature_importances_"
   ]
  },
  {
   "cell_type": "markdown",
   "metadata": {},
   "source": [
    "## feature importance with my codes"
   ]
  },
  {
   "cell_type": "code",
   "execution_count": 156,
   "metadata": {},
   "outputs": [],
   "source": [
    "# plt.figure(figsize=(16,12))\n",
    "# plot_tree(model_dt, node_ids=True)\n",
    "# plt.show()"
   ]
  },
  {
   "cell_type": "code",
   "execution_count": 157,
   "metadata": {},
   "outputs": [],
   "source": [
    "n = model_dt.tree_.weighted_n_node_samples[0]\n",
    "fi = np.zeros(model_dt.tree_.n_features)\n",
    "\n",
    "for idx, feat in enumerate(model_dt.tree_.feature):\n",
    "    if feat<0:\n",
    "        continue\n",
    "    nt = model_dt.tree_.weighted_n_node_samples[idx]\n",
    "    ntl = model_dt.tree_.weighted_n_node_samples[model_dt.tree_.children_left[idx]]\n",
    "    ntr = model_dt.tree_.weighted_n_node_samples[model_dt.tree_.children_right[idx]]\n",
    "    \n",
    "    I_t = model_dt.tree_.impurity[idx]\n",
    "    I_tl = model_dt.tree_.impurity[model_dt.tree_.children_left[idx]]\n",
    "    I_tr = model_dt.tree_.impurity[model_dt.tree_.children_right[idx]]\n",
    "    fi[feat] += (nt / n) * ( I_t - (ntl / nt) * I_tl - (ntr / nt)* I_tr )\n",
    "\n",
    "fi_norm = fi/fi.sum()"
   ]
  },
  {
   "cell_type": "code",
   "execution_count": 158,
   "metadata": {},
   "outputs": [
    {
     "data": {
      "text/plain": [
       "True"
      ]
     },
     "execution_count": 158,
     "metadata": {},
     "output_type": "execute_result"
    }
   ],
   "source": [
    "np.allclose(fi_norm, model_dt.feature_importances_)"
   ]
  },
  {
   "cell_type": "markdown",
   "metadata": {},
   "source": [
    "# Train: Random Forest"
   ]
  },
  {
   "cell_type": "code",
   "execution_count": 144,
   "metadata": {},
   "outputs": [
    {
     "name": "stdout",
     "output_type": "stream",
     "text": [
      "2.0395392156862746\n",
      "0.8922527442109116\n"
     ]
    }
   ],
   "source": [
    "model_rf = RandomForestRegressor(bootstrap=True,random_state=42)\n",
    "model_rf.fit(X_train, y_train)\n",
    "\n",
    "pred_rf = model_rf.predict(X_test)\n",
    "print(mean_absolute_error(y_test, pred_rf))\n",
    "print(r2_score(y_test, pred_rf))"
   ]
  },
  {
   "cell_type": "markdown",
   "metadata": {},
   "source": [
    "## feature importance with sklearn instance"
   ]
  },
  {
   "cell_type": "code",
   "execution_count": 47,
   "metadata": {},
   "outputs": [
    {
     "data": {
      "text/plain": [
       "array([0.03806177, 0.00175615, 0.00795268, 0.00100426, 0.01554377,\n",
       "       0.50384493, 0.01383994, 0.06054907, 0.00381091, 0.01566064,\n",
       "       0.01631341, 0.01215362, 0.30950883])"
      ]
     },
     "execution_count": 47,
     "metadata": {},
     "output_type": "execute_result"
    }
   ],
   "source": [
    "model_rf.feature_importances_"
   ]
  },
  {
   "cell_type": "markdown",
   "metadata": {},
   "source": [
    "## feature importance with my codes"
   ]
  },
  {
   "cell_type": "code",
   "execution_count": 43,
   "metadata": {},
   "outputs": [],
   "source": [
    "# plot_tree(model_dt)\n",
    "# plt.show()"
   ]
  },
  {
   "cell_type": "code",
   "execution_count": 148,
   "metadata": {},
   "outputs": [],
   "source": [
    "fi_rf = np.zeros(model_rf.n_features_)\n",
    "N = 0\n",
    "\n",
    "for estimator in model_rf.estimators_:\n",
    "    tree = estimator.tree_\n",
    "    fi_rf_estimator = np.zeros(tree.n_features)\n",
    "    n = tree.weighted_n_node_samples[0]\n",
    "    #N +=n\n",
    "\n",
    "    for idx, feat in enumerate(tree.feature):\n",
    "        if feat<0:\n",
    "            continue\n",
    "        nt = tree.weighted_n_node_samples[idx]\n",
    "        ntl = tree.weighted_n_node_samples[tree.children_left[idx]]\n",
    "        ntr = tree.weighted_n_node_samples[tree.children_right[idx]]\n",
    "\n",
    "        I_t = tree.impurity[idx]\n",
    "        I_tl = tree.impurity[tree.children_left[idx]]\n",
    "        I_tr = tree.impurity[tree.children_right[idx]]\n",
    "        fi_rf_estimator[feat] += (nt / n) * ( I_t - (ntl / nt) * I_tl - (ntr / nt)* I_tr )  \n",
    "        \n",
    "    fi_rf_estimator_norm = fi_rf_estimator/fi_rf_estimator.sum()\n",
    "    \n",
    "    fi_rf += fi_rf_estimator_norm"
   ]
  },
  {
   "cell_type": "code",
   "execution_count": 159,
   "metadata": {},
   "outputs": [
    {
     "data": {
      "text/plain": [
       "True"
      ]
     },
     "execution_count": 159,
     "metadata": {},
     "output_type": "execute_result"
    }
   ],
   "source": [
    "np.allclose(model_rf.feature_importances_, fi_rf/model_rf.n_estimators)"
   ]
  },
  {
   "cell_type": "code",
   "execution_count": null,
   "metadata": {},
   "outputs": [],
   "source": []
  }
 ],
 "metadata": {
  "kernelspec": {
   "display_name": "Python 3",
   "language": "python",
   "name": "python3"
  },
  "language_info": {
   "codemirror_mode": {
    "name": "ipython",
    "version": 3
   },
   "file_extension": ".py",
   "mimetype": "text/x-python",
   "name": "python",
   "nbconvert_exporter": "python",
   "pygments_lexer": "ipython3",
   "version": "3.8.5"
  },
  "widgets": {
   "application/vnd.jupyter.widget-state+json": {
    "state": {},
    "version_major": 2,
    "version_minor": 0
   }
  }
 },
 "nbformat": 4,
 "nbformat_minor": 4
}
