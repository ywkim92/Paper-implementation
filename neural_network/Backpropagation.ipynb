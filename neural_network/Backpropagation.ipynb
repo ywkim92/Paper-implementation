{
 "cells": [
  {
   "cell_type": "markdown",
   "metadata": {},
   "source": [
    "# Load libraries"
   ]
  },
  {
   "cell_type": "code",
   "execution_count": 1,
   "metadata": {},
   "outputs": [],
   "source": [
    "import tensorflow as tf\n",
    "import numpy as np\n",
    "import copy\n",
    "import matplotlib.pyplot as plt\n",
    "\n",
    "from tensorflow.keras.models import Sequential, Model\n",
    "from tensorflow.keras.layers import Dense, Input\n",
    "from tensorflow.keras.losses import BinaryCrossentropy\n",
    "from tensorflow.keras.utils import to_categorical\n",
    "\n",
    "from sklearn.datasets import load_breast_cancer\n",
    "from sklearn.model_selection import train_test_split\n",
    "from sklearn.preprocessing import StandardScaler"
   ]
  },
  {
   "cell_type": "code",
   "execution_count": 2,
   "metadata": {},
   "outputs": [],
   "source": [
    "from tensorflow.python.keras.engine import data_adapter\n",
    "from tensorflow.python.profiler import trace\n",
    "from tensorflow.python.keras import callbacks as callbacks_module\n",
    "from tensorflow.python.keras.engine import training_utils"
   ]
  },
  {
   "cell_type": "markdown",
   "metadata": {},
   "source": [
    "# Load dataset"
   ]
  },
  {
   "cell_type": "code",
   "execution_count": 3,
   "metadata": {},
   "outputs": [],
   "source": [
    "X, y = load_breast_cancer(return_X_y=True)\n",
    "\n",
    "X_train, X_test, y_train, y_test = train_test_split(X, y, test_size=.2, random_state=42)\n",
    "num_features = X_train.shape[1]"
   ]
  },
  {
   "cell_type": "code",
   "execution_count": 4,
   "metadata": {},
   "outputs": [],
   "source": [
    "GLOBAL_BATCH_SIZE = 32\n",
    "EPOCHS = 1"
   ]
  },
  {
   "cell_type": "code",
   "execution_count": 5,
   "metadata": {},
   "outputs": [],
   "source": [
    "scaler = StandardScaler()\n",
    "X_train = scaler.fit_transform(X_train)\n",
    "X_test = scaler.transform(X_test)\n",
    "\n",
    "train_dataset = tf.data.Dataset.from_tensor_slices((X_train, to_categorical(y_train))).batch(GLOBAL_BATCH_SIZE, ) #steps_per_epoch\n",
    "test_dataset = tf.data.Dataset.from_tensor_slices((X_test, to_categorical(y_test))).batch(GLOBAL_BATCH_SIZE, )"
   ]
  },
  {
   "cell_type": "code",
   "execution_count": 6,
   "metadata": {},
   "outputs": [],
   "source": [
    "seed = 11"
   ]
  },
  {
   "cell_type": "code",
   "execution_count": 7,
   "metadata": {},
   "outputs": [],
   "source": [
    "layers = [\n",
    "    tf.keras.layers.Dense(16, activation='relu', input_shape = (num_features,), kernel_initializer = tf.keras.initializers.GlorotNormal(seed=1)),\n",
    "    tf.keras.layers.Dense(4, activation='relu', kernel_initializer = tf.keras.initializers.GlorotNormal(seed=1) ),\n",
    "    tf.keras.layers.Dense(2, activation='sigmoid', kernel_initializer = tf.keras.initializers.GlorotNormal(seed=1) ),\n",
    "]\n",
    "\n",
    "layers_clone = copy.deepcopy(layers)"
   ]
  },
  {
   "cell_type": "markdown",
   "metadata": {},
   "source": [
    "# Comparison: keras model vs. customized"
   ]
  },
  {
   "cell_type": "markdown",
   "metadata": {},
   "source": [
    "## Experiment 1"
   ]
  },
  {
   "cell_type": "markdown",
   "metadata": {},
   "source": [
    "* reference: https://www.tensorflow.org/guide/keras/customizing_what_happens_in_fit#a_first_simple_example"
   ]
  },
  {
   "cell_type": "markdown",
   "metadata": {},
   "source": [
    "### keras model"
   ]
  },
  {
   "cell_type": "code",
   "execution_count": 8,
   "metadata": {},
   "outputs": [],
   "source": [
    "tf.random.set_seed(seed)\n",
    "\n",
    "model = Sequential()\n",
    "for layer in layers_clone:\n",
    "    model.add(layer)\n",
    "\n",
    "Loss = BinaryCrossentropy()\n",
    "optimizer = tf.keras.optimizers.Adagrad(learning_rate=1e-2)\n",
    "\n",
    "model.compile(optimizer = optimizer, loss = Loss, metrics = ['acc'], )"
   ]
  },
  {
   "cell_type": "markdown",
   "metadata": {},
   "source": [
    "### custom model"
   ]
  },
  {
   "cell_type": "code",
   "execution_count": 9,
   "metadata": {},
   "outputs": [],
   "source": [
    "model_custom = tf.keras.models.clone_model(model)\n",
    "model_custom.set_weights(model.get_weights())\n",
    "\n",
    "weights_custom = copy.deepcopy(model_custom.trainable_variables)\n",
    "\n",
    "Loss_custom = copy.deepcopy(Loss)\n",
    "optimizer_custom = copy.deepcopy(optimizer)\n",
    "\n",
    "model_custom.compile(optimizer = optimizer_custom, loss = [Loss_custom], metrics = ['acc'], )"
   ]
  },
  {
   "cell_type": "code",
   "execution_count": 10,
   "metadata": {},
   "outputs": [],
   "source": [
    "opt_wei = []\n",
    "grads = []"
   ]
  },
  {
   "cell_type": "code",
   "execution_count": 11,
   "metadata": {},
   "outputs": [
    {
     "name": "stdout",
     "output_type": "stream",
     "text": [
      "00th batch loss: 0.95477647\n",
      "01th batch loss: 0.82564175\n",
      "02th batch loss: 0.802238\n",
      "03th batch loss: 0.85181713\n",
      "04th batch loss: 0.77963877\n",
      "05th batch loss: 0.7995611\n",
      "06th batch loss: 0.7566784\n",
      "07th batch loss: 0.72384125\n",
      "08th batch loss: 0.7095673\n",
      "09th batch loss: 0.7580291\n",
      "10th batch loss: 0.70888746\n",
      "11th batch loss: 0.67985237\n",
      "12th batch loss: 0.683792\n",
      "13th batch loss: 0.79725015\n",
      "14th batch loss: 0.670355\n"
     ]
    }
   ],
   "source": [
    "ith_batch = 0\n",
    "for xt, yt in train_dataset:\n",
    "    with tf.GradientTape() as tape:\n",
    "#         tape.reset()\n",
    "        f = model_custom(xt, training=True)\n",
    "        loss = model_custom.compiled_loss(yt, f, regularization_losses=model_custom.losses)\n",
    "        print('{}th batch loss:'.format(str(ith_batch).zfill(2)), loss.numpy())\n",
    "#         loss = Loss(yt, f)\n",
    "\n",
    "    grad = tape.gradient(loss, model_custom.trainable_variables)\n",
    "    optimizer_custom.apply_gradients(zip(grad, model_custom.trainable_variables))\n",
    "    \n",
    "    ith_batch+=1\n",
    "    opt_wei.append(optimizer.weights)\n",
    "    grads.append(grad)"
   ]
  },
  {
   "cell_type": "code",
   "execution_count": 12,
   "metadata": {},
   "outputs": [
    {
     "name": "stdout",
     "output_type": "stream",
     "text": [
      "15/15 [==============================] - 0s 1ms/step - loss: 0.7721 - acc: 0.3187\n"
     ]
    },
    {
     "data": {
      "text/plain": [
       "<keras.callbacks.History at 0x28bd0cb4550>"
      ]
     },
     "execution_count": 12,
     "metadata": {},
     "output_type": "execute_result"
    }
   ],
   "source": [
    "model.fit(train_dataset, shuffle=False, epochs=1, verbose=1)"
   ]
  },
  {
   "cell_type": "markdown",
   "metadata": {},
   "source": [
    "### comparison"
   ]
  },
  {
   "cell_type": "code",
   "execution_count": 13,
   "metadata": {},
   "outputs": [
    {
     "name": "stdout",
     "output_type": "stream",
     "text": [
      "True 2.9802322e-08\n",
      "True 2.3283064e-10\n",
      "True 7.450581e-09\n",
      "True 0.0\n",
      "True 9.313226e-10\n",
      "True 3.7252903e-09\n"
     ]
    }
   ],
   "source": [
    "for iw in range(len(model_custom.weights)):\n",
    "    print(\n",
    "#         np.alltrue(m.weights[iw] == model.weights[iw]), \n",
    "          np.allclose(model_custom.weights[iw], model.weights[iw]), abs(model_custom.weights[iw] - model.weights[iw]).numpy().max())"
   ]
  },
  {
   "cell_type": "code",
   "execution_count": 14,
   "metadata": {},
   "outputs": [
    {
     "name": "stdout",
     "output_type": "stream",
     "text": [
      "0 0\n",
      "(array([ True]), array([1], dtype=int64))\n",
      "1 1.4901161e-08\n",
      "(array([ True]), array([480], dtype=int64))\n",
      "2 7.450581e-09\n",
      "(array([ True]), array([16], dtype=int64))\n",
      "3 1.4901161e-08\n",
      "(array([ True]), array([64], dtype=int64))\n",
      "4 0.0\n",
      "(array([ True]), array([4], dtype=int64))\n",
      "5 1.4901161e-08\n",
      "(array([ True]), array([8], dtype=int64))\n",
      "6 0.0\n",
      "(array([ True]), array([2], dtype=int64))\n"
     ]
    }
   ],
   "source": [
    "for iow in range(len(model_custom.optimizer.weights)):\n",
    "    print(iow, abs(model.optimizer.weights[iow] -  model_custom.optimizer.weights[iow]).numpy().max())\n",
    "#     print(np.unique((model.optimizer.weights[iow]== optimizer.weights[iow]), return_counts=True))\n",
    "    print(np.unique(np.isclose(model.optimizer.weights[iow], model_custom.optimizer.weights[iow], rtol=1e-5), return_counts=True))"
   ]
  },
  {
   "cell_type": "code",
   "execution_count": 65,
   "metadata": {},
   "outputs": [],
   "source": [
    "nth_layer = 0"
   ]
  },
  {
   "cell_type": "code",
   "execution_count": 66,
   "metadata": {},
   "outputs": [],
   "source": [
    "pred = copy.deepcopy(weights_custom[nth_layer])\n",
    "for it in range(len(grads)):\n",
    "    h = (tf.sqrt(opt_wei[it][nth_layer+1] )   + optimizer_custom.epsilon  ) \n",
    "    pred = pred - (optimizer_custom.learning_rate * (grads[it][nth_layer]/h))    "
   ]
  },
  {
   "cell_type": "code",
   "execution_count": 67,
   "metadata": {},
   "outputs": [],
   "source": [
    "true = model.trainable_variables[nth_layer]\n",
    "# true"
   ]
  },
  {
   "cell_type": "code",
   "execution_count": 68,
   "metadata": {},
   "outputs": [
    {
     "data": {
      "image/png": "[encoded data removed]",
      "text/plain": [
       "<Figure size 432x288 with 1 Axes>"
      ]
     },
     "metadata": {
      "needs_background": "light"
     },
     "output_type": "display_data"
    }
   ],
   "source": [
    "plt.hist(tf.reshape(true - pred, [-1,]).numpy(), bins=100)\n",
    "plt.show()"
   ]
  },
  {
   "cell_type": "code",
   "execution_count": 69,
   "metadata": {},
   "outputs": [
    {
     "data": {
      "text/plain": [
       "(array([False,  True]), array([436,  44], dtype=int64))"
      ]
     },
     "execution_count": 69,
     "metadata": {},
     "output_type": "execute_result"
    }
   ],
   "source": [
    "np.unique(np.isclose(true , pred), return_counts=True)"
   ]
  },
  {
   "cell_type": "markdown",
   "metadata": {},
   "source": [
    "## Experiment 2"
   ]
  },
  {
   "cell_type": "markdown",
   "metadata": {},
   "source": [
    "* reference: https://www.tensorflow.org/tutorials/distribute/custom_training"
   ]
  },
  {
   "cell_type": "code",
   "execution_count": 15,
   "metadata": {},
   "outputs": [],
   "source": [
    "strategy = Sequential().distribute_strategy #tf.distribute.MirroredStrategy()\n",
    "train_dist_dataset = strategy.experimental_distribute_dataset(train_dataset)"
   ]
  },
  {
   "cell_type": "code",
   "execution_count": 16,
   "metadata": {},
   "outputs": [
    {
     "name": "stdout",
     "output_type": "stream",
     "text": [
      "Number of devices: 1\n"
     ]
    }
   ],
   "source": [
    "print ('Number of devices: {}'.format(strategy.num_replicas_in_sync))"
   ]
  },
  {
   "cell_type": "code",
   "execution_count": 17,
   "metadata": {},
   "outputs": [],
   "source": [
    "seed = 34954303"
   ]
  },
  {
   "cell_type": "code",
   "execution_count": 18,
   "metadata": {},
   "outputs": [],
   "source": [
    "# opt_wei = []\n",
    "# grads = []"
   ]
  },
  {
   "cell_type": "markdown",
   "metadata": {},
   "source": [
    "### custom model"
   ]
  },
  {
   "cell_type": "code",
   "execution_count": 28,
   "metadata": {},
   "outputs": [],
   "source": [
    "class CustomModel(tf.keras.Model):\n",
    "    def train_step(self, data):\n",
    "        # Unpack the data. Its structure depends on your model and\n",
    "        # on what you pass to `fit()`.\n",
    "        x, y = data\n",
    "#         print(x.numpy().shape)\n",
    "        with tf.GradientTape() as tape:\n",
    "            y_pred = self(x, training=True)  # Forward pass\n",
    "            # Compute the loss value\n",
    "            # (the loss function is configured in `compile()`)\n",
    "#             loss = self.loss(y, y_pred,)\n",
    "            loss = self.compiled_loss(y, y_pred, regularization_losses=self.losses)\n",
    "\n",
    "        # Compute gradients\n",
    "        trainable_vars = self.trainable_variables\n",
    "        gradients = tape.gradient(loss, trainable_vars)\n",
    "        # Update weights\n",
    "        self.optimizer.apply_gradients(zip(gradients, trainable_vars))\n",
    "        print('..')\n",
    "        \n",
    "#         opt_wei.append(self.optimizer.weights)\n",
    "#         grads.append(gradients)\n",
    "        \n",
    "        # Update metrics (includes the metric that tracks the loss)\n",
    "        self.compiled_metrics.update_state(y, y_pred)\n",
    "        # Return a dict mapping metric names to current value\n",
    "        return {m.name: m.result() for m in self.metrics}"
   ]
  },
  {
   "cell_type": "code",
   "execution_count": 29,
   "metadata": {},
   "outputs": [],
   "source": [
    "def create_model(layers, seed):\n",
    "    tf.random.set_seed(seed)\n",
    "    inputs = tf.keras.Input(shape=(num_features,))\n",
    "    for layer_index, layer in enumerate(layers):\n",
    "        if layer_index == 0:\n",
    "            x = layer(inputs)\n",
    "        else:\n",
    "            x = layer(x)\n",
    "#     x = tf.keras.layers.Dense(16, activation='relu', kernel_initializer = tf.keras.initializers.GlorotNormal(seed=1))(inputs)\n",
    "#     x = tf.keras.layers.Dense(4, activation='relu', kernel_initializer = tf.keras.initializers.GlorotNormal(seed=1) )(x)\n",
    "#     x = tf.keras.layers.Dense(2, activation='sigmoid', kernel_initializer = tf.keras.initializers.GlorotNormal(seed=1) )(x)\n",
    "    model_ = CustomModel(inputs, x)\n",
    "    \n",
    "    return model_"
   ]
  },
  {
   "cell_type": "code",
   "execution_count": 10,
   "metadata": {},
   "outputs": [],
   "source": [
    "# def create_model(seed):\n",
    "#     tf.random.set_seed(seed)\n",
    "#     model = Sequential()\n",
    "    \n",
    "#     model.add(tf.keras.layers.Dense(16, activation='relu', input_shape = (num_features,), kernel_initializer = tf.keras.initializers.GlorotNormal(seed=1)))\n",
    "#     model.add(tf.keras.layers.Dense(4, activation='relu', kernel_initializer = tf.keras.initializers.GlorotNormal(seed=1) ))\n",
    "#     model.add(tf.keras.layers.Dense(2, activation='sigmoid', kernel_initializer = tf.keras.initializers.GlorotNormal(seed=1) ))\n",
    "    \n",
    "#     return model"
   ]
  },
  {
   "cell_type": "code",
   "execution_count": 30,
   "metadata": {},
   "outputs": [],
   "source": [
    "layer_clone = copy.deepcopy(layers)"
   ]
  },
  {
   "cell_type": "code",
   "execution_count": 31,
   "metadata": {},
   "outputs": [],
   "source": [
    "with strategy.scope():\n",
    "  # Set reduction to `none` so we can do the reduction afterwards and divide by\n",
    "  # global batch size.\n",
    "    loss_object = tf.keras.losses.BinaryCrossentropy(\n",
    "#       from_logits=True,\n",
    "#       reduction=tf.keras.losses.Reduction.NONE\n",
    "                  )\n",
    "    def compute_loss(labels, predictions):\n",
    "        per_example_loss = loss_object(labels, predictions)\n",
    "        return tf.nn.compute_average_loss(per_example_loss, global_batch_size=GLOBAL_BATCH_SIZE)\n",
    "\n",
    "#     test_loss = tf.keras.metrics.Mean(name='test_loss')\n",
    "\n",
    "#     train_accuracy = tf.keras.metrics.BinaryAccuracy(name='train_accuracy')\n",
    "#     test_accuracy = tf.keras.metrics.BinaryAccuracy(name='test_accuracy')"
   ]
  },
  {
   "cell_type": "code",
   "execution_count": 32,
   "metadata": {},
   "outputs": [],
   "source": [
    "with strategy.scope():\n",
    "    model_custom1 = create_model(layer_clone, seed)\n",
    "    weights_custom1 = copy.deepcopy(model_custom1.trainable_variables)\n",
    "\n",
    "    optimizer_custom1 = tf.keras.optimizers.Adagrad(1e-2)\n",
    "\n",
    "    checkpoint = tf.train.Checkpoint(optimizer=optimizer_custom1, model=model_custom1)\n",
    "    model_custom1.compile(optimizer=optimizer_custom1, loss = loss_object, \n",
    "                          metrics = ['acc']\n",
    "                         )\n",
    "\n",
    "    model_custom1.train_function = model_custom1.make_train_function()"
   ]
  },
  {
   "cell_type": "code",
   "execution_count": 92,
   "metadata": {},
   "outputs": [],
   "source": [
    "# def train_step(inputs):\n",
    "#     images, labels = inputs\n",
    "\n",
    "#     with tf.GradientTape() as tape:\n",
    "#         predictions = model_custom1(images, training=True)\n",
    "#         loss = compute_loss(labels, predictions)\n",
    "\n",
    "#     gradients = tape.gradient(loss, model_custom1.trainable_variables)\n",
    "#     optimizer_custom1.apply_gradients(zip(gradients, model_custom1.trainable_variables))\n",
    "\n",
    "# #     train_accuracy.update_state(labels, predictions)\n",
    "#     return loss \n",
    "\n",
    "# @tf.function\n",
    "# def distributed_train_step(dataset_inputs):\n",
    "#   per_replica_losses = strategy.run(train_step, args=(dataset_inputs,))\n",
    "#   return strategy.reduce(tf.distribute.ReduceOp.SUM, per_replica_losses,\n",
    "#                          axis=None)\n",
    "\n",
    "# @tf.function\n",
    "# def distributed_test_step(dataset_inputs):\n",
    "#   return strategy.run(test_step, args=(dataset_inputs,))"
   ]
  },
  {
   "cell_type": "code",
   "execution_count": 33,
   "metadata": {},
   "outputs": [
    {
     "name": "stdout",
     "output_type": "stream",
     "text": [
      "..\n",
      "..\n",
      "  Batch: 000, loss: 0.8209180235862732, acc: 0.375\n",
      "  Batch: 001, loss: 0.900952935218811, acc: 0.328125\n",
      "  Batch: 002, loss: 0.8808948993682861, acc: 0.3229166567325592\n",
      "  Batch: 003, loss: 0.8859827518463135, acc: 0.3125\n",
      "  Batch: 004, loss: 0.8820684552192688, acc: 0.33125001192092896\n",
      "  Batch: 005, loss: 0.872550904750824, acc: 0.3385416567325592\n",
      "  Batch: 006, loss: 0.8528721928596497, acc: 0.3526785671710968\n",
      "  Batch: 007, loss: 0.8475878834724426, acc: 0.35546875\n",
      "  Batch: 008, loss: 0.8376209139823914, acc: 0.3541666567325592\n",
      "  Batch: 009, loss: 0.8294330835342407, acc: 0.35624998807907104\n",
      "  Batch: 010, loss: 0.819271445274353, acc: 0.375\n",
      "  Batch: 011, loss: 0.8170177340507507, acc: 0.3854166567325592\n",
      "  Batch: 012, loss: 0.812931478023529, acc: 0.39423078298568726\n",
      "  Batch: 013, loss: 0.8097837567329407, acc: 0.3883928656578064\n",
      "  Batch: 014, loss: 0.8098143339157104, acc: 0.3890109956264496\n",
      "Epoch: 01, loss: 0.8453133702278137\n"
     ]
    }
   ],
   "source": [
    "\n",
    "for epoch in range(EPOCHS):\n",
    "  # TRAIN LOOP\n",
    "    total_loss = 0.0\n",
    "    num_batches = 0\n",
    "    train_iter = iter(train_dist_dataset)\n",
    "    \n",
    "    for x in train_dataset:\n",
    "#       print(distributed_train_step(x), distributed_train_step(next(train_iter)))\n",
    "#       total_loss += model_custom1.train_function()\n",
    "\n",
    "        add_loss = model_custom1.train_function(train_iter) #distributed_train_step(next(train_iter))\n",
    "        print('  Batch: {}, loss: {}, acc: {}'.format(str(num_batches).zfill(3), add_loss['loss'].numpy(), add_loss['acc'].numpy()), )\n",
    "        \n",
    "        total_loss += add_loss['loss']\n",
    "        num_batches += 1\n",
    "        \n",
    "    train_loss = total_loss / num_batches\n",
    "\n",
    "  # TEST LOOP\n",
    "#   for x in test_dist_dataset:\n",
    "#     distributed_test_step(x)\n",
    "\n",
    "#   if epoch % 2 == 0:\n",
    "#     checkpoint.save(checkpoint_prefix)\n",
    "\n",
    "    print('Epoch: {}, loss: {}'.format(str(epoch+1).zfill(2), train_loss), )\n",
    "    \n",
    "#     template = (\"Epoch {}, Loss: {}, Accuracy: {}, Test Loss: {}, \"\n",
    "#               \"Test Accuracy: {}\")\n",
    "  \n",
    "#   print (template.format(epoch+1, train_loss,\n",
    "#                          train_accuracy.result()*100, test_loss.result(),\n",
    "#                          test_accuracy.result()*100))\n",
    "\n",
    "#   test_loss.reset_states()\n",
    "#   train_accuracy.reset_states()\n",
    "#   test_accuracy.reset_states()"
   ]
  },
  {
   "cell_type": "markdown",
   "metadata": {},
   "source": [
    "### keras model"
   ]
  },
  {
   "cell_type": "markdown",
   "metadata": {},
   "source": [
    "* reference: https://github.com/tensorflow/tensorflow/blob/07acf0f4e07678a63667e0aad88ce2485b31d619/tensorflow/python/keras/engine/training.py#L1136-L1196"
   ]
  },
  {
   "cell_type": "code",
   "execution_count": 25,
   "metadata": {},
   "outputs": [
    {
     "name": "stdout",
     "output_type": "stream",
     "text": [
      "epoch 0\n",
      "\n",
      " step: 0 loss, acc: 0.820918 0.375\n",
      " 1/15 [=>............................] - ETA: 2s - loss: 0.8209 - acc: 0.3750\n",
      " step: 1 loss, acc: 0.90095294 0.328125\n",
      "\n",
      " step: 2 loss, acc: 0.8808949 0.32291666\n",
      "\n",
      " step: 3 loss, acc: 0.88598275 0.3125\n",
      "\n",
      " step: 4 loss, acc: 0.88206846 0.33125\n",
      "\n",
      " step: 5 loss, acc: 0.8725509 0.33854166\n",
      "\n",
      " step: 6 loss, acc: 0.8528722 0.35267857\n",
      "\n",
      " step: 7 loss, acc: 0.8475879 0.35546875\n",
      "\n",
      " step: 8 loss, acc: 0.8376209 0.35416666\n",
      "\n",
      " step: 9 loss, acc: 0.8294331 0.35625\n",
      "\n",
      " step: 10 loss, acc: 0.81927145 0.375\n",
      "\n",
      " step: 11 loss, acc: 0.81701773 0.38541666\n",
      "\n",
      " step: 12 loss, acc: 0.8129315 0.39423078\n",
      "\n",
      " step: 13 loss, acc: 0.80978376 0.38839287\n",
      "\n",
      " step: 14 loss, acc: 0.80981433 0.389011\n"
     ]
    }
   ],
   "source": [
    "tf.random.set_seed(seed)\n",
    "layer_clone = copy.deepcopy(layers)\n",
    "\n",
    "model = Sequential()\n",
    "for layer in layer_clone:\n",
    "    model.add(layer)\n",
    "\n",
    "Loss = BinaryCrossentropy()\n",
    "optimizer = tf.keras.optimizers.Adagrad(learning_rate=1e-2)\n",
    "\n",
    "model.compile(optimizer = optimizer, loss = Loss, metrics = ['acc'], )\n",
    "\n",
    "\n",
    "batch_size=None\n",
    "verbose=1\n",
    "callbacks=None\n",
    "validation_split=0.\n",
    "validation_data=None\n",
    "shuffle=False\n",
    "class_weight=None\n",
    "sample_weight=None\n",
    "initial_epoch=0\n",
    "steps_per_epoch=None\n",
    "validation_steps=None\n",
    "validation_batch_size=None\n",
    "validation_freq=1\n",
    "max_queue_size=10\n",
    "workers=1\n",
    "use_multiprocessing=False\n",
    "\n",
    "with model.distribute_strategy.scope(), training_utils.RespectCompiledTrainableState(model):\n",
    "  # Creates a `tf.data.Dataset` and handles batch and epoch iteration.\n",
    "    data_handler = data_adapter.get_data_handler(\n",
    "      x=train_dataset,\n",
    "#           y=y,\n",
    "      sample_weight=sample_weight,\n",
    "      batch_size=batch_size,\n",
    "      steps_per_epoch=steps_per_epoch,\n",
    "      initial_epoch=initial_epoch,\n",
    "      epochs=EPOCHS,\n",
    "      shuffle=shuffle,\n",
    "      class_weight=class_weight,\n",
    "      max_queue_size=max_queue_size,\n",
    "      workers=workers,\n",
    "      use_multiprocessing=use_multiprocessing,\n",
    "      model=model,\n",
    "      steps_per_execution=model._steps_per_execution)\n",
    "\n",
    "  # Container that configures and calls `tf.keras.Callback`s.\n",
    "    if not isinstance(callbacks, callbacks_module.CallbackList):\n",
    "        callbacks = callbacks_module.CallbackList(\n",
    "            callbacks,\n",
    "            add_history=True,\n",
    "            add_progbar=verbose != 0,\n",
    "            model=model,\n",
    "            verbose=verbose,\n",
    "            epochs=EPOCHS,\n",
    "            steps=data_handler.inferred_steps)\n",
    "\n",
    "    model.stop_training = False\n",
    "    model.train_function = model.make_train_function()\n",
    "    model._train_counter.assign(0)\n",
    "    callbacks.on_train_begin()\n",
    "    training_logs = None\n",
    "    # Handle fault-tolerance for multi-worker.\n",
    "    # TODO(omalleyt): Fix the ordering issues that mean this has to\n",
    "    # happen after `callbacks.on_train_begin`.\n",
    "    data_handler._initial_epoch = (  # pylint: disable=protected-access\n",
    "      model._maybe_load_initial_epoch_from_ckpt(initial_epoch))\n",
    "    logs = None\n",
    "    for epoch, iterator in data_handler.enumerate_epochs():\n",
    "        print('epoch',epoch)\n",
    "    #     master, copy1 = itertools.tee(iterator)\n",
    "    #     ms = copy.copy(copy1)\n",
    "    #     print(len(list(ms)))\n",
    "    #     itr = copy.deepcopy(list(iterator))\n",
    "    #     print(len(list(iterator)))\n",
    "        model.reset_metrics()\n",
    "        callbacks.on_epoch_begin(epoch)\n",
    "        with data_handler.catch_stop_iteration():\n",
    "            for step in data_handler.steps():\n",
    "                with trace.Trace(\n",
    "                    'train',\n",
    "                    epoch_num=epoch,\n",
    "                    step_num=step,\n",
    "                    batch_size=batch_size,\n",
    "                    _r=1):\n",
    "#           master, copy1 = itertools.tee(iterator)\n",
    "#           ms = copy.copy(copy1)\n",
    "#           print(len(list(copy1)))\n",
    "                    callbacks.on_train_batch_begin(step)\n",
    "                    tmp_logs = model.train_function(iterator)\n",
    "                    print('\\n step:',step,'loss, acc:', tmp_logs['loss'].numpy(), tmp_logs['acc'].numpy())\n",
    "            \n",
    "                    if data_handler.should_sync: context.async_wait()\n",
    "                    logs = tmp_logs  # No error, now safe to assign to logs.\n",
    "                    end_step = step + data_handler.step_increment\n",
    "                    callbacks.on_train_batch_end(end_step, logs)\n",
    "                    if model.stop_training:break"
   ]
  },
  {
   "cell_type": "markdown",
   "metadata": {},
   "source": [
    "### comparison"
   ]
  },
  {
   "cell_type": "code",
   "execution_count": 26,
   "metadata": {},
   "outputs": [
    {
     "name": "stdout",
     "output_type": "stream",
     "text": [
      "True\n",
      "True\n",
      "True\n",
      "True\n",
      "True\n",
      "True\n"
     ]
    }
   ],
   "source": [
    "for iw in range(len(model.weights)):\n",
    "    print(np.alltrue(model.weights[iw] == model_custom1.weights[iw]))"
   ]
  },
  {
   "cell_type": "code",
   "execution_count": 27,
   "metadata": {},
   "outputs": [
    {
     "name": "stdout",
     "output_type": "stream",
     "text": [
      "(array([ True]), array([1], dtype=int64))\n",
      "(array([ True]), array([480], dtype=int64))\n",
      "(array([ True]), array([16], dtype=int64))\n",
      "(array([ True]), array([64], dtype=int64))\n",
      "(array([ True]), array([4], dtype=int64))\n",
      "(array([ True]), array([8], dtype=int64))\n",
      "(array([ True]), array([2], dtype=int64))\n"
     ]
    }
   ],
   "source": [
    "for iow in range(len(model.optimizer.weights)):\n",
    "    print(np.unique((model.optimizer.weights[iow] == model_custom1.optimizer.weights[iow]), return_counts=True))"
   ]
  },
  {
   "cell_type": "code",
   "execution_count": 111,
   "metadata": {},
   "outputs": [],
   "source": [
    "nth_layer = 0"
   ]
  },
  {
   "cell_type": "code",
   "execution_count": null,
   "metadata": {},
   "outputs": [],
   "source": [
    "pred = copy.deepcopy(weights_custom1[nth_layer])\n",
    "for it in range(len(grads)):\n",
    "    h = (tf.sqrt(opt_wei[it][nth_layer+1] )   + model_custom1.optimizer.epsilon  ) \n",
    "    pred = pred - (model_custom1.optimizer.learning_rate * (grads[it][nth_layer]/h))    "
   ]
  },
  {
   "cell_type": "code",
   "execution_count": 448,
   "metadata": {},
   "outputs": [],
   "source": [
    "# h = (tf.sqrt(optimizer.weights[nth_layer+1])  + optimizer.epsilon   ) \n",
    "# pred = w[nth_layer] - ((optimizer.learning_rate * grad[nth_layer])/h)    \n",
    "# # pred"
   ]
  },
  {
   "cell_type": "code",
   "execution_count": 449,
   "metadata": {},
   "outputs": [],
   "source": [
    "true = model.trainable_variables[nth_layer]\n",
    "# true"
   ]
  },
  {
   "cell_type": "code",
   "execution_count": null,
   "metadata": {},
   "outputs": [],
   "source": []
  }
 ],
 "metadata": {
  "kernelspec": {
   "display_name": "Python 3",
   "language": "python",
   "name": "python3"
  },
  "language_info": {
   "codemirror_mode": {
    "name": "ipython",
    "version": 3
   },
   "file_extension": ".py",
   "mimetype": "text/x-python",
   "name": "python",
   "nbconvert_exporter": "python",
   "pygments_lexer": "ipython3",
   "version": "3.8.5"
  },
  "toc-autonumbering": true,
  "widgets": {
   "application/vnd.jupyter.widget-state+json": {
    "state": {},
    "version_major": 2,
    "version_minor": 0
   }
  }
 },
 "nbformat": 4,
 "nbformat_minor": 4
}
