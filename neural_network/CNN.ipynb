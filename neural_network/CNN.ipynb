{
 "cells": [
  {
   "cell_type": "code",
   "execution_count": 2,
   "metadata": {},
   "outputs": [],
   "source": [
    "import tensorflow as tf\n",
    "import numpy as np\n",
    "import matplotlib.pyplot as plt\n",
    "import copy\n",
    "from time\n",
    "from tqdm import tqdm\n",
    "from scipy.stats import truncnorm, norm, levene, ttest_ind\n",
    "\n",
    "from numpy.lib.stride_tricks import sliding_window_view\n",
    "\n",
    "from sklearn.metrics import *\n",
    "from sklearn.model_selection import train_test_split\n",
    "\n",
    "from tensorflow.keras.models import Sequential\n",
    "from tensorflow.keras.layers import Conv1D, GlobalMaxPooling1D, Dense, LSTM, SimpleRNN, Bidirectional, Embedding\n",
    "from tensorflow.keras.utils import to_categorical\n",
    "from tensorflow.keras.losses import BinaryCrossentropy\n",
    "from tensorflow.keras.initializers import GlorotNormal, GlorotUniform, Zeros\n",
    "from tensorflow.keras import backend as K"
   ]
  },
  {
   "cell_type": "code",
   "execution_count": 268,
   "metadata": {},
   "outputs": [],
   "source": [
    "n_samples = 6000\n",
    "max_len = 50\n",
    "vocab_size = 1234\n",
    "embedding_dim = 100\n",
    "\n",
    "kernel_size = 3\n",
    "n_filters = 64"
   ]
  },
  {
   "cell_type": "markdown",
   "metadata": {},
   "source": [
    "# Example 1: with embedding layer"
   ]
  },
  {
   "cell_type": "code",
   "execution_count": 284,
   "metadata": {},
   "outputs": [
    {
     "name": "stdout",
     "output_type": "stream",
     "text": [
      "running time: 0.09142708778381348\n"
     ]
    }
   ],
   "source": [
    "rng = np.random.default_rng(42)\n",
    "X = rng.integers(0,vocab_size, size=(n_samples, max_len))\n",
    "\n",
    "\n",
    "model = Sequential()\n",
    "model.add(Embedding(vocab_size, embedding_dim, input_length = max_len, ))\n",
    "X_emb = model(X)\n",
    "\n",
    "st=time.time()\n",
    "model.add(Conv1D(n_filters, kernel_size, input_shape= (max_len, embedding_dim)))\n",
    "hidden_state = model(X)\n",
    "et=time.time()\n",
    "print('running time:',et-st)\n",
    "cnn = model.layers[1]"
   ]
  },
  {
   "cell_type": "code",
   "execution_count": 285,
   "metadata": {},
   "outputs": [
    {
     "name": "stdout",
     "output_type": "stream",
     "text": [
      "Model: \"sequential_13\"\n",
      "_________________________________________________________________\n",
      "Layer (type)                 Output Shape              Param #   \n",
      "=================================================================\n",
      "embedding_13 (Embedding)     (None, 50, 100)           123400    \n",
      "_________________________________________________________________\n",
      "conv1d_13 (Conv1D)           (None, 48, 64)            19264     \n",
      "=================================================================\n",
      "Total params: 142,664\n",
      "Trainable params: 142,664\n",
      "Non-trainable params: 0\n",
      "_________________________________________________________________\n"
     ]
    }
   ],
   "source": [
    "model.summary()"
   ]
  },
  {
   "cell_type": "code",
   "execution_count": 296,
   "metadata": {},
   "outputs": [
    {
     "name": "stdout",
     "output_type": "stream",
     "text": [
      "True\n"
     ]
    }
   ],
   "source": [
    "output_axis1 = int((max_len-kernel_size)/cnn.strides[0] +1)\n",
    "print(output_axis1 == cnn.output_shape[1])"
   ]
  },
  {
   "cell_type": "code",
   "execution_count": 287,
   "metadata": {},
   "outputs": [],
   "source": [
    "X_emb_ = copy.deepcopy(X_emb.numpy())"
   ]
  },
  {
   "cell_type": "markdown",
   "metadata": {},
   "source": [
    "## implementation: with python for loop"
   ]
  },
  {
   "cell_type": "code",
   "execution_count": 298,
   "metadata": {},
   "outputs": [
    {
     "name": "stderr",
     "output_type": "stream",
     "text": [
      "100%|██████████████████████████████████████████████████████████████████████████████████| 64/64 [02:18<00:00,  2.17s/it]"
     ]
    },
    {
     "name": "stdout",
     "output_type": "stream",
     "text": [
      "138.61507439613342\n"
     ]
    },
    {
     "name": "stderr",
     "output_type": "stream",
     "text": [
      "\n"
     ]
    }
   ],
   "source": [
    "st=time.time()\n",
    "result_all = np.zeros((n_samples, output_axis1, n_filters))\n",
    "\n",
    "for d in tqdm(range(n_filters)):\n",
    "    kernel_sample = copy.deepcopy(cnn.kernel[:,:,d].numpy())\n",
    "    result = np.array([]).reshape(-1, output_axis1)\n",
    "    for samp in range(n_samples):\n",
    "        array = [] #np.zeros(output_axis1)\n",
    "    #     X_emb__ = X_emb_[samp,:,:]\n",
    "        for k in range(0, output_axis1, cnn.strides[0]):\n",
    "            array.append((X_emb_[samp,k:k+kernel_size,:]*kernel_sample).sum())\n",
    "        result = np.vstack((result, array ))\n",
    "        \n",
    "    result_all[:,:,d]= result\n",
    "et=time.time()\n",
    "print(et-st)"
   ]
  },
  {
   "cell_type": "code",
   "execution_count": 303,
   "metadata": {},
   "outputs": [
    {
     "name": "stdout",
     "output_type": "stream",
     "text": [
      "Validation: True\n"
     ]
    }
   ],
   "source": [
    "print('Validation:', np.allclose(result_all, hidden_state.numpy(), atol=1e-7))"
   ]
  },
  {
   "cell_type": "markdown",
   "metadata": {},
   "source": [
    "## implementation: with numpy functions"
   ]
  },
  {
   "cell_type": "code",
   "execution_count": 300,
   "metadata": {},
   "outputs": [
    {
     "name": "stdout",
     "output_type": "stream",
     "text": [
      "3.6424896717071533\n"
     ]
    }
   ],
   "source": [
    "st=time.time()\n",
    "X_emb_sld = sliding_window_view(X_emb_, window_shape=cnn.kernel.shape[:2], axis=(1,2))\n",
    "result = np.einsum('abijk,jkc->abc', X_emb_sld, cnn.kernel.numpy())\n",
    "\n",
    "et=time.time()\n",
    "print(et-st)"
   ]
  },
  {
   "cell_type": "code",
   "execution_count": 301,
   "metadata": {},
   "outputs": [
    {
     "name": "stdout",
     "output_type": "stream",
     "text": [
      "Validation: True\n"
     ]
    }
   ],
   "source": [
    "print('Validation:', np.allclose(result, hidden_state.numpy(), atol=5e-8))"
   ]
  },
  {
   "cell_type": "markdown",
   "metadata": {},
   "source": [
    "## implementation: with numpy functions & flattening kernels"
   ]
  },
  {
   "cell_type": "code",
   "execution_count": 304,
   "metadata": {},
   "outputs": [
    {
     "name": "stdout",
     "output_type": "stream",
     "text": [
      "3.6195778846740723\n"
     ]
    }
   ],
   "source": [
    "st=time.time()\n",
    "X_emb_sld = sliding_window_view(X_emb_, window_shape=cnn.kernel.shape[:2], axis=(1,2))\n",
    "X_emb_sld_flt = X_emb_sld.reshape(n_samples,output_axis1,1,-1,)\n",
    "kernel_flt = cnn.kernel.numpy().reshape(-1, n_filters )\n",
    "result = np.einsum('aijk,kl->ail', X_emb_sld_flt, kernel_flt)\n",
    "\n",
    "et=time.time()\n",
    "print(et-st)"
   ]
  },
  {
   "cell_type": "code",
   "execution_count": 305,
   "metadata": {},
   "outputs": [
    {
     "name": "stdout",
     "output_type": "stream",
     "text": [
      "Validation: True\n"
     ]
    }
   ],
   "source": [
    "print('Validation:', np.allclose(result, hidden_state.numpy(), atol=5e-8))"
   ]
  },
  {
   "cell_type": "code",
   "execution_count": null,
   "metadata": {},
   "outputs": [],
   "source": []
  }
 ],
 "metadata": {
  "kernelspec": {
   "display_name": "Python 3",
   "language": "python",
   "name": "python3"
  },
  "language_info": {
   "codemirror_mode": {
    "name": "ipython",
    "version": 3
   },
   "file_extension": ".py",
   "mimetype": "text/x-python",
   "name": "python",
   "nbconvert_exporter": "python",
   "pygments_lexer": "ipython3",
   "version": "3.8.5"
  },
  "widgets": {
   "application/vnd.jupyter.widget-state+json": {
    "state": {},
    "version_major": 2,
    "version_minor": 0
   }
  }
 },
 "nbformat": 4,
 "nbformat_minor": 4
}
