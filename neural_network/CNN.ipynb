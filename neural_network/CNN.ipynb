{
 "cells": [
  {
   "cell_type": "code",
   "execution_count": 1,
   "metadata": {},
   "outputs": [],
   "source": [
    "import tensorflow as tf\n",
    "import numpy as np\n",
    "import matplotlib.pyplot as plt\n",
    "import copy\n",
    "import time\n",
    "from tqdm import tqdm\n",
    "from scipy.stats import truncnorm, norm, levene, ttest_ind\n",
    "\n",
    "from numpy.lib.stride_tricks import sliding_window_view\n",
    "\n",
    "from sklearn.metrics import *\n",
    "from sklearn.model_selection import train_test_split\n",
    "\n",
    "from tensorflow.keras.models import Sequential\n",
    "from tensorflow.keras.layers import Conv1D, GlobalMaxPooling1D, Dense, Conv2D, Embedding, DepthwiseConv2D, SeparableConv2D\n",
    "from tensorflow.keras.utils import to_categorical\n",
    "from tensorflow.keras.losses import BinaryCrossentropy\n",
    "from tensorflow.keras.initializers import GlorotNormal, GlorotUniform, Zeros\n",
    "from tensorflow.keras import backend as K\n",
    "\n",
    "from tensorflow.image import extract_patches\n",
    "import tensorflow_text as tft"
   ]
  },
  {
   "cell_type": "markdown",
   "metadata": {},
   "source": [
    "# Conv1D with embedding layer"
   ]
  },
  {
   "cell_type": "code",
   "execution_count": 2,
   "metadata": {},
   "outputs": [],
   "source": [
    "n_samples = 10000\n",
    "max_len = 50\n",
    "vocab_size = 1234\n",
    "embedding_dim = 500\n",
    "\n",
    "kernel_size = 3\n",
    "n_filters = 64"
   ]
  },
  {
   "cell_type": "code",
   "execution_count": 3,
   "metadata": {},
   "outputs": [
    {
     "name": "stdout",
     "output_type": "stream",
     "text": [
      "running time: 1.0559544563293457\n"
     ]
    }
   ],
   "source": [
    "rng = np.random.default_rng(42)\n",
    "X = rng.integers(0,vocab_size, size=(n_samples, max_len))\n",
    "\n",
    "\n",
    "model = Sequential()\n",
    "model.add(Embedding(vocab_size, embedding_dim, input_length = max_len, ))\n",
    "X_emb = model(X)\n",
    "\n",
    "st=time.time()\n",
    "model.add(Conv1D(n_filters, kernel_size, input_shape= (max_len, embedding_dim)))\n",
    "hidden_state = model(X)\n",
    "et=time.time()\n",
    "print('running time:',et-st)\n",
    "cnn = model.layers[1]"
   ]
  },
  {
   "cell_type": "code",
   "execution_count": 4,
   "metadata": {},
   "outputs": [
    {
     "name": "stdout",
     "output_type": "stream",
     "text": [
      "Model: \"sequential\"\n",
      "_________________________________________________________________\n",
      " Layer (type)                Output Shape              Param #   \n",
      "=================================================================\n",
      " embedding (Embedding)       (None, 50, 500)           617000    \n",
      "                                                                 \n",
      " conv1d (Conv1D)             (None, 48, 64)            96064     \n",
      "                                                                 \n",
      "=================================================================\n",
      "Total params: 713,064\n",
      "Trainable params: 713,064\n",
      "Non-trainable params: 0\n",
      "_________________________________________________________________\n"
     ]
    }
   ],
   "source": [
    "model.summary()"
   ]
  },
  {
   "cell_type": "code",
   "execution_count": 5,
   "metadata": {},
   "outputs": [
    {
     "name": "stdout",
     "output_type": "stream",
     "text": [
      "True\n"
     ]
    }
   ],
   "source": [
    "output_axis1 = int((max_len-kernel_size)/cnn.strides[0] +1)\n",
    "print(output_axis1 == cnn.output_shape[1])"
   ]
  },
  {
   "cell_type": "markdown",
   "metadata": {},
   "source": [
    "## implementation: with python for loop"
   ]
  },
  {
   "cell_type": "code",
   "execution_count": 298,
   "metadata": {},
   "outputs": [
    {
     "name": "stderr",
     "output_type": "stream",
     "text": [
      "100%|██████████████████████████████████████████████████████████████████████████████████| 64/64 [02:18<00:00,  2.17s/it]"
     ]
    },
    {
     "name": "stdout",
     "output_type": "stream",
     "text": [
      "138.61507439613342\n"
     ]
    },
    {
     "name": "stderr",
     "output_type": "stream",
     "text": [
      "\n"
     ]
    }
   ],
   "source": [
    "X_emb_ = copy.deepcopy(X_emb.numpy())\n",
    "\n",
    "st=time.time()\n",
    "result_all = np.zeros((n_samples, output_axis1, n_filters))\n",
    "\n",
    "for d in tqdm(range(n_filters)):\n",
    "    kernel_sample = copy.deepcopy(cnn.kernel[:,:,d].numpy())\n",
    "    result = np.array([]).reshape(-1, output_axis1)\n",
    "    for samp in range(n_samples):\n",
    "        array = [] #np.zeros(output_axis1)\n",
    "    #     X_emb__ = X_emb_[samp,:,:]\n",
    "        for k in range(0, output_axis1, cnn.strides[0]):\n",
    "            array.append((X_emb_[samp,k:k+kernel_size,:]*kernel_sample).sum())\n",
    "        result = np.vstack((result, array ))\n",
    "        \n",
    "    result_all[:,:,d]= result\n",
    "et=time.time()\n",
    "print(et-st)"
   ]
  },
  {
   "cell_type": "code",
   "execution_count": 303,
   "metadata": {},
   "outputs": [
    {
     "name": "stdout",
     "output_type": "stream",
     "text": [
      "Validation: True\n"
     ]
    }
   ],
   "source": [
    "print('Validation:', np.allclose(result_all, hidden_state.numpy(), atol=1e-7))"
   ]
  },
  {
   "cell_type": "markdown",
   "metadata": {},
   "source": [
    "## implementation: with numpy"
   ]
  },
  {
   "cell_type": "code",
   "execution_count": 35,
   "metadata": {},
   "outputs": [
    {
     "data": {
      "text/plain": [
       "TensorShape([10000, 50, 500])"
      ]
     },
     "execution_count": 35,
     "metadata": {},
     "output_type": "execute_result"
    }
   ],
   "source": [
    "X_emb.shape"
   ]
  },
  {
   "cell_type": "code",
   "execution_count": 42,
   "metadata": {},
   "outputs": [
    {
     "name": "stdout",
     "output_type": "stream",
     "text": [
      "20.20397400856018\n"
     ]
    }
   ],
   "source": [
    "st=time.time()\n",
    "X_emb_sld = sliding_window_view(X_emb, window_shape=cnn.kernel.shape[:2], axis=(1,2))\n",
    "X_emb_sld = tf.cast(X_emb_sld, tf.float32)\n",
    "result = tf.einsum('abijk,jkc->abc', X_emb_sld, cnn.kernel)\n",
    "\n",
    "et=time.time()\n",
    "print(et-st)"
   ]
  },
  {
   "cell_type": "code",
   "execution_count": 43,
   "metadata": {},
   "outputs": [
    {
     "data": {
      "text/plain": [
       "TensorShape([10000, 48, 1, 3, 500])"
      ]
     },
     "execution_count": 43,
     "metadata": {},
     "output_type": "execute_result"
    }
   ],
   "source": [
    "X_emb_sld.shape"
   ]
  },
  {
   "cell_type": "code",
   "execution_count": 44,
   "metadata": {},
   "outputs": [
    {
     "name": "stdout",
     "output_type": "stream",
     "text": [
      "3.0047667026519775\n"
     ]
    }
   ],
   "source": [
    "st=time.time()\n",
    "X_emb_sld = sliding_window_view(X_emb, window_shape=cnn.kernel.shape[:2], axis=(1,2))\n",
    "X_emb_sld_flt = X_emb_sld.reshape(n_samples,output_axis1,1,-1,)\n",
    "kernel_flt = tf.reshape(cnn.kernel, [-1, n_filters] )\n",
    "result = tf.einsum('aijk,kl->ail', X_emb_sld_flt, kernel_flt)\n",
    "\n",
    "et=time.time()\n",
    "print(et-st)"
   ]
  },
  {
   "cell_type": "code",
   "execution_count": 45,
   "metadata": {},
   "outputs": [
    {
     "name": "stdout",
     "output_type": "stream",
     "text": [
      "Validation: True\n"
     ]
    }
   ],
   "source": [
    "print('Validation:', np.alltrue(result == hidden_state))"
   ]
  },
  {
   "cell_type": "markdown",
   "metadata": {},
   "source": [
    "## implementation: with tensorflow"
   ]
  },
  {
   "cell_type": "code",
   "execution_count": 46,
   "metadata": {},
   "outputs": [
    {
     "name": "stdout",
     "output_type": "stream",
     "text": [
      "1.912224292755127\n"
     ]
    }
   ],
   "source": [
    "st=time.time()\n",
    "X_emb_sld = tft.sliding_window(X_emb, kernel_size, axis=1)\n",
    "\n",
    "result = tf.einsum('abjk,jkc->abc', X_emb_sld, cnn.kernel)\n",
    "\n",
    "et=time.time()\n",
    "print(et-st)"
   ]
  },
  {
   "cell_type": "code",
   "execution_count": 47,
   "metadata": {},
   "outputs": [
    {
     "name": "stdout",
     "output_type": "stream",
     "text": [
      "Validation: True\n"
     ]
    }
   ],
   "source": [
    "print('Validation:', np.alltrue(result == hidden_state))"
   ]
  },
  {
   "cell_type": "code",
   "execution_count": 48,
   "metadata": {},
   "outputs": [
    {
     "name": "stdout",
     "output_type": "stream",
     "text": [
      "1.9849357604980469\n"
     ]
    }
   ],
   "source": [
    "st=time.time()\n",
    "X_emb_sld = tft.sliding_window(X_emb, kernel_size, axis=1)\n",
    "X_emb_sld_flt = tf.reshape(X_emb_sld, [X_emb_sld.shape[0], X_emb_sld.shape[1], -1,])\n",
    "kernel_flt = tf.reshape(cnn.kernel, [-1, n_filters] )\n",
    "result = tf.einsum('aik,kl->ail', X_emb_sld_flt, kernel_flt)\n",
    "\n",
    "et=time.time()\n",
    "print(et-st)"
   ]
  },
  {
   "cell_type": "code",
   "execution_count": 49,
   "metadata": {},
   "outputs": [
    {
     "name": "stdout",
     "output_type": "stream",
     "text": [
      "Validation: True\n"
     ]
    }
   ],
   "source": [
    "print('Validation:', np.alltrue(result == hidden_state ))"
   ]
  },
  {
   "cell_type": "markdown",
   "metadata": {},
   "source": [
    "# Conv2D"
   ]
  },
  {
   "cell_type": "code",
   "execution_count": 42,
   "metadata": {},
   "outputs": [],
   "source": [
    "num_samples = 1000\n",
    "image_size = (256, 256)\n",
    "num_channels = 3\n",
    "\n",
    "kernel_size = (3, 3)\n",
    "strides = 2\n",
    "n_filters = 64"
   ]
  },
  {
   "cell_type": "code",
   "execution_count": 43,
   "metadata": {},
   "outputs": [],
   "source": [
    "rng = np.random.default_rng(42)\n",
    "X = rng.integers(0, 256, size=(num_samples,)+image_size+(num_channels,))"
   ]
  },
  {
   "cell_type": "code",
   "execution_count": 44,
   "metadata": {},
   "outputs": [],
   "source": [
    "X = tf.cast(X, tf.float32)"
   ]
  },
  {
   "cell_type": "code",
   "execution_count": 78,
   "metadata": {},
   "outputs": [
    {
     "name": "stdout",
     "output_type": "stream",
     "text": [
      "running time: 19.17914390563965\n"
     ]
    }
   ],
   "source": [
    "st = time.time()\n",
    "\n",
    "model = Sequential()\n",
    "model.add(Conv2D(n_filters, kernel_size, input_shape = image_size+(num_channels,), strides = strides, padding='valid' ) )\n",
    "X_ = model(X)\n",
    "\n",
    "et = time.time()\n",
    "print('running time:', et-st)"
   ]
  },
  {
   "cell_type": "code",
   "execution_count": 28,
   "metadata": {},
   "outputs": [
    {
     "name": "stdout",
     "output_type": "stream",
     "text": [
      "Model: \"sequential_7\"\n",
      "_________________________________________________________________\n",
      " Layer (type)                Output Shape              Param #   \n",
      "=================================================================\n",
      " conv2d_4 (Conv2D)           (None, 127, 127, 64)      1792      \n",
      "                                                                 \n",
      "=================================================================\n",
      "Total params: 1,792\n",
      "Trainable params: 1,792\n",
      "Non-trainable params: 0\n",
      "_________________________________________________________________\n"
     ]
    }
   ],
   "source": [
    "model.summary()"
   ]
  },
  {
   "cell_type": "code",
   "execution_count": 79,
   "metadata": {},
   "outputs": [],
   "source": [
    "cnn = model.layers[0]"
   ]
  },
  {
   "cell_type": "code",
   "execution_count": 80,
   "metadata": {},
   "outputs": [
    {
     "name": "stdout",
     "output_type": "stream",
     "text": [
      "# of params: 1792\n"
     ]
    },
    {
     "data": {
      "text/plain": [
       "True"
      ]
     },
     "execution_count": 80,
     "metadata": {},
     "output_type": "execute_result"
    }
   ],
   "source": [
    "print('# of params:', cnn.count_params())\n",
    "cnn.count_params() == np.product(cnn.kernel.shape, axis=0) + cnn.bias.shape[0]"
   ]
  },
  {
   "cell_type": "code",
   "execution_count": 81,
   "metadata": {},
   "outputs": [
    {
     "name": "stdout",
     "output_type": "stream",
     "text": [
      "shape of feature map: (127, 127)\n"
     ]
    },
    {
     "data": {
      "text/plain": [
       "True"
      ]
     },
     "execution_count": 81,
     "metadata": {},
     "output_type": "execute_result"
    }
   ],
   "source": [
    "print('shape of feature map:',cnn.output_shape[1:3])\n",
    "cnn.output_shape[1:3] == (int((image_size[0] - kernel_size[0])/strides + 1), int((image_size[1] - kernel_size[1])/strides + 1))"
   ]
  },
  {
   "cell_type": "code",
   "execution_count": 82,
   "metadata": {},
   "outputs": [
    {
     "name": "stdout",
     "output_type": "stream",
     "text": [
      "running time: 8.548577785491943\n"
     ]
    }
   ],
   "source": [
    "st = time.time()\n",
    "# cnn = model.layers[0]\n",
    "ep = extract_patches(X, sizes= [1]+cnn.kernel.shape[:2]+[1], strides=[1, strides, strides, 1], rates = [1,1,1,1], padding = 'VALID' )\n",
    "kf = tf.reshape(cnn.kernel, [-1, 64])\n",
    "\n",
    "result = tf.einsum('abci,id->abcd', ep, kf)\n",
    "\n",
    "et = time.time()\n",
    "print('running time:', et-st)"
   ]
  },
  {
   "cell_type": "code",
   "execution_count": 83,
   "metadata": {},
   "outputs": [
    {
     "data": {
      "text/plain": [
       "TensorShape([1000, 127, 127, 27])"
      ]
     },
     "execution_count": 83,
     "metadata": {},
     "output_type": "execute_result"
    }
   ],
   "source": [
    "ep.shape"
   ]
  },
  {
   "cell_type": "code",
   "execution_count": 84,
   "metadata": {},
   "outputs": [
    {
     "data": {
      "text/plain": [
       "TensorShape([27, 64])"
      ]
     },
     "execution_count": 84,
     "metadata": {},
     "output_type": "execute_result"
    }
   ],
   "source": [
    "kf.shape"
   ]
  },
  {
   "cell_type": "code",
   "execution_count": 36,
   "metadata": {},
   "outputs": [
    {
     "data": {
      "text/plain": [
       "True"
      ]
     },
     "execution_count": 36,
     "metadata": {},
     "output_type": "execute_result"
    }
   ],
   "source": [
    "np.alltrue(result == X_)"
   ]
  },
  {
   "cell_type": "markdown",
   "metadata": {},
   "source": [
    "# Depthwise separable Conv"
   ]
  },
  {
   "cell_type": "code",
   "execution_count": null,
   "metadata": {},
   "outputs": [],
   "source": [
    "tf.random.set_seed(1)\n",
    "\n",
    "model = Sequential()\n",
    "model.add(SeparableConv2D(64, kernel_size, strides = strides, padding='valid', input_shape = image_size+(num_channels,) ) )\n",
    "X_ = model(X)"
   ]
  },
  {
   "cell_type": "code",
   "execution_count": 60,
   "metadata": {},
   "outputs": [
    {
     "data": {
      "text/plain": [
       "TensorShape([1000, 127, 127, 64])"
      ]
     },
     "execution_count": 60,
     "metadata": {},
     "output_type": "execute_result"
    }
   ],
   "source": [
    "X_.shape"
   ]
  },
  {
   "cell_type": "code",
   "execution_count": 61,
   "metadata": {},
   "outputs": [],
   "source": [
    "tf.random.set_seed(1)\n",
    "\n",
    "model = Sequential()\n",
    "model.add(DepthwiseConv2D(kernel_size, strides = strides, padding='valid', input_shape = image_size+(num_channels,) ) )\n",
    "model.add(Conv2D(64, 1, strides = 1, padding='valid',  ) )\n",
    "X_1 = model(X)"
   ]
  },
  {
   "cell_type": "code",
   "execution_count": 62,
   "metadata": {},
   "outputs": [
    {
     "data": {
      "text/plain": [
       "TensorShape([1000, 127, 127, 64])"
      ]
     },
     "execution_count": 62,
     "metadata": {},
     "output_type": "execute_result"
    }
   ],
   "source": [
    "X_1.shape"
   ]
  },
  {
   "cell_type": "code",
   "execution_count": 66,
   "metadata": {},
   "outputs": [
    {
     "data": {
      "text/plain": [
       "True"
      ]
     },
     "execution_count": 66,
     "metadata": {},
     "output_type": "execute_result"
    }
   ],
   "source": [
    "np.alltrue(X_ == X_1)"
   ]
  }
 ],
 "metadata": {
  "kernelspec": {
   "display_name": "Python 3",
   "language": "python",
   "name": "python3"
  },
  "language_info": {
   "codemirror_mode": {
    "name": "ipython",
    "version": 3
   },
   "file_extension": ".py",
   "mimetype": "text/x-python",
   "name": "python",
   "nbconvert_exporter": "python",
   "pygments_lexer": "ipython3",
   "version": "3.8.5"
  },
  "toc-autonumbering": true,
  "widgets": {
   "application/vnd.jupyter.widget-state+json": {
    "state": {},
    "version_major": 2,
    "version_minor": 0
   }
  }
 },
 "nbformat": 4,
 "nbformat_minor": 4
}
