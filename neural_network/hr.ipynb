{
 "cells": [
  {
   "cell_type": "code",
   "execution_count": 1,
   "metadata": {},
   "outputs": [],
   "source": [
    "%load_ext autoreload\n",
    "%autoreload 2"
   ]
  },
  {
   "cell_type": "code",
   "execution_count": 2,
   "metadata": {},
   "outputs": [],
   "source": [
    "import torch\n",
    "from torch.utils.data import Dataset, DataLoader, RandomSampler, SequentialSampler\n",
    "\n",
    "from transformers import TapasForSequenceClassification, TapasTokenizer\n",
    "\n",
    "import numpy as np \n",
    "import pandas as pd\n"
   ]
  },
  {
   "cell_type": "code",
   "execution_count": 95,
   "metadata": {},
   "outputs": [],
   "source": [
    "# https://www.kaggle.com/datasets/rohitsahoo/employeeㄴ\n",
    "train = pd.read_csv('/Users/ywkim/Downloads/archive/train.csv', encoding='ascii')\n",
    "test = pd.read_csv('/Users/ywkim/Downloads/archive/test.csv', encoding='utf-8')"
   ]
  },
  {
   "cell_type": "code",
   "execution_count": 93,
   "metadata": {},
   "outputs": [],
   "source": [
    "from sklearn.model_selection import train_test_split\n",
    "training, val = train_test_split(train, test_size = .2, random_state = 42, stratify = train['Attrition'])"
   ]
  },
  {
   "cell_type": "code",
   "execution_count": 58,
   "metadata": {},
   "outputs": [],
   "source": [
    "str_cols = train.select_dtypes(object).columns.tolist()"
   ]
  },
  {
   "cell_type": "code",
   "execution_count": 53,
   "metadata": {},
   "outputs": [],
   "source": [
    "cat_to_str = {\n",
    "    'Education':dict(zip(range(1,6), ['Below College',\n",
    "'College',\n",
    "'Bachelor',\n",
    "'Master',\n",
    "'Doctor'])),\n",
    "\n",
    "\n",
    "'EnvironmentSatisfaction':dict(zip(range(1,5), [\n",
    "    'Low',\n",
    "'Medium',\n",
    "'High',\n",
    "'Very High'\n",
    "])),\n",
    "\n",
    "\n",
    "'JobInvolvement':dict(zip(range(1,5), [\n",
    "    'Low',\n",
    "'Medium',\n",
    "'High',\n",
    "'Very High'\n",
    "])),\n",
    "\n",
    "'JobSatisfaction':dict(zip(range(1,5), [\n",
    "'Low',\n",
    "'Medium',\n",
    "'High',\n",
    "'Very High'\n",
    "])),\n",
    "\n",
    "'PerformanceRating':dict(zip(range(1,5), [\n",
    "'Low',\n",
    "'Good',\n",
    "'Excellent',\n",
    "'Outstanding'\n",
    "])),\n",
    "\n",
    "'RelationshipSatisfaction':dict(zip(range(1,5), [\n",
    "'Low',\n",
    "'Medium',\n",
    "'High',\n",
    "'Very High'\n",
    "])),\n",
    "\n",
    "\n",
    "'WorkLifeBalance':dict(zip(range(1,5), [\n",
    "'Bad',\n",
    "'Good',\n",
    "'Better',\n",
    "'Best'\n",
    "]))\n",
    "\n",
    "}"
   ]
  },
  {
   "cell_type": "code",
   "execution_count": 62,
   "metadata": {},
   "outputs": [],
   "source": [
    "for col in cat_to_str.keys():\n",
    "    training[col] = training[col].apply(lambda x: cat_to_str[col][x]).copy()\n",
    "    val[col] = val[col].apply(lambda x: cat_to_str[col][x]).copy()"
   ]
  },
  {
   "cell_type": "code",
   "execution_count": 50,
   "metadata": {},
   "outputs": [
    {
     "data": {
      "text/plain": [
       "'Age: 41, Attrition: 1, BusinessTravel: Travel_Rarely, DailyRate: 1102, Department: Sales, DistanceFromHome: 1, Education: 2, EducationField: Life Sciences, EmployeeCount: 1, EmployeeNumber: 1, EnvironmentSatisfaction: 2, Gender: Female, HourlyRate: 94, JobInvolvement: 3, JobLevel: 2, JobRole: Sales Executive, JobSatisfaction: 4, MaritalStatus: Single, MonthlyIncome: 5993, MonthlyRate: 19479, NumCompaniesWorked: 8, Over18: Y, OverTime: Yes, PercentSalaryHike: 11, PerformanceRating: 3, RelationshipSatisfaction: 1, StandardHours: 80, StockOptionLevel: 0, TotalWorkingYears: 8, TrainingTimesLastYear: 0, WorkLifeBalance: 1, YearsAtCompany: 6, YearsInCurrentRole: 4, YearsSinceLastPromotion: 0, YearsWithCurrManager: 5'"
      ]
     },
     "execution_count": 50,
     "metadata": {},
     "output_type": "execute_result"
    }
   ],
   "source": [
    "import re\n",
    "re.sub(r'[\\(\\)\\{\\}\\']', '', str(dict(train.loc[0])))"
   ]
  },
  {
   "cell_type": "code",
   "execution_count": 65,
   "metadata": {},
   "outputs": [],
   "source": [
    "training_text = []\n",
    "X_training = training.drop('Attrition', axis=1).copy()\n",
    "\n",
    "for idx, row in X_training.iterrows():\n",
    "    training_text.append(re.sub(r'[\\(\\)\\{\\}\\']', '', str(dict(row))))\n"
   ]
  },
  {
   "cell_type": "code",
   "execution_count": 74,
   "metadata": {},
   "outputs": [
    {
     "data": {
      "text/plain": [
       "['Age: 34, BusinessTravel: Travel_Rarely, DailyRate: 507, Department: Sales, DistanceFromHome: 15, Education: College, EducationField: Medical, EmployeeCount: 1, EmployeeNumber: 1356, EnvironmentSatisfaction: High, Gender: Female, HourlyRate: 66, JobInvolvement: High, JobLevel: 2, JobRole: Sales Executive, JobSatisfaction: Low, MaritalStatus: Single, MonthlyIncome: 6125, MonthlyRate: 23553, NumCompaniesWorked: 1, Over18: Y, OverTime: No, PercentSalaryHike: 12, PerformanceRating: Excellent, RelationshipSatisfaction: Very High, StandardHours: 80, StockOptionLevel: 0, TotalWorkingYears: 10, TrainingTimesLastYear: 6, WorkLifeBalance: Best, YearsAtCompany: 10, YearsInCurrentRole: 8, YearsSinceLastPromotion: 9, YearsWithCurrManager: 6']"
      ]
     },
     "execution_count": 74,
     "metadata": {},
     "output_type": "execute_result"
    }
   ],
   "source": [
    "training_text[0:1]"
   ]
  },
  {
   "cell_type": "code",
   "execution_count": 100,
   "metadata": {},
   "outputs": [
    {
     "data": {
      "text/plain": [
       "Age                         object\n",
       "Attrition                   object\n",
       "BusinessTravel              object\n",
       "DailyRate                   object\n",
       "Department                  object\n",
       "DistanceFromHome            object\n",
       "Education                   object\n",
       "EducationField              object\n",
       "EmployeeCount               object\n",
       "EmployeeNumber              object\n",
       "EnvironmentSatisfaction     object\n",
       "Gender                      object\n",
       "HourlyRate                  object\n",
       "JobInvolvement              object\n",
       "JobLevel                    object\n",
       "JobRole                     object\n",
       "JobSatisfaction             object\n",
       "MaritalStatus               object\n",
       "MonthlyIncome               object\n",
       "MonthlyRate                 object\n",
       "NumCompaniesWorked          object\n",
       "Over18                      object\n",
       "OverTime                    object\n",
       "PercentSalaryHike           object\n",
       "PerformanceRating           object\n",
       "RelationshipSatisfaction    object\n",
       "StandardHours               object\n",
       "StockOptionLevel            object\n",
       "TotalWorkingYears           object\n",
       "TrainingTimesLastYear       object\n",
       "WorkLifeBalance             object\n",
       "YearsAtCompany              object\n",
       "YearsInCurrentRole          object\n",
       "YearsSinceLastPromotion     object\n",
       "YearsWithCurrManager        object\n",
       "dtype: object"
      ]
     },
     "execution_count": 100,
     "metadata": {},
     "output_type": "execute_result"
    }
   ],
   "source": [
    "train.astype(object).dtypes"
   ]
  },
  {
   "cell_type": "code",
   "execution_count": null,
   "metadata": {},
   "outputs": [],
   "source": [
    "tokenizer(train.astype(str), training_text[0:1], max_length=512, truncation=True, )"
   ]
  },
  {
   "cell_type": "code",
   "execution_count": 51,
   "metadata": {},
   "outputs": [
    {
     "data": {
      "text/plain": [
       "Index(['EmployeeCount', 'Over18', 'StandardHours'], dtype='object')"
      ]
     },
     "execution_count": 51,
     "metadata": {},
     "output_type": "execute_result"
    }
   ],
   "source": [
    "train.columns[train.nunique()==1]"
   ]
  },
  {
   "cell_type": "code",
   "execution_count": 3,
   "metadata": {},
   "outputs": [
    {
     "data": {
      "application/vnd.jupyter.widget-view+json": {
       "model_id": "f899a8c3470748a9baa952582dcef901",
       "version_major": 2,
       "version_minor": 0
      },
      "text/plain": [
       "Downloading:   0%|          | 0.00/422M [00:00<?, ?B/s]"
      ]
     },
     "metadata": {},
     "output_type": "display_data"
    }
   ],
   "source": [
    "model = TapasForSequenceClassification.from_pretrained(\"google/tapas-base-finetuned-tabfact\")"
   ]
  },
  {
   "cell_type": "code",
   "execution_count": 5,
   "metadata": {},
   "outputs": [],
   "source": [
    "tokenizer = TapasTokenizer.from_pretrained(\"google/tapas-base-finetuned-tabfact\")\n",
    "# model = TapasForSequenceClassification.from_pretrained(\"google/tapas-base-finetuned-tabfact\")"
   ]
  },
  {
   "cell_type": "code",
   "execution_count": 83,
   "metadata": {},
   "outputs": [
    {
     "data": {
      "text/html": [
       "<div>\n",
       "<style scoped>\n",
       "    .dataframe tbody tr th:only-of-type {\n",
       "        vertical-align: middle;\n",
       "    }\n",
       "\n",
       "    .dataframe tbody tr th {\n",
       "        vertical-align: top;\n",
       "    }\n",
       "\n",
       "    .dataframe thead th {\n",
       "        text-align: right;\n",
       "    }\n",
       "</style>\n",
       "<table border=\"1\" class=\"dataframe\">\n",
       "  <thead>\n",
       "    <tr style=\"text-align: right;\">\n",
       "      <th></th>\n",
       "      <th>Age</th>\n",
       "      <th>Attrition</th>\n",
       "    </tr>\n",
       "  </thead>\n",
       "  <tbody>\n",
       "    <tr>\n",
       "      <th>964</th>\n",
       "      <td>34</td>\n",
       "      <td>0</td>\n",
       "    </tr>\n",
       "  </tbody>\n",
       "</table>\n",
       "</div>"
      ],
      "text/plain": [
       "    Age Attrition\n",
       "964  34         0"
      ]
     },
     "execution_count": 83,
     "metadata": {},
     "output_type": "execute_result"
    }
   ],
   "source": [
    "training.iloc[:1, :2].astype(object)"
   ]
  },
  {
   "cell_type": "code",
   "execution_count": 86,
   "metadata": {},
   "outputs": [
    {
     "data": {
      "text/plain": [
       "Age          34\n",
       "Attrition     0\n",
       "Name: 964, dtype: object"
      ]
     },
     "execution_count": 86,
     "metadata": {},
     "output_type": "execute_result"
    }
   ],
   "source": [
    "table.iloc[0]"
   ]
  },
  {
   "cell_type": "code",
   "execution_count": 90,
   "metadata": {},
   "outputs": [],
   "source": [
    "data = {\n",
    "    \"Actors\": [\"Brad Pitt\", \"Leonardo Di Caprio\", \"George Clooney\"],\n",
    "    \"Age\": [\"56\", \"45\", \"59\"],\n",
    "    \"Number of movies\": [\"87\", \"53\", \"69\"],\n",
    "}\n",
    "# table = training.iloc[:1, :2].astype(object).reset_index().copy()\n",
    "table =  pd.DataFrame.from_dict(data)\n",
    "queries = [\n",
    "    \"There is only one actor who is 45 years old\",\n",
    "]\n",
    "\n",
    "inputs = tokenizer(table=table, queries=queries, padding=\"max_length\", return_tensors=\"pt\", max_length=10000)\n",
    "# labels ="
   ]
  },
  {
   "cell_type": "code",
   "execution_count": 78,
   "metadata": {},
   "outputs": [
    {
     "data": {
      "text/html": [
       "<div>\n",
       "<style scoped>\n",
       "    .dataframe tbody tr th:only-of-type {\n",
       "        vertical-align: middle;\n",
       "    }\n",
       "\n",
       "    .dataframe tbody tr th {\n",
       "        vertical-align: top;\n",
       "    }\n",
       "\n",
       "    .dataframe thead th {\n",
       "        text-align: right;\n",
       "    }\n",
       "</style>\n",
       "<table border=\"1\" class=\"dataframe\">\n",
       "  <thead>\n",
       "    <tr style=\"text-align: right;\">\n",
       "      <th></th>\n",
       "      <th>Age</th>\n",
       "      <th>Attrition</th>\n",
       "      <th>BusinessTravel</th>\n",
       "      <th>DailyRate</th>\n",
       "      <th>Department</th>\n",
       "      <th>DistanceFromHome</th>\n",
       "      <th>Education</th>\n",
       "      <th>EducationField</th>\n",
       "      <th>EmployeeCount</th>\n",
       "      <th>EmployeeNumber</th>\n",
       "      <th>...</th>\n",
       "      <th>RelationshipSatisfaction</th>\n",
       "      <th>StandardHours</th>\n",
       "      <th>StockOptionLevel</th>\n",
       "      <th>TotalWorkingYears</th>\n",
       "      <th>TrainingTimesLastYear</th>\n",
       "      <th>WorkLifeBalance</th>\n",
       "      <th>YearsAtCompany</th>\n",
       "      <th>YearsInCurrentRole</th>\n",
       "      <th>YearsSinceLastPromotion</th>\n",
       "      <th>YearsWithCurrManager</th>\n",
       "    </tr>\n",
       "  </thead>\n",
       "  <tbody>\n",
       "    <tr>\n",
       "      <th>964</th>\n",
       "      <td>34</td>\n",
       "      <td>0</td>\n",
       "      <td>Travel_Rarely</td>\n",
       "      <td>507</td>\n",
       "      <td>Sales</td>\n",
       "      <td>15</td>\n",
       "      <td>College</td>\n",
       "      <td>Medical</td>\n",
       "      <td>1</td>\n",
       "      <td>1356</td>\n",
       "      <td>...</td>\n",
       "      <td>Very High</td>\n",
       "      <td>80</td>\n",
       "      <td>0</td>\n",
       "      <td>10</td>\n",
       "      <td>6</td>\n",
       "      <td>Best</td>\n",
       "      <td>10</td>\n",
       "      <td>8</td>\n",
       "      <td>9</td>\n",
       "      <td>6</td>\n",
       "    </tr>\n",
       "    <tr>\n",
       "      <th>396</th>\n",
       "      <td>43</td>\n",
       "      <td>0</td>\n",
       "      <td>Travel_Rarely</td>\n",
       "      <td>1473</td>\n",
       "      <td>Research &amp; Development</td>\n",
       "      <td>8</td>\n",
       "      <td>Master</td>\n",
       "      <td>Other</td>\n",
       "      <td>1</td>\n",
       "      <td>526</td>\n",
       "      <td>...</td>\n",
       "      <td>Very High</td>\n",
       "      <td>80</td>\n",
       "      <td>0</td>\n",
       "      <td>8</td>\n",
       "      <td>3</td>\n",
       "      <td>Better</td>\n",
       "      <td>5</td>\n",
       "      <td>2</td>\n",
       "      <td>0</td>\n",
       "      <td>2</td>\n",
       "    </tr>\n",
       "    <tr>\n",
       "      <th>946</th>\n",
       "      <td>40</td>\n",
       "      <td>1</td>\n",
       "      <td>Travel_Rarely</td>\n",
       "      <td>299</td>\n",
       "      <td>Sales</td>\n",
       "      <td>25</td>\n",
       "      <td>Master</td>\n",
       "      <td>Marketing</td>\n",
       "      <td>1</td>\n",
       "      <td>1318</td>\n",
       "      <td>...</td>\n",
       "      <td>High</td>\n",
       "      <td>80</td>\n",
       "      <td>0</td>\n",
       "      <td>9</td>\n",
       "      <td>2</td>\n",
       "      <td>Better</td>\n",
       "      <td>5</td>\n",
       "      <td>4</td>\n",
       "      <td>1</td>\n",
       "      <td>0</td>\n",
       "    </tr>\n",
       "    <tr>\n",
       "      <th>974</th>\n",
       "      <td>27</td>\n",
       "      <td>0</td>\n",
       "      <td>Travel_Frequently</td>\n",
       "      <td>793</td>\n",
       "      <td>Sales</td>\n",
       "      <td>2</td>\n",
       "      <td>Below College</td>\n",
       "      <td>Life Sciences</td>\n",
       "      <td>1</td>\n",
       "      <td>1371</td>\n",
       "      <td>...</td>\n",
       "      <td>Medium</td>\n",
       "      <td>80</td>\n",
       "      <td>0</td>\n",
       "      <td>8</td>\n",
       "      <td>3</td>\n",
       "      <td>Better</td>\n",
       "      <td>6</td>\n",
       "      <td>2</td>\n",
       "      <td>0</td>\n",
       "      <td>0</td>\n",
       "    </tr>\n",
       "    <tr>\n",
       "      <th>252</th>\n",
       "      <td>29</td>\n",
       "      <td>0</td>\n",
       "      <td>Travel_Rarely</td>\n",
       "      <td>665</td>\n",
       "      <td>Research &amp; Development</td>\n",
       "      <td>15</td>\n",
       "      <td>Bachelor</td>\n",
       "      <td>Life Sciences</td>\n",
       "      <td>1</td>\n",
       "      <td>346</td>\n",
       "      <td>...</td>\n",
       "      <td>Low</td>\n",
       "      <td>80</td>\n",
       "      <td>0</td>\n",
       "      <td>6</td>\n",
       "      <td>1</td>\n",
       "      <td>Better</td>\n",
       "      <td>6</td>\n",
       "      <td>5</td>\n",
       "      <td>1</td>\n",
       "      <td>5</td>\n",
       "    </tr>\n",
       "    <tr>\n",
       "      <th>...</th>\n",
       "      <td>...</td>\n",
       "      <td>...</td>\n",
       "      <td>...</td>\n",
       "      <td>...</td>\n",
       "      <td>...</td>\n",
       "      <td>...</td>\n",
       "      <td>...</td>\n",
       "      <td>...</td>\n",
       "      <td>...</td>\n",
       "      <td>...</td>\n",
       "      <td>...</td>\n",
       "      <td>...</td>\n",
       "      <td>...</td>\n",
       "      <td>...</td>\n",
       "      <td>...</td>\n",
       "      <td>...</td>\n",
       "      <td>...</td>\n",
       "      <td>...</td>\n",
       "      <td>...</td>\n",
       "      <td>...</td>\n",
       "      <td>...</td>\n",
       "    </tr>\n",
       "    <tr>\n",
       "      <th>181</th>\n",
       "      <td>34</td>\n",
       "      <td>0</td>\n",
       "      <td>Travel_Rarely</td>\n",
       "      <td>629</td>\n",
       "      <td>Research &amp; Development</td>\n",
       "      <td>27</td>\n",
       "      <td>College</td>\n",
       "      <td>Medical</td>\n",
       "      <td>1</td>\n",
       "      <td>247</td>\n",
       "      <td>...</td>\n",
       "      <td>Very High</td>\n",
       "      <td>80</td>\n",
       "      <td>0</td>\n",
       "      <td>9</td>\n",
       "      <td>3</td>\n",
       "      <td>Better</td>\n",
       "      <td>3</td>\n",
       "      <td>2</td>\n",
       "      <td>1</td>\n",
       "      <td>2</td>\n",
       "    </tr>\n",
       "    <tr>\n",
       "      <th>927</th>\n",
       "      <td>36</td>\n",
       "      <td>0</td>\n",
       "      <td>Travel_Rarely</td>\n",
       "      <td>429</td>\n",
       "      <td>Research &amp; Development</td>\n",
       "      <td>2</td>\n",
       "      <td>Master</td>\n",
       "      <td>Life Sciences</td>\n",
       "      <td>1</td>\n",
       "      <td>1294</td>\n",
       "      <td>...</td>\n",
       "      <td>Very High</td>\n",
       "      <td>80</td>\n",
       "      <td>0</td>\n",
       "      <td>18</td>\n",
       "      <td>2</td>\n",
       "      <td>Better</td>\n",
       "      <td>16</td>\n",
       "      <td>14</td>\n",
       "      <td>5</td>\n",
       "      <td>12</td>\n",
       "    </tr>\n",
       "    <tr>\n",
       "      <th>73</th>\n",
       "      <td>32</td>\n",
       "      <td>0</td>\n",
       "      <td>Travel_Rarely</td>\n",
       "      <td>548</td>\n",
       "      <td>Research &amp; Development</td>\n",
       "      <td>1</td>\n",
       "      <td>Bachelor</td>\n",
       "      <td>Life Sciences</td>\n",
       "      <td>1</td>\n",
       "      <td>96</td>\n",
       "      <td>...</td>\n",
       "      <td>Medium</td>\n",
       "      <td>80</td>\n",
       "      <td>2</td>\n",
       "      <td>10</td>\n",
       "      <td>3</td>\n",
       "      <td>Better</td>\n",
       "      <td>10</td>\n",
       "      <td>4</td>\n",
       "      <td>0</td>\n",
       "      <td>9</td>\n",
       "    </tr>\n",
       "    <tr>\n",
       "      <th>784</th>\n",
       "      <td>38</td>\n",
       "      <td>0</td>\n",
       "      <td>Travel_Rarely</td>\n",
       "      <td>330</td>\n",
       "      <td>Research &amp; Development</td>\n",
       "      <td>17</td>\n",
       "      <td>Below College</td>\n",
       "      <td>Life Sciences</td>\n",
       "      <td>1</td>\n",
       "      <td>1088</td>\n",
       "      <td>...</td>\n",
       "      <td>Low</td>\n",
       "      <td>80</td>\n",
       "      <td>1</td>\n",
       "      <td>20</td>\n",
       "      <td>4</td>\n",
       "      <td>Good</td>\n",
       "      <td>19</td>\n",
       "      <td>9</td>\n",
       "      <td>1</td>\n",
       "      <td>9</td>\n",
       "    </tr>\n",
       "    <tr>\n",
       "      <th>870</th>\n",
       "      <td>35</td>\n",
       "      <td>0</td>\n",
       "      <td>Travel_Rarely</td>\n",
       "      <td>1361</td>\n",
       "      <td>Sales</td>\n",
       "      <td>17</td>\n",
       "      <td>Master</td>\n",
       "      <td>Life Sciences</td>\n",
       "      <td>1</td>\n",
       "      <td>1218</td>\n",
       "      <td>...</td>\n",
       "      <td>Very High</td>\n",
       "      <td>80</td>\n",
       "      <td>3</td>\n",
       "      <td>15</td>\n",
       "      <td>2</td>\n",
       "      <td>Better</td>\n",
       "      <td>7</td>\n",
       "      <td>7</td>\n",
       "      <td>1</td>\n",
       "      <td>7</td>\n",
       "    </tr>\n",
       "  </tbody>\n",
       "</table>\n",
       "<p>846 rows × 35 columns</p>\n",
       "</div>"
      ],
      "text/plain": [
       "     Age  Attrition     BusinessTravel  DailyRate              Department  \\\n",
       "964   34          0      Travel_Rarely        507                   Sales   \n",
       "396   43          0      Travel_Rarely       1473  Research & Development   \n",
       "946   40          1      Travel_Rarely        299                   Sales   \n",
       "974   27          0  Travel_Frequently        793                   Sales   \n",
       "252   29          0      Travel_Rarely        665  Research & Development   \n",
       "..   ...        ...                ...        ...                     ...   \n",
       "181   34          0      Travel_Rarely        629  Research & Development   \n",
       "927   36          0      Travel_Rarely        429  Research & Development   \n",
       "73    32          0      Travel_Rarely        548  Research & Development   \n",
       "784   38          0      Travel_Rarely        330  Research & Development   \n",
       "870   35          0      Travel_Rarely       1361                   Sales   \n",
       "\n",
       "     DistanceFromHome      Education EducationField  EmployeeCount  \\\n",
       "964                15        College        Medical              1   \n",
       "396                 8         Master          Other              1   \n",
       "946                25         Master      Marketing              1   \n",
       "974                 2  Below College  Life Sciences              1   \n",
       "252                15       Bachelor  Life Sciences              1   \n",
       "..                ...            ...            ...            ...   \n",
       "181                27        College        Medical              1   \n",
       "927                 2         Master  Life Sciences              1   \n",
       "73                  1       Bachelor  Life Sciences              1   \n",
       "784                17  Below College  Life Sciences              1   \n",
       "870                17         Master  Life Sciences              1   \n",
       "\n",
       "     EmployeeNumber  ... RelationshipSatisfaction StandardHours  \\\n",
       "964            1356  ...                Very High            80   \n",
       "396             526  ...                Very High            80   \n",
       "946            1318  ...                     High            80   \n",
       "974            1371  ...                   Medium            80   \n",
       "252             346  ...                      Low            80   \n",
       "..              ...  ...                      ...           ...   \n",
       "181             247  ...                Very High            80   \n",
       "927            1294  ...                Very High            80   \n",
       "73               96  ...                   Medium            80   \n",
       "784            1088  ...                      Low            80   \n",
       "870            1218  ...                Very High            80   \n",
       "\n",
       "     StockOptionLevel TotalWorkingYears  TrainingTimesLastYear  \\\n",
       "964                 0                10                      6   \n",
       "396                 0                 8                      3   \n",
       "946                 0                 9                      2   \n",
       "974                 0                 8                      3   \n",
       "252                 0                 6                      1   \n",
       "..                ...               ...                    ...   \n",
       "181                 0                 9                      3   \n",
       "927                 0                18                      2   \n",
       "73                  2                10                      3   \n",
       "784                 1                20                      4   \n",
       "870                 3                15                      2   \n",
       "\n",
       "    WorkLifeBalance YearsAtCompany YearsInCurrentRole  \\\n",
       "964            Best             10                  8   \n",
       "396          Better              5                  2   \n",
       "946          Better              5                  4   \n",
       "974          Better              6                  2   \n",
       "252          Better              6                  5   \n",
       "..              ...            ...                ...   \n",
       "181          Better              3                  2   \n",
       "927          Better             16                 14   \n",
       "73           Better             10                  4   \n",
       "784            Good             19                  9   \n",
       "870          Better              7                  7   \n",
       "\n",
       "     YearsSinceLastPromotion  YearsWithCurrManager  \n",
       "964                        9                     6  \n",
       "396                        0                     2  \n",
       "946                        1                     0  \n",
       "974                        0                     0  \n",
       "252                        1                     5  \n",
       "..                       ...                   ...  \n",
       "181                        1                     2  \n",
       "927                        5                    12  \n",
       "73                         0                     9  \n",
       "784                        1                     9  \n",
       "870                        1                     7  \n",
       "\n",
       "[846 rows x 35 columns]"
      ]
     },
     "execution_count": 78,
     "metadata": {},
     "output_type": "execute_result"
    }
   ],
   "source": [
    "training"
   ]
  },
  {
   "cell_type": "code",
   "execution_count": 76,
   "metadata": {},
   "outputs": [
    {
     "data": {
      "text/html": [
       "<div>\n",
       "<style scoped>\n",
       "    .dataframe tbody tr th:only-of-type {\n",
       "        vertical-align: middle;\n",
       "    }\n",
       "\n",
       "    .dataframe tbody tr th {\n",
       "        vertical-align: top;\n",
       "    }\n",
       "\n",
       "    .dataframe thead th {\n",
       "        text-align: right;\n",
       "    }\n",
       "</style>\n",
       "<table border=\"1\" class=\"dataframe\">\n",
       "  <thead>\n",
       "    <tr style=\"text-align: right;\">\n",
       "      <th></th>\n",
       "      <th>Actors</th>\n",
       "      <th>Age</th>\n",
       "      <th>Number of movies</th>\n",
       "    </tr>\n",
       "  </thead>\n",
       "  <tbody>\n",
       "    <tr>\n",
       "      <th>0</th>\n",
       "      <td>Brad Pitt</td>\n",
       "      <td>56</td>\n",
       "      <td>87</td>\n",
       "    </tr>\n",
       "    <tr>\n",
       "      <th>1</th>\n",
       "      <td>Leonardo Di Caprio</td>\n",
       "      <td>45</td>\n",
       "      <td>53</td>\n",
       "    </tr>\n",
       "    <tr>\n",
       "      <th>2</th>\n",
       "      <td>George Clooney</td>\n",
       "      <td>59</td>\n",
       "      <td>69</td>\n",
       "    </tr>\n",
       "  </tbody>\n",
       "</table>\n",
       "</div>"
      ],
      "text/plain": [
       "               Actors Age Number of movies\n",
       "0           Brad Pitt  56               87\n",
       "1  Leonardo Di Caprio  45               53\n",
       "2      George Clooney  59               69"
      ]
     },
     "execution_count": 76,
     "metadata": {},
     "output_type": "execute_result"
    }
   ],
   "source": [
    "table"
   ]
  },
  {
   "cell_type": "code",
   "execution_count": 23,
   "metadata": {},
   "outputs": [
    {
     "data": {
      "text/plain": [
       "(torch.Size([3, 512]), torch.Size([3, 512, 7]))"
      ]
     },
     "execution_count": 23,
     "metadata": {},
     "output_type": "execute_result"
    }
   ],
   "source": [
    "inputs['input_ids'].shape, inputs['token_type_ids'].shape"
   ]
  },
  {
   "cell_type": "code",
   "execution_count": 28,
   "metadata": {},
   "outputs": [
    {
     "data": {
      "text/plain": [
       "Index(['Age', 'Attrition', 'BusinessTravel', 'DailyRate', 'Department',\n",
       "       'DistanceFromHome', 'Education', 'EducationField', 'EmployeeCount',\n",
       "       'EmployeeNumber', 'EnvironmentSatisfaction', 'Gender', 'HourlyRate',\n",
       "       'JobInvolvement', 'JobLevel', 'JobRole', 'JobSatisfaction',\n",
       "       'MaritalStatus', 'MonthlyIncome', 'MonthlyRate', 'NumCompaniesWorked',\n",
       "       'Over18', 'OverTime', 'PercentSalaryHike', 'PerformanceRating',\n",
       "       'RelationshipSatisfaction', 'StandardHours', 'StockOptionLevel',\n",
       "       'TotalWorkingYears', 'TrainingTimesLastYear', 'WorkLifeBalance',\n",
       "       'YearsAtCompany', 'YearsInCurrentRole', 'YearsSinceLastPromotion',\n",
       "       'YearsWithCurrManager'],\n",
       "      dtype='object')"
      ]
     },
     "execution_count": 28,
     "metadata": {},
     "output_type": "execute_result"
    }
   ],
   "source": [
    "train.columns"
   ]
  },
  {
   "cell_type": "code",
   "execution_count": 19,
   "metadata": {},
   "outputs": [
    {
     "data": {
      "text/html": [
       "<div>\n",
       "<style scoped>\n",
       "    .dataframe tbody tr th:only-of-type {\n",
       "        vertical-align: middle;\n",
       "    }\n",
       "\n",
       "    .dataframe tbody tr th {\n",
       "        vertical-align: top;\n",
       "    }\n",
       "\n",
       "    .dataframe thead th {\n",
       "        text-align: right;\n",
       "    }\n",
       "</style>\n",
       "<table border=\"1\" class=\"dataframe\">\n",
       "  <thead>\n",
       "    <tr style=\"text-align: right;\">\n",
       "      <th></th>\n",
       "      <th>Actors</th>\n",
       "      <th>Age</th>\n",
       "      <th>Number of movies</th>\n",
       "    </tr>\n",
       "  </thead>\n",
       "  <tbody>\n",
       "    <tr>\n",
       "      <th>0</th>\n",
       "      <td>Brad Pitt</td>\n",
       "      <td>56</td>\n",
       "      <td>87</td>\n",
       "    </tr>\n",
       "    <tr>\n",
       "      <th>1</th>\n",
       "      <td>Leonardo Di Caprio</td>\n",
       "      <td>45</td>\n",
       "      <td>53</td>\n",
       "    </tr>\n",
       "    <tr>\n",
       "      <th>2</th>\n",
       "      <td>George Clooney</td>\n",
       "      <td>59</td>\n",
       "      <td>69</td>\n",
       "    </tr>\n",
       "  </tbody>\n",
       "</table>\n",
       "</div>"
      ],
      "text/plain": [
       "               Actors Age Number of movies\n",
       "0           Brad Pitt  56               87\n",
       "1  Leonardo Di Caprio  45               53\n",
       "2      George Clooney  59               69"
      ]
     },
     "execution_count": 19,
     "metadata": {},
     "output_type": "execute_result"
    }
   ],
   "source": [
    "table"
   ]
  },
  {
   "cell_type": "code",
   "execution_count": 20,
   "metadata": {},
   "outputs": [
    {
     "data": {
      "text/plain": [
       "torch.Size([1, 512])"
      ]
     },
     "execution_count": 20,
     "metadata": {},
     "output_type": "execute_result"
    }
   ],
   "source": [
    "inputs['attention_mask'].shape"
   ]
  },
  {
   "cell_type": "code",
   "execution_count": 24,
   "metadata": {},
   "outputs": [
    {
     "data": {
      "text/plain": [
       "tensor([  101,  2045,  2003,  2069,  2028,  3364,  2040,  2003,  3429,  2086,\n",
       "         2214,   102,  5889,  2287,  2193,  1997,  5691,  8226, 15091,  5179,\n",
       "         6584, 14720,  4487,  6178,  9488,  3429,  5187,  2577, 18856,  7828])"
      ]
     },
     "execution_count": 24,
     "metadata": {},
     "output_type": "execute_result"
    }
   ],
   "source": [
    "inputs['input_ids'][0, :30]"
   ]
  },
  {
   "cell_type": "code",
   "execution_count": 25,
   "metadata": {},
   "outputs": [
    {
     "data": {
      "text/plain": [
       "tensor([  101,  2045,  2003,  2069,  2028,  3364,  2040,  2003,  3429,  2086,\n",
       "         2214,   102,  5889,  2287,  2193,  1997,  5691,  8226, 15091,  5179,\n",
       "         6584, 14720,  4487,  6178,  9488,  3429,  5187,  2577, 18856,  7828])"
      ]
     },
     "execution_count": 25,
     "metadata": {},
     "output_type": "execute_result"
    }
   ],
   "source": [
    "inputs['input_ids'][1, :30]"
   ]
  },
  {
   "cell_type": "code",
   "execution_count": null,
   "metadata": {},
   "outputs": [],
   "source": []
  }
 ],
 "metadata": {
  "kernelspec": {
   "display_name": "Python-ML",
   "language": "python",
   "name": "tensorflow"
  },
  "language_info": {
   "codemirror_mode": {
    "name": "ipython",
    "version": 3
   },
   "file_extension": ".py",
   "mimetype": "text/x-python",
   "name": "python",
   "nbconvert_exporter": "python",
   "pygments_lexer": "ipython3",
   "version": "3.9.12"
  },
  "orig_nbformat": 4,
  "vscode": {
   "interpreter": {
    "hash": "31f2aee4e71d21fbe5cf8b01ff0e069b9275f58929596ceb00d14d90e3e16cd6"
   }
  }
 },
 "nbformat": 4,
 "nbformat_minor": 2
}
