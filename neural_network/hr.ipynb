{
 "cells": [
  {
   "cell_type": "code",
   "execution_count": 1,
   "metadata": {},
   "outputs": [],
   "source": [
    "%load_ext autoreload\n",
    "%autoreload 2"
   ]
  },
  {
   "cell_type": "code",
   "execution_count": 2,
   "metadata": {},
   "outputs": [],
   "source": [
    "import os, sys\n",
    "import random\n",
    "from tqdm import tqdm\n",
    "from copy import deepcopy\n",
    "\n",
    "import torch\n",
    "from torch.utils.data import Dataset, DataLoader, RandomSampler, SequentialSampler\n",
    "\n",
    "from transformers import TapasForSequenceClassification, TapasTokenizer\n",
    "\n",
    "import numpy as np \n",
    "import pandas as pd\n"
   ]
  },
  {
   "cell_type": "code",
   "execution_count": 95,
   "metadata": {},
   "outputs": [],
   "source": [
    "# https://www.kaggle.com/datasets/rohitsahoo/employee\n",
    "data = pd.read_csv('/Users/ywkim/Downloads/archive/train.csv', )\n",
    "test = pd.read_csv('/Users/ywkim/Downloads/archive/test.csv', )"
   ]
  },
  {
   "cell_type": "code",
   "execution_count": 93,
   "metadata": {},
   "outputs": [],
   "source": [
    "from sklearn.model_selection import train_test_split\n",
    "train, test = train_test_split(data, test_size = .2, random_state = 42, stratify = data['Attrition'])\n",
    "val, test = train_test_split(test, test_size = .5, random_state = 42, stratify = test['Attrition'])"
   ]
  },
  {
   "cell_type": "code",
   "execution_count": 58,
   "metadata": {},
   "outputs": [],
   "source": [
    "str_cols = train.select_dtypes(object).columns.tolist()"
   ]
  },
  {
   "cell_type": "code",
   "execution_count": 53,
   "metadata": {},
   "outputs": [],
   "source": [
    "cat_to_str = {\n",
    "    'Education':dict(zip(range(1,6), ['Below College',\n",
    "'College',\n",
    "'Bachelor',\n",
    "'Master',\n",
    "'Doctor'])),\n",
    "\n",
    "\n",
    "'EnvironmentSatisfaction':dict(zip(range(1,5), [\n",
    "    'Low',\n",
    "'Medium',\n",
    "'High',\n",
    "'Very High'\n",
    "])),\n",
    "\n",
    "\n",
    "'JobInvolvement':dict(zip(range(1,5), [\n",
    "    'Low',\n",
    "'Medium',\n",
    "'High',\n",
    "'Very High'\n",
    "])),\n",
    "\n",
    "'JobSatisfaction':dict(zip(range(1,5), [\n",
    "'Low',\n",
    "'Medium',\n",
    "'High',\n",
    "'Very High'\n",
    "])),\n",
    "\n",
    "'PerformanceRating':dict(zip(range(1,5), [\n",
    "'Low',\n",
    "'Good',\n",
    "'Excellent',\n",
    "'Outstanding'\n",
    "])),\n",
    "\n",
    "'RelationshipSatisfaction':dict(zip(range(1,5), [\n",
    "'Low',\n",
    "'Medium',\n",
    "'High',\n",
    "'Very High'\n",
    "])),\n",
    "\n",
    "\n",
    "'WorkLifeBalance':dict(zip(range(1,5), [\n",
    "'Bad',\n",
    "'Good',\n",
    "'Better',\n",
    "'Best'\n",
    "]))\n",
    "\n",
    "}"
   ]
  },
  {
   "cell_type": "code",
   "execution_count": 62,
   "metadata": {},
   "outputs": [],
   "source": [
    "for col in cat_to_str.keys():\n",
    "    training[col] = training[col].apply(lambda x: cat_to_str[col][x]).copy()\n",
    "    val[col] = val[col].apply(lambda x: cat_to_str[col][x]).copy()"
   ]
  },
  {
   "cell_type": "code",
   "execution_count": 50,
   "metadata": {},
   "outputs": [
    {
     "data": {
      "text/plain": [
       "'Age: 41, Attrition: 1, BusinessTravel: Travel_Rarely, DailyRate: 1102, Department: Sales, DistanceFromHome: 1, Education: 2, EducationField: Life Sciences, EmployeeCount: 1, EmployeeNumber: 1, EnvironmentSatisfaction: 2, Gender: Female, HourlyRate: 94, JobInvolvement: 3, JobLevel: 2, JobRole: Sales Executive, JobSatisfaction: 4, MaritalStatus: Single, MonthlyIncome: 5993, MonthlyRate: 19479, NumCompaniesWorked: 8, Over18: Y, OverTime: Yes, PercentSalaryHike: 11, PerformanceRating: 3, RelationshipSatisfaction: 1, StandardHours: 80, StockOptionLevel: 0, TotalWorkingYears: 8, TrainingTimesLastYear: 0, WorkLifeBalance: 1, YearsAtCompany: 6, YearsInCurrentRole: 4, YearsSinceLastPromotion: 0, YearsWithCurrManager: 5'"
      ]
     },
     "execution_count": 50,
     "metadata": {},
     "output_type": "execute_result"
    }
   ],
   "source": [
    "import re\n",
    "re.sub(r'[\\(\\)\\{\\}\\']', '', str(dict(train.loc[0])))"
   ]
  },
  {
   "cell_type": "code",
   "execution_count": 65,
   "metadata": {},
   "outputs": [],
   "source": [
    "training_text = []\n",
    "X_training = training.drop('Attrition', axis=1).copy()\n",
    "\n",
    "for idx, row in X_training.iterrows():\n",
    "    training_text.append(re.sub(r'[\\(\\)\\{\\}\\']', '', str(dict(row))))\n"
   ]
  },
  {
   "cell_type": "code",
   "execution_count": 74,
   "metadata": {},
   "outputs": [
    {
     "data": {
      "text/plain": [
       "['Age: 34, BusinessTravel: Travel_Rarely, DailyRate: 507, Department: Sales, DistanceFromHome: 15, Education: College, EducationField: Medical, EmployeeCount: 1, EmployeeNumber: 1356, EnvironmentSatisfaction: High, Gender: Female, HourlyRate: 66, JobInvolvement: High, JobLevel: 2, JobRole: Sales Executive, JobSatisfaction: Low, MaritalStatus: Single, MonthlyIncome: 6125, MonthlyRate: 23553, NumCompaniesWorked: 1, Over18: Y, OverTime: No, PercentSalaryHike: 12, PerformanceRating: Excellent, RelationshipSatisfaction: Very High, StandardHours: 80, StockOptionLevel: 0, TotalWorkingYears: 10, TrainingTimesLastYear: 6, WorkLifeBalance: Best, YearsAtCompany: 10, YearsInCurrentRole: 8, YearsSinceLastPromotion: 9, YearsWithCurrManager: 6']"
      ]
     },
     "execution_count": 74,
     "metadata": {},
     "output_type": "execute_result"
    }
   ],
   "source": [
    "training_text[0:1]"
   ]
  },
  {
   "cell_type": "code",
   "execution_count": null,
   "metadata": {},
   "outputs": [],
   "source": [
    "tokenizer(train.astype(str), training_text[0:1], max_length=512, truncation=True, )"
   ]
  },
  {
   "cell_type": "code",
   "execution_count": 51,
   "metadata": {},
   "outputs": [
    {
     "data": {
      "text/plain": [
       "Index(['EmployeeCount', 'Over18', 'StandardHours'], dtype='object')"
      ]
     },
     "execution_count": 51,
     "metadata": {},
     "output_type": "execute_result"
    }
   ],
   "source": [
    "train.columns[train.nunique()==1]"
   ]
  },
  {
   "cell_type": "code",
   "execution_count": 3,
   "metadata": {},
   "outputs": [
    {
     "data": {
      "application/vnd.jupyter.widget-view+json": {
       "model_id": "f899a8c3470748a9baa952582dcef901",
       "version_major": 2,
       "version_minor": 0
      },
      "text/plain": [
       "Downloading:   0%|          | 0.00/422M [00:00<?, ?B/s]"
      ]
     },
     "metadata": {},
     "output_type": "display_data"
    }
   ],
   "source": [
    "model = TapasForSequenceClassification.from_pretrained(\"google/tapas-base-finetuned-tabfact\")"
   ]
  },
  {
   "cell_type": "code",
   "execution_count": 5,
   "metadata": {},
   "outputs": [],
   "source": [
    "tokenizer = TapasTokenizer.from_pretrained(\"google/tapas-base-finetuned-tabfact\")\n",
    "# model = TapasForSequenceClassification.from_pretrained(\"google/tapas-base-finetuned-tabfact\")"
   ]
  },
  {
   "cell_type": "code",
   "execution_count": null,
   "metadata": {},
   "outputs": [],
   "source": []
  }
 ],
 "metadata": {
  "kernelspec": {
   "display_name": "Python-ML",
   "language": "python",
   "name": "tensorflow"
  },
  "language_info": {
   "codemirror_mode": {
    "name": "ipython",
    "version": 3
   },
   "file_extension": ".py",
   "mimetype": "text/x-python",
   "name": "python",
   "nbconvert_exporter": "python",
   "pygments_lexer": "ipython3",
   "version": "3.9.12"
  },
  "orig_nbformat": 4,
  "vscode": {
   "interpreter": {
    "hash": "31f2aee4e71d21fbe5cf8b01ff0e069b9275f58929596ceb00d14d90e3e16cd6"
   }
  }
 },
 "nbformat": 4,
 "nbformat_minor": 2
}
