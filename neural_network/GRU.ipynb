{
 "cells": [
  {
   "cell_type": "markdown",
   "metadata": {},
   "source": [
    "<span style=\"font-size:1.5em;\">[**reference**](https://wikidocs.net/22889)</span>"
   ]
  },
  {
   "cell_type": "code",
   "execution_count": 1,
   "metadata": {},
   "outputs": [],
   "source": [
    "import tensorflow as tf\n",
    "import numpy as np\n",
    "import matplotlib.pyplot as plt\n",
    "import copy\n",
    "\n",
    "from scipy.stats import truncnorm, norm, levene, ttest_ind\n",
    "\n",
    "from sklearn.metrics import *\n",
    "from sklearn.model_selection import train_test_split\n",
    "from sklearn.preprocessing import StandardScaler, Normalizer\n",
    "\n",
    "from tensorflow.keras.models import Sequential\n",
    "from tensorflow.keras.layers import Conv1D, GlobalMaxPooling1D, Dense, LSTM, GRU, SimpleRNN, Bidirectional, Embedding\n",
    "from tensorflow.keras.utils import to_categorical\n",
    "from tensorflow.keras.losses import BinaryCrossentropy\n",
    "from tensorflow.keras.initializers import GlorotNormal, GlorotUniform, Zeros\n",
    "from tensorflow.keras import backend as K\n",
    "from tensorflow.math import sigmoid, tanh"
   ]
  },
  {
   "cell_type": "code",
   "execution_count": 2,
   "metadata": {},
   "outputs": [],
   "source": [
    "n_samples = 5533\n",
    "max_len = 20\n",
    "vocab_size = 1234\n",
    "embedding_dim = 300\n",
    "\n",
    "hidden_states = 128"
   ]
  },
  {
   "cell_type": "markdown",
   "metadata": {},
   "source": [
    "# Example 1: with embedding layer"
   ]
  },
  {
   "cell_type": "code",
   "execution_count": 276,
   "metadata": {},
   "outputs": [],
   "source": [
    "rng = np.random.default_rng(42)\n",
    "X = rng.integers(0,vocab_size, size=(n_samples, max_len))\n",
    "\n",
    "model = Sequential()\n",
    "model.add(Embedding(vocab_size, embedding_dim, input_length = max_len, ))\n",
    "X_emb = model(X)\n",
    "\n",
    "model.add(\n",
    "            GRU(hidden_states,  return_sequences=True, return_state=False, input_shape= (max_len, embedding_dim), reset_after=False, use_bias=True,\n",
    "               bias_initializer='glorot_normal')\n",
    "         )\n",
    "hidden_state = model(X)\n",
    "gru = model.layers[1]"
   ]
  },
  {
   "cell_type": "markdown",
   "metadata": {},
   "source": [
    "if `reset_after=True`, then `bias` of GRUCell has (2, 3*`gru.units`) shape."
   ]
  },
  {
   "cell_type": "code",
   "execution_count": 277,
   "metadata": {},
   "outputs": [],
   "source": [
    "ki = gru.cell.kernel[:, :hidden_states]\n",
    "kf = gru.cell.kernel[:, hidden_states:2*hidden_states]\n",
    "kc = gru.cell.kernel[:, 2*hidden_states:]\n",
    "\n",
    "\n",
    "ri = gru.cell.recurrent_kernel[:, :hidden_states]\n",
    "rf = gru.cell.recurrent_kernel[:, hidden_states:2*hidden_states]\n",
    "rc = gru.cell.recurrent_kernel[:, 2*hidden_states:]\n",
    "\n",
    "if gru.reset_after:\n",
    "    bi = gru.cell.bias[:, :hidden_states]\n",
    "    bf = gru.cell.bias[:, hidden_states:2*hidden_states]\n",
    "    bc = gru.cell.bias[:, 2*hidden_states:]\n",
    "else:\n",
    "    bi = gru.cell.bias[:hidden_states]\n",
    "    bf = gru.cell.bias[hidden_states:2*hidden_states]\n",
    "    bc = gru.cell.bias[2*hidden_states:]"
   ]
  },
  {
   "cell_type": "code",
   "execution_count": 278,
   "metadata": {},
   "outputs": [],
   "source": [
    "# X_emb_nor = tf.linalg.normalize(X_emb, axis=2, )[0]"
   ]
  },
  {
   "cell_type": "code",
   "execution_count": 279,
   "metadata": {},
   "outputs": [
    {
     "name": "stdout",
     "output_type": "stream",
     "text": [
      "t=00, validation - calculating hidden state: True 0.0\n",
      "t=01, validation - calculating hidden state: True 0.0\n",
      "t=02, validation - calculating hidden state: True 0.0\n",
      "t=03, validation - calculating hidden state: True 0.0\n",
      "t=04, validation - calculating hidden state: True 0.0\n",
      "t=05, validation - calculating hidden state: True 0.0\n",
      "t=06, validation - calculating hidden state: True 0.0\n",
      "t=07, validation - calculating hidden state: True 0.0\n",
      "t=08, validation - calculating hidden state: True 0.0\n",
      "t=09, validation - calculating hidden state: True 0.0\n",
      "t=10, validation - calculating hidden state: True 0.0\n",
      "t=11, validation - calculating hidden state: True 0.0\n",
      "t=12, validation - calculating hidden state: True 0.0\n",
      "t=13, validation - calculating hidden state: True 0.0\n",
      "t=14, validation - calculating hidden state: True 0.0\n",
      "t=15, validation - calculating hidden state: True 0.0\n",
      "t=16, validation - calculating hidden state: True 0.0\n",
      "t=17, validation - calculating hidden state: True 0.0\n",
      "t=18, validation - calculating hidden state: True 0.0\n",
      "t=19, validation - calculating hidden state: True 0.0\n"
     ]
    }
   ],
   "source": [
    "for t in range(max_len):\n",
    "    if t>0: htt = ht # hidden_state[:,t-1,:]\n",
    "    else: htt = tf.zeros((n_samples, hidden_states))\n",
    "    X_tf_ = X_emb[:,t,:]\n",
    "    \n",
    "    if gru.reset_after:\n",
    "        zt = gru.recurrent_activation(K.bias_add(tf.matmul(X_tf_, ki), bi[0]) + K.bias_add(tf.matmul(htt, ri), bi[1]))\n",
    "        rt = gru.recurrent_activation(K.bias_add(tf.matmul(X_tf_, kf), bf[0]) + K.bias_add(tf.matmul(htt, rf), bf[1]))\n",
    "\n",
    "        gt = gru.activation(K.bias_add(tf.matmul(X_tf_, kc), bc[0]) + rt*(K.bias_add(tf.matmul(htt, rc), bc[1])) )\n",
    "    else:\n",
    "        zt = gru.recurrent_activation(K.bias_add(tf.matmul(X_tf_, ki), bi) + (tf.matmul(htt, ri)) )\n",
    "        rt = gru.recurrent_activation(K.bias_add(tf.matmul(X_tf_, kf), bf) + (tf.matmul(htt, rf)) )\n",
    "\n",
    "        gt = gru.activation(K.bias_add(tf.matmul(X_tf_, kc), bc) + (tf.matmul(rt*htt, rc)) )\n",
    "    ht = (1-zt)*gt + zt*htt\n",
    "    \n",
    "    print('t={}'.format(str(t).zfill(2)), end=', ')\n",
    "    print('validation - calculating hidden state:', np.alltrue(hidden_state[:,t,:]== ht, ), abs(ht- hidden_state[:,t,:]).numpy().max() )"
   ]
  },
  {
   "cell_type": "markdown",
   "metadata": {},
   "source": [
    "# Example 2: with normalizing dataset"
   ]
  },
  {
   "cell_type": "code",
   "execution_count": 270,
   "metadata": {},
   "outputs": [],
   "source": [
    "rng = np.random.default_rng(42)\n",
    "X = rng.normal(size=(n_samples, max_len, embedding_dim))\n",
    "# X_tf = tf.linalg.normalize(X, axis=2, )[0]\n",
    "# X = np.array([Normalizer().fit_transform(X[s]) for s in range(n_samples) ])\n",
    "X_tf = tf.cast(X, dtype=tf.float32)\n",
    "\n",
    "gru = GRU(hidden_states,  return_sequences=True, return_state=True, input_shape= (max_len, embedding_dim), reset_after=False,\n",
    "         bias_initializer='uniform')\n",
    "hidden_state, last_state, = gru(X)"
   ]
  },
  {
   "cell_type": "code",
   "execution_count": 271,
   "metadata": {},
   "outputs": [
    {
     "data": {
      "text/plain": [
       "TensorShape([5533, 20, 128])"
      ]
     },
     "execution_count": 271,
     "metadata": {},
     "output_type": "execute_result"
    }
   ],
   "source": [
    "hidden_state.shape"
   ]
  },
  {
   "cell_type": "code",
   "execution_count": 272,
   "metadata": {},
   "outputs": [
    {
     "data": {
      "text/plain": [
       "True"
      ]
     },
     "execution_count": 272,
     "metadata": {},
     "output_type": "execute_result"
    }
   ],
   "source": [
    "np.alltrue(hidden_state[:,-1,:]==last_state)"
   ]
  },
  {
   "cell_type": "code",
   "execution_count": 273,
   "metadata": {},
   "outputs": [
    {
     "data": {
      "image/png": "[encoded data removed]",
      "text/plain": [
       "<Figure size 432x288 with 1 Axes>"
      ]
     },
     "metadata": {
      "needs_background": "light"
     },
     "output_type": "display_data"
    }
   ],
   "source": [
    "plt.hist(X.flatten(), bins=30)\n",
    "plt.show()"
   ]
  },
  {
   "cell_type": "code",
   "execution_count": 274,
   "metadata": {},
   "outputs": [],
   "source": [
    "ki = gru.cell.kernel[:, :hidden_states]\n",
    "kf = gru.cell.kernel[:, hidden_states:2*hidden_states]\n",
    "kc = gru.cell.kernel[:, 2*hidden_states:]\n",
    "\n",
    "\n",
    "ri = gru.cell.recurrent_kernel[:, :hidden_states]\n",
    "rf = gru.cell.recurrent_kernel[:, hidden_states:2*hidden_states]\n",
    "rc = gru.cell.recurrent_kernel[:, 2*hidden_states:]\n",
    "\n",
    "if gru.reset_after:\n",
    "    bi = gru.cell.bias[:, :hidden_states]\n",
    "    bf = gru.cell.bias[:, hidden_states:2*hidden_states]\n",
    "    bc = gru.cell.bias[:, 2*hidden_states:]\n",
    "else:\n",
    "    bi = gru.cell.bias[:hidden_states]\n",
    "    bf = gru.cell.bias[hidden_states:2*hidden_states]\n",
    "    bc = gru.cell.bias[2*hidden_states:]"
   ]
  },
  {
   "cell_type": "code",
   "execution_count": 275,
   "metadata": {},
   "outputs": [
    {
     "name": "stdout",
     "output_type": "stream",
     "text": [
      "t=00, validation - calculating hidden state: True 0.0\n",
      "t=01, validation - calculating hidden state: True 0.0\n",
      "t=02, validation - calculating hidden state: True 0.0\n",
      "t=03, validation - calculating hidden state: True 0.0\n",
      "t=04, validation - calculating hidden state: True 0.0\n",
      "t=05, validation - calculating hidden state: True 0.0\n",
      "t=06, validation - calculating hidden state: True 0.0\n",
      "t=07, validation - calculating hidden state: True 0.0\n",
      "t=08, validation - calculating hidden state: True 0.0\n",
      "t=09, validation - calculating hidden state: True 0.0\n",
      "t=10, validation - calculating hidden state: True 0.0\n",
      "t=11, validation - calculating hidden state: True 0.0\n",
      "t=12, validation - calculating hidden state: True 0.0\n",
      "t=13, validation - calculating hidden state: True 0.0\n",
      "t=14, validation - calculating hidden state: True 0.0\n",
      "t=15, validation - calculating hidden state: True 0.0\n",
      "t=16, validation - calculating hidden state: True 0.0\n",
      "t=17, validation - calculating hidden state: True 0.0\n",
      "t=18, validation - calculating hidden state: True 0.0\n",
      "t=19, validation - calculating hidden state: True 0.0\n"
     ]
    }
   ],
   "source": [
    "for t in range(max_len):\n",
    "    if t>0: htt = ht # hidden_state[:,t-1,:]\n",
    "    else: htt = tf.zeros((n_samples, hidden_states))\n",
    "    X_tf_ = X_tf[:,t,:]\n",
    "\n",
    "    if gru.reset_after:\n",
    "        zt = gru.recurrent_activation(K.bias_add(tf.matmul(X_tf_, ki), bi[0]) + K.bias_add(tf.matmul(htt, ri), bi[1]))\n",
    "        rt = gru.recurrent_activation(K.bias_add(tf.matmul(X_tf_, kf), bf[0]) + K.bias_add(tf.matmul(htt, rf), bf[1]))\n",
    "\n",
    "        gt = gru.activation(K.bias_add(tf.matmul(X_tf_, kc), bc[0]) + rt*(K.bias_add(tf.matmul(htt, rc), bc[1])) )\n",
    "    else:\n",
    "        zt = gru.recurrent_activation(K.bias_add(tf.matmul(X_tf_, ki), bi) + (tf.matmul(htt, ri)) )\n",
    "        rt = gru.recurrent_activation(K.bias_add(tf.matmul(X_tf_, kf), bf) + (tf.matmul(htt, rf)) )\n",
    "\n",
    "        gt = gru.activation(K.bias_add(tf.matmul(X_tf_, kc), bc) + (tf.matmul(rt*htt, rc)) )\n",
    "    ht = (1-zt)*gt + zt*htt\n",
    "    \n",
    "    print('t={}'.format(str(t).zfill(2)), end=', ')\n",
    "    print('validation - calculating hidden state:', np.alltrue(hidden_state[:,t,:] == ht, ), abs(ht- hidden_state[:,t,:]).numpy().max())\n"
   ]
  },
  {
   "cell_type": "code",
   "execution_count": null,
   "metadata": {},
   "outputs": [],
   "source": []
  }
 ],
 "metadata": {
  "kernelspec": {
   "display_name": "Python 3",
   "language": "python",
   "name": "python3"
  },
  "language_info": {
   "codemirror_mode": {
    "name": "ipython",
    "version": 3
   },
   "file_extension": ".py",
   "mimetype": "text/x-python",
   "name": "python",
   "nbconvert_exporter": "python",
   "pygments_lexer": "ipython3",
   "version": "3.8.5"
  },
  "widgets": {
   "application/vnd.jupyter.widget-state+json": {
    "state": {},
    "version_major": 2,
    "version_minor": 0
   }
  }
 },
 "nbformat": 4,
 "nbformat_minor": 4
}
