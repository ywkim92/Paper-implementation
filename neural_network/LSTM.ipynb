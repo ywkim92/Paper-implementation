{
 "cells": [
  {
   "cell_type": "code",
   "execution_count": 1,
   "metadata": {},
   "outputs": [],
   "source": [
    "import tensorflow as tf\n",
    "import numpy as np\n",
    "import matplotlib.pyplot as plt\n",
    "import copy\n",
    "\n",
    "from scipy.stats import truncnorm, norm, levene, ttest_ind\n",
    "\n",
    "from sklearn.metrics import *\n",
    "from sklearn.model_selection import train_test_split\n",
    "from sklearn.preprocessing import StandardScaler, Normalizer\n",
    "\n",
    "from tensorflow.keras.models import Sequential\n",
    "from tensorflow.keras.layers import Conv1D, GlobalMaxPooling1D, Dense, LSTM, SimpleRNN, Bidirectional, Embedding\n",
    "from tensorflow.keras.utils import to_categorical\n",
    "from tensorflow.keras.losses import BinaryCrossentropy\n",
    "from tensorflow.keras.initializers import GlorotNormal, GlorotUniform, Zeros\n",
    "from tensorflow.keras import backend as K\n",
    "from tensorflow.math import sigmoid, tanh"
   ]
  },
  {
   "cell_type": "code",
   "execution_count": 2,
   "metadata": {},
   "outputs": [],
   "source": [
    "n_samples = 5533\n",
    "max_len = 20\n",
    "vocab_size = 1234\n",
    "embedding_dim = 300\n",
    "\n",
    "hidden_states = 128"
   ]
  },
  {
   "cell_type": "markdown",
   "metadata": {},
   "source": [
    "# Example 1: with embedding layer"
   ]
  },
  {
   "cell_type": "code",
   "execution_count": 27,
   "metadata": {},
   "outputs": [],
   "source": [
    "rng = np.random.default_rng(42)\n",
    "X = rng.integers(0,vocab_size, size=(n_samples, max_len))\n",
    "\n",
    "model = Sequential()\n",
    "model.add(Embedding(vocab_size, embedding_dim, input_length = max_len, ))\n",
    "X_emb = model(X)\n",
    "\n",
    "model.add(LSTM(hidden_states,  return_sequences=True, return_state=False, input_shape= (max_len, embedding_dim), bias_initializer='glorot_uniform'))\n",
    "hidden_state = model(X)\n",
    "lstm = model.layers[1]"
   ]
  },
  {
   "cell_type": "code",
   "execution_count": 28,
   "metadata": {},
   "outputs": [],
   "source": [
    "ki = lstm.cell.kernel[:, :hidden_states]\n",
    "kf = lstm.cell.kernel[:, hidden_states:2*hidden_states]\n",
    "kc = lstm.cell.kernel[:, 2*hidden_states:3*hidden_states]\n",
    "ko = lstm.cell.kernel[:, 3*hidden_states:]\n",
    "\n",
    "ri = lstm.cell.recurrent_kernel[:, :hidden_states]\n",
    "rf = lstm.cell.recurrent_kernel[:, hidden_states:2*hidden_states]\n",
    "rc = lstm.cell.recurrent_kernel[:, 2*hidden_states:3*hidden_states]\n",
    "ro = lstm.cell.recurrent_kernel[:, 3*hidden_states:]\n",
    "\n",
    "bi = lstm.cell.bias[:hidden_states]\n",
    "bf = lstm.cell.bias[hidden_states:2*hidden_states]\n",
    "bc = lstm.cell.bias[2*hidden_states:3*hidden_states]\n",
    "bo = lstm.cell.bias[3*hidden_states:]"
   ]
  },
  {
   "cell_type": "code",
   "execution_count": 5,
   "metadata": {},
   "outputs": [],
   "source": [
    "# X_emb_nor = tf.linalg.normalize(X_emb, axis=2, )[0]"
   ]
  },
  {
   "cell_type": "code",
   "execution_count": 30,
   "metadata": {},
   "outputs": [
    {
     "name": "stdout",
     "output_type": "stream",
     "text": [
      "t=00, validation - calculating hidden state: True 0.0\n",
      "t=01, validation - calculating hidden state: True 0.0\n",
      "t=02, validation - calculating hidden state: True 0.0\n",
      "t=03, validation - calculating hidden state: True 0.0\n",
      "t=04, validation - calculating hidden state: True 0.0\n",
      "t=05, validation - calculating hidden state: True 0.0\n",
      "t=06, validation - calculating hidden state: True 0.0\n",
      "t=07, validation - calculating hidden state: True 0.0\n",
      "t=08, validation - calculating hidden state: True 0.0\n",
      "t=09, validation - calculating hidden state: True 0.0\n",
      "t=10, validation - calculating hidden state: True 0.0\n",
      "t=11, validation - calculating hidden state: True 0.0\n",
      "t=12, validation - calculating hidden state: True 0.0\n",
      "t=13, validation - calculating hidden state: True 0.0\n",
      "t=14, validation - calculating hidden state: True 0.0\n",
      "t=15, validation - calculating hidden state: True 0.0\n",
      "t=16, validation - calculating hidden state: True 0.0\n",
      "t=17, validation - calculating hidden state: True 0.0\n",
      "t=18, validation - calculating hidden state: True 0.0\n",
      "t=19, validation - calculating hidden state: True 0.0\n"
     ]
    }
   ],
   "source": [
    "for t in range(max_len):\n",
    "    if t>0: htt = ht # hidden_state[:,t-1,:]\n",
    "    else: htt = tf.zeros((n_samples, hidden_states))\n",
    "    X_tf_ = X_emb[:,t,:]\n",
    "\n",
    "    it = sigmoid(tf.matmul(X_tf_, ki) + tf.matmul(htt, ri) + bi)\n",
    "    ft = sigmoid(tf.matmul(X_tf_, kf) + tf.matmul(htt, rf) + bf)\n",
    "\n",
    "    if t==0: ctt = tf.zeros(ft.shape)\n",
    "    else: ctt = copy.deepcopy(ct)\n",
    "\n",
    "    ct = ft*ctt + it*(tanh(tf.matmul(X_tf_, kc) + tf.matmul(htt, rc) + bc))\n",
    "    ot = sigmoid(tf.matmul(X_tf_, ko) + tf.matmul(htt, ro) + bo)\n",
    "    ht = tanh(ct) * ot\n",
    "    \n",
    "    print('t={}'.format(str(t).zfill(2)), end=', ')\n",
    "    print('validation - calculating hidden state:', np.allclose(hidden_state[:,t,:], ht, ), abs(hidden_state[:,t,:]- ht).numpy().mean())"
   ]
  },
  {
   "cell_type": "markdown",
   "metadata": {},
   "source": [
    "# Example 2: with normalizing dataset"
   ]
  },
  {
   "cell_type": "code",
   "execution_count": 31,
   "metadata": {},
   "outputs": [],
   "source": [
    "rng = np.random.default_rng(42)\n",
    "X = rng.normal(size=(n_samples, max_len, embedding_dim))\n",
    "X_tf = tf.linalg.normalize(X, axis=2, )[0]\n",
    "# X = np.array([Normalizer().fit_transform(X[s]) for s in range(n_samples) ])\n",
    "X_tf = tf.cast(X_tf, dtype=tf.float32)\n",
    "\n",
    "lstm = LSTM(hidden_states,  return_sequences=True, return_state=True, input_shape= (max_len, embedding_dim), bias_initializer='glorot_normal')\n",
    "hidden_state, last_state, last_cell = lstm(X_tf)"
   ]
  },
  {
   "cell_type": "code",
   "execution_count": 32,
   "metadata": {},
   "outputs": [
    {
     "data": {
      "image/png": "[encoded data removed]",
      "text/plain": [
       "<Figure size 432x288 with 1 Axes>"
      ]
     },
     "metadata": {
      "needs_background": "light"
     },
     "output_type": "display_data"
    }
   ],
   "source": [
    "plt.hist(X.flatten(), bins=30)\n",
    "plt.show()"
   ]
  },
  {
   "cell_type": "code",
   "execution_count": 33,
   "metadata": {},
   "outputs": [
    {
     "data": {
      "image/png": "[encoded data removed]",
      "text/plain": [
       "<Figure size 720x360 with 2 Axes>"
      ]
     },
     "metadata": {
      "needs_background": "light"
     },
     "output_type": "display_data"
    }
   ],
   "source": [
    "fig, (ax1, ax2) = plt.subplots(1,2, figsize=(10,5))\n",
    "ax1.hist(last_cell.numpy().flatten(), bins=30)\n",
    "ax2.boxplot(last_cell.numpy().flatten())\n",
    "ax2.set_xticklabels(['last_cell_state'],fontsize=12)\n",
    "plt.show()"
   ]
  },
  {
   "cell_type": "code",
   "execution_count": 34,
   "metadata": {},
   "outputs": [],
   "source": [
    "ki = lstm.cell.kernel[:, :hidden_states]\n",
    "kf = lstm.cell.kernel[:, hidden_states:2*hidden_states]\n",
    "kc = lstm.cell.kernel[:, 2*hidden_states:3*hidden_states]\n",
    "ko = lstm.cell.kernel[:, 3*hidden_states:]\n",
    "\n",
    "ri = lstm.cell.recurrent_kernel[:, :hidden_states]\n",
    "rf = lstm.cell.recurrent_kernel[:, hidden_states:2*hidden_states]\n",
    "rc = lstm.cell.recurrent_kernel[:, 2*hidden_states:3*hidden_states]\n",
    "ro = lstm.cell.recurrent_kernel[:, 3*hidden_states:]\n",
    "\n",
    "bi = lstm.cell.bias[:hidden_states]\n",
    "bf = lstm.cell.bias[hidden_states:2*hidden_states]\n",
    "bc = lstm.cell.bias[2*hidden_states:3*hidden_states]\n",
    "bo = lstm.cell.bias[3*hidden_states:]"
   ]
  },
  {
   "cell_type": "code",
   "execution_count": 35,
   "metadata": {},
   "outputs": [
    {
     "name": "stdout",
     "output_type": "stream",
     "text": [
      "t=00, validation - calculating hidden state: True 0.0\n",
      "t=01, validation - calculating hidden state: True 0.0\n",
      "t=02, validation - calculating hidden state: True 0.0\n",
      "t=03, validation - calculating hidden state: True 0.0\n",
      "t=04, validation - calculating hidden state: True 0.0\n",
      "t=05, validation - calculating hidden state: True 0.0\n",
      "t=06, validation - calculating hidden state: True 0.0\n",
      "t=07, validation - calculating hidden state: True 0.0\n",
      "t=08, validation - calculating hidden state: True 0.0\n",
      "t=09, validation - calculating hidden state: True 0.0\n",
      "t=10, validation - calculating hidden state: True 0.0\n",
      "t=11, validation - calculating hidden state: True 0.0\n",
      "t=12, validation - calculating hidden state: True 0.0\n",
      "t=13, validation - calculating hidden state: True 0.0\n",
      "t=14, validation - calculating hidden state: True 0.0\n",
      "t=15, validation - calculating hidden state: True 0.0\n",
      "t=16, validation - calculating hidden state: True 0.0\n",
      "t=17, validation - calculating hidden state: True 0.0\n",
      "t=18, validation - calculating hidden state: True 0.0\n",
      "t=19, validation - calculating hidden state: True 0.0\n",
      "validation - calculating cell state: True\n"
     ]
    }
   ],
   "source": [
    "for t in range(max_len):\n",
    "    if t>0: htt = ht # hidden_state[:,t-1,:]\n",
    "    else: htt = tf.zeros((n_samples, hidden_states))\n",
    "    X_tf_ = X_tf[:,t,:]\n",
    "\n",
    "    it = sigmoid(tf.matmul(X_tf_, ki) + tf.matmul(htt, ri) + bi)\n",
    "    ft = sigmoid(tf.matmul(X_tf_, kf) + tf.matmul(htt, rf) + bf)\n",
    "\n",
    "    if t==0: ctt = tf.zeros(ft.shape)\n",
    "    else: ctt = copy.deepcopy(ct)\n",
    "\n",
    "    ct = ft*ctt + it*(tanh(tf.matmul(X_tf_, kc) + tf.matmul(htt, rc) + bc))\n",
    "    ot = sigmoid(tf.matmul(X_tf_, ko) + tf.matmul(htt, ro) + bo)\n",
    "    ht = tanh(ct) * ot\n",
    "    \n",
    "    print('t={}'.format(str(t).zfill(2)), end=', ')\n",
    "    print('validation - calculating hidden state:', np.allclose(hidden_state[:,t,:], ht, ), (hidden_state[:,t,:]- ht).numpy().mean())\n",
    "    if t==max_len-1:\n",
    "        print('validation - calculating cell state:', np.allclose(last_cell, ct, ))"
   ]
  },
  {
   "cell_type": "code",
   "execution_count": null,
   "metadata": {},
   "outputs": [],
   "source": []
  }
 ],
 "metadata": {
  "kernelspec": {
   "display_name": "Python 3",
   "language": "python",
   "name": "python3"
  },
  "language_info": {
   "codemirror_mode": {
    "name": "ipython",
    "version": 3
   },
   "file_extension": ".py",
   "mimetype": "text/x-python",
   "name": "python",
   "nbconvert_exporter": "python",
   "pygments_lexer": "ipython3",
   "version": "3.8.5"
  },
  "widgets": {
   "application/vnd.jupyter.widget-state+json": {
    "state": {},
    "version_major": 2,
    "version_minor": 0
   }
  }
 },
 "nbformat": 4,
 "nbformat_minor": 4
}
